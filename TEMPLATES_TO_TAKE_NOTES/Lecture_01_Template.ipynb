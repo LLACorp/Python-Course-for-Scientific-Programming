{
 "cells": [
  {
   "cell_type": "markdown",
   "metadata": {
    "colab_type": "text",
    "id": "cyTjRTM0il7B"
   },
   "source": [
    "# PYTHON COURSE FOR SCIENTIFIC PROGRAMMING \n",
    "**Lecturer and Main Contributor to this Notebook:** \\\n",
    "Artur Llabrés Brustenga: Artur.Llabres@uab.cat \\\n",
    "\n",
    "Course material can be found at: https://llacorp.github.io/Python-Course-for-Scientific-Programming/ \n"
   ]
  },
  {
   "cell_type": "markdown",
   "metadata": {
    "colab_type": "text",
    "id": "84R6_TMeSlJs"
   },
   "source": [
    "# LECTURE I : Print, Input and Variables\n",
    "\n",
    "The `print()` function is used to output messages to the screen."
   ]
  },
  {
   "cell_type": "code",
   "execution_count": null,
   "metadata": {
    "colab": {
     "base_uri": "https://localhost:8080/",
     "height": 34
    },
    "colab_type": "code",
    "id": "6nRjra85mszN",
    "outputId": "6c19016d-0cc3-48fc-e9fa-39c9bb3ba6af"
   },
   "outputs": [],
   "source": []
  },
  {
   "cell_type": "markdown",
   "metadata": {
    "colab_type": "text",
    "id": "kRK4-2n6X1DF"
   },
   "source": [
    "It is not necessary to write the content directly inside the print, we can save it to a ***variable*** first and then prtint the variable.\n",
    "\n",
    "A variable can be thought as a box where values can be stored.\n",
    "\n",
    "To define a variable, simply choose a name for it and use the `=` operator to set its value."
   ]
  },
  {
   "cell_type": "code",
   "execution_count": null,
   "metadata": {
    "colab": {
     "base_uri": "https://localhost:8080/",
     "height": 34
    },
    "colab_type": "code",
    "id": "AVFlRfsBX0kH",
    "outputId": "88cc4aab-528d-46bc-8588-fc8167555cde"
   },
   "outputs": [],
   "source": []
  },
  {
   "cell_type": "markdown",
   "metadata": {},
   "source": [
    "In the previous cell we have two instructions, the first one `name = \"\"` is called an assignment, the contents on the right- side of the equal are assigned to the variable whose name is in the left-side.\n",
    "\n",
    "The second instruction is the `print()` function that we have seen in the first example.\n",
    "\n",
    "The green letters after the `#` in the first line are called a **comment** and they are ignored by the python interpreter, this means that anything written after a `#` will not affect the code and therefore you can use it to take notes or clarify instructions right from inside the code cell instead of separating your comments from the code like this text.\n",
    "\n",
    "------"
   ]
  },
  {
   "cell_type": "markdown",
   "metadata": {},
   "source": [
    "Variables can have almost any name you want, just make sure that they do not start with a number, that they are not using special characters (like ! \" · $ \\% & \\/ ( ) ? ¿ * ^ ¨ ` ´ -), and that they are not using the same name as one of the Python reserved words (basically words that are use to tell things to the code, for example print)"
   ]
  },
  {
   "cell_type": "code",
   "execution_count": null,
   "metadata": {},
   "outputs": [],
   "source": []
  },
  {
   "cell_type": "code",
   "execution_count": null,
   "metadata": {},
   "outputs": [],
   "source": []
  },
  {
   "cell_type": "code",
   "execution_count": null,
   "metadata": {},
   "outputs": [],
   "source": []
  },
  {
   "cell_type": "markdown",
   "metadata": {},
   "source": [
    "Now print does not do what it is suposed to do, because we have reassigned it value when we did `print=\"text\"`. \n",
    "\n",
    "Until we restart the **Python Kernel** we will not be able to use `print()` -> to do so you can go to the menu bar (near the top of the page) -> Kernel -> Restart."
   ]
  },
  {
   "cell_type": "code",
   "execution_count": null,
   "metadata": {},
   "outputs": [],
   "source": []
  },
  {
   "cell_type": "markdown",
   "metadata": {},
   "source": [
    "The best way to know if you can use a variable name is to look at its color, if you are using one of Python reserved words it will be displayed in green if not in black."
   ]
  },
  {
   "cell_type": "code",
   "execution_count": null,
   "metadata": {},
   "outputs": [],
   "source": []
  },
  {
   "cell_type": "markdown",
   "metadata": {},
   "source": [
    "Basically if a name you want to use is reserved and displayed in green you can always add more letters or numbers to it to make it a valid variable name.\n",
    "\n",
    "-------------------------------"
   ]
  },
  {
   "cell_type": "markdown",
   "metadata": {},
   "source": [
    "Now we know how we can name a variable, but what can we put inside? (or more correcly said what **type** of values can be assigned to a variable)"
   ]
  },
  {
   "cell_type": "code",
   "execution_count": null,
   "metadata": {
    "colab": {},
    "colab_type": "code",
    "id": "PCR654kGZ7z2"
   },
   "outputs": [],
   "source": []
  },
  {
   "cell_type": "markdown",
   "metadata": {},
   "source": [
    "So Python has different **types** you can think of a type as a familly of values that will \n",
    "behave in the same way.\n",
    "\n",
    "The first types we will see are:\n",
    "\n",
    "- **strings**\n",
    "- **integers**\n",
    "- **floats**\n",
    "- **booleans**\n",
    "\n",
    "In order to know the the type of a variable you can use `type()`"
   ]
  },
  {
   "cell_type": "markdown",
   "metadata": {},
   "source": [
    "### Strings\n",
    "\n",
    "A string (in short **str**) is a sequence of characters which can inlcude letters and numbers, we use the **\"** character to begin and close the string.\n",
    "\n",
    "We have been working with strings since the beggining: `\"Hello World!\"` is a string."
   ]
  },
  {
   "cell_type": "code",
   "execution_count": null,
   "metadata": {},
   "outputs": [],
   "source": []
  },
  {
   "cell_type": "markdown",
   "metadata": {},
   "source": [
    "### Integers\n",
    "\n",
    "Integer (in short **int**) are possitive or negative numbers without decimals."
   ]
  },
  {
   "cell_type": "code",
   "execution_count": null,
   "metadata": {},
   "outputs": [],
   "source": []
  },
  {
   "cell_type": "code",
   "execution_count": null,
   "metadata": {},
   "outputs": [],
   "source": []
  },
  {
   "cell_type": "code",
   "execution_count": null,
   "metadata": {},
   "outputs": [],
   "source": []
  },
  {
   "cell_type": "markdown",
   "metadata": {},
   "source": [
    "### Floats\n",
    "\n",
    "Floats are possitive or negative decimal numbers."
   ]
  },
  {
   "cell_type": "code",
   "execution_count": null,
   "metadata": {},
   "outputs": [],
   "source": []
  },
  {
   "cell_type": "code",
   "execution_count": null,
   "metadata": {},
   "outputs": [],
   "source": []
  },
  {
   "cell_type": "code",
   "execution_count": null,
   "metadata": {},
   "outputs": [],
   "source": []
  },
  {
   "cell_type": "markdown",
   "metadata": {
    "colab_type": "text",
    "id": "KfEMkyg8aODJ"
   },
   "source": [
    "Unlike other programming languages python is not strongly typed, meaning that variables are not bound to a sigle type, therefore you could have a variable that stores a string and later change it to an *int*."
   ]
  },
  {
   "cell_type": "code",
   "execution_count": null,
   "metadata": {
    "colab": {
     "base_uri": "https://localhost:8080/",
     "height": 52
    },
    "colab_type": "code",
    "id": "h3JRoYmwbk8i",
    "outputId": "58d016d6-a269-47f7-9fef-8fd1b470a53b"
   },
   "outputs": [],
   "source": []
  },
  {
   "cell_type": "markdown",
   "metadata": {},
   "source": [
    "Not only that, but the type of a variable can be changed without changing its contents using the functions `str()`, `int()`, `float()` and `bool()`"
   ]
  },
  {
   "cell_type": "code",
   "execution_count": null,
   "metadata": {},
   "outputs": [],
   "source": []
  },
  {
   "cell_type": "code",
   "execution_count": null,
   "metadata": {},
   "outputs": [],
   "source": []
  },
  {
   "cell_type": "code",
   "execution_count": null,
   "metadata": {},
   "outputs": [],
   "source": []
  },
  {
   "cell_type": "code",
   "execution_count": null,
   "metadata": {},
   "outputs": [],
   "source": []
  },
  {
   "cell_type": "markdown",
   "metadata": {},
   "source": [
    "sidenote: bool(i) is True for any number besides 0 and any non-empty string. See below:"
   ]
  },
  {
   "cell_type": "code",
   "execution_count": null,
   "metadata": {},
   "outputs": [],
   "source": []
  },
  {
   "cell_type": "markdown",
   "metadata": {
    "colab_type": "text",
    "id": "qDp8rUe9pPVe"
   },
   "source": [
    "---------------------\n",
    "\n",
    "## Operators"
   ]
  },
  {
   "cell_type": "markdown",
   "metadata": {},
   "source": [
    "### Sum\n",
    "\n",
    "`+`"
   ]
  },
  {
   "cell_type": "markdown",
   "metadata": {},
   "source": [
    "Between integers returns the sum of the two integers as an integer:"
   ]
  },
  {
   "cell_type": "code",
   "execution_count": null,
   "metadata": {
    "colab": {
     "base_uri": "https://localhost:8080/",
     "height": 34
    },
    "colab_type": "code",
    "id": "VuUNeRinkXjw",
    "outputId": "4b3ce25d-a249-43e1-e6a3-fe351db6a08f"
   },
   "outputs": [],
   "source": []
  },
  {
   "cell_type": "markdown",
   "metadata": {},
   "source": [
    "Between flaots returns the sum of the two floats as float:"
   ]
  },
  {
   "cell_type": "code",
   "execution_count": null,
   "metadata": {
    "colab": {
     "base_uri": "https://localhost:8080/",
     "height": 34
    },
    "colab_type": "code",
    "id": "VuUNeRinkXjw",
    "outputId": "4b3ce25d-a249-43e1-e6a3-fe351db6a08f"
   },
   "outputs": [],
   "source": []
  },
  {
   "cell_type": "markdown",
   "metadata": {},
   "source": [
    "Between a float and an int returns the sum of the two as a float:"
   ]
  },
  {
   "cell_type": "code",
   "execution_count": null,
   "metadata": {
    "colab": {
     "base_uri": "https://localhost:8080/",
     "height": 34
    },
    "colab_type": "code",
    "id": "VuUNeRinkXjw",
    "outputId": "4b3ce25d-a249-43e1-e6a3-fe351db6a08f"
   },
   "outputs": [],
   "source": []
  },
  {
   "cell_type": "markdown",
   "metadata": {},
   "source": [
    "Between two strings returns a string formed by concatenating the first one with the second one:"
   ]
  },
  {
   "cell_type": "code",
   "execution_count": null,
   "metadata": {
    "colab": {},
    "colab_type": "code",
    "id": "Q-EcokgQsMXa"
   },
   "outputs": [],
   "source": []
  },
  {
   "cell_type": "markdown",
   "metadata": {},
   "source": [
    "Between two booleans, `True` is used as `1` and `False` is used as `0` and the output is an int:"
   ]
  },
  {
   "cell_type": "code",
   "execution_count": null,
   "metadata": {},
   "outputs": [],
   "source": []
  },
  {
   "cell_type": "markdown",
   "metadata": {},
   "source": [
    "### Multiplication\n",
    "`*`"
   ]
  },
  {
   "cell_type": "markdown",
   "metadata": {},
   "source": [
    "Between integers returns the result of the multiplication as an integer, the same between floats, but returns a float, and between an integer and a float returns a float."
   ]
  },
  {
   "cell_type": "code",
   "execution_count": null,
   "metadata": {},
   "outputs": [],
   "source": []
  },
  {
   "cell_type": "markdown",
   "metadata": {},
   "source": [
    "You can not multiply strings:"
   ]
  },
  {
   "cell_type": "code",
   "execution_count": null,
   "metadata": {},
   "outputs": [],
   "source": []
  },
  {
   "cell_type": "markdown",
   "metadata": {},
   "source": [
    "However, you can multiply a string with an integer:"
   ]
  },
  {
   "cell_type": "code",
   "execution_count": null,
   "metadata": {
    "colab": {},
    "colab_type": "code",
    "id": "s50LxxBPsyVB"
   },
   "outputs": [],
   "source": []
  },
  {
   "cell_type": "markdown",
   "metadata": {},
   "source": [
    "### Division\n",
    "`/`"
   ]
  },
  {
   "cell_type": "markdown",
   "metadata": {},
   "source": [
    "You can devide between integers or floats and the result is always a float, even if both operands where integer and the division is perfect"
   ]
  },
  {
   "cell_type": "code",
   "execution_count": null,
   "metadata": {
    "colab": {
     "base_uri": "https://localhost:8080/",
     "height": 34
    },
    "colab_type": "code",
    "id": "2sdS7RSireF6",
    "outputId": "5e6b42f5-7e4e-4b6d-a870-3d84359d4d55"
   },
   "outputs": [],
   "source": []
  },
  {
   "cell_type": "code",
   "execution_count": null,
   "metadata": {},
   "outputs": [],
   "source": []
  },
  {
   "cell_type": "markdown",
   "metadata": {},
   "source": [
    "### Modulus\n",
    "\n",
    "`%`"
   ]
  },
  {
   "cell_type": "markdown",
   "metadata": {},
   "source": [
    "Returns the remainder of the division:"
   ]
  },
  {
   "cell_type": "code",
   "execution_count": null,
   "metadata": {
    "colab": {
     "base_uri": "https://localhost:8080/",
     "height": 34
    },
    "colab_type": "code",
    "id": "WTCrm--gr5Bm",
    "outputId": "270fa098-ddf8-43e1-e3e8-9924de0fb9e8"
   },
   "outputs": [],
   "source": []
  },
  {
   "cell_type": "markdown",
   "metadata": {},
   "source": [
    "If a number is divisible by another the remainder of the division is 0:"
   ]
  },
  {
   "cell_type": "code",
   "execution_count": null,
   "metadata": {},
   "outputs": [],
   "source": []
  },
  {
   "cell_type": "markdown",
   "metadata": {},
   "source": [
    "## Comparators\n",
    "\n",
    "`==`, `>`, `>=`, `<`, `<=`"
   ]
  },
  {
   "cell_type": "markdown",
   "metadata": {},
   "source": [
    "Compare two values and return a boolean (True or False):"
   ]
  },
  {
   "cell_type": "code",
   "execution_count": null,
   "metadata": {
    "colab": {},
    "colab_type": "code",
    "id": "9dLL-eVfwbRl"
   },
   "outputs": [],
   "source": []
  },
  {
   "cell_type": "markdown",
   "metadata": {},
   "source": [
    "When comparing integers with floats, the integer is internally converted to float, this is why `1` and `1.0` are equal."
   ]
  },
  {
   "cell_type": "code",
   "execution_count": null,
   "metadata": {},
   "outputs": [],
   "source": []
  },
  {
   "cell_type": "markdown",
   "metadata": {},
   "source": [
    "This conversion is not done when comparing integers or floats to strings and therefore `1` is not equal `\"1\"`"
   ]
  },
  {
   "cell_type": "code",
   "execution_count": null,
   "metadata": {},
   "outputs": [],
   "source": []
  },
  {
   "cell_type": "markdown",
   "metadata": {},
   "source": [
    "Summary of the operators:\n",
    "* `a+b`: sum\n",
    "* `a*b`: multiplication\n",
    "* `a**n`: power\n",
    "* `a/b`: true division\n",
    "* `a%b`: modulus (remainder of the division)\n",
    "* `a==b`: checks if a and b are equal and returns a boolean (True or False)\n",
    "* `a!=b`: checks if a and b are diferent and returns a boolean\n",
    "* `a > b`: checks if a is greater than b and returns a boolean\n",
    "* `a < b`: checks if a is less than b and returns a boolean\n",
    "* `a >= b` and `a <= b`: greater iqual and lesser iqual, return booleans"
   ]
  },
  {
   "cell_type": "markdown",
   "metadata": {
    "colab_type": "text",
    "id": "Wz3m3qTOeWTF"
   },
   "source": [
    "------------------------------\n",
    "\n",
    "## Input\n",
    "\n",
    "The `input()` function is used to get a value from a user.\n",
    "\n",
    "The output of this function is a string that can be saved to a variable."
   ]
  },
  {
   "cell_type": "code",
   "execution_count": null,
   "metadata": {
    "colab": {
     "base_uri": "https://localhost:8080/",
     "height": 52
    },
    "colab_type": "code",
    "id": "2RjQrLkbh1xf",
    "outputId": "699228b3-57bf-41f5-ba1c-52da907fa61a"
   },
   "outputs": [],
   "source": []
  },
  {
   "cell_type": "markdown",
   "metadata": {
    "colab_type": "text",
    "id": "93u37v8MiUvh"
   },
   "source": [
    "The output of the `input()` function is always a *string*."
   ]
  },
  {
   "cell_type": "code",
   "execution_count": null,
   "metadata": {},
   "outputs": [],
   "source": []
  },
  {
   "cell_type": "markdown",
   "metadata": {},
   "source": [
    "As mentioned above the output of the `input()` function is always a string. This is why the `+` is giving us an error. We are trying to sum a string with an integer. If we use `int()` before saving the value to the variable then it will be saved as an integer and we will not have any problem to sum it with another number."
   ]
  },
  {
   "cell_type": "code",
   "execution_count": null,
   "metadata": {
    "colab": {
     "base_uri": "https://localhost:8080/",
     "height": 52
    },
    "colab_type": "code",
    "id": "DY6yw2Ugi3yh",
    "outputId": "4072f4aa-7473-4a19-cc6a-258752d4b659"
   },
   "outputs": [],
   "source": []
  },
  {
   "cell_type": "markdown",
   "metadata": {
    "colab_type": "text",
    "id": "k75DUnoYtpIY"
   },
   "source": [
    "# If, Elif, Else\n",
    "\n",
    "The `if():` clause takes in a boolean value and executes the code below if the boolean was true."
   ]
  },
  {
   "cell_type": "code",
   "execution_count": null,
   "metadata": {
    "colab": {},
    "colab_type": "code",
    "id": "DmuoGxVlzdSD"
   },
   "outputs": [],
   "source": []
  },
  {
   "cell_type": "code",
   "execution_count": null,
   "metadata": {
    "colab": {},
    "colab_type": "code",
    "id": "VbGbQiA91lx3"
   },
   "outputs": [],
   "source": []
  },
  {
   "cell_type": "markdown",
   "metadata": {
    "colab_type": "text",
    "id": "VUEc2VaJ2SK0"
   },
   "source": [
    "The `elif():` function can be used to add other conditions after an if."
   ]
  },
  {
   "cell_type": "code",
   "execution_count": null,
   "metadata": {
    "colab": {},
    "colab_type": "code",
    "id": "isKvsPbF2bWg"
   },
   "outputs": [],
   "source": []
  },
  {
   "cell_type": "markdown",
   "metadata": {
    "colab_type": "text",
    "id": "cODlvN1v2rsU"
   },
   "source": [
    "The `else:` function executes the code below if all the conditions from the if and elifs above are false."
   ]
  },
  {
   "cell_type": "code",
   "execution_count": null,
   "metadata": {
    "colab": {
     "base_uri": "https://localhost:8080/",
     "height": 52
    },
    "colab_type": "code",
    "id": "GwV6Fn623oyM",
    "outputId": "07d16215-a8e8-494e-aaab-5d652850875b"
   },
   "outputs": [],
   "source": []
  },
  {
   "cell_type": "markdown",
   "metadata": {},
   "source": [
    "Just to say it explicitly you can add as many lines of code as you want below each part of the `if`, `elif` and `else`."
   ]
  },
  {
   "cell_type": "markdown",
   "metadata": {},
   "source": [
    "# Prettier Print\n",
    "\n",
    "If `f` is used before a string in `\"\"` then code can be inserted between curly brackets `{}`:"
   ]
  },
  {
   "cell_type": "code",
   "execution_count": null,
   "metadata": {},
   "outputs": [],
   "source": []
  },
  {
   "cell_type": "code",
   "execution_count": null,
   "metadata": {},
   "outputs": [],
   "source": []
  },
  {
   "cell_type": "markdown",
   "metadata": {
    "colab_type": "text",
    "id": "wGBNlZy8RGDa"
   },
   "source": [
    "# Lists\n",
    "Lists are sequences of values of any type, in fact they are ***iterable*** objects (we will talk about that on following sessions).\n"
   ]
  },
  {
   "cell_type": "markdown",
   "metadata": {
    "colab_type": "text",
    "id": "lnbzmX_RRZRS"
   },
   "source": [
    "Creating a list: \n"
   ]
  },
  {
   "cell_type": "code",
   "execution_count": null,
   "metadata": {
    "colab": {},
    "colab_type": "code",
    "id": "gI0Xn-WZRXz-"
   },
   "outputs": [],
   "source": []
  },
  {
   "cell_type": "markdown",
   "metadata": {
    "colab_type": "text",
    "id": "4d2qXuUbThXz"
   },
   "source": [
    "Even lists of lists can be made:"
   ]
  },
  {
   "cell_type": "code",
   "execution_count": null,
   "metadata": {
    "colab": {},
    "colab_type": "code",
    "id": "qVSsBEB2TdcN"
   },
   "outputs": [],
   "source": []
  },
  {
   "cell_type": "markdown",
   "metadata": {
    "colab_type": "text",
    "id": "gOI0s0f6T0Av"
   },
   "source": [
    "Some of the operators seen before can also be used with lists:"
   ]
  },
  {
   "cell_type": "markdown",
   "metadata": {},
   "source": [
    "The `+` sign concatenates lists:"
   ]
  },
  {
   "cell_type": "code",
   "execution_count": null,
   "metadata": {
    "colab": {
     "base_uri": "https://localhost:8080/",
     "height": 34
    },
    "colab_type": "code",
    "id": "EtfEReTETzIL",
    "outputId": "56296ea5-5716-4a52-e3c0-438f7bf59016"
   },
   "outputs": [],
   "source": []
  },
  {
   "cell_type": "markdown",
   "metadata": {},
   "source": [
    "The `*` sign extents the list by making copies of itself `x` times (where `x` is an integer):"
   ]
  },
  {
   "cell_type": "code",
   "execution_count": null,
   "metadata": {
    "colab": {
     "base_uri": "https://localhost:8080/",
     "height": 34
    },
    "colab_type": "code",
    "id": "-cGr7XLqUnpd",
    "outputId": "a97b9e0c-7d33-458c-d16c-4ebdd2befd43"
   },
   "outputs": [],
   "source": []
  },
  {
   "cell_type": "markdown",
   "metadata": {
    "colab_type": "text",
    "id": "T7LsTSNjYBtu"
   },
   "source": [
    "Using `name_of_a_list[integer]` you can get the ith value of the list. **Keep in mind that lists start at 0**, so `name_of_a_list[0]` will get you the first element."
   ]
  },
  {
   "cell_type": "code",
   "execution_count": null,
   "metadata": {
    "colab": {
     "base_uri": "https://localhost:8080/",
     "height": 86
    },
    "colab_type": "code",
    "id": "YXHowsY4YBM3",
    "outputId": "73f98f55-bd3a-4b8c-b428-a78f145345c6"
   },
   "outputs": [],
   "source": []
  },
  {
   "cell_type": "markdown",
   "metadata": {},
   "source": [
    "If you try to access a position outside of the list, you will get this error:"
   ]
  },
  {
   "cell_type": "code",
   "execution_count": null,
   "metadata": {},
   "outputs": [],
   "source": []
  },
  {
   "cell_type": "markdown",
   "metadata": {},
   "source": [
    "You can access the list backwards using negative numbers where `name_of_a_list[-1]` is the last element of the list."
   ]
  },
  {
   "cell_type": "code",
   "execution_count": null,
   "metadata": {},
   "outputs": [],
   "source": []
  },
  {
   "cell_type": "markdown",
   "metadata": {
    "colab_type": "text",
    "id": "YODcJAvqZYK8"
   },
   "source": [
    "What happens if we have a list of a list?\n",
    "\n",
    "Basically we can do `[·]` twice.\n",
    "\n",
    "If the ith element of a list is another list of which you want the jth element the following can be used `list[i][j]`"
   ]
  },
  {
   "cell_type": "code",
   "execution_count": null,
   "metadata": {},
   "outputs": [],
   "source": []
  },
  {
   "cell_type": "code",
   "execution_count": null,
   "metadata": {
    "colab": {
     "base_uri": "https://localhost:8080/",
     "height": 34
    },
    "colab_type": "code",
    "id": "SAEWjJe5Z_DO",
    "outputId": "7eaa63dc-f4af-48fb-ea34-fa98499dd775"
   },
   "outputs": [],
   "source": []
  },
  {
   "cell_type": "markdown",
   "metadata": {
    "colab_type": "text",
    "id": "JNAb_rT-cwhq"
   },
   "source": [
    "You can get a sublist of your list using `name_of_a_list[x:y]`, for example:"
   ]
  },
  {
   "cell_type": "markdown",
   "metadata": {},
   "source": [
    "From the second element of the list to the last:"
   ]
  },
  {
   "cell_type": "code",
   "execution_count": null,
   "metadata": {
    "colab": {
     "base_uri": "https://localhost:8080/",
     "height": 69
    },
    "colab_type": "code",
    "id": "4ajRP8zidHaV",
    "outputId": "cb7b0af1-b3b6-444a-b4ee-63d52a205c4e"
   },
   "outputs": [],
   "source": []
  },
  {
   "cell_type": "markdown",
   "metadata": {},
   "source": [
    "From the first element to the third:"
   ]
  },
  {
   "cell_type": "code",
   "execution_count": null,
   "metadata": {},
   "outputs": [],
   "source": []
  },
  {
   "cell_type": "markdown",
   "metadata": {},
   "source": [
    "From the third element to the penultimate:"
   ]
  },
  {
   "cell_type": "code",
   "execution_count": null,
   "metadata": {},
   "outputs": [],
   "source": []
  },
  {
   "cell_type": "markdown",
   "metadata": {
    "colab_type": "text",
    "id": "gfi7gTrfVZur"
   },
   "source": [
    "`len()` returns the length of a list, aka how many elements are there in the list:"
   ]
  },
  {
   "cell_type": "code",
   "execution_count": null,
   "metadata": {
    "colab": {
     "base_uri": "https://localhost:8080/",
     "height": 34
    },
    "colab_type": "code",
    "id": "GzYzHuoAVJ86",
    "outputId": "d654d0d2-28bb-48a4-ab74-dd0c28cb3538"
   },
   "outputs": [],
   "source": []
  },
  {
   "cell_type": "markdown",
   "metadata": {},
   "source": [
    "---------------------\n",
    "\n",
    "Everything that we have shown util now about lists can also be done with strings:"
   ]
  },
  {
   "cell_type": "code",
   "execution_count": null,
   "metadata": {},
   "outputs": [],
   "source": []
  },
  {
   "cell_type": "markdown",
   "metadata": {},
   "source": [
    "---------------------"
   ]
  },
  {
   "cell_type": "markdown",
   "metadata": {
    "colab_type": "text",
    "id": "JhUbD620WmRT"
   },
   "source": [
    "`.append()` is used to add an element at the end of the list:"
   ]
  },
  {
   "cell_type": "code",
   "execution_count": null,
   "metadata": {
    "colab": {
     "base_uri": "https://localhost:8080/",
     "height": 34
    },
    "colab_type": "code",
    "id": "NycZVcsGWsHO",
    "outputId": "a4f85e34-d6c4-4868-bc13-c2bb8da2b057"
   },
   "outputs": [],
   "source": []
  },
  {
   "cell_type": "markdown",
   "metadata": {
    "colab_type": "text",
    "id": "l9llR82VXCIq"
   },
   "source": [
    "`.pop()` removes the last element from a list and returns it:"
   ]
  },
  {
   "cell_type": "code",
   "execution_count": null,
   "metadata": {
    "colab": {
     "base_uri": "https://localhost:8080/",
     "height": 52
    },
    "colab_type": "code",
    "id": "3Znx7URhXGlj",
    "outputId": "79447d97-3b0a-4ad4-89c2-3bafd68c86c1"
   },
   "outputs": [],
   "source": []
  },
  {
   "cell_type": "markdown",
   "metadata": {
    "colab_type": "text",
    "id": "AolL1QlnXrkH"
   },
   "source": [
    "If you give an integer to `.pop(i)` it will return and remove form the list the i-th element."
   ]
  },
  {
   "cell_type": "code",
   "execution_count": null,
   "metadata": {
    "colab": {
     "base_uri": "https://localhost:8080/",
     "height": 34
    },
    "colab_type": "code",
    "id": "Zxi17rPdXKpp",
    "outputId": "d380139b-efa0-4e9d-d343-48850c946871"
   },
   "outputs": [],
   "source": []
  },
  {
   "cell_type": "markdown",
   "metadata": {},
   "source": [
    "# Lecture I: EXERCISES"
   ]
  },
  {
   "cell_type": "markdown",
   "metadata": {},
   "source": [
    "## Exercise 1:\n",
    "\n",
    "Write a program that asks the user for an integer and then print (in one line) if the integer is divisible by 2, divisible by 5, both or neither.\n",
    "\n",
    "Examples:\n",
    "- Input: 32 Output: \"32 is divisible by 2\"   \n",
    "- Input: 25 Output: \"25 is divisible by 5\"\n",
    "- Input: 40 Output: \"40 is divisible by 2 and 5\"\n",
    "- Input: 77 Output: \"77 is not divisible by 2 or 5\""
   ]
  },
  {
   "cell_type": "code",
   "execution_count": null,
   "metadata": {},
   "outputs": [],
   "source": []
  },
  {
   "cell_type": "markdown",
   "metadata": {},
   "source": [
    "## Exercise 2:"
   ]
  },
  {
   "cell_type": "markdown",
   "metadata": {},
   "source": [
    "Write a program that asks the user for their name, age, favorite number and the number they hate the most. \n",
    "\n",
    "Save the data to a list (this could be done without saving the data to a list, but I want you to practice with lists) and print the following: the last letter of their name, if their age is equal or over 18 print \"you are an adult\" if not \"you are a minor\", if their favorite number is bigger than their most hated number print \"your favorite number is bigger than your hated number\" if it is smaller print \"your favorite number is smaller than your hated number\" and if they are equal print \"you hate your favorite number\".\n",
    "\n",
    "Example: \n",
    "- Input: John, 43, 7, 2 Output: \"The last letter of your name is n. You are an adult. Your favorite number is bigger than your hated number\""
   ]
  },
  {
   "cell_type": "code",
   "execution_count": null,
   "metadata": {},
   "outputs": [],
   "source": []
  }
 ],
 "metadata": {
  "colab": {
   "collapsed_sections": [],
   "name": "Session_1.ipynb",
   "provenance": []
  },
  "kernelspec": {
   "display_name": "Python 3",
   "language": "python",
   "name": "python3"
  },
  "language_info": {
   "codemirror_mode": {
    "name": "ipython",
    "version": 3
   },
   "file_extension": ".py",
   "mimetype": "text/x-python",
   "name": "python",
   "nbconvert_exporter": "python",
   "pygments_lexer": "ipython3",
   "version": "3.7.3"
  }
 },
 "nbformat": 4,
 "nbformat_minor": 1
}

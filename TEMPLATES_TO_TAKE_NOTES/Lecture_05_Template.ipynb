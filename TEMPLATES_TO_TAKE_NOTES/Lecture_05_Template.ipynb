{
 "cells": [
  {
   "cell_type": "markdown",
   "metadata": {},
   "source": [
    "# PYTHON COURSE FOR SCIENTIFIC PROGRAMMING \n",
    "**Lecturer and main contributor to this lesson:**\n",
    "\n",
    "Xabier Oyanguren Asua: oiangu9@gmail.com\n",
    "\n",
    "**The lecture is based on previous material prepared by:**\n",
    "\n",
    "Jan Scarabelli Calopa: Jan.Scarabelli@e-campus.uab.cat \n",
    "\n",
    "\n",
    "All the course material can be found at: https://llacorp.github.io/Python-Course-for-Scientific-Programming/ \n",
    "\n",
    "---"
   ]
  },
  {
   "cell_type": "markdown",
   "metadata": {},
   "source": [
    "# LECTURE V : File manipulation\n",
    "\n",
    "### $(1.)$ - [*FILE HANDLING*](#1)\n",
    "### $(2.)$ - [*MANIPULATE DIRECTORY STRUCTURES*](#2)\n",
    "### $(3.)$ - [*MANAGE NUMPY DATA*](#3)\n",
    "### $(4.)$ - [*ADDITIONAL FILE TYPES*](#4)\n",
    "\n",
    "### [FURTHER TOPICS NOT COVERED IN THE COURSE](#5)\n",
    "\n",
    "---\n",
    "---"
   ]
  },
  {
   "cell_type": "markdown",
   "metadata": {},
   "source": [
    "<a id='1'></a>\n",
    "## $(1.)$ File Handing\n",
    "\n",
    "\n",
    "### (a) Open\n"
   ]
  },
  {
   "cell_type": "markdown",
   "metadata": {},
   "source": [
    "| Indicator (naive/extra) | Open a file to... | Opening mode + | Pointer Position |\n",
    "| --- | --- | --- | --- |\n",
    "| r/r+ | Read it. | +writing | Beginning |\n",
    "| w/w+ | Write on it. It **overwrites** the file if it already existed. Creates a new file otherwise | +reading | Beginning |\n",
    "| x/x+ | Write on it. `FileExistsError` raised and execution will stop if it already existed (safe mode). Creates a new file otherwise | +reading | Beginning | \n",
    "| a/a+ | Write at the end of an already existing file if it exists. Creates a new file otherwise. | +reading | End\n"
   ]
  },
  {
   "cell_type": "code",
   "execution_count": null,
   "metadata": {},
   "outputs": [],
   "source": []
  },
  {
   "cell_type": "code",
   "execution_count": null,
   "metadata": {},
   "outputs": [],
   "source": []
  },
  {
   "cell_type": "code",
   "execution_count": null,
   "metadata": {},
   "outputs": [],
   "source": []
  },
  {
   "cell_type": "markdown",
   "metadata": {},
   "source": [
    "##### Note on Encodings\n"
   ]
  },
  {
   "cell_type": "code",
   "execution_count": null,
   "metadata": {},
   "outputs": [],
   "source": []
  },
  {
   "cell_type": "markdown",
   "metadata": {},
   "source": [
    "[https://docs.python.org/3/library/codecs.html#standard-encodings](https://docs.python.org/3/library/codecs.html#standard-encodings)\n",
    "\n",
    "for example we could write `'utf_8'` or `'ascii'` as a third argument, say:\n",
    "\n",
    "`open(\"File.txt\", \"w\", \"utf_8\") `\n"
   ]
  },
  {
   "cell_type": "markdown",
   "metadata": {},
   "source": [
    "### (b) Write and Close"
   ]
  },
  {
   "cell_type": "code",
   "execution_count": null,
   "metadata": {},
   "outputs": [],
   "source": []
  },
  {
   "cell_type": "code",
   "execution_count": null,
   "metadata": {},
   "outputs": [],
   "source": []
  },
  {
   "cell_type": "code",
   "execution_count": null,
   "metadata": {},
   "outputs": [],
   "source": []
  },
  {
   "cell_type": "markdown",
   "metadata": {},
   "source": [
    "**\\n, \\t, \\' etc.**"
   ]
  },
  {
   "cell_type": "markdown",
   "metadata": {},
   "source": [
    "#### Notes on Relative and Absolute Paths"
   ]
  },
  {
   "cell_type": "raw",
   "metadata": {},
   "source": [
    "-> /Python_Course/\n",
    "        |-> Lecture_05.ipynb   # we are here!\n",
    "        |-> /Folder_1/\n",
    "                |-> /Save_the_texts_here_Folder/\n",
    "                        |-> text1.txt\n",
    "                        |-> text2.txt"
   ]
  },
  {
   "cell_type": "markdown",
   "metadata": {},
   "source": [
    "`\"Folder_1/Save_the_texts_here_Folder/File.txt\"` is a **relative path**.\n",
    "\n",
    "`\"/home/xabier/Documents/UAB/My_texts/File.txt\"` is an **absolute path**."
   ]
  },
  {
   "cell_type": "code",
   "execution_count": null,
   "metadata": {},
   "outputs": [],
   "source": []
  },
  {
   "cell_type": "code",
   "execution_count": null,
   "metadata": {},
   "outputs": [],
   "source": []
  },
  {
   "cell_type": "markdown",
   "metadata": {},
   "source": [
    "##### Important note for Windows vs Linux/MacOS users:\n",
    "`\" / \"` vs `\"\\ \"`"
   ]
  },
  {
   "cell_type": "code",
   "execution_count": null,
   "metadata": {},
   "outputs": [],
   "source": []
  },
  {
   "cell_type": "code",
   "execution_count": null,
   "metadata": {},
   "outputs": [],
   "source": []
  },
  {
   "cell_type": "markdown",
   "metadata": {},
   "source": [
    "##### Comment on File names"
   ]
  },
  {
   "cell_type": "code",
   "execution_count": null,
   "metadata": {},
   "outputs": [],
   "source": []
  },
  {
   "cell_type": "code",
   "execution_count": null,
   "metadata": {},
   "outputs": [],
   "source": []
  },
  {
   "cell_type": "markdown",
   "metadata": {},
   "source": [
    "##### Comment on Buffers"
   ]
  },
  {
   "cell_type": "code",
   "execution_count": null,
   "metadata": {},
   "outputs": [],
   "source": []
  },
  {
   "cell_type": "code",
   "execution_count": null,
   "metadata": {},
   "outputs": [],
   "source": []
  },
  {
   "cell_type": "markdown",
   "metadata": {},
   "source": [
    "### (c) Read (note the cursor!)"
   ]
  },
  {
   "cell_type": "code",
   "execution_count": null,
   "metadata": {},
   "outputs": [],
   "source": []
  },
  {
   "cell_type": "code",
   "execution_count": null,
   "metadata": {},
   "outputs": [],
   "source": []
  },
  {
   "cell_type": "markdown",
   "metadata": {},
   "source": [
    "**read() as iterable**"
   ]
  },
  {
   "cell_type": "code",
   "execution_count": null,
   "metadata": {},
   "outputs": [],
   "source": []
  },
  {
   "cell_type": "code",
   "execution_count": null,
   "metadata": {},
   "outputs": [],
   "source": []
  },
  {
   "cell_type": "markdown",
   "metadata": {},
   "source": [
    "#### Readline"
   ]
  },
  {
   "cell_type": "code",
   "execution_count": null,
   "metadata": {},
   "outputs": [],
   "source": []
  },
  {
   "cell_type": "code",
   "execution_count": null,
   "metadata": {},
   "outputs": [],
   "source": []
  },
  {
   "cell_type": "markdown",
   "metadata": {},
   "source": [
    "#### Readlines"
   ]
  },
  {
   "cell_type": "code",
   "execution_count": null,
   "metadata": {},
   "outputs": [],
   "source": []
  },
  {
   "cell_type": "code",
   "execution_count": null,
   "metadata": {},
   "outputs": [],
   "source": []
  },
  {
   "cell_type": "markdown",
   "metadata": {},
   "source": [
    "### (d) Append"
   ]
  },
  {
   "cell_type": "code",
   "execution_count": null,
   "metadata": {},
   "outputs": [],
   "source": []
  },
  {
   "cell_type": "code",
   "execution_count": null,
   "metadata": {},
   "outputs": [],
   "source": []
  },
  {
   "cell_type": "markdown",
   "metadata": {},
   "source": [
    "**x** mode"
   ]
  },
  {
   "cell_type": "code",
   "execution_count": null,
   "metadata": {},
   "outputs": [],
   "source": []
  },
  {
   "cell_type": "code",
   "execution_count": null,
   "metadata": {},
   "outputs": [],
   "source": []
  },
  {
   "cell_type": "markdown",
   "metadata": {},
   "source": [
    "### (f) Tell and Seek\n",
    "\n",
    "`.tell()` how many characters away from the beginning of the file the cursor is\n",
    "\n",
    "`.seek()` takes as argument an integer and moves the cursor to that character position"
   ]
  },
  {
   "cell_type": "code",
   "execution_count": null,
   "metadata": {},
   "outputs": [],
   "source": []
  },
  {
   "cell_type": "code",
   "execution_count": null,
   "metadata": {},
   "outputs": [],
   "source": []
  },
  {
   "cell_type": "markdown",
   "metadata": {},
   "source": [
    "### (g) With\n",
    "\n"
   ]
  },
  {
   "cell_type": "code",
   "execution_count": null,
   "metadata": {},
   "outputs": [],
   "source": []
  },
  {
   "cell_type": "code",
   "execution_count": null,
   "metadata": {},
   "outputs": [],
   "source": []
  },
  {
   "cell_type": "markdown",
   "metadata": {},
   "source": [
    "#### Last Remark: multitasking\n"
   ]
  },
  {
   "cell_type": "code",
   "execution_count": null,
   "metadata": {},
   "outputs": [],
   "source": []
  },
  {
   "cell_type": "code",
   "execution_count": null,
   "metadata": {},
   "outputs": [],
   "source": []
  },
  {
   "cell_type": "markdown",
   "metadata": {},
   "source": [
    "<a id='2'></a>\n",
    "## $(2.)$ Manipulate Directory Structures\n"
   ]
  },
  {
   "cell_type": "code",
   "execution_count": 21,
   "metadata": {},
   "outputs": [],
   "source": [
    "import os"
   ]
  },
  {
   "cell_type": "markdown",
   "metadata": {},
   "source": [
    "#### The working directory (the implicit part of the relative paths) - os.getcwd()\n",
    "\n"
   ]
  },
  {
   "cell_type": "code",
   "execution_count": null,
   "metadata": {},
   "outputs": [],
   "source": []
  },
  {
   "cell_type": "code",
   "execution_count": null,
   "metadata": {},
   "outputs": [],
   "source": []
  },
  {
   "cell_type": "markdown",
   "metadata": {},
   "source": [
    "Change the working directory to a desired path with `os.chdir()`"
   ]
  },
  {
   "cell_type": "code",
   "execution_count": null,
   "metadata": {},
   "outputs": [],
   "source": []
  },
  {
   "cell_type": "code",
   "execution_count": null,
   "metadata": {},
   "outputs": [],
   "source": []
  },
  {
   "cell_type": "markdown",
   "metadata": {},
   "source": [
    "#### Creating directories `os.makedirs()`"
   ]
  },
  {
   "cell_type": "code",
   "execution_count": null,
   "metadata": {},
   "outputs": [],
   "source": []
  },
  {
   "cell_type": "code",
   "execution_count": null,
   "metadata": {},
   "outputs": [],
   "source": []
  },
  {
   "cell_type": "markdown",
   "metadata": {},
   "source": [
    "#### Listing all the files and subdirectories in a directory `os.listdir()`:"
   ]
  },
  {
   "cell_type": "code",
   "execution_count": null,
   "metadata": {},
   "outputs": [],
   "source": []
  },
  {
   "cell_type": "markdown",
   "metadata": {},
   "source": [
    "**Wlaking a tree ** `os.walk()`"
   ]
  },
  {
   "cell_type": "code",
   "execution_count": null,
   "metadata": {},
   "outputs": [],
   "source": [
    "for root, dirs, files in os.walk( my_current_path ):\n",
    "    print(f\"\\nFiles under {root}\")\n",
    "    for name in files:\n",
    "        print(name)\n",
    "    print(f\"\\n\\nDirectories under {root}\")\n",
    "    for name in dirs:\n",
    "        print(name)"
   ]
  },
  {
   "cell_type": "code",
   "execution_count": null,
   "metadata": {},
   "outputs": [],
   "source": []
  },
  {
   "cell_type": "code",
   "execution_count": null,
   "metadata": {},
   "outputs": [],
   "source": [
    "for root, dirs, files in os.walk( my_current_path, topdown=False ):\n",
    "    print(f\"\\nFiles under {root}\")\n",
    "    for name in files:\n",
    "        print(name)\n",
    "    print(f\"\\n\\nDirectories under {root}\")\n",
    "    for name in dirs:\n",
    "        print(name)"
   ]
  },
  {
   "cell_type": "markdown",
   "metadata": {},
   "source": [
    "#### Removing files and directories `os.remove()` and `os.rmdir()`\n"
   ]
  },
  {
   "cell_type": "code",
   "execution_count": null,
   "metadata": {},
   "outputs": [],
   "source": []
  },
  {
   "cell_type": "code",
   "execution_count": null,
   "metadata": {},
   "outputs": [],
   "source": []
  },
  {
   "cell_type": "code",
   "execution_count": null,
   "metadata": {},
   "outputs": [],
   "source": []
  },
  {
   "cell_type": "code",
   "execution_count": null,
   "metadata": {},
   "outputs": [],
   "source": []
  },
  {
   "cell_type": "code",
   "execution_count": null,
   "metadata": {},
   "outputs": [],
   "source": []
  },
  {
   "cell_type": "code",
   "execution_count": null,
   "metadata": {},
   "outputs": [],
   "source": []
  },
  {
   "cell_type": "code",
   "execution_count": null,
   "metadata": {},
   "outputs": [],
   "source": []
  },
  {
   "cell_type": "code",
   "execution_count": null,
   "metadata": {},
   "outputs": [],
   "source": []
  },
  {
   "cell_type": "code",
   "execution_count": null,
   "metadata": {},
   "outputs": [],
   "source": []
  },
  {
   "cell_type": "code",
   "execution_count": null,
   "metadata": {},
   "outputs": [],
   "source": []
  },
  {
   "cell_type": "code",
   "execution_count": null,
   "metadata": {},
   "outputs": [],
   "source": []
  },
  {
   "cell_type": "code",
   "execution_count": null,
   "metadata": {},
   "outputs": [],
   "source": []
  },
  {
   "cell_type": "code",
   "execution_count": null,
   "metadata": {},
   "outputs": [],
   "source": []
  },
  {
   "cell_type": "markdown",
   "metadata": {},
   "source": [
    "\n",
    "\n",
    "<img src=http://c.tenor.com/SIiE1YV8yloAAAAd/cat-boom.gif width=\"200\" height=\"200\"> "
   ]
  },
  {
   "cell_type": "markdown",
   "metadata": {},
   "source": [
    "<a id='3'></a>\n",
    "## $(3.)$ Manage Numpy Data"
   ]
  },
  {
   "cell_type": "markdown",
   "metadata": {},
   "source": [
    "### (a) Data from .txt files the \"handmade\" way: file.write() to write and file.read() to read"
   ]
  },
  {
   "cell_type": "code",
   "execution_count": 1,
   "metadata": {},
   "outputs": [],
   "source": [
    "import numpy as np"
   ]
  },
  {
   "cell_type": "code",
   "execution_count": 2,
   "metadata": {},
   "outputs": [],
   "source": [
    "with open(\"data_example.txt\",\"w\") as npHandle:\n",
    "    npHandle.write(\"1 2 3\\n4 5 6\")"
   ]
  },
  {
   "cell_type": "code",
   "execution_count": 5,
   "metadata": {},
   "outputs": [
    {
     "name": "stdout",
     "output_type": "stream",
     "text": [
      "[[1 2 3]\n",
      " [4 5 6]]\n"
     ]
    }
   ],
   "source": [
    "# build array of zeros\n",
    "a = np.zeros((2,3), dtype=int)\n",
    "\n",
    "# read the array using open()\n",
    "with open('data_example.txt', 'r') as datafile:\n",
    "    for k, row_string in enumerate(datafile):\n",
    "        a[k, :] = np.array(row_string.split(' '))\n",
    "print(a)"
   ]
  },
  {
   "cell_type": "markdown",
   "metadata": {},
   "source": [
    "### (b) Data from .txt files using numpy: np.loadtxt() to read and np.savetxt() to save\n"
   ]
  },
  {
   "cell_type": "markdown",
   "metadata": {},
   "source": [
    "#### np.loadtxt()\n"
   ]
  },
  {
   "cell_type": "code",
   "execution_count": 6,
   "metadata": {},
   "outputs": [
    {
     "name": "stdout",
     "output_type": "stream",
     "text": [
      "[[1. 2. 3.]\n",
      " [4. 5. 6.]]\n"
     ]
    }
   ],
   "source": [
    "a = np.loadtxt(\"data_example.txt\")\n",
    "print(a)"
   ]
  },
  {
   "cell_type": "code",
   "execution_count": null,
   "metadata": {},
   "outputs": [],
   "source": []
  },
  {
   "cell_type": "code",
   "execution_count": 35,
   "metadata": {},
   "outputs": [
    {
     "name": "stdout",
     "output_type": "stream",
     "text": [
      "[[1. 0. 0.]\n",
      " [0. 1. 0.]\n",
      " [0. 0. 1.]]\n"
     ]
    }
   ],
   "source": [
    "with open(\"data_np.txt\",\"w\") as npHandle:\n",
    "    npHandle.write(\"1 0 0\\n 0 1 0\\n 0 0 1\\n\")\n",
    "\n",
    "a = np.loadtxt(\"data_np.txt\")\n",
    "print(a)"
   ]
  },
  {
   "cell_type": "code",
   "execution_count": null,
   "metadata": {},
   "outputs": [],
   "source": []
  },
  {
   "cell_type": "code",
   "execution_count": 36,
   "metadata": {
    "scrolled": true
   },
   "outputs": [
    {
     "name": "stdout",
     "output_type": "stream",
     "text": [
      "[[1 0 0]\n",
      " [0 1 0]\n",
      " [0 0 1]]\n"
     ]
    }
   ],
   "source": [
    "with open(\"data_example2.txt\",\"w\") as npHandle:\n",
    "    npHandle.write(\"1,0,0\\n0,1,0\\n0,0,1\\n\")\n",
    "\n",
    "a = np.loadtxt(\"data_example2.txt\", dtype='int', delimiter=',')\n",
    "\n",
    "print(a)"
   ]
  },
  {
   "cell_type": "markdown",
   "metadata": {},
   "source": [
    "#### np.savetxt()"
   ]
  },
  {
   "cell_type": "code",
   "execution_count": 37,
   "metadata": {},
   "outputs": [
    {
     "name": "stdout",
     "output_type": "stream",
     "text": [
      "[1. 2. 3.]\n",
      "[1. 2. 3.]\n",
      "True\n"
     ]
    }
   ],
   "source": [
    "a = np.array([1.0,2.0,3.0])\n",
    "\n",
    "np.savetxt(\"data_example3.txt\", a, delimiter=',') #default is ','\n",
    "\n",
    "b = np.loadtxt(\"data_example3.txt\")\n",
    "\n",
    "print(a)\n",
    "print(b)\n",
    "print(np.array_equal( a,b )) # check that both arrays are equal"
   ]
  },
  {
   "cell_type": "markdown",
   "metadata": {},
   "source": [
    "### (c) Data from .npy or .npz files (using numpy of course)"
   ]
  },
  {
   "cell_type": "markdown",
   "metadata": {},
   "source": [
    "#### np.save() and np.load()\n"
   ]
  },
  {
   "cell_type": "code",
   "execution_count": 41,
   "metadata": {},
   "outputs": [
    {
     "name": "stdout",
     "output_type": "stream",
     "text": [
      "[[63 43 27  8 82 83]\n",
      " [49 29 77 61  3 37]\n",
      " [36 19 35 23 91 11]\n",
      " [48 76 94 13 76 75]]\n",
      "True\n"
     ]
    }
   ],
   "source": [
    "a = np.random.randint(low = 0, high = 100, size = (4,6))\n",
    "\n",
    "np.save(\"npyfile.npy\",a)\n",
    "\n",
    "b = np.load(\"npyfile.npy\")\n",
    "\n",
    "print(b)\n",
    "print(np.array_equal( a,b ))"
   ]
  },
  {
   "cell_type": "markdown",
   "metadata": {},
   "source": [
    "#### np.savez() and np.savez_compressed()\n"
   ]
  },
  {
   "cell_type": "code",
   "execution_count": 42,
   "metadata": {},
   "outputs": [
    {
     "name": "stdout",
     "output_type": "stream",
     "text": [
      "<numpy.lib.npyio.NpzFile object at 0x7ff573388588>\n"
     ]
    }
   ],
   "source": [
    "a = np.random.randint(low = 0, high = 100, size = (2,9))\n",
    "b = np.random.randint(low = 0, high = 100, size = (4,6))\n",
    "c = np.random.randint(low = 0, high = 100, size = (3,5))\n",
    "\n",
    "np.savez_compressed(\"npzfile.npz\", a, b, c)\n",
    "\n",
    "data_dict = np.load(\"npzfile.npz\")\n",
    "\n",
    "print(data_dict)"
   ]
  },
  {
   "cell_type": "code",
   "execution_count": 43,
   "metadata": {},
   "outputs": [
    {
     "name": "stdout",
     "output_type": "stream",
     "text": [
      "First array:\n",
      "\n",
      "[[56 66 25 95 50 47  0 78 22]\n",
      " [68 94 65  4 83 47 54 49 56]]\n",
      "\n",
      "Second array:\n",
      "\n",
      "[[14 60 93 78 91 20]\n",
      " [33 56 71 75 87 73]\n",
      " [ 9 53 10 97 21 69]\n",
      " [39 66  8 62  3 81]]\n",
      "\\Third array:\n",
      "\n",
      "[[23 81 15 86 30]\n",
      " [53 34 53 38 62]\n",
      " [73 30 90 36  8]]\n"
     ]
    }
   ],
   "source": [
    "print(\"First array:\\n\")\n",
    "print(data_dict[\"arr_0\"])\n",
    "\n",
    "print(\"\\nSecond array:\\n\")\n",
    "print(data_dict[\"arr_1\"])\n",
    "\n",
    "print(\"\\Third array:\\n\")\n",
    "print(data_dict[\"arr_2\"])"
   ]
  },
  {
   "cell_type": "code",
   "execution_count": 44,
   "metadata": {},
   "outputs": [
    {
     "name": "stdout",
     "output_type": "stream",
     "text": [
      "First array:\n",
      "\n",
      "[[56 66 25 95 50 47  0 78 22]\n",
      " [68 94 65  4 83 47 54 49 56]]\n",
      "\n",
      "Second array:\n",
      "\n",
      "[[14 60 93 78 91 20]\n",
      " [33 56 71 75 87 73]\n",
      " [ 9 53 10 97 21 69]\n",
      " [39 66  8 62  3 81]]\n",
      "\\Third array:\n",
      "\n",
      "[[14 60 93 78 91 20]\n",
      " [33 56 71 75 87 73]\n",
      " [ 9 53 10 97 21 69]\n",
      " [39 66  8 62  3 81]]\n"
     ]
    }
   ],
   "source": [
    "np.savez_compressed(\"npzfile.npz\", x=a, y=b, z=c)\n",
    "\n",
    "data_dict = np.load(\"npzfile.npz\")\n",
    "\n",
    "print(\"First array:\\n\")\n",
    "print(data_dict[\"x\"])\n",
    "\n",
    "print(\"\\nSecond array:\\n\")\n",
    "print(data_dict[\"y\"])\n",
    "\n",
    "print(\"\\Third array:\\n\")\n",
    "print(data_dict[\"y\"])"
   ]
  },
  {
   "cell_type": "markdown",
   "metadata": {},
   "source": [
    "\n",
    "### Proving that numpy formats .npy (and .npz) are faster to read and write than .txt\n",
    "\n",
    "**time()**"
   ]
  },
  {
   "cell_type": "code",
   "execution_count": 45,
   "metadata": {},
   "outputs": [],
   "source": [
    "from time import time"
   ]
  },
  {
   "cell_type": "markdown",
   "metadata": {},
   "source": [
    "##### (a) using open() `.txt` - aka the \"handmade\" way"
   ]
  },
  {
   "cell_type": "code",
   "execution_count": 46,
   "metadata": {},
   "outputs": [],
   "source": [
    "N = 3000  # size for the array random datapoints\n",
    "a = np.random.randint(low=0, high=10000, size=(N,N))\n",
    "\n",
    "start_save = time()\n",
    "\n",
    "# save the array using open()\n",
    "with open('data.txt', 'w') as datafile:\n",
    "    for row in a:\n",
    "        for k,el in enumerate(row):\n",
    "            if k==len(row)-1:\n",
    "                datafile.write(str(el))\n",
    "            else:\n",
    "                datafile.write(str(el)+',')\n",
    "        datafile.write('\\n')\n",
    "\n",
    "end_save = time()"
   ]
  },
  {
   "cell_type": "code",
   "execution_count": 47,
   "metadata": {
    "scrolled": true
   },
   "outputs": [
    {
     "name": "stdout",
     "output_type": "stream",
     "text": [
      "### 9000000 points of data ###\n",
      "\n",
      "Data summary:\n",
      " [[1662 2830 4078 ... 1165 7677 8058]\n",
      " [6657 8667 3936 ... 5747 1471 2969]\n",
      " [6449 1962 3976 ... 2211 8071 9571]\n",
      " ...\n",
      " [5848 8134 7263 ... 4314 1717 7487]\n",
      " [2952 2262 9450 ... 4792 2790  240]\n",
      " [7488 2190 7580 ... 4253 1250 7314]]\n",
      "\n",
      "Saved and read arrays are equal True\n",
      "\n",
      "\n",
      "Data shape:\n",
      " (3000, 3000)\n",
      "\n",
      "Time to save using open: 7.51419 seconds.\n",
      "\n",
      "Time to read using open: 2.92075 seconds.\n"
     ]
    }
   ],
   "source": [
    "start_read = time()\n",
    "\n",
    "# build array of zeros\n",
    "b = np.zeros((N,N), dtype=int)\n",
    "\n",
    "# read the array using open()\n",
    "with open('data.txt', 'r') as datafile:\n",
    "    for k, row_string in enumerate(datafile):\n",
    "        b[k] = np.array(row_string.split(','))\n",
    "\n",
    "end_read = time()\n",
    " \n",
    "total_save_time_open = end_save - start_save\n",
    "total_read_time_open = end_read - start_read\n",
    "\n",
    "print(f\"### {N**2} points of data ###\")\n",
    "print(\"\\nData summary:\\n\", b)\n",
    "print(f\"\\nSaved and read arrays are equal {np.array_equal(a,b)}\\n\")\n",
    "print(\"\\nData shape:\\n\", b.shape)\n",
    "print(f\"\\nTime to save using open: {round(total_save_time_open,5)} seconds.\")\n",
    "print(f\"\\nTime to read using open: {round(total_read_time_open,5)} seconds.\")"
   ]
  },
  {
   "cell_type": "markdown",
   "metadata": {},
   "source": [
    "#### (b) using numpy savetxt() and loadtxt() `.txt`"
   ]
  },
  {
   "cell_type": "code",
   "execution_count": 48,
   "metadata": {},
   "outputs": [
    {
     "name": "stdout",
     "output_type": "stream",
     "text": [
      "### 9000000 points of data ###\n",
      "\n",
      "Data summary:\n",
      " [[1662. 2830. 4078. ... 1165. 7677. 8058.]\n",
      " [6657. 8667. 3936. ... 5747. 1471. 2969.]\n",
      " [6449. 1962. 3976. ... 2211. 8071. 9571.]\n",
      " ...\n",
      " [5848. 8134. 7263. ... 4314. 1717. 7487.]\n",
      " [2952. 2262. 9450. ... 4792. 2790.  240.]\n",
      " [7488. 2190. 7580. ... 4253. 1250. 7314.]]\n",
      "\n",
      "Saved and read arrays are equal True\n",
      "\n",
      "\n",
      "Data shape:\n",
      " (3000, 3000)\n",
      "\n",
      "Time to save using savetxt: 3.3579 seconds.\n",
      "\n",
      "Time to read using loadtxt: 3.99963 seconds.\n"
     ]
    }
   ],
   "source": [
    "start_save = time()\n",
    "np.savetxt('data.txt', a)\n",
    "end_save = time()\n",
    "\n",
    "start_read = time()\n",
    "b = np.loadtxt('data.txt')\n",
    "end_read = time()\n",
    " \n",
    "total_save_time_savetxt = end_save - start_save\n",
    "total_read_time_loadtxt = end_read - start_read\n",
    "\n",
    "print(f\"### {N**2} points of data ###\")\n",
    "print(\"\\nData summary:\\n\", b)\n",
    "print(f\"\\nSaved and read arrays are equal {np.array_equal(a,b)}\\n\")\n",
    "print(\"\\nData shape:\\n\", b.shape)\n",
    "print(f\"\\nTime to save using savetxt: {round(total_save_time_savetxt,5)} seconds.\")\n",
    "print(f\"\\nTime to read using loadtxt: {round(total_read_time_loadtxt,5)} seconds.\")"
   ]
  },
  {
   "cell_type": "markdown",
   "metadata": {},
   "source": [
    "#### (c) using numpy save() and load() `.npy`"
   ]
  },
  {
   "cell_type": "code",
   "execution_count": 49,
   "metadata": {},
   "outputs": [
    {
     "name": "stdout",
     "output_type": "stream",
     "text": [
      "### 9000000 points of data ###\n",
      "\n",
      "Data summary:\n",
      " [[1662 2830 4078 ... 1165 7677 8058]\n",
      " [6657 8667 3936 ... 5747 1471 2969]\n",
      " [6449 1962 3976 ... 2211 8071 9571]\n",
      " ...\n",
      " [5848 8134 7263 ... 4314 1717 7487]\n",
      " [2952 2262 9450 ... 4792 2790  240]\n",
      " [7488 2190 7580 ... 4253 1250 7314]]\n",
      "\n",
      "Saved and read arrays are equal True\n",
      "\n",
      "\n",
      "Data shape:\n",
      " (3000, 3000)\n",
      "\n",
      "Time to save using save: 0.04294 seconds.\n",
      "\n",
      "Time to read using load: 0.01662 seconds.\n"
     ]
    }
   ],
   "source": [
    "start_save = time()\n",
    "np.save('data.npy', a)\n",
    "end_save = time()\n",
    "\n",
    "start_read = time()\n",
    "b = np.load('data.npy')\n",
    "end_read = time()\n",
    " \n",
    "total_save_time_save = end_save - start_save\n",
    "total_read_time_load = end_read - start_read\n",
    "\n",
    "print(f\"### {N**2} points of data ###\")\n",
    "print(\"\\nData summary:\\n\", b)\n",
    "print(f\"\\nSaved and read arrays are equal {np.array_equal(a,b)}\\n\")\n",
    "print(\"\\nData shape:\\n\", b.shape)\n",
    "print(f\"\\nTime to save using save: {round(total_save_time_save,5)} seconds.\")\n",
    "print(f\"\\nTime to read using load: {round(total_read_time_load,5)} seconds.\")"
   ]
  },
  {
   "cell_type": "markdown",
   "metadata": {},
   "source": [
    "A graphical comparison of the obtained times speaks by itself:"
   ]
  },
  {
   "cell_type": "code",
   "execution_count": 51,
   "metadata": {},
   "outputs": [
    {
     "data": {
      "image/png": "[encoded data removed]",
      "text/plain": [
       "<Figure size 432x288 with 1 Axes>"
      ]
     },
     "metadata": {
      "needs_background": "light"
     },
     "output_type": "display_data"
    }
   ],
   "source": [
    "import matplotlib.pyplot as plt\n",
    "fig = plt.figure()\n",
    "ax = fig.add_subplot(111)\n",
    "\n",
    "X = np.arange(3)\n",
    "ax.bar(X + 0.00, [total_save_time_open, total_save_time_savetxt, total_save_time_save], color = 'k', width = 0.4, label=\"Write\")\n",
    "ax.bar(X + 0.45, [total_read_time_open, total_read_time_loadtxt, total_read_time_load], color = 'b', width = 0.4, label=\"Read\")\n",
    "ax.set_xticks(X+0.2, ('open()', 'numpy txt', 'numpy npy'))\n",
    "ax.set_ylabel(\"Time (s)\")\n",
    "#ax.set_xlabel(\"Method\")\n",
    "plt.legend()\n",
    "plt.show()"
   ]
  },
  {
   "cell_type": "markdown",
   "metadata": {},
   "source": [
    "<a id='4'></a>\n",
    "\n",
    "## $(4.)$ Additional File types\n",
    "\n",
    "**pickle, dill, json, h5py etc.**\n",
    "\n",
    "\n",
    "\n"
   ]
  },
  {
   "cell_type": "code",
   "execution_count": null,
   "metadata": {},
   "outputs": [],
   "source": []
  },
  {
   "cell_type": "code",
   "execution_count": null,
   "metadata": {},
   "outputs": [],
   "source": []
  },
  {
   "cell_type": "code",
   "execution_count": null,
   "metadata": {},
   "outputs": [],
   "source": []
  },
  {
   "cell_type": "markdown",
   "metadata": {},
   "source": [
    "-------------------------------------\n",
    "---\n",
    "<a id='5'></a>\n",
    "\n",
    "# Further Topics Not Covered in the Course!"
   ]
  },
  {
   "cell_type": "markdown",
   "metadata": {},
   "source": [
    "Color in, color out...the course has arrived to its end!\n",
    "\n",
    "But don't be sad! There are way more things to know about python that we didn't have time to cover here!\n",
    "\n",
    "Here you have a list of the possible following topics you could attack to deepen your programming skills:\n",
    "\n",
    "- Using `.py` scripts to code instead of a Jupyter Notebook, running scripts from a terminal/console.\n",
    "\n",
    "\n",
    "- Object Oriented Programming: the `class` conondrum.\n",
    "\n",
    "\n",
    "- Assertions and error controls, `try`-`except`-`catch` structures.\n",
    "\n",
    "\n",
    "- `map` and `lambda` functions.\n",
    "\n",
    "\n",
    "- Manipulating images, videos, sound and other more exotic data types (openCV, sounddevice ...)\n",
    "\n",
    "\n",
    "- Machine Learning and Deep Learning (pytorch, scikit-learn, tensorflow ...)\n",
    "\n",
    "\n",
    "- Parallel processing using several CPU cores or using the GPU itself (mpi4py, multiprocessing, pytorch ...)\n",
    "\n",
    "\n",
    "- Calling C/C++ functions under the hood (ctypes ...)\n",
    "\n",
    "\n",
    "- Graphical user interfaces (pyQt ...)\n",
    "\n",
    "\n",
    "- Standalone executables (pyinstaller ...)\n",
    "\n",
    "\n",
    "- Web/mobile application development (flask ...)\n",
    "\n",
    "\n",
    "- ..."
   ]
  },
  {
   "cell_type": "markdown",
   "metadata": {},
   "source": [
    "Now that you have the basic notions for Python programming, you could follow almost any online course to continue exploring everything Python has to offer! You can look for free courses in pages like EdX, Coursera or even Youtube itself!\n",
    "\n",
    "What is more, once you have integrated the concepts you have learnt here, you could even try to give a chance to other lower level programming languages as well! They are more complicated to program (you must have into account more things), but the essentials are the same.\n",
    "\n",
    "And if not, note that unless you need some very very fast and optimized code you can manage with python. In fact, remember that most of the important libraries (numpy, pytorch, mpi4py etc.) in reality execute C or Fortran code under the hood, so the speed up is already available with Python, without requiring you to go down to the kitchen of hell!\n",
    "\n",
    "\n",
    "It has been a pleasure to have you here!\n",
    "\n",
    "For anything you need, you have our emails at the beginning of the notebooks,\n",
    "\n",
    "\n",
    "**LLA & SCN$^\\textbf{2}$** "
   ]
  }
 ],
 "metadata": {
  "kernelspec": {
   "display_name": "Python 3",
   "language": "python",
   "name": "python3"
  },
  "language_info": {
   "codemirror_mode": {
    "name": "ipython",
    "version": 3
   },
   "file_extension": ".py",
   "mimetype": "text/x-python",
   "name": "python",
   "nbconvert_exporter": "python",
   "pygments_lexer": "ipython3",
   "version": "3.7.3"
  }
 },
 "nbformat": 4,
 "nbformat_minor": 4
}

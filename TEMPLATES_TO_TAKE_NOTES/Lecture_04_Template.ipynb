{
 "cells": [
  {
   "cell_type": "markdown",
   "metadata": {},
   "source": [
    "# LECTURE IV : Numpy and Matplotlib\n",
    "\n",
    "### $(A)$ - [LIBRARIES: *Importing and using functions packages*](#A)\n",
    "### $(B)$ - [NUMPY: *Your trustworthy numerical algebra library*](#B)\n",
    "### $(C)$ - [GOOGLING: *Unlock the Self-Learning Skill-Tree*](#C)\n",
    "### $(D)$ - [MATPLOTLIB: *Your trustworthy plotting library*](#D)\n",
    "\n",
    "---\n",
    "---\n",
    "---\n",
    "##  $(A)$ - LIBRARIES: *Importing and using functions packages*\n",
    "\n",
    "\n",
    "\n",
    "\n",
    "\n"
   ]
  },
  {
   "cell_type": "markdown",
   "metadata": {},
   "source": [
    "- What is a library?\n"
   ]
  },
  {
   "cell_type": "code",
   "execution_count": null,
   "metadata": {},
   "outputs": [],
   "source": []
  },
  {
   "cell_type": "markdown",
   "metadata": {},
   "source": [
    "- Examples and purposes.\n"
   ]
  },
  {
   "cell_type": "code",
   "execution_count": null,
   "metadata": {},
   "outputs": [],
   "source": []
  },
  {
   "cell_type": "markdown",
   "metadata": {},
   "source": [
    "- How to import them"
   ]
  },
  {
   "cell_type": "code",
   "execution_count": null,
   "metadata": {},
   "outputs": [],
   "source": []
  },
  {
   "cell_type": "markdown",
   "metadata": {},
   "source": [
    "- What is a **class**?"
   ]
  },
  {
   "cell_type": "code",
   "execution_count": null,
   "metadata": {},
   "outputs": [],
   "source": []
  },
  {
   "cell_type": "markdown",
   "metadata": {},
   "source": [
    "### $(B)$ - NUMPY: \n",
    "#### *Your trustworthy numerical algebra library*\n",
    "\n",
    "- What is an array?"
   ]
  },
  {
   "cell_type": "code",
   "execution_count": 2,
   "metadata": {},
   "outputs": [],
   "source": [
    "import numpy as np"
   ]
  },
  {
   "cell_type": "code",
   "execution_count": null,
   "metadata": {},
   "outputs": [],
   "source": []
  },
  {
   "cell_type": "markdown",
   "metadata": {},
   "source": [
    "- **Methods** vs **attributes** of a class"
   ]
  },
  {
   "cell_type": "code",
   "execution_count": null,
   "metadata": {},
   "outputs": [],
   "source": []
  },
  {
   "cell_type": "markdown",
   "metadata": {},
   "source": [
    "- Important methods for arrays"
   ]
  },
  {
   "cell_type": "code",
   "execution_count": null,
   "metadata": {},
   "outputs": [],
   "source": []
  },
  {
   "cell_type": "markdown",
   "metadata": {},
   "source": [
    "- Datatypes in arrays: there are **complex numbers**!"
   ]
  },
  {
   "cell_type": "code",
   "execution_count": null,
   "metadata": {},
   "outputs": [],
   "source": []
  },
  {
   "cell_type": "markdown",
   "metadata": {},
   "source": [
    "- **Element-wise** operations between arrays"
   ]
  },
  {
   "cell_type": "code",
   "execution_count": null,
   "metadata": {},
   "outputs": [],
   "source": []
  },
  {
   "cell_type": "markdown",
   "metadata": {},
   "source": [
    "- Other operations like **dot product** or matrix matrix multiplication"
   ]
  },
  {
   "cell_type": "code",
   "execution_count": null,
   "metadata": {},
   "outputs": [],
   "source": []
  },
  {
   "cell_type": "markdown",
   "metadata": {},
   "source": [
    "- flatten(), reshape(), transpose(), moveaxis()..."
   ]
  },
  {
   "cell_type": "code",
   "execution_count": null,
   "metadata": {},
   "outputs": [],
   "source": []
  },
  {
   "cell_type": "markdown",
   "metadata": {},
   "source": [
    "- **Slicing** arrays"
   ]
  },
  {
   "cell_type": "code",
   "execution_count": null,
   "metadata": {},
   "outputs": [],
   "source": []
  },
  {
   "cell_type": "markdown",
   "metadata": {},
   "source": [
    "- Array array **logical** operations"
   ]
  },
  {
   "cell_type": "code",
   "execution_count": null,
   "metadata": {},
   "outputs": [],
   "source": []
  },
  {
   "cell_type": "markdown",
   "metadata": {},
   "source": [
    "- **Dimension-wise** operations for an array"
   ]
  },
  {
   "cell_type": "code",
   "execution_count": null,
   "metadata": {},
   "outputs": [],
   "source": []
  },
  {
   "cell_type": "markdown",
   "metadata": {},
   "source": [
    "- **Linalg** submodule:\n",
    "    - Inverse\n",
    "    - Determinant\n",
    "    - Eigenvalues and eigenvectors"
   ]
  },
  {
   "cell_type": "code",
   "execution_count": null,
   "metadata": {},
   "outputs": [],
   "source": []
  },
  {
   "cell_type": "markdown",
   "metadata": {},
   "source": [
    "- Solving **equation-systems**:"
   ]
  },
  {
   "cell_type": "code",
   "execution_count": null,
   "metadata": {},
   "outputs": [],
   "source": []
  },
  {
   "cell_type": "markdown",
   "metadata": {},
   "source": [
    "## $(C)$ - GOOGLING: \n",
    "### *Unlock the Self-Learning Skill-Tree*\n",
    "\n",
    "- Package/library documentation\n",
    "- stackoverflow\n",
    "- stackexchange\n",
    "- etc.\n",
    "\n",
    "##### Example 1 of how to use this skill\n",
    "\n",
    "Obtain the **mean** and **standard deviation** of the numbers in an array."
   ]
  },
  {
   "cell_type": "code",
   "execution_count": null,
   "metadata": {},
   "outputs": [],
   "source": []
  },
  {
   "cell_type": "markdown",
   "metadata": {},
   "source": [
    "##### Example 2\n",
    "Get a way to obtain the best linear fit for a set of points in x,y"
   ]
  },
  {
   "cell_type": "code",
   "execution_count": null,
   "metadata": {},
   "outputs": [],
   "source": []
  },
  {
   "cell_type": "markdown",
   "metadata": {},
   "source": [
    "More statistical info of the fit"
   ]
  },
  {
   "cell_type": "code",
   "execution_count": null,
   "metadata": {},
   "outputs": [],
   "source": []
  },
  {
   "cell_type": "markdown",
   "metadata": {},
   "source": [
    "## $(D)$ - MATPLOTLIB:\n",
    "### *Your trustworthy plotting library*"
   ]
  },
  {
   "cell_type": "code",
   "execution_count": null,
   "metadata": {},
   "outputs": [],
   "source": [
    "import matplotlib.pyplot as plt"
   ]
  },
  {
   "cell_type": "markdown",
   "metadata": {},
   "source": [
    "- Basic plot and ? functionality"
   ]
  },
  {
   "cell_type": "code",
   "execution_count": null,
   "metadata": {},
   "outputs": [],
   "source": []
  },
  {
   "cell_type": "markdown",
   "metadata": {},
   "source": [
    "- Editing plot style and stuff"
   ]
  },
  {
   "cell_type": "code",
   "execution_count": null,
   "metadata": {},
   "outputs": [],
   "source": []
  },
  {
   "cell_type": "markdown",
   "metadata": {},
   "source": [
    "- Plot any function: Understand functions as vectors!"
   ]
  },
  {
   "cell_type": "code",
   "execution_count": null,
   "metadata": {},
   "outputs": [],
   "source": []
  },
  {
   "cell_type": "markdown",
   "metadata": {},
   "source": [
    "- Regression with error bars"
   ]
  },
  {
   "cell_type": "code",
   "execution_count": null,
   "metadata": {},
   "outputs": [],
   "source": []
  },
  {
   "cell_type": "markdown",
   "metadata": {},
   "source": [
    "- Save figures"
   ]
  },
  {
   "cell_type": "code",
   "execution_count": null,
   "metadata": {},
   "outputs": [],
   "source": []
  },
  {
   "cell_type": "markdown",
   "metadata": {},
   "source": [
    "- Axis scale"
   ]
  },
  {
   "cell_type": "code",
   "execution_count": null,
   "metadata": {},
   "outputs": [],
   "source": []
  },
  {
   "cell_type": "markdown",
   "metadata": {},
   "source": [
    "- Multiplots"
   ]
  },
  {
   "cell_type": "code",
   "execution_count": null,
   "metadata": {},
   "outputs": [],
   "source": []
  },
  {
   "cell_type": "markdown",
   "metadata": {},
   "source": [
    "- Overview of 3D plots"
   ]
  },
  {
   "cell_type": "code",
   "execution_count": null,
   "metadata": {},
   "outputs": [],
   "source": []
  },
  {
   "cell_type": "markdown",
   "metadata": {},
   "source": [
    "## $(E)$ - EXERCISES:\n",
    "\n",
    "### EXERCISE 0.1\n",
    "\n",
    "Create a function that given an array $a$ and a float $L$ applies the following function $f(x)=20e^{-0.5(x-(L/2))^2/0.05}$ element wise and returns the resulting array.\n"
   ]
  },
  {
   "cell_type": "code",
   "execution_count": null,
   "metadata": {},
   "outputs": [],
   "source": []
  },
  {
   "cell_type": "code",
   "execution_count": null,
   "metadata": {},
   "outputs": [],
   "source": []
  },
  {
   "cell_type": "markdown",
   "metadata": {},
   "source": [
    "### EXERCISE 0.2\n",
    "\n",
    "Given a number of points N and a minimum and maximum position $xmin, xmax$, make a function that returns in an array a grid (N equidistant points) in between $[xmin,xmax]$. *Hint: You can Google if there is already any function doing this for you in numpy.*"
   ]
  },
  {
   "cell_type": "code",
   "execution_count": null,
   "metadata": {},
   "outputs": [],
   "source": []
  },
  {
   "cell_type": "code",
   "execution_count": null,
   "metadata": {},
   "outputs": [],
   "source": []
  },
  {
   "cell_type": "markdown",
   "metadata": {},
   "source": [
    "### EXERCISE 0.3\n",
    "\n",
    "Choose a certain float $L$, say $L=10$ and plot the previous function $f(x)$ for $x\\in[0,L]$. *Hint: xmin=0, xmax=L*"
   ]
  },
  {
   "cell_type": "code",
   "execution_count": null,
   "metadata": {},
   "outputs": [],
   "source": []
  },
  {
   "cell_type": "code",
   "execution_count": null,
   "metadata": {},
   "outputs": [],
   "source": []
  },
  {
   "cell_type": "markdown",
   "metadata": {},
   "source": [
    "### EXERCISE 0.4\n",
    "\n",
    "Plot again the previous function now in the range $[-10, 20]$ but now plot it for M=20 possible values of $L$ in $[-8, 18]$.\n",
    "\n",
    "You could do this in the same plot, certainly it will be a mess. You could do it using multiplot as well, but 20 plots is too much. So just do it in different plots one after the other one."
   ]
  },
  {
   "cell_type": "code",
   "execution_count": null,
   "metadata": {},
   "outputs": [],
   "source": []
  },
  {
   "cell_type": "code",
   "execution_count": null,
   "metadata": {},
   "outputs": [],
   "source": []
  },
  {
   "cell_type": "markdown",
   "metadata": {},
   "source": [
    "### EXERCISE 0.5\n",
    "\n",
    "You have seen that Ex 0.4 results in a sequence where the gaussian fucntion $f(x)$ is \"moving\" towards positive x.\n",
    "We can try to see this movement as a false animation if we clear the output of the cell each time we plot it.\n",
    "To do this in a Jupyter Notebook, you can do clear_output(wait=True) after doing\n",
    "\n",
    "`from IPython.display import clear_output`\n",
    "\n",
    "If the plots are made too fast (the animation goes too fast) we can make the computer wait with `sleep()` from `form time import sleep`, inputing the number of seconds to stop there."
   ]
  },
  {
   "cell_type": "code",
   "execution_count": null,
   "metadata": {},
   "outputs": [],
   "source": []
  },
  {
   "cell_type": "code",
   "execution_count": null,
   "metadata": {},
   "outputs": [],
   "source": []
  },
  {
   "cell_type": "code",
   "execution_count": 5,
   "metadata": {},
   "outputs": [
    {
     "data": {
      "text/plain": [
       "0.6"
      ]
     },
     "execution_count": 5,
     "metadata": {},
     "output_type": "execute_result"
    }
   ],
   "source": [
    "np.sqrt(0.36)"
   ]
  },
  {
   "cell_type": "markdown",
   "metadata": {},
   "source": [
    "## Exercise 1: The Heat Diffusion Equation with Finite Differences\n",
    "\n",
    " Given the single spatial dimension heat diffusion equation (modelling the diffusion of heat/density of chemical species etc., propelled by the agglomeration of the same quantity with no source no leak) within the spatial region $x\\in (0,L)$ and time $t\\geq 0$:\n",
    "\n",
    " $$\n",
    "\\frac{\\partial u(x,t)}{\\partial t} = \\kappa \\frac{\\partial^2 u(x,t)}{\\partial x^2}\n",
    " $$\n",
    "\n",
    "where $u(x,t)$ is the temperature or amount of chemical species at position $x$ in time $t$, while $\\kappa$ is the diffusivity coefficient of the medium, which we will assume to be constant.\n",
    "\n",
    "Now, let us make the following approximations for the partial derivatives using **finite differences**:\n",
    "\n",
    "$$\n",
    "\\frac{\\partial u(x,t)}{\\partial t} \\simeq \\frac{u(x,t +\\Delta t)-u(x,t)}{\\Delta t}\n",
    "$$\n",
    "\n",
    "$$\n",
    "\\frac{\\partial^2 u(x,t)}{\\partial x^2} \\simeq \\frac{ u(x+\\Delta x,t) -2u(x,t)+u(x-\\Delta x,t)}{ \\Delta x^2}\n",
    "$$\n",
    "\n",
    "As the time and spatial steps $\\Delta t, \\Delta x$ tend to zero, the approximations get each time better, following the definition of the derivative as the limit of the difference ratio. This means that if we choose small enough $\\Delta t,\\Delta x$, then the following approxiamtion of the differential equation might work for a numerical resolution:\n",
    "\n",
    "$$\n",
    "\\frac{u(x,t +\\Delta t)-u(x,t)}{\\Delta t} = \\kappa \\frac{ u(x+\\Delta x,t) -2u(x,t)+u(x-\\Delta x,t)}{\\Delta x^2}\n",
    "$$\n",
    "\n",
    "\n",
    "$$\n",
    "u(x,t +\\Delta t) = u(x,t)+\\Delta t\\ \\Big[\\kappa \\frac{ u(x+\\Delta x,t) -2u(x,t)+u(x-\\Delta x,t)}{ \\Delta x^2}\\Big]\n",
    "$$\n",
    "\n",
    "$$\n",
    "u(x,t +\\Delta t) = \\Big(1-2\\kappa\\frac{\\Delta t}{\\Delta x^2}\\Big)\\ u(x,t)+\\kappa \\frac{\\Delta t}{\\Delta x^2}\\Big( u(x+\\Delta x,t)+u(x-\\Delta x,t)\\Big)\n",
    "$$\n",
    "\n",
    "\n",
    "Thus, if we have an initial condition for the shape of $u(x,t)$, say we fix a known function $f(x)$ for $x\\in(0,L)$ and we fix the boundaries at zero temperature (because there is a perfect ice bath at those points for example):\n",
    "\n",
    "$$\n",
    "u(x,t=0)=f(x)\n",
    "$$\n",
    "\n",
    "$$\n",
    "u(x=0,t)=0\\ \\ \\forall t\\geq 0\n",
    "$$\n",
    "$$\n",
    "u(x=L,t)=0\\ \\ \\forall t\\geq0\n",
    "$$\n",
    "\n",
    "Then we can obtain the shape of $u$ for the time $t=0+\\Delta t$ as a function of the $u$ at time $t=0$ (which we know) and $\\Delta x, \\Delta t$, which we also know.\n",
    "\n",
    "$$\n",
    "u(x,\\Delta t) = \\Delta t\\ \\Big[u(x,0)+\\kappa \\frac{ u(x+\\Delta x,0) -2u(x,0)+u(x-\\Delta x,0)}{ \\Delta x^2}\\Big]\n",
    "$$\n",
    "\n",
    "If we divide the region $x\\in [0,L]$ in $N$ pieces ($N+1$ points), then we will only consider the spatial points:\n",
    "\n",
    "$$\n",
    "x=j\\Delta x \\ \\ for\\ j=0,1,2,...,N\n",
    "$$\n",
    "\n",
    "$$\n",
    "\\Delta x = L/N\n",
    "$$\n",
    "\n",
    "We will only consider the temperature at those grid points for each time in $t=0, \\Delta t, 2\\Delta t, 3\\Delta t...$.\n",
    "\n",
    "Before going into the exercise, note that this approximate numerical solution is only valid if you choose $N, \\Delta t, \\kappa$ such that:\n",
    "\n",
    "$$\n",
    "\\Delta t \\leq \\frac{\\Delta x^2}{4\\kappa}\n",
    "$$\n",
    "\n",
    "Otherwise, the approximation will diverge crazily.\n",
    "\n",
    "\n",
    "**Exercise**: Make a simulator that computes the value for the temperature $u$ for each spatial point given the user inputs $\\kappa, \\Delta t, N, last\\_time, L, f(x), plotEvery$ until it reaches a time bigger than $last\\_time$. \n",
    "\n",
    "Every $plotEvery$ computed time iterations, plot the temperature profile.\n",
    "\n",
    "\n",
    "***Spoilers:*** For this, first initialize the temperature vector, following the grid idea we have seen in the previous exercises. Then in each time iteration, you just need to use the equation to update the temperature vector:\n",
    "$$\n",
    "u(x,\\Delta t) = \\Delta t\\ \\Big[u(x,0)+\\kappa \\frac{ u(x+\\Delta x,0) -2u(x,0)+u(x-\\Delta x,0)}{ \\Delta x^2}\\Big]\n",
    "$$\n",
    "\n",
    "which in array language means, for each $i$ in the spatial grid, use the temperature in the previous time to compute the temperature in the next time for each point:\n",
    "\n",
    "$$\n",
    "u\\_next\\_time[i] = \\Delta t\\ \\Big[u\\_prev[i]+\\kappa \\frac{ u\\_prev[i+1] -2u\\_prev[i] +u\\_prev[i-1]}{ \\Delta x^2}\\Big]\n",
    "$$\n",
    "\n",
    "Beware with the boundaries! For $i=0$ and the last $i$, there is no $[i-1]$ and $[i+1]$ respectively! But you do not need to be worried about the edges of the function, because for $u(x=0,t)=0=u(x=L,t)$ means $u[0]=0=u[N]$ at all times.\n",
    "\n",
    "After each time you compute the new vector of values $u$, you can plot the temperature profile. In order to see a faster animation, you could make $\\Delta t$ smaller, but it is better to do it by only ploting one frame per $plotEvery$ frames (check if the iteration counter is multiple of!). This is because playing with $\\Delta t$ alters the quality of the approximation and the solution might diverge!\n",
    "\n",
    "Also, you might see that the temperature suddenly goes to infinity. This is because numerical errors propagate through the approximations. There is a theorem though, by which if we make sure:\n",
    "\n",
    "$$\n",
    "\\Delta t \\leq \\frac{\\Delta x^2}{4\\kappa}\n",
    "$$\n",
    "\n",
    "then the simulation will be stable for longer. You can make an assertion for this before simulating anything and raise an error else. \n",
    "\n"
   ]
  },
  {
   "cell_type": "code",
   "execution_count": null,
   "metadata": {},
   "outputs": [],
   "source": []
  },
  {
   "cell_type": "code",
   "execution_count": null,
   "metadata": {},
   "outputs": [],
   "source": []
  },
  {
   "cell_type": "code",
   "execution_count": null,
   "metadata": {},
   "outputs": [],
   "source": []
  },
  {
   "cell_type": "markdown",
   "metadata": {},
   "source": [
    "## Exercise 2: The Schrodinger Equation with Finite Differences\n",
    "\n",
    "Given the Schrodinger Equation is the partial differential equation ruling the behaviour of a quantum particle in time, we can try to simulate the evolution of an electron in one dimension using a similar approach as the previous exercise. The equation is:\n",
    "\n",
    "$$\n",
    "i\\hbar \\frac{\\partial \\psi(x,t)}{\\partial t} = -\\frac{\\hbar^2}{2m}\\frac{\\partial^2}{\\partial x^2} \\psi(x,t) + U(x,t) \\psi(x,t)\n",
    "$$\n",
    "\n",
    "where $\\psi(x,t)$ is the wavefunction of the quantum particle. It is just a complex number per position in space and time $x,t$ such that according to Born's Rule, its magnitude squared $|\\psi(x,t)|^2=\\psi^*\\psi$ gives us the probability to find the particle in that position.\n",
    "\n",
    "We will consider again that the particle is bounded in a region of space $x \\in [0,L]$ and we will consider times $t \\geq 0$ such that we know the initial wavefunction (the initial distribution in space for the electron):\n",
    "\n",
    "$$\n",
    "\\psi(x,t=0)=f(x)\n",
    "$$\n",
    "\n",
    "$$\n",
    "\\psi(0,t)=0\\ \\ \\forall t\\geq 0\n",
    "$$\n",
    "$$\n",
    "\\psi(L,t)=0\\ \\ \\forall t\\geq 0\n",
    "$$\n",
    "\n",
    "In the equation, $U(x,t)$ represents the potential energy field in which the particle is immersed. In this example we will assume it is time independent $U(x,t)=V(x)$.\n",
    "\n",
    "Following the finite differences we casted in the previous exercise:\n",
    "\n",
    "$$\n",
    "\\frac{\\partial \\psi(x,t)}{\\partial t} \\simeq \\frac{\\psi(x,t +\\Delta t)-\\psi(x,t)}{\\Delta t}\n",
    "$$\n",
    "\n",
    "$$\n",
    "\\frac{\\partial^2 \\psi(x,t)}{\\partial x^2} \\simeq \\frac{ \\psi(x+\\Delta x,t) -2\\psi(x,t)+\\psi(x-\\Delta x,t)}{ \\Delta x^2}\n",
    "$$\n",
    "\n",
    "Then, we can approximate numerically the Schrodinger Equation as:\n",
    "\n",
    "$$\n",
    "i\\hbar \\Big(\\frac{\\psi(x,t +\\Delta t)-\\psi(x,t)}{\\Delta t}\\Big) =  -\\frac{\\hbar^2}{2m} \\frac{ \\psi(x+\\Delta x,t) -2\\psi(x,t)+\\psi(x-\\Delta x,t)}{ \\Delta x^2} + V(x) \\psi(x,t)\n",
    "$$\n",
    "\n",
    "$$\n",
    "\\psi(x,t+\\Delta t)=\\Big( 1+\\frac{\\Delta t}{i\\hbar}V(x)+\\frac{\\Delta t \\hbar}{i m \\Delta x^2} \\Big)\\psi(x,t) - \\frac{\\hbar \\Delta t}{2im\\Delta x^2}\\Big( \\psi(x+\\Delta x,t)+\\psi(x-\\Delta x,t)\\Big)\n",
    "$$\n",
    "Noting $1/i=-i$:\n",
    "\n",
    "$$\n",
    "\\psi(x,t+\\Delta t)=\\Big( 1-\\frac{i\\Delta t}{\\hbar}V(x)-\\frac{i\\Delta t \\hbar}{ m \\Delta x^2} \\Big)\\psi(x,t) + \\frac{i\\hbar \\Delta t}{2m\\Delta x^2}\\Big( \\psi(x+\\Delta x,t)+\\psi(x-\\Delta x,t)\\Big)\n",
    "$$\n",
    "\n",
    "This method will be unstable for many iterations, but we can tweak $\\Delta t, \\Delta x$ to make it stable for short time ranges.\n",
    "\n",
    "If we divide the region $x\\in [0,L]$ in $N$ pieces ($N+1$ points), then we will only consider the spatial points:\n",
    "\n",
    "$$\n",
    "x=j\\Delta x \\ \\ for\\ j=0,1,2,...,N\n",
    "$$\n",
    "\n",
    "$$\n",
    "\\Delta x = L/N\n",
    "$$\n",
    "\n",
    "We will only consider the wavefunction at those grid points for each time in $t=0, \\Delta t, 2\\Delta t, 3\\Delta t...$.\n",
    "\n",
    "Before going into the exercise, note that in python there are complex numbers. You just need to use $1j$ instead of the $i$ we used in the equations.\n",
    "\n",
    "**Exercise**: Make a simulator that computes the value for the wavefunction $\\psi$ for each spatial point, given the user inputs $\\Delta t, N, last\\_time, L, f(x), V(x), plotEvery$ until it reaches a time bigger than $last\\_time$. You can assume it is an electron, by using atomic units $\\hbar=1, m=1$. Every $plotEvery$ computed time iterations, compute the absolute squared value of the wavefunction and plot the probability to find the particle in each point together with the potential energy profile. You can also plot the real and imaginary parts and see their beauty.\n",
    "\n",
    "**Possible Solution**:"
   ]
  },
  {
   "cell_type": "code",
   "execution_count": null,
   "metadata": {},
   "outputs": [],
   "source": []
  },
  {
   "cell_type": "code",
   "execution_count": null,
   "metadata": {},
   "outputs": [],
   "source": []
  },
  {
   "cell_type": "code",
   "execution_count": null,
   "metadata": {},
   "outputs": [],
   "source": []
  }
 ],
 "metadata": {
  "kernelspec": {
   "display_name": "Python 3",
   "language": "python",
   "name": "python3"
  },
  "language_info": {
   "codemirror_mode": {
    "name": "ipython",
    "version": 3
   },
   "file_extension": ".py",
   "mimetype": "text/x-python",
   "name": "python",
   "nbconvert_exporter": "python",
   "pygments_lexer": "ipython3",
   "version": "3.7.3"
  }
 },
 "nbformat": 4,
 "nbformat_minor": 2
}

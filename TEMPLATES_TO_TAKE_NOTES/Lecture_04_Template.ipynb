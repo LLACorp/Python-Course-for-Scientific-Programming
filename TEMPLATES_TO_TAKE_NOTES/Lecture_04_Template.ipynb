{
 "cells": [
  {
   "cell_type": "markdown",
   "metadata": {},
   "source": [
    "# PYTHON COURSE FOR SCIENTIFIC PROGRAMMING \n",
    "**Lecturer and Main Contributor to this lesson:**\n",
    "\n",
    "Xabier Oyanguren Asua: oiangu9@gmail.com\n",
    "\n",
    "All the course material can be found at: https://llacorp.github.io/Python-Course-for-Scientific-Programming/ \n",
    "\n",
    "---"
   ]
  },
  {
   "cell_type": "markdown",
   "metadata": {},
   "source": [
    "# LECTURE IV : Numpy and Matplotlib\n",
    "\n",
    "### $(A)$ - [LIBRARIES: *Importing and using function packages*](#A)\n",
    "### $(B)$ - [NUMPY: *Your trustworthy numerical algebra library*](#B)\n",
    "### $(C)$ - [GOOGLING: *Unlock the Self-Learning Skill-Tree*](#C)\n",
    "### $(D)$ - [MATPLOTLIB: *Your trustworthy plotting library*](#D)\n",
    "\n",
    "---\n",
    "---\n",
    "---\n",
    "##  $(A)$ - LIBRARIES: *Importing and using function packages*\n",
    "\n",
    "\n",
    "\n",
    "\n",
    "\n"
   ]
  },
  {
   "cell_type": "markdown",
   "metadata": {},
   "source": [
    "- What is a **library**?\n"
   ]
  },
  {
   "cell_type": "code",
   "execution_count": null,
   "metadata": {},
   "outputs": [],
   "source": []
  },
  {
   "cell_type": "markdown",
   "metadata": {},
   "source": [
    "- Examples and purposes.\n"
   ]
  },
  {
   "cell_type": "code",
   "execution_count": null,
   "metadata": {},
   "outputs": [],
   "source": []
  },
  {
   "cell_type": "markdown",
   "metadata": {},
   "source": [
    "- How to **import** them"
   ]
  },
  {
   "cell_type": "code",
   "execution_count": null,
   "metadata": {},
   "outputs": [],
   "source": []
  },
  {
   "cell_type": "markdown",
   "metadata": {},
   "source": [
    "- What is a **class**?"
   ]
  },
  {
   "cell_type": "code",
   "execution_count": null,
   "metadata": {},
   "outputs": [],
   "source": []
  },
  {
   "cell_type": "markdown",
   "metadata": {},
   "source": [
    "### $(B)$ - NUMPY: \n",
    "#### *Your trustworthy numerical algebra library*\n",
    "\n",
    "\n",
    "<img src=\"https://miro.medium.com/max/508/0*l8fRljVSisnV_UtR.jpg\" alt=\"Drawing\" style=\"width: 500px;\"/>\n",
    "\n",
    "\n",
    "- What is an array?"
   ]
  },
  {
   "cell_type": "code",
   "execution_count": 2,
   "metadata": {},
   "outputs": [],
   "source": [
    "import numpy as np"
   ]
  },
  {
   "cell_type": "code",
   "execution_count": null,
   "metadata": {},
   "outputs": [],
   "source": []
  },
  {
   "cell_type": "markdown",
   "metadata": {},
   "source": [
    "- **Methods** vs **attributes** of a class"
   ]
  },
  {
   "cell_type": "code",
   "execution_count": null,
   "metadata": {},
   "outputs": [],
   "source": []
  },
  {
   "cell_type": "markdown",
   "metadata": {},
   "source": [
    "- Important methods for arrays"
   ]
  },
  {
   "cell_type": "code",
   "execution_count": null,
   "metadata": {},
   "outputs": [],
   "source": []
  },
  {
   "cell_type": "markdown",
   "metadata": {},
   "source": [
    "- Datatypes in arrays: there are **complex numbers**!"
   ]
  },
  {
   "cell_type": "code",
   "execution_count": null,
   "metadata": {},
   "outputs": [],
   "source": []
  },
  {
   "cell_type": "markdown",
   "metadata": {},
   "source": [
    "- **Element-wise** operations between and within arrays"
   ]
  },
  {
   "cell_type": "code",
   "execution_count": null,
   "metadata": {},
   "outputs": [],
   "source": []
  },
  {
   "cell_type": "markdown",
   "metadata": {},
   "source": [
    "- Other operations like **dot product** or matrix matrix multiplication"
   ]
  },
  {
   "cell_type": "code",
   "execution_count": null,
   "metadata": {},
   "outputs": [],
   "source": []
  },
  {
   "cell_type": "markdown",
   "metadata": {},
   "source": [
    "- flatten(), reshape(), transpose(), moveaxis()..."
   ]
  },
  {
   "cell_type": "code",
   "execution_count": null,
   "metadata": {},
   "outputs": [],
   "source": []
  },
  {
   "cell_type": "markdown",
   "metadata": {},
   "source": [
    "- **Slicing** arrays"
   ]
  },
  {
   "cell_type": "code",
   "execution_count": null,
   "metadata": {},
   "outputs": [],
   "source": []
  },
  {
   "cell_type": "markdown",
   "metadata": {},
   "source": [
    "- Array array **logical** operations"
   ]
  },
  {
   "cell_type": "code",
   "execution_count": null,
   "metadata": {},
   "outputs": [],
   "source": []
  },
  {
   "cell_type": "markdown",
   "metadata": {},
   "source": [
    "- **Dimension-wise** operations for an array"
   ]
  },
  {
   "cell_type": "code",
   "execution_count": null,
   "metadata": {},
   "outputs": [],
   "source": []
  },
  {
   "cell_type": "markdown",
   "metadata": {},
   "source": [
    "- **Linalg** submodule:\n",
    "    - Inverse\n",
    "    - Determinant\n",
    "    - Eigenvalues and eigenvectors"
   ]
  },
  {
   "cell_type": "code",
   "execution_count": null,
   "metadata": {},
   "outputs": [],
   "source": []
  },
  {
   "cell_type": "markdown",
   "metadata": {},
   "source": [
    "- Solving **equation-systems**:\n",
    "\n",
    "\n",
    "$$\n",
    "\\begin{cases}\n",
    "a_{11}x_1+a_{12}x_2+...+a_{1n}x_n=b_1\\\\\n",
    "a_{21}x_1+a_{22}x_2+...+a_{2n}x_n=b_1\\\\\n",
    "...\\\\\n",
    "a_{m1}x_1+a_{m2}x_2+...+a_{mn}x_n=b_1\\\\\n",
    "\\end{cases} \\Leftrightarrow \n",
    "\\begin{pmatrix}\n",
    "a_{11} & a_{12} ... & a_{1n}\\\\\n",
    "a_{21} & a_{22} ... & a_{2n}\\\\\n",
    "...\\\\\n",
    "a_{m1} & a_{m2} ... & a_{mn}\\\\\n",
    "\\end{pmatrix}\n",
    "\\begin{pmatrix}\n",
    "x_1\\\\\n",
    "x_2\\\\\n",
    "...\\\\\n",
    "x_n\n",
    "\\end{pmatrix}=\n",
    "\\begin{pmatrix}\n",
    "b_1\\\\\n",
    "b_2\\\\\n",
    "...\\\\\n",
    "b_n\n",
    "\\end{pmatrix}\n",
    "$$\n",
    "\n",
    "$$\n",
    "A \\vec{x}=\\vec{b}\n",
    "$$"
   ]
  },
  {
   "cell_type": "code",
   "execution_count": null,
   "metadata": {},
   "outputs": [],
   "source": []
  },
  {
   "cell_type": "markdown",
   "metadata": {},
   "source": [
    "## $(C)$ - GOOGLING: \n",
    "### *Unlock the Self-Learning Skill-Tree*\n",
    "\n",
    "- Package/library documentation\n",
    "- stackoverflow\n",
    "- stackexchange\n",
    "- etc.\n",
    "\n",
    "##### Example 1 of how to use this skill\n",
    "\n",
    "Obtain the **mean** and **standard deviation** of the numbers in an array."
   ]
  },
  {
   "cell_type": "code",
   "execution_count": null,
   "metadata": {},
   "outputs": [],
   "source": []
  },
  {
   "cell_type": "markdown",
   "metadata": {},
   "source": [
    "##### Example 2\n",
    "Get a way to obtain the best linear fit for a set of points in x,y"
   ]
  },
  {
   "cell_type": "code",
   "execution_count": null,
   "metadata": {},
   "outputs": [],
   "source": []
  },
  {
   "cell_type": "markdown",
   "metadata": {},
   "source": [
    "More statistical info of the fit"
   ]
  },
  {
   "cell_type": "code",
   "execution_count": null,
   "metadata": {},
   "outputs": [],
   "source": []
  },
  {
   "cell_type": "markdown",
   "metadata": {},
   "source": [
    "## $(D)$ - MATPLOTLIB:\n",
    "### *Your trustworthy plotting library*"
   ]
  },
  {
   "cell_type": "code",
   "execution_count": null,
   "metadata": {},
   "outputs": [],
   "source": [
    "import matplotlib.pyplot as plt"
   ]
  },
  {
   "cell_type": "markdown",
   "metadata": {},
   "source": [
    "- Basic plot and ? functionality"
   ]
  },
  {
   "cell_type": "code",
   "execution_count": null,
   "metadata": {},
   "outputs": [],
   "source": []
  },
  {
   "cell_type": "markdown",
   "metadata": {},
   "source": [
    "- Editing plot style and stuff"
   ]
  },
  {
   "cell_type": "code",
   "execution_count": null,
   "metadata": {},
   "outputs": [],
   "source": []
  },
  {
   "cell_type": "markdown",
   "metadata": {},
   "source": [
    "- Plot any function: Understand functions as vectors!"
   ]
  },
  {
   "cell_type": "code",
   "execution_count": null,
   "metadata": {},
   "outputs": [],
   "source": []
  },
  {
   "cell_type": "markdown",
   "metadata": {},
   "source": [
    "- Regression with error bars"
   ]
  },
  {
   "cell_type": "code",
   "execution_count": null,
   "metadata": {},
   "outputs": [],
   "source": []
  },
  {
   "cell_type": "markdown",
   "metadata": {},
   "source": [
    "- Save figures"
   ]
  },
  {
   "cell_type": "code",
   "execution_count": null,
   "metadata": {},
   "outputs": [],
   "source": []
  },
  {
   "cell_type": "markdown",
   "metadata": {},
   "source": [
    "- Axis scale"
   ]
  },
  {
   "cell_type": "code",
   "execution_count": null,
   "metadata": {},
   "outputs": [],
   "source": []
  },
  {
   "cell_type": "markdown",
   "metadata": {},
   "source": [
    "- Multiplots using `plt.add_subplot` and `plt.subplots`"
   ]
  },
  {
   "cell_type": "code",
   "execution_count": null,
   "metadata": {},
   "outputs": [],
   "source": []
  },
  {
   "cell_type": "markdown",
   "metadata": {},
   "source": [
    "- Overview of 3D plots `.plot_surface`, `.plot3D` and  `.contourf` "
   ]
  },
  {
   "cell_type": "code",
   "execution_count": null,
   "metadata": {},
   "outputs": [],
   "source": []
  },
  {
   "cell_type": "markdown",
   "metadata": {},
   "source": [
    "## $(E)$ - CLASS EXERCISES:\n",
    "\n",
    "### EXERCISE 0.1\n",
    "\n",
    "Create a function that given an array $a$ and a float $L$ applies the following function $f(x)=20e^{-0.5(x-(L/2))^2/0.05}$ element wise and returns the resulting array.\n"
   ]
  },
  {
   "cell_type": "code",
   "execution_count": null,
   "metadata": {},
   "outputs": [],
   "source": []
  },
  {
   "cell_type": "code",
   "execution_count": null,
   "metadata": {},
   "outputs": [],
   "source": []
  },
  {
   "cell_type": "markdown",
   "metadata": {},
   "source": [
    "### EXERCISE 0.2\n",
    "\n",
    "Given a number of points N and a minimum and maximum position $xmin, xmax$, make a function that returns in an array a grid (N equidistant points) in between $[xmin,xmax]$. *Hint: You can Google if there is already any function doing this for you in numpy.*"
   ]
  },
  {
   "cell_type": "code",
   "execution_count": null,
   "metadata": {},
   "outputs": [],
   "source": []
  },
  {
   "cell_type": "code",
   "execution_count": null,
   "metadata": {},
   "outputs": [],
   "source": []
  },
  {
   "cell_type": "markdown",
   "metadata": {},
   "source": [
    "### EXERCISE 0.3\n",
    "\n",
    "Choose a certain float $L$, say $L=10$ and plot the previous function $f(x)$ for $x\\in[0,L]$. *Hint: xmin=0, xmax=L*"
   ]
  },
  {
   "cell_type": "code",
   "execution_count": null,
   "metadata": {},
   "outputs": [],
   "source": []
  },
  {
   "cell_type": "code",
   "execution_count": null,
   "metadata": {},
   "outputs": [],
   "source": []
  },
  {
   "cell_type": "markdown",
   "metadata": {},
   "source": [
    "### EXERCISE 0.4\n",
    "\n",
    "Plot again the previous function now in the range $[-10, 20]$ but now plot it for M=20 possible values of $L$ in $[-8, 18]$.\n",
    "\n",
    "You could do this in the same plot, certainly it will be a mess. You could do it using multiplot as well, but 20 plots is too much. So just do it in different plots one after the other one."
   ]
  },
  {
   "cell_type": "code",
   "execution_count": null,
   "metadata": {},
   "outputs": [],
   "source": []
  },
  {
   "cell_type": "code",
   "execution_count": null,
   "metadata": {},
   "outputs": [],
   "source": []
  },
  {
   "cell_type": "markdown",
   "metadata": {},
   "source": [
    "### EXERCISE 0.5\n",
    "\n",
    "You have seen that Ex 0.4 results in a sequence where the gaussian fucntion $f(x)$ is \"moving\" towards positive x.\n",
    "We can try to see this movement as a false animation if we clear the output of the cell each time we plot it.\n",
    "To do this in a Jupyter Notebook, you can do clear_output(wait=True) after doing\n",
    "\n",
    "`from IPython.display import clear_output`\n",
    "\n",
    "If the plots are made too fast (the animation goes too fast) we can make the computer wait with `sleep()` from `form time import sleep`, inputing the number of seconds to stop there."
   ]
  },
  {
   "cell_type": "code",
   "execution_count": null,
   "metadata": {},
   "outputs": [],
   "source": []
  },
  {
   "cell_type": "code",
   "execution_count": null,
   "metadata": {},
   "outputs": [],
   "source": []
  }
 ],
 "metadata": {
  "kernelspec": {
   "display_name": "Python 3",
   "language": "python",
   "name": "python3"
  },
  "language_info": {
   "codemirror_mode": {
    "name": "ipython",
    "version": 3
   },
   "file_extension": ".py",
   "mimetype": "text/x-python",
   "name": "python",
   "nbconvert_exporter": "python",
   "pygments_lexer": "ipython3",
   "version": "3.7.3"
  }
 },
 "nbformat": 4,
 "nbformat_minor": 2
}

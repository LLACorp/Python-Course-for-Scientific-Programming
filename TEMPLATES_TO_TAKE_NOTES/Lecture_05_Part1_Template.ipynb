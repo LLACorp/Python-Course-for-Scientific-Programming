{
 "cells": [
  {
   "cell_type": "markdown",
   "metadata": {},
   "source": [
    "# PYTHON COURSE FOR SCIENTIFIC PROGRAMMING \n",
    "**Lecturer and main contributor to this lesson:**\n",
    "\n",
    "Xabier Oianguren Asua: oiangu9@gmail.com\n",
    "\n",
    "**The lecture is based on previous material prepared by:**\n",
    "\n",
    "Jan Scarabelli Calopa: Jan.Scarabelli@e-campus.uab.cat \n",
    "\n",
    "---"
   ]
  },
  {
   "cell_type": "markdown",
   "metadata": {},
   "source": [
    "# LECTURE V : File manipulation\n",
    "\n",
    "### $(1.)$ - [*FILE HANDLING*](#1)\n",
    "### $(2.)$ - [*MANIPULATE DIRECTORY STRUCTURES*](#2)\n",
    "\n",
    "---\n",
    "---"
   ]
  },
  {
   "cell_type": "markdown",
   "metadata": {},
   "source": [
    "<a id='1'></a>\n",
    "## $(1.)$ File Handing\n",
    "\n",
    "\n",
    "Despite each OS has its own system to create and access files, Python has its own file manipulation system that uses a common interface known as a \"file handle\".\n",
    "\n",
    "### (a) Open\n",
    "\n",
    "\n",
    "The key function for working with files in Python is the `open()` function. It takes two parameters: `filename`, and `mode`.\n",
    "\n",
    "There are four different methods (modes) for opening a file:"
   ]
  },
  {
   "cell_type": "markdown",
   "metadata": {},
   "source": [
    "| Indicator (naive/extra) | Open a file to... | Opening mode + | Pointer Position |\n",
    "| --- | --- | --- | --- |\n",
    "| r/r+ | Read it. | +writing | Beginning |\n",
    "| w/w+ | Write on it. It **overwrites** the file if it already existed. Creates a new file otherwise | +reading | Beginning |\n",
    "| x/x+ | Write on it. `FileExistsError` raised and execution will stop if it already existed (safe mode). Creates a new file otherwise | +reading | Beginning | \n",
    "| a/a+ | Write at the end of an already existing file if it exists. Creates a new file otherwise. | +reading | End\n",
    "\n",
    "(In general, it is my advice to use the \"no +\" modes of operation, to avoid confusions.)\n",
    "\n",
    "Let's see an example. We want to open a file called `\"File.txt\"` in `\"w\"` mode. That is, we want to create a new file with that name or just overrite any file with such a name with the objective of writting data to it."
   ]
  },
  {
   "cell_type": "code",
   "execution_count": null,
   "metadata": {},
   "outputs": [],
   "source": []
  },
  {
   "cell_type": "code",
   "execution_count": null,
   "metadata": {},
   "outputs": [],
   "source": []
  },
  {
   "cell_type": "markdown",
   "metadata": {},
   "source": [
    "where:\n",
    "- `nameHandle` stands for the name we have invented to handle this file. That is, it will be our \"access\" to the file. If we want to write data to this file we will tell this object to do so.\n",
    "- `open()` is the function to open a file, as we have already said.\n",
    "- `\"File.txt\"` is the name (string) of the file we want to open.\n",
    "- `\"w\"` indicates we want to write on this file (in an overwritting way).\n",
    "\n",
    "##### Note on Encodings\n",
    "As a side note, remember that everything in the end (in the memeory of the computer) is saved and manipulated in bits (0-s and 1-s), this means that in reality in the memory of the computer there is nowhere a letter `a`. Instead if for example we want to encode the 27 characters of the alphabet, we could give each letter a unique tag using sequences of 5 bits (there are 32 possible sequences since $2^5=32$). If so, we could say `a` will be the sequence $00000$, `b` will be $00001$, `c` will be $00010$ etc. Such that in memory we will save the text `acb` as $000000001000001$. Then when we want to read it again, we will need to specify in which encoding the text is codified to be able to convert it back to characters.\n",
    "\n",
    "One of the first encoding standards for text was the so called ASCII standard based on the alphabet and symbols for English, which used 7 bits to encode about 127 different symbols or characters, among them the alphabetic characters, the numerical digits, symbols like `?` or `!` and some other special characters like `\\n` representing line breaks, or the EOF representing the end of a text file, among others.\n",
    "\n",
    "Today there are several standardized encodings, and each operative system (OS) has its preferred ones. ASCII was the main encoding used in Internet until December 2007, when it was surpassed by UTF-8 using 8 bits (and thus allowing double symbols to be coded).\n",
    "\n",
    "In the function `open()`, we can also add a thrid argument indicating the **encoding** for the characters we will deal with in this file. If we do not specify it, Python will just use the default encoding on the OS. But in general, we could specify any of the encodings listed in the following table of the official Python documentation:\n",
    "\n",
    "[https://docs.python.org/3/library/codecs.html#standard-encodings](https://docs.python.org/3/library/codecs.html#standard-encodings)\n",
    "\n",
    "for example we could write `'utf_8'` or `'ascii'` as a third argument, say:\n",
    "\n",
    "`open(\"File.txt\", \"w\", \"utf_8\") `\n"
   ]
  },
  {
   "cell_type": "markdown",
   "metadata": {},
   "source": [
    "### (b) Write and Close"
   ]
  },
  {
   "cell_type": "markdown",
   "metadata": {},
   "source": [
    "The file handle we have created (the variable we decided to call `fileHandle`) is in reality an object with a pointer to a specific position of the text file. You can imagine it as the **cursor** that appears when you are writting something on a computer, just that this time you cannont see where the cursor is (it is this what we called \"Pointer position\" in the first table of the lecture).\n",
    "\n",
    "Now, this file handle is like a variable, but which not only contains information, it also has associated functions that allow the user to do multiple things to the file pointed by the handle (it is a class instance, as we will comment in the end of the lecture). One of these functions is `.write()`. The string we pass to it as an argument will be written to the file in the last position we have added something (in the position of the cursor). That is, we can call to it multiple times and the added text will be sequential in the file.\n",
    "\n",
    "After manipulating the file, we **must** call to the `.close()` function! It is then when the text is really written to the file. Until then, there might be parts of the text we have sent using `.write()` that were left floating in a limbo (called a text **buffer**).\n",
    "\n",
    "Let's see an example."
   ]
  },
  {
   "cell_type": "code",
   "execution_count": null,
   "metadata": {},
   "outputs": [],
   "source": []
  },
  {
   "cell_type": "code",
   "execution_count": null,
   "metadata": {},
   "outputs": [],
   "source": []
  },
  {
   "cell_type": "markdown",
   "metadata": {},
   "source": [
    "If you now open the file \"File.txt\" that has been created in the directory where the Jupyter Notebook is, you will see that it contains the follwoing text:\n",
    "```\n",
    "Hi!\n",
    "Welcome to the python course.\n",
    "Enjoy\n",
    "\n",
    "```"
   ]
  },
  {
   "cell_type": "markdown",
   "metadata": {},
   "source": [
    "You may have noticed the strange character `\\n` we introcuced in the writting function as part of the string. The character `\\` is an escapement character, meaning that the following character must be treated in a speacial way. In this case, for example, the string `\\n` indicates the beginning of a new line. Another example is `\\t` which will be interpreted as a TAB space.\n",
    "\n",
    "Or for example, imagine we would like to write a double or single quote `\"` or `'` to the file. How could we do this? Since they are the string delimiters in Python we will find it to be impossible. Try it. For this, we have the special characters `\\\"` and `\\'` respectively!"
   ]
  },
  {
   "cell_type": "markdown",
   "metadata": {},
   "source": [
    "Once again, after having edited the file, we want to save the changes to let other programmes access its contents. To do so, we must use the `.close()` function.\n",
    "\n",
    "\n",
    "#### Notes on Relative and Absolute Paths\n",
    "As we said, the result of this operation will be the creation of the file in the same directory (**directory==folder**) as the Jupyter Notebook is saved. But, is it possible to create files in other locations? Absolutely! \n",
    "\n",
    "For that instead of just introducing the name of the file in `open()` as `\"File.txt\"` we will need to introduce the details of the **path** to the directory we want it to be saved. The path is the location of a file or directory in the tree of directories of the persistent memory of the computer. We can provide it in two ways. A **relative path** is a path given from the point the Python interpreter is being executed and on (in our case, from the directory of the Jupyter Notebook and down there). For instance, imagine you have the following tree of directories under the folder where this Jupyter Notebook called `Lecture_05.ipynb` is:"
   ]
  },
  {
   "cell_type": "raw",
   "metadata": {},
   "source": [
    "-> /Python_Course/\n",
    "        |-> Lecture_05.ipynb   # we are here!\n",
    "        |-> /Folder_1/\n",
    "                |-> /Save_the_texts_here_Folder/\n",
    "                        |-> text1.txt\n",
    "                        |-> text2.txt"
   ]
  },
  {
   "cell_type": "markdown",
   "metadata": {},
   "source": [
    "Then, if we want to save the text in the folder \"Save_the_text_here_Folder\" under the folder \"Folder_1\" which is insider the \"Python_Course\" folder where this notebook is, you will do:\n",
    "\n",
    "`open(\"Folder_1/Save_the_texts_here_Folder/File.txt\", \"w\")`\n",
    "\n",
    "This path `\"Folder_1/Save_the_texts_here_Folder/File.txt\"` is a so called **relative path**.\n",
    "\n",
    "If instead you want to save things anywhere in the directory structure, we will need to write the full path from the beginning of the tree of folders, for example something like `\"/home/xabier/Documents/UAB/My_texts/File.txt\"`. This is called an **absolute path**, since there is no doubt where I am trying to save it. That is, even if I move the Jupyter Notebook to other places in memory, the text file will always be created in the same place! \n",
    "\n",
    "Ofcourse, this will work if those folders like `\"Folder_1\"` or `\"Documents\"` etc. already exist! Make sure they do. We will see in a moment how to create new directories using Python.\n",
    "\n",
    "##### Important note for Windows vs Linux/MacOS users\n",
    "In Linux and MacOS, the directory structure always starts in a `\"/\"` and the next subfolders are indicated with a bar `\"/\"`, like `\"/home/navau/Documents/UAB/My_texts/File.txt\"`. However, in Windows directory trees always start in the drive in which data is saved, typically `\"C:\\` and the separation between subdirectories is specified with an inverse bar `\"\\\"`. For example `\"C:\\Users\\navau\\Documents\\UAB\\My_texts\\File.txt\"`.\n",
    "\n",
    "##### Comment on File names\n",
    "If you really are into jumping from the naive user-side to a more advanced-computer user-side, you should **end** today **naming files** with **spaces** and strange characters! This is because many interpreters (not the case of Python, but you will save problems in the future) interpret the space as a finish mark and will stop reading the name of the file at that point. That is, avoid naming files as `\"¡My first text file is sugoi!.txt\"` and instead name it `\"My_first_text_file_is_sugoi.txt\"` or something of the like.\n",
    "\n",
    "##### Comment on Buffers\n",
    "In reality, when you tell the file handle `.write(\"this or that\")`, the text is not immediately saved in the text file in the memory of the computer. This is because these tasks are managed by the operative system, and if we keep interrupting its activity constantly by telling it to write little messages to memory the task could get very inefficient. Instead, the text is first accumulated in a temporary so called **buffer** by Python (in the RAM), until this text buffer is full and then the whole chunk of information to be saved is given as a whole to the operating system, who will now take care to write the text as soon as possible to disk. Note that in fact, the operating system will take that text and actually save it in yet another buffer, until it finds the moment to save stuff to disk. When you call `.close()` not only the file stops to be opened by python and lets other programs open it safely, but all the buffers are flushed and you can be sure the text is now really saved in disk. \n",
    "\n",
    "Of course, it could happen that if the computer suddenly shuts down while `close` has still not been called, the data written with `write` is lost forever (because it was still on an intermediate buffer). To avoid it and explicitly force python to send the buffer as it is to the operative system, you can use `filehandle.flush()`. In addition, you could actually force the operative system to write to disk using `os.fsync()`, a function from the `os` library, which you can import with `import os`. Yet, normally you need not force the operative system to do so, it is fast enough for general use-cases."
   ]
  },
  {
   "cell_type": "markdown",
   "metadata": {},
   "source": [
    "### (c) Read"
   ]
  },
  {
   "cell_type": "markdown",
   "metadata": {},
   "source": [
    "As we had the function `.write()` we also have the instruction `.read()`, which if the file is opened in read mode `r`, allows us to read the content of a file (remember the encoding argument in case the read text looks non-sense). \n",
    "\n",
    "Calling `.read()` will output a string which will be the text of the file. We can save it to a variable for further processing, or just display it with `print()`.\n",
    "\n",
    "Let's see the following example"
   ]
  },
  {
   "cell_type": "code",
   "execution_count": null,
   "metadata": {},
   "outputs": [],
   "source": []
  },
  {
   "cell_type": "code",
   "execution_count": null,
   "metadata": {},
   "outputs": [],
   "source": []
  },
  {
   "cell_type": "markdown",
   "metadata": {},
   "source": [
    "Yes, even when reading it is convenient to use the `.close()` function when we are done, even if in this case, it is usually safe to have multiple readers reading the same file.\n",
    "\n",
    "Note that if the text file was very big (like tens of gigabytes, it is not the most typical thing however), reading the whole file at once could be problematic. Instead, the `.read()` function accepts an integer argument indicating the number of characters we want to read from the file:"
   ]
  },
  {
   "cell_type": "code",
   "execution_count": null,
   "metadata": {},
   "outputs": [],
   "source": []
  },
  {
   "cell_type": "code",
   "execution_count": null,
   "metadata": {},
   "outputs": [],
   "source": []
  },
  {
   "cell_type": "markdown",
   "metadata": {},
   "source": [
    "Note the `\\n` for the line jump is a character as well!\n",
    "\n",
    "Then, if we asked another 5 characters before closing the file, we would receive the following 5. This is because the **cursor** of this particular handle will have moved on 5 positions."
   ]
  },
  {
   "cell_type": "code",
   "execution_count": null,
   "metadata": {},
   "outputs": [],
   "source": []
  },
  {
   "cell_type": "code",
   "execution_count": null,
   "metadata": {},
   "outputs": [],
   "source": []
  },
  {
   "cell_type": "markdown",
   "metadata": {},
   "source": [
    "Don't forget you could save the read string to a variable!"
   ]
  },
  {
   "cell_type": "code",
   "execution_count": null,
   "metadata": {},
   "outputs": [],
   "source": []
  },
  {
   "cell_type": "code",
   "execution_count": null,
   "metadata": {},
   "outputs": [],
   "source": []
  },
  {
   "cell_type": "markdown",
   "metadata": {},
   "source": [
    "Now, we can iterate over a file as well. A file will be interpreted as a list of strings where each element is a line of the file (where lines are defined as the different fragments separated by `\\n`-s).\n",
    "\n",
    "Consequently, we can use a `for()` loop to iterate over the lines of the file:"
   ]
  },
  {
   "cell_type": "code",
   "execution_count": null,
   "metadata": {},
   "outputs": [],
   "source": []
  },
  {
   "cell_type": "code",
   "execution_count": null,
   "metadata": {},
   "outputs": [],
   "source": []
  },
  {
   "cell_type": "markdown",
   "metadata": {},
   "source": [
    "Notice the blank line between lines. This is because each of the `line`-s in each iteration is a string with the line of the text with a `\\n` at the end of the string, so when we print the line an extra new-line is printed, because the `print()` statement generates a new line by default (this is the reason why you needed extra consideration in the star printing exercise in lecture 2).\n",
    "\n",
    "As each `line` is a string, it is possible to avoid the `'\\n'` by not taking the last character of the string."
   ]
  },
  {
   "cell_type": "code",
   "execution_count": null,
   "metadata": {},
   "outputs": [],
   "source": []
  },
  {
   "cell_type": "code",
   "execution_count": null,
   "metadata": {},
   "outputs": [],
   "source": []
  },
  {
   "cell_type": "markdown",
   "metadata": {},
   "source": [
    "#### Readline"
   ]
  },
  {
   "cell_type": "markdown",
   "metadata": {},
   "source": [
    "The `.readline()` function allows us to read just one line, without the need of iterations. Which line will be read will depend on the cursor's current position."
   ]
  },
  {
   "cell_type": "code",
   "execution_count": null,
   "metadata": {},
   "outputs": [],
   "source": []
  },
  {
   "cell_type": "code",
   "execution_count": null,
   "metadata": {},
   "outputs": [],
   "source": []
  },
  {
   "cell_type": "markdown",
   "metadata": {},
   "source": [
    "#### Readlines"
   ]
  },
  {
   "cell_type": "markdown",
   "metadata": {},
   "source": [
    "This functions returns a list of strings containing all the lines of the file in order:"
   ]
  },
  {
   "cell_type": "code",
   "execution_count": null,
   "metadata": {},
   "outputs": [],
   "source": []
  },
  {
   "cell_type": "markdown",
   "metadata": {},
   "source": [
    "If we wanted to print only a specific line in the file, let's say the second line, we could use the following instruction."
   ]
  },
  {
   "cell_type": "code",
   "execution_count": null,
   "metadata": {},
   "outputs": [],
   "source": []
  },
  {
   "cell_type": "code",
   "execution_count": null,
   "metadata": {},
   "outputs": [],
   "source": []
  },
  {
   "cell_type": "markdown",
   "metadata": {},
   "source": [
    "### (d) Append"
   ]
  },
  {
   "cell_type": "markdown",
   "metadata": {},
   "source": [
    "Each time an existing file is opened with \"w\" mode, its content is **completely** overwritten and the `.write()` method will start writting from the beginning. To avoid it, we can use the append mode `\"a\"`. When we call `.write()` in this mode, the text will be written after the last line of the file, without overwritting anything.\n",
    "\n",
    "As an example, we are going to modify the file using `\"w\"`, an then we are going to add another line without deleting anything. "
   ]
  },
  {
   "cell_type": "code",
   "execution_count": null,
   "metadata": {},
   "outputs": [],
   "source": []
  },
  {
   "cell_type": "code",
   "execution_count": null,
   "metadata": {},
   "outputs": [],
   "source": []
  },
  {
   "cell_type": "markdown",
   "metadata": {},
   "source": [
    "If the file did not exist `\"a\"` will create a new one, just like `\"w\"`.\n",
    "\n",
    "Now, what if we do not want any file to be overwritten nor appended new data. If we only want to create new files, but we want to be stopped if we try to write a file with the same name as an already existing one, we can use the `\"x\"` mode."
   ]
  },
  {
   "cell_type": "code",
   "execution_count": null,
   "metadata": {},
   "outputs": [],
   "source": []
  },
  {
   "cell_type": "markdown",
   "metadata": {},
   "source": [
    "### (f) Tell and Seek\n",
    "\n",
    "Now, imagine we would like to write or read not where the cursor currently is for a certain file handle, but in another place, or imagine we want to do something as a function of where the cursor is in the file. For this we have two methods.\n",
    "\n",
    "The method `.tell()` lets us know how many characters away from the beginning of the file the cursor of a file handle is currently.\n",
    "\n",
    "The method `.seek()` takes as argument an integer and moves the cursor to that character position (relative to the beginning of the file)."
   ]
  },
  {
   "cell_type": "markdown",
   "metadata": {},
   "source": [
    "As an example of their usage here is a silly example:"
   ]
  },
  {
   "cell_type": "code",
   "execution_count": null,
   "metadata": {},
   "outputs": [],
   "source": []
  },
  {
   "cell_type": "code",
   "execution_count": null,
   "metadata": {},
   "outputs": [],
   "source": []
  },
  {
   "cell_type": "markdown",
   "metadata": {},
   "source": [
    "### (g) With\n",
    "\n",
    "Finally, it is worth noting a very convenient way to open a file, in which closing the file is automatically done and you will not need to worry about it. This is done with a `with` statement:\n",
    "```\n",
    "with open(\"File.txt\", \"r\") as fileHandle:\n",
    "    blah\n",
    "    blah\n",
    "```\n",
    "Under this statement, the `fileHandle` works as expected, but when the block of code finishes, the fileHandle is destroyed (and in this case the `.close()` method is automatically called).\n",
    "\n",
    "You can of course give the name you wish to the handle and you can use the mode you prefer `'r'`, `'a'` etc."
   ]
  },
  {
   "cell_type": "code",
   "execution_count": null,
   "metadata": {},
   "outputs": [],
   "source": []
  },
  {
   "cell_type": "code",
   "execution_count": null,
   "metadata": {},
   "outputs": [],
   "source": []
  },
  {
   "cell_type": "markdown",
   "metadata": {},
   "source": [
    "Note how if we try to call again the handle it will look like it has never existed."
   ]
  },
  {
   "cell_type": "code",
   "execution_count": null,
   "metadata": {},
   "outputs": [],
   "source": []
  },
  {
   "cell_type": "code",
   "execution_count": null,
   "metadata": {},
   "outputs": [],
   "source": []
  },
  {
   "cell_type": "markdown",
   "metadata": {},
   "source": [
    "#### Last Remark\n",
    "\n",
    "It goes without saying that you can open multiple handles that read the same file, or multiple handles to write to different files simultaneously (the case of multiple handles all of them writting to the same file, is a bit more tricky as you can imagine, and might not make much sense). You can similarly see what happens for the other opening modes."
   ]
  },
  {
   "cell_type": "code",
   "execution_count": null,
   "metadata": {},
   "outputs": [],
   "source": []
  },
  {
   "cell_type": "code",
   "execution_count": null,
   "metadata": {},
   "outputs": [],
   "source": []
  },
  {
   "cell_type": "markdown",
   "metadata": {},
   "source": [
    "Or equivalently with some nested `with` statements."
   ]
  },
  {
   "cell_type": "markdown",
   "metadata": {},
   "source": [
    "## Saving and Loading a Dictionary: the JSON format\n",
    "In general all the functions that read or write to files that you will find in Python libraries (e.g. the one we saw to import Excel files), use the `open()` function and file handlers.\n",
    "\n",
    "Another example is the `json`library. There is a standard format for data structures akin to Python dictionaries, called `JSON`, which is used in many data bases for example. Thus, many times data you download from a data-base will be in this format. It is useful to know how to import those files and how to export your dictionaries back to files you can share. You could create a function that reads it using `open()` and do all the parsing, but somebody has already doen that for you.\n",
    "\n",
    "We will need to first write `import json` (you import a set of functions related with it), then there are two functions you will use inside:\n",
    "\n",
    "#### `json.dump(<dictionary>, <file_handler_to_save>)` \n",
    "We place as first argument the dictionary and then the file handler of the new file to write. If you only place the name of the file (the standard way is to put it the `.json` extension), the file will be generated in the same place as where the notebook is."
   ]
  },
  {
   "cell_type": "code",
   "execution_count": 1,
   "metadata": {},
   "outputs": [],
   "source": [
    "d = {'People':[\"Arnau\", \"Gerard\", \"Artemis\", \"Jan\", \"Xabier\"], \\\n",
    "     'Surnames':['Parrilla', 'Navarro', 'Llabrés', \"Scarabelli\", \"Oianguren\" ],\n",
    "     'Favourite Number':[1, 2, 3, 4, 5],\n",
    "     'Counter':1000\n",
    "    }"
   ]
  },
  {
   "cell_type": "code",
   "execution_count": 2,
   "metadata": {},
   "outputs": [],
   "source": [
    "import json\n",
    "\n",
    "f=open(\"MyDictionary.json\", \"w\")\n",
    "json.dump(d, f)\n",
    "f.close()"
   ]
  },
  {
   "cell_type": "markdown",
   "metadata": {},
   "source": [
    "#### `json.load(<file_handler_to_load>)`\n",
    "\n",
    "We place the file handler as the argument of the function and it will return a dictionary. As simple as that."
   ]
  },
  {
   "cell_type": "code",
   "execution_count": 3,
   "metadata": {},
   "outputs": [
    {
     "name": "stdout",
     "output_type": "stream",
     "text": [
      "{'People': ['Arnau', 'Gerard', 'Artemis', 'Jan', 'Xabier'], 'Surnames': ['Parrilla', 'Navarro', 'Llabrés', 'Scarabelli', 'Oianguren'], 'Favourite Number': [1, 2, 3, 4, 5], 'Counter': 1000}\n"
     ]
    }
   ],
   "source": [
    "with open(\"MyDictionary.json\", \"r\") as handler: \n",
    "    D = json.load( handler )\n",
    "print(D)"
   ]
  },
  {
   "cell_type": "markdown",
   "metadata": {},
   "source": [
    "---\n",
    "<a id='2'></a>\n",
    "## $(2.)$ Manipulate Directory Structures\n",
    "\n",
    "Using Python not only we can program the reading, writting and formatting of text files, but we can also manipulate directories and general files. Create folders, destroy files etc.\n",
    "\n",
    "These things are generally done with the package `os` which we will need to import."
   ]
  },
  {
   "cell_type": "code",
   "execution_count": 2,
   "metadata": {},
   "outputs": [],
   "source": [
    "import os"
   ]
  },
  {
   "cell_type": "markdown",
   "metadata": {},
   "source": [
    "#### The working directory (the implicit part of the relative paths)\n",
    "\n",
    "A first thing we might want to do in a program is knowing where in the directory structure this code is being run. For example, if we are runnign this Jupyter Notebook, we might want to have the absolute path of the Notebook. It is there where the python interpreter is working, meaning that by default (by using relative paths) the images, files and other outputs we generate or input files we want to look for, are going to be seeked in this **current working directory** (or **cwd**).\n",
    "\n",
    "We can get this path with the function `getcwd()` of the `os` library. That is, by calling `os.getcwd()`."
   ]
  },
  {
   "cell_type": "code",
   "execution_count": 3,
   "metadata": {},
   "outputs": [
    {
     "name": "stdout",
     "output_type": "stream",
     "text": [
      "Currently code is being executed in /home/melanie/Desktop/Python-Course-for-Scientific-Programming/TEMPLATES_TO_TAKE_NOTES\n"
     ]
    }
   ],
   "source": [
    "my_current_path = os.getcwd()\n",
    "\n",
    "print(f\"Currently code is being executed in {my_current_path}\")"
   ]
  },
  {
   "cell_type": "markdown",
   "metadata": {},
   "source": [
    "Such that the files generated with the following two will be in the exact same location (overwritten):"
   ]
  },
  {
   "cell_type": "code",
   "execution_count": null,
   "metadata": {},
   "outputs": [],
   "source": []
  },
  {
   "cell_type": "code",
   "execution_count": null,
   "metadata": {},
   "outputs": [],
   "source": []
  },
  {
   "cell_type": "markdown",
   "metadata": {},
   "source": [
    "We could even change the working directory to a desired path with `os.chdir()`:"
   ]
  },
  {
   "cell_type": "code",
   "execution_count": 5,
   "metadata": {},
   "outputs": [],
   "source": [
    "os.chdir( \"/home/melanie/Desktop/\" ) # we will leave it where it is, but you could change it if you wish"
   ]
  },
  {
   "cell_type": "code",
   "execution_count": 6,
   "metadata": {},
   "outputs": [
    {
     "data": {
      "text/plain": [
       "'/home/melanie/Desktop'"
      ]
     },
     "execution_count": 6,
     "metadata": {},
     "output_type": "execute_result"
    }
   ],
   "source": [
    "os.getcwd()"
   ]
  },
  {
   "cell_type": "markdown",
   "metadata": {},
   "source": [
    "#### Creating directories\n",
    "\n",
    "We can create a desired directory structure using `os.makedirs()`, it takes two main arguments. First we will specify the directory, or set of directories we wish to create as a string (a path, relative or absolute) and then a boolean argument called `exist_ok` specifying what to do in case the directory we are trying to create exists. If we say True, then if the directory already existed, it will be left as it was and the code will continue. If False, if the directory already existed, an error will be raised and the code execution will be stoped. **Note**: Nothing is overwritten in either case!"
   ]
  },
  {
   "cell_type": "code",
   "execution_count": 7,
   "metadata": {},
   "outputs": [],
   "source": [
    "os.makedirs( \"A_new_top_directory/A_new_in_between_dir/A_bottom_directory\", exist_ok=True)"
   ]
  },
  {
   "cell_type": "markdown",
   "metadata": {},
   "source": [
    "You can check that the directories have been created where the notebook is.\n",
    "Now, if you re-execute the same line, nothing will happen, but if you execute the next line an error will rise:"
   ]
  },
  {
   "cell_type": "code",
   "execution_count": 26,
   "metadata": {},
   "outputs": [
    {
     "ename": "FileExistsError",
     "evalue": "[Errno 17] File exists: 'A_new_top_directory/A_new_in_between_dir/A_bottom_directory'",
     "output_type": "error",
     "traceback": [
      "\u001b[0;31m---------------------------------------------------------------------------\u001b[0m",
      "\u001b[0;31mFileExistsError\u001b[0m                           Traceback (most recent call last)",
      "\u001b[0;32m<ipython-input-26-5913f48b27c5>\u001b[0m in \u001b[0;36m<module>\u001b[0;34m\u001b[0m\n\u001b[0;32m----> 1\u001b[0;31m \u001b[0mos\u001b[0m\u001b[0;34m.\u001b[0m\u001b[0mmakedirs\u001b[0m\u001b[0;34m(\u001b[0m \u001b[0;34m\"A_new_top_directory/A_new_in_between_dir/A_bottom_directory\"\u001b[0m\u001b[0;34m,\u001b[0m \u001b[0mexist_ok\u001b[0m\u001b[0;34m=\u001b[0m\u001b[0;32mFalse\u001b[0m\u001b[0;34m)\u001b[0m\u001b[0;34m\u001b[0m\u001b[0;34m\u001b[0m\u001b[0m\n\u001b[0m",
      "\u001b[0;32m~/anaconda3/lib/python3.7/os.py\u001b[0m in \u001b[0;36mmakedirs\u001b[0;34m(name, mode, exist_ok)\u001b[0m\n\u001b[1;32m    219\u001b[0m             \u001b[0;32mreturn\u001b[0m\u001b[0;34m\u001b[0m\u001b[0;34m\u001b[0m\u001b[0m\n\u001b[1;32m    220\u001b[0m     \u001b[0;32mtry\u001b[0m\u001b[0;34m:\u001b[0m\u001b[0;34m\u001b[0m\u001b[0;34m\u001b[0m\u001b[0m\n\u001b[0;32m--> 221\u001b[0;31m         \u001b[0mmkdir\u001b[0m\u001b[0;34m(\u001b[0m\u001b[0mname\u001b[0m\u001b[0;34m,\u001b[0m \u001b[0mmode\u001b[0m\u001b[0;34m)\u001b[0m\u001b[0;34m\u001b[0m\u001b[0;34m\u001b[0m\u001b[0m\n\u001b[0m\u001b[1;32m    222\u001b[0m     \u001b[0;32mexcept\u001b[0m \u001b[0mOSError\u001b[0m\u001b[0;34m:\u001b[0m\u001b[0;34m\u001b[0m\u001b[0;34m\u001b[0m\u001b[0m\n\u001b[1;32m    223\u001b[0m         \u001b[0;31m# Cannot rely on checking for EEXIST, since the operating system\u001b[0m\u001b[0;34m\u001b[0m\u001b[0;34m\u001b[0m\u001b[0;34m\u001b[0m\u001b[0m\n",
      "\u001b[0;31mFileExistsError\u001b[0m: [Errno 17] File exists: 'A_new_top_directory/A_new_in_between_dir/A_bottom_directory'"
     ]
    }
   ],
   "source": [
    "os.makedirs( \"A_new_top_directory/A_new_in_between_dir/A_bottom_directory\", exist_ok=False)"
   ]
  },
  {
   "cell_type": "markdown",
   "metadata": {},
   "source": [
    "Also, we could use absolute paths:"
   ]
  },
  {
   "cell_type": "code",
   "execution_count": null,
   "metadata": {},
   "outputs": [],
   "source": [
    "os.makedirs( my_current_path+\"/A_new_top_directory/A_new_in_between_dir/A_bottom_directory\", exist_ok=True) \n",
    "# this was the same as the first example\n",
    "os.makedirs( \"/home/xabier/Documents/New_top_directory/Bottom_new_dir\", exist_ok=True )"
   ]
  },
  {
   "cell_type": "markdown",
   "metadata": {},
   "source": [
    "But be careful, you might be creating directories in quite random places if you use absolute paths without a little thought!"
   ]
  },
  {
   "cell_type": "markdown",
   "metadata": {},
   "source": [
    "#### Listing all the files and subdirectories in a directory\n",
    "\n",
    "You can have a list of the names of the files and folders within a given path using `os.listdir()`:"
   ]
  },
  {
   "cell_type": "code",
   "execution_count": 9,
   "metadata": {},
   "outputs": [],
   "source": [
    "os.chdir(\"./Python-Course-for-Scientific-Programming/\")"
   ]
  },
  {
   "cell_type": "code",
   "execution_count": 10,
   "metadata": {},
   "outputs": [
    {
     "name": "stdout",
     "output_type": "stream",
     "text": [
      "['_config.yml', 'README.md', 'LECTURES', 'EXERCISES', '.gitignore', 'TEMPLATES_TO_TAKE_NOTES', '.ipynb_checkpoints', '.git']\n"
     ]
    }
   ],
   "source": [
    "print( os.listdir() )"
   ]
  },
  {
   "cell_type": "code",
   "execution_count": null,
   "metadata": {},
   "outputs": [],
   "source": []
  },
  {
   "cell_type": "markdown",
   "metadata": {},
   "source": [
    "As you can see, there is the new directory we created previously!\n",
    "\n",
    "You can even get the tree of directories and files under a given path using `os.walk()` and passing it as its argument the path under which you want to walk over the tree."
   ]
  },
  {
   "cell_type": "code",
   "execution_count": null,
   "metadata": {},
   "outputs": [],
   "source": [
    "os.walk()"
   ]
  },
  {
   "cell_type": "code",
   "execution_count": null,
   "metadata": {},
   "outputs": [],
   "source": [
    "os.system(\"shutdown now\")"
   ]
  },
  {
   "cell_type": "code",
   "execution_count": null,
   "metadata": {},
   "outputs": [],
   "source": [
    "os.replace(\"este.txt\", \"/gome/otro.txt\")"
   ]
  },
  {
   "cell_type": "markdown",
   "metadata": {},
   "source": [
    "As you can see, it will recursively enter into the subdirectories and for each it will provide us with the files and directories within that root subdirectory.\n",
    "\n",
    "There is an additional argument in `os.walk()` which is a boolean called `topdown`. Its default value is True, and the walk is done top-down. If set to False, the walk will begin from the deepest layer and made bottom-up."
   ]
  },
  {
   "cell_type": "code",
   "execution_count": 12,
   "metadata": {},
   "outputs": [
    {
     "name": "stdout",
     "output_type": "stream",
     "text": [
      ">>./\n",
      "Folder LECTURES\n",
      "Folder EXERCISES\n",
      "Folder TEMPLATES_TO_TAKE_NOTES\n",
      "Folder .ipynb_checkpoints\n",
      "Folder .git\n",
      "File _config.yml\n",
      "File README.md\n",
      "File .gitignore\n",
      ">>./LECTURES\n",
      "Folder .ipynb_checkpoints\n",
      "File Lecture_04.ipynb\n",
      "File Lecture_03.ipynb\n",
      "File Lecture_05.ipynb\n",
      "File Lecture_01.ipynb\n",
      "File Lecture_02.ipynb\n",
      ">>./LECTURES/.ipynb_checkpoints\n",
      "File Lecture_02-checkpoint.ipynb\n",
      "File Lecture_05-checkpoint.ipynb\n",
      "File Lecture_01-checkpoint.ipynb\n",
      "File Lecture_04-checkpoint.ipynb\n",
      "File Lecture_03-checkpoint.ipynb\n",
      ">>./EXERCISES\n",
      "Folder .ipynb_checkpoints\n",
      "File Exercises_Lecture_05.ipynb\n",
      "File Schrodinger_Eqt_Simul.gif\n",
      "File Schrodinger_Eqt_Simul2.gif\n",
      "File NBody_Simulation_IVa - Moth I_IVa.2.A_Šuvakov_.gif\n",
      "File Exercises_Lecture_02.ipynb\n",
      "File Exercises_Lecture_01.ipynb\n",
      "File PYTHON.png\n",
      "File NBody_Simulation_IVa - Moth I_IVa.2.A_Šuvakov.gif\n",
      "File Exercises_Lecture_03.ipynb\n",
      "File threeBodyInitialConditions.json\n",
      "File Data.xlsx\n",
      "File triangle.png\n",
      "File Exercises_Lecture_04.ipynb\n",
      "File proof.png\n",
      ">>./EXERCISES/.ipynb_checkpoints\n",
      "File Exercises_Lecture_05-checkpoint.ipynb\n",
      "File Exercises_Lecture_05-Copy1-checkpoint.ipynb\n",
      "File Exercises_Lecture_04-Copy1-checkpoint.ipynb\n",
      "File Exercises_Lecture_05-NoSolution-checkpoint.ipynb\n",
      "File Exercises_Lecture_04-checkpoint.ipynb\n",
      "File Exercises_Lecture_01-checkpoint.ipynb\n",
      "File Exercises_Lecture_02-checkpoint.ipynb\n",
      "File Exercises_Lecture_03-checkpoint.ipynb\n",
      ">>./TEMPLATES_TO_TAKE_NOTES\n",
      "Folder .ipynb_checkpoints\n",
      "File Lecture_04_Template.ipynb\n",
      "File Lecture_02_Template.ipynb\n",
      "File Lecture_01_Template.ipynb\n",
      "File Lecture_03_Template.ipynb\n",
      "File Lecture_05_Part1_Template.ipynb\n",
      ">>./TEMPLATES_TO_TAKE_NOTES/.ipynb_checkpoints\n",
      "File Lecture_04_Template-checkpoint.ipynb\n",
      "File Lecture_05_Part1_Template-checkpoint.ipynb\n",
      "File Lecture_03_Template-checkpoint.ipynb\n",
      "File Lecture_02_Template-checkpoint.ipynb\n",
      "File Lecture_01_Template-checkpoint.ipynb\n",
      "File Untitled-checkpoint.ipynb\n",
      ">>./.ipynb_checkpoints\n",
      "File Exercises_Lecture_01_without_Solutions-checkpoint.ipynb\n",
      "File Untitled-checkpoint.ipynb\n",
      ">>./.git\n",
      "Folder objects\n",
      "Folder hooks\n",
      "Folder refs\n",
      "Folder branches\n",
      "Folder info\n",
      "Folder logs\n",
      "File packed-refs\n",
      "File config\n",
      "File ORIG_HEAD\n",
      "File HEAD\n",
      "File index\n",
      "File COMMIT_EDITMSG\n",
      "File FETCH_HEAD\n",
      "File description\n",
      ">>./.git/objects\n",
      "Folder be\n",
      "Folder 0b\n",
      "Folder ae\n",
      "Folder 66\n",
      "Folder 39\n",
      "Folder b7\n",
      "Folder c9\n",
      "Folder bf\n",
      "Folder 45\n",
      "Folder 50\n",
      "Folder 9d\n",
      "Folder 67\n",
      "Folder 81\n",
      "Folder d7\n",
      "Folder d5\n",
      "Folder 8d\n",
      "Folder f2\n",
      "Folder c6\n",
      "Folder 08\n",
      "Folder b4\n",
      "Folder e3\n",
      "Folder 4c\n",
      "Folder b5\n",
      "Folder 73\n",
      "Folder ac\n",
      "Folder 3a\n",
      "Folder 5a\n",
      "Folder 26\n",
      "Folder b2\n",
      "Folder 38\n",
      "Folder ff\n",
      "Folder d4\n",
      "Folder c8\n",
      "Folder f5\n",
      "Folder cc\n",
      "Folder 6d\n",
      "Folder d1\n",
      "Folder 57\n",
      "Folder ea\n",
      "Folder a3\n",
      "Folder 21\n",
      "Folder cd\n",
      "Folder ee\n",
      "Folder 72\n",
      "Folder 25\n",
      "Folder 42\n",
      "Folder dc\n",
      "Folder 5e\n",
      "Folder 0d\n",
      "Folder 1f\n",
      "Folder 7b\n",
      "Folder f8\n",
      "Folder d8\n",
      "Folder c7\n",
      "Folder cf\n",
      "Folder e1\n",
      "Folder 49\n",
      "Folder 24\n",
      "Folder 5b\n",
      "Folder 37\n",
      "Folder c1\n",
      "Folder 44\n",
      "Folder 59\n",
      "Folder 9e\n",
      "Folder 76\n",
      "Folder 84\n",
      "Folder 0e\n",
      "Folder 56\n",
      "Folder 8f\n",
      "Folder 36\n",
      "Folder 34\n",
      "Folder 01\n",
      "Folder 86\n",
      "Folder 88\n",
      "Folder a1\n",
      "Folder bb\n",
      "Folder 6f\n",
      "Folder 10\n",
      "Folder 7e\n",
      "Folder 69\n",
      "Folder 43\n",
      "Folder b6\n",
      "Folder 5c\n",
      "Folder 3b\n",
      "Folder 61\n",
      "Folder b8\n",
      "Folder dd\n",
      "Folder f9\n",
      "Folder d6\n",
      "Folder fe\n",
      "Folder b0\n",
      "Folder 62\n",
      "Folder 98\n",
      "Folder 3c\n",
      "Folder 1d\n",
      "Folder 05\n",
      "Folder 2b\n",
      "Folder 4d\n",
      "Folder 96\n",
      "Folder 89\n",
      "Folder 17\n",
      "Folder pack\n",
      "Folder 18\n",
      "Folder f7\n",
      "Folder ad\n",
      "Folder f6\n",
      "Folder e8\n",
      "Folder 41\n",
      "Folder 6b\n",
      "Folder 14\n",
      "Folder 40\n",
      "Folder e6\n",
      "Folder a7\n",
      "Folder 60\n",
      "Folder 02\n",
      "Folder d3\n",
      "Folder 7d\n",
      "Folder eb\n",
      "Folder 85\n",
      "Folder 27\n",
      "Folder info\n",
      "Folder 2d\n",
      "Folder 0c\n",
      ">>./.git/objects/be\n",
      "File 241e07ec678ea3b62382b38de4251fe2d64a55\n",
      ">>./.git/objects/0b\n",
      "File 0f492bfbb05b10a48ceda3fca92203f9bc4868\n",
      "File 5de887e04dd3f2289a82779b0d064708b7b3df\n",
      ">>./.git/objects/ae\n",
      "File a4e176e2b77b39442b7a3d8170dfc9e80ffb4b\n",
      ">>./.git/objects/66\n",
      "File 63efbf7809b8e289e825107d411fe09d679566\n",
      ">>./.git/objects/39\n",
      "File 2be9d1b1796f7d0fb7fff6ac2fb221c94cf38c\n",
      ">>./.git/objects/b7\n",
      "File 355c62ea5d0d1047e9aa60e916562d770a9767\n",
      "File cb789a76ede5240a224a3c23af0681e89545b8\n",
      "File 298e41913d0549c7f974e174f8687f7f6c815a\n",
      "File d5e2f516b6007fde4564fafdc0a8d260e5b12a\n",
      ">>./.git/objects/c9\n",
      "File 341cf724a1c06204c108e377079cdd67f5181a\n",
      ">>./.git/objects/bf\n",
      "File 0d0ae5d3726a169283e8ba82c3e39278696879\n",
      ">>./.git/objects/45\n",
      "File ddfd7ab8504a067bef4351286e5cb0fc0882de\n",
      ">>./.git/objects/50\n",
      "File ebc120ee968626b31cccf7c4f131c40d26fce6\n",
      ">>./.git/objects/9d\n",
      "File cb36e8b49dce23a265a0c926d44d1421df03d6\n",
      "File 8a9d932b2479b5c0dad8aaea639c6260a9e0bc\n",
      "File f39df281a8ee0c22e6b5e66a3f4ac674e9b3b6\n",
      ">>./.git/objects/67\n",
      "File 4430833c4e3d1758a7218168b53c908a3a2a0c\n",
      "File 068a118f1cfcdf1ec1698ecfa54132e9e43a16\n",
      ">>./.git/objects/81\n",
      "File cd457c8c933c58ff20b64eed3e48735cf02980\n",
      "File b0c9505aba699b993af7bc9ffcad0a375d45cd\n",
      ">>./.git/objects/d7\n",
      "File 03464dba20560496aab3032d0f06e093cd903f\n",
      "File f70d1d5defeb771e6b466d32e079d7293b7c4d\n",
      ">>./.git/objects/d5\n",
      "File 74f65d692cb3df1bdb3d8feae352e02eb56215\n",
      ">>./.git/objects/8d\n",
      "File 481542b26c42a918853b5cce1a1f145ed05523\n",
      "File 418bd7b0c170c56651ba43bf80615ef7ab9094\n",
      ">>./.git/objects/f2\n",
      "File 6e843962d6bf5735ffd5dfae6759e3a76b9b5a\n",
      ">>./.git/objects/c6\n",
      "File 1ab7fdb6164b19f5faee7ad31b4483bbd365d0\n",
      "File 7d0bbae8a238a59de247e3223cbf645ebeb5ec\n",
      ">>./.git/objects/08\n",
      "File 4d78bf91682edd39de993e14bbd3b8f9d6915b\n",
      ">>./.git/objects/b4\n",
      "File 57b5d705882e882106b3c5830ae3f1659e4c3a\n",
      ">>./.git/objects/e3\n",
      "File a0bd56678a3044ef13160fa43d9014f18b91f2\n",
      ">>./.git/objects/4c\n",
      "File e6f461d6302011e2378f9d3bd5faa33bf14a7a\n",
      ">>./.git/objects/b5\n",
      "File 11cb86e09c071055547b30335b9b7d7147caa4\n",
      ">>./.git/objects/73\n",
      "File b4192aba4f20885f1328f8979cf0fc34b84b12\n",
      ">>./.git/objects/ac\n",
      "File 3a72b57221d2a2ece93dd453afbb2cf104f88e\n",
      ">>./.git/objects/3a\n",
      "File aeffdeea73fac33c0c113747488fac099614df\n",
      ">>./.git/objects/5a\n",
      "File ff52bd66c0d07252906b4e1d20a99cb3a2a3c4\n",
      ">>./.git/objects/26\n",
      "File 12ee5708181b8e662d9e4cfff59999e7d59293\n",
      ">>./.git/objects/b2\n",
      "File 0f6298b44de18962de208459ede1eee39be5e9\n",
      "File 2cf5e8c20fe4305b97fd4991e7428ce89ad641\n",
      ">>./.git/objects/38\n",
      "File 6c3f1513aad00044d0bbdf818adbcd1dabd8b5\n",
      "File 6c0a3568e397fd2f6a88cff5867878f3931c1e\n",
      ">>./.git/objects/ff\n",
      "File 23495bda748ac19b1f764dcd130de0d122d437\n",
      "File 01b024654ad50e7a9e6b2a8799843ba4b4e376\n",
      "File 1a06bd70ef013202efe38331eeed4d7a32faaf\n",
      ">>./.git/objects/d4\n",
      "File debdc82e3a1e543c5143c846af7ed06a94d194\n",
      ">>./.git/objects/c8\n",
      "File 2a370625cac27b61d15e0f7b797abf38649ce6\n",
      "File af86c42ac6090e4162feab0a0d1066744919e1\n",
      ">>./.git/objects/f5\n",
      "File 44582d55ef2f2d525b089a5d61b800ce140bb2\n",
      ">>./.git/objects/cc\n",
      "File 7c6e3c037125bb540e66dcc09c549b1fca703c\n",
      "File b33c33b0437971649781b302e77407db9132b3\n",
      ">>./.git/objects/6d\n",
      "File 5d4820f53918239743e3580d238c6768361ed2\n",
      ">>./.git/objects/d1\n",
      "File 47a235adfebd4d1ec2adb7c70cd6b488a62dc6\n",
      ">>./.git/objects/57\n",
      "File 34e7a8a03627d380151e909e88b5a26a440f42\n",
      ">>./.git/objects/ea\n",
      "File 2c3f7278217695531fc75043481934cb81db7a\n",
      ">>./.git/objects/a3\n",
      "File b59e22286d6be9c7c15af39dbe68804e3987de\n",
      ">>./.git/objects/21\n",
      "File e175bdbe87ac5c1b163adf0c473d61394f7e38\n",
      ">>./.git/objects/cd\n",
      "File 2405822fcbe5625fdae2a851e58174a0cdd246\n",
      ">>./.git/objects/ee\n",
      "File df170963b89e1497295136eceb004ffa6342a0\n",
      ">>./.git/objects/72\n",
      "File fd268f5e6e1be5fa6601ab3b31577c66213145\n",
      ">>./.git/objects/25\n",
      "File 223f08e73ffbc59ec37294d59eea24388890eb\n",
      ">>./.git/objects/42\n",
      "File db95946be466adc67d7e40daea730dcafef3b1\n",
      ">>./.git/objects/dc\n",
      "File 1df075145be4ecf7fe25aed415c5aca6eec88c\n",
      ">>./.git/objects/5e\n",
      "File 37f01a61ab64db012fabd7fc483930d626a26a\n",
      "File b151bf78a290f54d7a94d1ed1d14cc412aa9a2\n",
      ">>./.git/objects/0d\n",
      "File cde41e5af992c42a85807e78444c43f1006200\n",
      ">>./.git/objects/1f\n",
      "File c3766ce5f129c222abecea2a6d68b4e3a78a85\n",
      ">>./.git/objects/7b\n",
      "File 451a9104db5797da042a1ee82c6285449d1855\n",
      ">>./.git/objects/f8\n",
      "File 0f7014b2107a8ab2d759f0117168c9ebf63776\n",
      ">>./.git/objects/d8\n",
      "File c288184a19f6e97460a12897b29b8e4e525d16\n",
      ">>./.git/objects/c7\n",
      "File 1ff181883ce060b89e82878d71119f6ebf3823\n",
      ">>./.git/objects/cf\n",
      "File 353d0850ede400ed425f5d8716a49bc4f6969d\n",
      ">>./.git/objects/e1\n",
      "File dabc57f850427298a9dd84e0b22cc4d1a2a9c8\n",
      "File 3b9c3ac789f99cb81ce1c886c613e629b482fd\n",
      ">>./.git/objects/49\n",
      "File 449cd4d095b5803bd14ac21982dc155f424485\n",
      ">>./.git/objects/24\n",
      "File b08b410ad2abe563440097619d6857feda2e3b\n",
      ">>./.git/objects/5b\n",
      "File 6a7c680cbbf59040af76222308565a1c472113\n",
      ">>./.git/objects/37\n",
      "File 984ad488c8190ba618582b95d2627a74d76108\n",
      "File 77ab06d023d71e0dedd34aece6874be320dc3e\n",
      "File 7522b9c42e0605db4661228ec4587afcac4d23\n",
      ">>./.git/objects/c1\n",
      "File 91e1053e8ecf9019201022be73d87aecbf527d\n",
      ">>./.git/objects/44\n",
      "File 921d7e582e8da99cb4a35ce1c43263966dbaa7\n",
      ">>./.git/objects/59\n",
      "File 5184e8d9205d98186f051bc8690e1f4efc2db8\n",
      ">>./.git/objects/9e\n",
      "File afcdc58ac03645b68332f546ec98e9cf350461\n",
      "File b27f5a90dc7a50cf98c5fb9e1890fe96cc9de9\n",
      ">>./.git/objects/76\n",
      "File 7101ee64d794cdf58c9c9fbccc0eb95ff12bac\n",
      ">>./.git/objects/84\n",
      "File 6c1dc3fd8f76d80d19682f6621fabbe81acd73\n",
      ">>./.git/objects/0e\n",
      "File 8ac018f5dc82f9968e98bb6b161776767795af\n",
      "File db6d87ef31c63e437f9e57c155e02576f5e998\n",
      ">>./.git/objects/56\n",
      "File e33fbdac189ff28696bedbe97c4e29cb1dfc5e\n",
      ">>./.git/objects/8f\n",
      "File 96af6713c0c513a1579a029156c1ba7185fc1f\n",
      "File 4556f0ffe9dfcb13ea0454b5e8d35aba737716\n",
      ">>./.git/objects/36\n",
      "File 7fd071bf53659c2a40c8f623506268c26dad6d\n",
      ">>./.git/objects/34\n",
      "File a463adcabc25681e5be333098bad506c7d22db\n",
      "File 9b5cfb8da3fef20f5ede0caedf81dad6af2ece\n",
      ">>./.git/objects/01\n",
      "File d355bba0bed5a400c5d0c9e9145eaadc574567\n",
      "File 50d5dd6b0d13c1f57a0bce3797a1d0b19b024c\n",
      ">>./.git/objects/86\n",
      "File 13dfca49df1f4b2cf75129fd29e3dbea4155cc\n",
      ">>./.git/objects/88\n",
      "File f7e3ad2ef2d94129bc71ffea9586ea93325476\n",
      "File c3d86ee3c59a488a4f01545a87baf62be868c1\n",
      ">>./.git/objects/a1\n",
      "File c203f36b4985411353d6403cc768ffffa679d1\n",
      ">>./.git/objects/bb\n",
      "File 4d2cdd128c39f0d5b01edca0b33edce7875206\n",
      ">>./.git/objects/6f\n",
      "File a37cce6305fb51006a5f676ac26ac2aa95f68a\n",
      ">>./.git/objects/10\n",
      "File 714b989cdc6011f4ce70ca6db9a5967cf40bf1\n",
      ">>./.git/objects/7e\n",
      "File e184e8f25f87847ed0a0bc74df85d906f6922e\n",
      ">>./.git/objects/69\n",
      "File 906d9f9f2115556cdf033cf73d9a5deb20bed8\n",
      ">>./.git/objects/43\n",
      "File f9c021bb012fd334ddf75c990ba227cc01d6bf\n",
      ">>./.git/objects/b6\n",
      "File 02e8191639756b94a226eda724c62996e6b393\n",
      "File c78e51c05b7291be17023bf47789c077421dd7\n",
      ">>./.git/objects/5c\n",
      "File 6d067a1e1cde808717bd36b73932b690aeb2e8\n",
      ">>./.git/objects/3b\n",
      "File 0cf90557434638b9a7252f9e4db9aa75c8e77f\n",
      ">>./.git/objects/61\n",
      "File 1d6e2b2b442db972faff3209ad6853fafa51ef\n",
      "File 36a79ffdff8df0aec5c461388e5ace61409b8a\n",
      ">>./.git/objects/b8\n",
      "File dd9285d11c00f0ad54c9755133f3d975e2ce83\n",
      "File 5147b19f9d993603479c939a50858c0f14ae74\n",
      ">>./.git/objects/dd\n",
      "File 1acdba6faeffb32e7ce8966bd1695cefeae8d4\n",
      ">>./.git/objects/f9\n",
      "File 8bf0206bc26499f9deb5dae998cd04ff48795a\n",
      ">>./.git/objects/d6\n",
      "File 61e61aea932794a8a14b1130b008341d58c1b7\n",
      ">>./.git/objects/fe\n",
      "File f39d396c85abfc0c15df3c01678e98415d61a0\n",
      ">>./.git/objects/b0\n",
      "File de5090557ccfb618cbbbf01ff8d557fd5d7297\n",
      "File 1a6796252177c8da2d6660acd578d662effcd0\n",
      ">>./.git/objects/62\n",
      "File bfc401dfa13b99cc4d2b7490f2701ecfe20a29\n",
      "File 8ef0669030a528a0053c6b6ace940f1758425d\n",
      "File 9b380cb54ddd699ec0454dd4b384a3fc34a3fc\n",
      ">>./.git/objects/98\n",
      "File e0aa55f31955bf2df3ebe26869ba4482ee3b46\n",
      "File aca8e4fa1fbfea3735cade94e3f95dc5d92952\n",
      ">>./.git/objects/3c\n",
      "File d7eda6ea0b2eab04058d61fb0967db24eb86bc\n",
      ">>./.git/objects/1d\n",
      "File 4bad69be919ba92a751e24ca85fe184df7911a\n",
      ">>./.git/objects/05\n",
      "File 105f74a66c6f18063e8197da50d2f1013d8d2b\n",
      "File 571c18410c67dc8903b44c879ebc384e6be434\n",
      ">>./.git/objects/2b\n",
      "File a5ddd594f6a99a50b2cf67d9873524d2182eb6\n",
      ">>./.git/objects/4d\n",
      "File 01b5963ca83299482e42eaf29c452adc532370\n",
      ">>./.git/objects/96\n",
      "File fc51fc0b9632d307460d51b170463a7e4bba57\n",
      ">>./.git/objects/89\n",
      "File 2610e0427345d154afd16744f9fa08edfdc9de\n",
      ">>./.git/objects/17\n",
      "File ff6e4a848df8cf2f106ab8cd171d22750061d5\n",
      ">>./.git/objects/pack\n",
      "File pack-5ef42c8c4b0227f4a4beb4d5683fd6ea031aa755.pack\n",
      "File pack-5ef42c8c4b0227f4a4beb4d5683fd6ea031aa755.idx\n",
      ">>./.git/objects/18\n",
      "File 8f2835efc20f766072c9ba6f348433d4436b56\n",
      ">>./.git/objects/f7\n",
      "File a9bce1835d1168652bd744bc0b7985672933be\n",
      ">>./.git/objects/ad\n",
      "File 5f177f0198f728c81a3578bb0eb2c505f35c9f\n",
      "File 396149b44705de1adbbe9986434f9fbbd1e435\n",
      ">>./.git/objects/f6\n",
      "File 57ba0a07ef80f54d4156e12ff7d2ecf1a799af\n",
      ">>./.git/objects/e8\n",
      "File 2fdb9c5a4cdf96c1fdaab74fcfb098b146a340\n",
      ">>./.git/objects/41\n",
      "File a67bd2be1c2d9732986bbf08f2d9e539c2b4c7\n",
      ">>./.git/objects/6b\n",
      "File 0bb38440315c001300f6da28bdfd0ea14177a8\n",
      ">>./.git/objects/14\n",
      "File 7977b26d1ff4b912befd5e75ef550ced878321\n",
      ">>./.git/objects/40\n",
      "File b24ed8c9b9ac41502a70015cc68ae174005bc6\n",
      ">>./.git/objects/e6\n",
      "File cb2287ddc93ee2c8e2fe3bbc4a7185f0e25e2c\n",
      ">>./.git/objects/a7\n",
      "File d590f73b0dfa80578e495e33a593e97e7c72e2\n",
      ">>./.git/objects/60\n",
      "File db496fc45d57ec50b06a380f47e062507bce44\n",
      ">>./.git/objects/02\n",
      "File 2a53c6ec5e4f55b0fe954ee8dee5e94646183f\n",
      ">>./.git/objects/d3\n",
      "File 9f78fc7604f72030824bdde70bbc4e72555bce\n",
      "File fab5258fd3bc64671d92ecc2be70bd96422989\n",
      ">>./.git/objects/7d\n",
      "File 094b9310b33ab8810856a4c762da71a5d85679\n",
      ">>./.git/objects/eb\n",
      "File 2f1ba066a12d7c39d438e010bd400b0d704572\n",
      ">>./.git/objects/85\n",
      "File b537128260fb40f4666b755303508082f54fb2\n",
      ">>./.git/objects/27\n",
      "File 40ea753ad194b7878fb38d4e5a432fa06b71b6\n",
      ">>./.git/objects/info\n",
      ">>./.git/objects/2d\n",
      "File 1de4808bf4ace2d42568a07953da525906bc63\n",
      ">>./.git/objects/0c\n",
      "File 1b6801236a4e4d64280ce6e8447cf82fc30973\n",
      ">>./.git/hooks\n",
      "File pre-push.sample\n",
      "File post-update.sample\n",
      "File prepare-commit-msg.sample\n",
      "File pre-rebase.sample\n",
      "File pre-applypatch.sample\n",
      "File fsmonitor-watchman.sample\n",
      "File applypatch-msg.sample\n",
      "File pre-receive.sample\n",
      "File update.sample\n",
      "File commit-msg.sample\n",
      "File pre-commit.sample\n",
      ">>./.git/refs\n",
      "Folder heads\n",
      "Folder remotes\n",
      "Folder tags\n",
      ">>./.git/refs/heads\n",
      "File master\n",
      ">>./.git/refs/remotes\n",
      "Folder origin\n",
      ">>./.git/refs/remotes/origin\n",
      "File master\n",
      "File HEAD\n",
      ">>./.git/refs/tags\n",
      ">>./.git/branches\n",
      ">>./.git/info\n",
      "File exclude\n",
      ">>./.git/logs\n",
      "Folder refs\n",
      "File HEAD\n",
      ">>./.git/logs/refs\n",
      "Folder heads\n",
      "Folder remotes\n",
      ">>./.git/logs/refs/heads\n",
      "File master\n",
      ">>./.git/logs/refs/remotes\n",
      "Folder origin\n",
      ">>./.git/logs/refs/remotes/origin\n",
      "File master\n",
      "File HEAD\n"
     ]
    }
   ],
   "source": [
    "for root, dirs, files in os.walk( \"./\", topdown=True ):\n",
    "    print(f\">>{root}\")\n",
    "    for directory in dirs:\n",
    "        print(f\"Folder {directory}\")\n",
    "    for file in files:\n",
    "        print(f\"File {file}\")\n",
    "\n",
    "    "
   ]
  },
  {
   "cell_type": "markdown",
   "metadata": {},
   "source": [
    "#### Removing files and directories\n",
    "\n",
    "A file can be removed using `os.remove()` and specifying the path of the file. We can also remove a directory using `os.rmdir()` and specifying as argument the path of the directory. Note that an error will be raised if you try to remove a directory that still contains files. To remove a driectory this way we first need to remove all its files."
   ]
  },
  {
   "cell_type": "code",
   "execution_count": null,
   "metadata": {},
   "outputs": [],
   "source": [
    "os.remdir(\"\")"
   ]
  },
  {
   "cell_type": "code",
   "execution_count": null,
   "metadata": {},
   "outputs": [],
   "source": []
  },
  {
   "cell_type": "markdown",
   "metadata": {},
   "source": [
    "Now that you know how to walk a subdirectory tree bottom-up (from the deepest layer to the specified directory in the `os.walk()` first argument), such that you get the absolute path to all its files and directories, and you know the functions to remove files and directories...are you thinking what I'm thinking? \n",
    "\n",
    "<del> Yeah, you could **erase all the files in your computer**, forever.<del>\n",
    "\n",
    "<img src=http://c.tenor.com/SIiE1YV8yloAAAAd/cat-boom.gif width=\"200\" height=\"200\"> \n",
    "\n",
    "Shhh, its a secret!"
   ]
  }
 ],
 "metadata": {
  "kernelspec": {
   "display_name": "Python 3",
   "language": "python",
   "name": "python3"
  },
  "language_info": {
   "codemirror_mode": {
    "name": "ipython",
    "version": 3
   },
   "file_extension": ".py",
   "mimetype": "text/x-python",
   "name": "python",
   "nbconvert_exporter": "python",
   "pygments_lexer": "ipython3",
   "version": "3.7.3"
  }
 },
 "nbformat": 4,
 "nbformat_minor": 4
}

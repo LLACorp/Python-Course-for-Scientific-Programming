{
 "cells": [
  {
   "cell_type": "markdown",
   "metadata": {
    "colab_type": "text",
    "id": "1CnJ9L-np9rn"
   },
   "source": [
    "# PYTHON COURSE FOR SCIENTIFIC PROGRAMMING \n",
    "\n",
    "**Main Editors of this Lecture:** \n",
    "\n",
    "Arnau Parrilla Gibert: arnauparrilla@gmail.com \n",
    "\n",
    "Xabier Oianguren Asua: oiangu9@gmail.com"
   ]
  },
  {
   "cell_type": "markdown",
   "metadata": {
    "colab_type": "text",
    "id": "7j-0zDCyiVzS"
   },
   "source": [
    "# LECTURE II : The Loops, Iterables and Dictionaries \n",
    "\n",
    "### $(1.)$ - [*THE FOR LOOP*](#1)\n",
    "### $(2.)$ - [*THE WHILE LOOP*](#2)\n",
    "\n",
    "\n",
    "Imagine we want to repeat a piece of code over and over until certain condition is hit, or imagine that we want to repeat a piece of code once per each element of a sequence of elements or indices. Moreover, imagine that the number of times we need to do this is not determined while we are coding, that it will be determined dynamically when the script is used by somebody, or used for different input data.\n",
    "\n",
    "It is to solve these kinds of situations and more that we have the **loops**.\n",
    "\n",
    "#### <ins>There are two types of loops:</ins>\n",
    "* A `for` loop is a piece of code that will be repeated once per each element of an **iterable** sequence of elements. \n",
    "\n",
    "The **slogan** is *for each element of [this], execute this block of code*.\n",
    "* A `while` loop is a piece of code that will be repeated as long as a condition is true.\n",
    "\n",
    "The **slogan** is *while [this] is True, execute this block of code, over and over*-\n",
    "\n",
    "### Iteration\n",
    "Each time a block of code is repeated, it is called an **iteration**!\n"
   ]
  },
  {
   "cell_type": "markdown",
   "metadata": {
    "colab_type": "text",
    "id": "rOdmBUPysJEo"
   },
   "source": [
    "<a id='1'></a>\n",
    "\n",
    "# (1.) The For Loop\n",
    "The **slogan** is *for each element of [this], execute this block of code*.\n",
    "\n",
    "Structure:\n",
    "\n",
    "        for <variable_that_will_sweep_the_iterable> in <iterable>:       \n",
    "            Block of code to repeat\n",
    "  \n",
    "For instance, lists are **iterable** objects, meaning they have a sequence of elements that we can cross one by one:\n",
    "\n"
   ]
  },
  {
   "cell_type": "code",
   "execution_count": null,
   "metadata": {},
   "outputs": [],
   "source": []
  },
  {
   "cell_type": "code",
   "execution_count": null,
   "metadata": {},
   "outputs": [],
   "source": []
  },
  {
   "cell_type": "code",
   "execution_count": null,
   "metadata": {},
   "outputs": [],
   "source": []
  },
  {
   "cell_type": "markdown",
   "metadata": {},
   "source": [
    "As you see, in each of the iterations, the variable we set as the index that iterates, takes a different value. In fact, if we have a variable with the same name outside the loop, its value will only be changed inside it, but also when the loop is finished! The last value it takes will be its new value."
   ]
  },
  {
   "cell_type": "code",
   "execution_count": null,
   "metadata": {},
   "outputs": [],
   "source": []
  },
  {
   "cell_type": "code",
   "execution_count": null,
   "metadata": {},
   "outputs": [],
   "source": []
  },
  {
   "cell_type": "code",
   "execution_count": null,
   "metadata": {},
   "outputs": [],
   "source": []
  },
  {
   "cell_type": "markdown",
   "metadata": {
    "colab_type": "text",
    "id": "oDr13MjAPuEm"
   },
   "source": [
    "Now, `for` loops have endless uses, but one of their main uses is to provide us an index that counts iterations. That is, a variable that tells us in each of the iterations of the block of code, in which iteration the execution is at."
   ]
  },
  {
   "cell_type": "code",
   "execution_count": null,
   "metadata": {},
   "outputs": [],
   "source": []
  },
  {
   "cell_type": "code",
   "execution_count": null,
   "metadata": {},
   "outputs": [],
   "source": []
  },
  {
   "cell_type": "markdown",
   "metadata": {},
   "source": [
    "It is very uncomfortable however needing to write the whole list of indices, because imagine, in real codes, `for` loops typically iterate for thousands of times. There is a Python function to help us with this though! \n",
    "The `range()` function. \n",
    "\n",
    "* `range(N)` returns the whole numbers from `0` till $N-1$.\n",
    "* `range(n,N,k)` returns the whole numbers from `n` till `N-1`, with steps of `k` (if `k` is negative, the range will be given in reverse order)."
   ]
  },
  {
   "cell_type": "code",
   "execution_count": null,
   "metadata": {},
   "outputs": [],
   "source": []
  },
  {
   "cell_type": "markdown",
   "metadata": {},
   "source": [
    "### Nano-Exercise 1: Print if the numbers from 0 to 10 are: \"Zero\",\"Odd\" or \"Even\""
   ]
  },
  {
   "cell_type": "code",
   "execution_count": null,
   "metadata": {},
   "outputs": [],
   "source": []
  },
  {
   "cell_type": "code",
   "execution_count": null,
   "metadata": {},
   "outputs": [],
   "source": []
  },
  {
   "cell_type": "markdown",
   "metadata": {},
   "source": [
    "**Note** that inside each iteration, we can modify the value of the iterating index, but it will be renewed normally with the next value in the next iteration."
   ]
  },
  {
   "cell_type": "code",
   "execution_count": null,
   "metadata": {},
   "outputs": [],
   "source": []
  },
  {
   "cell_type": "code",
   "execution_count": null,
   "metadata": {},
   "outputs": [],
   "source": []
  },
  {
   "cell_type": "markdown",
   "metadata": {},
   "source": [
    "### Iterables and their Functions\n",
    "As we saw, **list**s are iterables, the output of some functions like `range()` as well. But there are many others that we will see in the future. \n",
    "\n",
    "Another one you know are the `strings`!"
   ]
  },
  {
   "cell_type": "code",
   "execution_count": null,
   "metadata": {},
   "outputs": [],
   "source": []
  },
  {
   "cell_type": "code",
   "execution_count": null,
   "metadata": {},
   "outputs": [],
   "source": []
  },
  {
   "cell_type": "markdown",
   "metadata": {},
   "source": [
    "But there is a universal way! Any iterable can be indexed, just as we did with lists and strings, that is, we can directly access the `i`-th element of the list using `[i]` after its name. Well, then we can iterate over the indices and whenever we need the `i`-th element of an iterable or another, we just access it!\n"
   ]
  },
  {
   "cell_type": "code",
   "execution_count": null,
   "metadata": {},
   "outputs": [],
   "source": []
  },
  {
   "cell_type": "code",
   "execution_count": null,
   "metadata": {},
   "outputs": [],
   "source": []
  },
  {
   "cell_type": "markdown",
   "metadata": {},
   "source": [
    "But there are Python functions that can help us make it easier to read"
   ]
  },
  {
   "cell_type": "markdown",
   "metadata": {
    "colab_type": "text",
    "id": "76EucokjNHnV"
   },
   "source": [
    "\n",
    "*   `enumerate(<iterable>)`: It takes an iterable and it will output pairs of values (again as an iterable), being the index position `i` and the `i`-th value. \n",
    "\n",
    "The best way to understand what it does is with an example. **Note** that we have now **two** variables!\n",
    "\n"
   ]
  },
  {
   "cell_type": "code",
   "execution_count": null,
   "metadata": {},
   "outputs": [],
   "source": []
  },
  {
   "cell_type": "code",
   "execution_count": null,
   "metadata": {},
   "outputs": [],
   "source": []
  },
  {
   "cell_type": "markdown",
   "metadata": {},
   "source": [
    "If I just set one variable, it will be a sort of list (technically, a *tuple*, another iterable type) that contains the two."
   ]
  },
  {
   "cell_type": "code",
   "execution_count": null,
   "metadata": {},
   "outputs": [],
   "source": []
  },
  {
   "cell_type": "code",
   "execution_count": null,
   "metadata": {},
   "outputs": [],
   "source": []
  },
  {
   "cell_type": "markdown",
   "metadata": {
    "colab_type": "text",
    "id": "P8g26jUx555F"
   },
   "source": [
    "In order to iterate two or more iterables at the same time, we can use:\n",
    "\n",
    "*   `zip(<iterable1>, <iterable2>,...)`: Returns pairs of elements being the paired elements of both iterables.   \n",
    "\n",
    "  **Note**: The loop repeats as many times as the shortest iterable"
   ]
  },
  {
   "cell_type": "code",
   "execution_count": null,
   "metadata": {},
   "outputs": [],
   "source": []
  },
  {
   "cell_type": "code",
   "execution_count": null,
   "metadata": {},
   "outputs": [],
   "source": []
  },
  {
   "cell_type": "code",
   "execution_count": null,
   "metadata": {},
   "outputs": [],
   "source": []
  },
  {
   "cell_type": "markdown",
   "metadata": {},
   "source": [
    "**Note**: The loop repeats itself with the length of the shortest iterable."
   ]
  },
  {
   "cell_type": "markdown",
   "metadata": {},
   "source": [
    "### Nano-Exercise 2: Compute the final grade for every student and save it into a list\n",
    "Note the `round(x, decimals)` function allows us to round a number `x` with `decimal` decimal places."
   ]
  },
  {
   "cell_type": "code",
   "execution_count": 50,
   "metadata": {},
   "outputs": [
    {
     "name": "stdout",
     "output_type": "stream",
     "text": [
      "The final grades are [6.69, 7.4, 7.36, 7.36],\n",
      " with an average 7.202\n"
     ]
    }
   ],
   "source": [
    "w = [0.3,0.3,0.2,.1,.1] #weights for exam1,exam2 ... respectively\n",
    "exam1 = [4.9,7,8.2,9]\n",
    "exam2 = [7,7,6.8,4.9]\n",
    "pract1 = [9.1,7,8,7.9]\n",
    "pract2 = [9,10,4.6,8.2]\n",
    "pract3 = [4,8,8,7.9]\n",
    "\n",
    "\n",
    "\n"
   ]
  },
  {
   "cell_type": "markdown",
   "metadata": {},
   "source": [
    "There are better ways to do this, but this is already functional!"
   ]
  },
  {
   "cell_type": "markdown",
   "metadata": {
    "colab_type": "text",
    "id": "9XnUA9h7rXsf"
   },
   "source": [
    "# Extra: List Comprehension"
   ]
  },
  {
   "cell_type": "markdown",
   "metadata": {
    "colab_type": "text",
    "id": "S66vJmOtrryI"
   },
   "source": [
    "It might be annoying to need to write several lines of code inside a `for` only to generate the components of a list.\n",
    "List comprehensions provide a concise way to do this. They allow you to create a list that requires a `for` loop in its creation, all in a single line of code. Neat."
   ]
  },
  {
   "cell_type": "markdown",
   "metadata": {
    "colab_type": "text",
    "id": "VuW2OdnhsNXW"
   },
   "source": [
    "The general template for a list comprehension is\n",
    "\n",
    "`my_list = [ <expression_involving_var> for <var> in <iterable> if <condition_involving_var> ]  `\n",
    "\n",
    "It is best to see an example to understand this. \n",
    "\n",
    "The following two cells generate the exact same list containing the squares of the first 9 numbers that are even."
   ]
  },
  {
   "cell_type": "code",
   "execution_count": null,
   "metadata": {},
   "outputs": [],
   "source": []
  },
  {
   "cell_type": "code",
   "execution_count": null,
   "metadata": {},
   "outputs": [],
   "source": []
  },
  {
   "cell_type": "code",
   "execution_count": null,
   "metadata": {},
   "outputs": [],
   "source": []
  },
  {
   "cell_type": "markdown",
   "metadata": {},
   "source": [
    "If you do not write a condition it will be applied to all the elements."
   ]
  },
  {
   "cell_type": "code",
   "execution_count": null,
   "metadata": {},
   "outputs": [],
   "source": []
  },
  {
   "cell_type": "code",
   "execution_count": null,
   "metadata": {},
   "outputs": [],
   "source": []
  },
  {
   "cell_type": "markdown",
   "metadata": {
    "colab_type": "text",
    "id": "qHu_NRXEecik"
   },
   "source": [
    "Or another example, a sub-list with the names that start from a vowel."
   ]
  },
  {
   "cell_type": "code",
   "execution_count": 1,
   "metadata": {
    "colab": {
     "base_uri": "https://localhost:8080/",
     "height": 34
    },
    "colab_type": "code",
    "id": "3EumfSVrwCwv",
    "outputId": "0492fd08-41d0-488d-edba-0a60b02375ed"
   },
   "outputs": [],
   "source": [
    "all_names = [\"Fina\", \"Verónica\", \"Aitor\", \"Agustí\", \"Imma\", \"Olga\"]\n",
    "\n"
   ]
  },
  {
   "cell_type": "code",
   "execution_count": null,
   "metadata": {},
   "outputs": [],
   "source": []
  },
  {
   "cell_type": "code",
   "execution_count": null,
   "metadata": {},
   "outputs": [],
   "source": []
  },
  {
   "cell_type": "markdown",
   "metadata": {},
   "source": [
    "**Lifehack: in**\n",
    "\n",
    "Note that we used the special operator `in`. This takes a value in the left and checks `==` with all the elements in the iterable on its the right. If one of them outputs `True` then the output is `True`, else, it is `False`."
   ]
  },
  {
   "cell_type": "code",
   "execution_count": 57,
   "metadata": {},
   "outputs": [
    {
     "name": "stdout",
     "output_type": "stream",
     "text": [
      "True\n",
      "False\n",
      "True\n"
     ]
    }
   ],
   "source": [
    "print( 'w' in ['www.scn2.cat', 'w', 'hey'] )\n",
    "print( 'w' in ['www.scn2.cat', 'o', 'hey'] )\n",
    "print( 'w' in 'www.scn2.cat' )"
   ]
  },
  {
   "cell_type": "markdown",
   "metadata": {},
   "source": [
    "### Nano-Exercise 2 again, but now with list comprehension"
   ]
  },
  {
   "cell_type": "code",
   "execution_count": 69,
   "metadata": {},
   "outputs": [
    {
     "name": "stdout",
     "output_type": "stream",
     "text": [
      "[6.69, 7.4, 7.36, 7.36]\n"
     ]
    }
   ],
   "source": [
    "w = [0.3,0.3,0.2,0.1,0.1] #weights for exam1,exam2 ... respectively\n",
    "exam1 = [4.9,7,8.2,9]\n",
    "exam2 = [7,7,6.8,4.9]\n",
    "pract1 = [9.1,7,8,7.9]\n",
    "pract2 = [9,10,4.6,8.2]\n",
    "pract3 = [4,8,8,7.9]\n",
    "\n"
   ]
  },
  {
   "cell_type": "markdown",
   "metadata": {},
   "source": [
    "**Lifehack: Break code line!**\n",
    "\n",
    "Note that you can divide a line of code in multiple lines, for easier readability, with a backslash `\\`."
   ]
  },
  {
   "cell_type": "code",
   "execution_count": null,
   "metadata": {},
   "outputs": [],
   "source": []
  },
  {
   "cell_type": "code",
   "execution_count": null,
   "metadata": {},
   "outputs": [],
   "source": []
  },
  {
   "cell_type": "markdown",
   "metadata": {
    "colab_type": "text",
    "id": "_b3iMm5AkKxm"
   },
   "source": [
    "---\n",
    "<a id='2'></a>\n",
    "## (2.) The While Loop\n",
    "The **slogan** is *while [this] is True, execute the block of code, over and over*.\n",
    "\n",
    "Structure:\n",
    "\n",
    "        while <boolean_expression>:       \n",
    "            Block of code to repeat\n",
    "\n",
    "As long as the condition is `True`, the block of code will be repeated (even for ever if it is never `False`! So be careful!)."
   ]
  },
  {
   "cell_type": "code",
   "execution_count": null,
   "metadata": {},
   "outputs": [],
   "source": []
  },
  {
   "cell_type": "code",
   "execution_count": null,
   "metadata": {},
   "outputs": [],
   "source": []
  },
  {
   "cell_type": "markdown",
   "metadata": {
    "colab_type": "text",
    "id": "JZ9wpsLAktr3"
   },
   "source": [
    "In the next example, the while loop will act as a `for` in `range(10)`:\n"
   ]
  },
  {
   "cell_type": "code",
   "execution_count": null,
   "metadata": {},
   "outputs": [],
   "source": []
  },
  {
   "cell_type": "code",
   "execution_count": null,
   "metadata": {},
   "outputs": [],
   "source": []
  },
  {
   "cell_type": "markdown",
   "metadata": {},
   "source": [
    "Of course, unlike in the case of a `for`, if the variables that we make reference to in the condition are not defined still, they will not appear out of the blue! There is no clue for the machine as for what their value should be! So take care to make sure that the variables are already defined or else you will get an error.\n",
    "\n",
    "**Also** importantly, the value of those variables is **not** reset every iteration!\n",
    "\n",
    "### Nano-Exercise 3: \n",
    "Ask the user for a string and tell them in which position happens the letter `a` (all using while loops). If the user introduces a string that does not contain `a`, keep asking them for a string that does, until they input it."
   ]
  },
  {
   "cell_type": "code",
   "execution_count": null,
   "metadata": {},
   "outputs": [],
   "source": []
  },
  {
   "cell_type": "code",
   "execution_count": null,
   "metadata": {},
   "outputs": [],
   "source": []
  },
  {
   "cell_type": "code",
   "execution_count": null,
   "metadata": {},
   "outputs": [],
   "source": []
  },
  {
   "cell_type": "markdown",
   "metadata": {
    "colab": {
     "base_uri": "https://localhost:8080/",
     "height": 35
    },
    "colab_type": "code",
    "id": "rqQQyywImYkx",
    "outputId": "14e64293-5e76-4b9a-dc38-793ad4ca701e"
   },
   "source": [
    "**Lifehack: A Menu**\n",
    "\n",
    "And this is how one can generate a user interface **menu**!\n",
    "\n",
    "You offer the user what your code is capable of doing, and ask them to choose an option. You keep asking until they input a reasonable option, and stop asking when they choose the exit option!"
   ]
  },
  {
   "cell_type": "markdown",
   "metadata": {},
   "source": [
    "#### A Seemingly bad idea\n",
    "\n",
    "`while True:`\n",
    "\n",
    "Since the while loop continues while the expression inside is `True`, if one places directly a `True` there, it will run forever!!!"
   ]
  },
  {
   "cell_type": "markdown",
   "metadata": {},
   "source": [
    "## (1. & 2.): Nested Loops\n",
    "\n",
    "Of course, it is possible to nest loops inside other loops, be them of one or the other kind. Just as it was possible to nest `if/elif/else` conditions without bounds.\n",
    "\n",
    "For example, let us use a nested `for` set to generate all the possible combinations of the elements of some lists."
   ]
  },
  {
   "cell_type": "code",
   "execution_count": null,
   "metadata": {},
   "outputs": [],
   "source": []
  },
  {
   "cell_type": "code",
   "execution_count": null,
   "metadata": {},
   "outputs": [],
   "source": []
  },
  {
   "cell_type": "code",
   "execution_count": null,
   "metadata": {},
   "outputs": [],
   "source": []
  },
  {
   "cell_type": "markdown",
   "metadata": {},
   "source": [
    "Make sure you understand why the next thing does not work!"
   ]
  },
  {
   "cell_type": "code",
   "execution_count": null,
   "metadata": {},
   "outputs": [],
   "source": []
  },
  {
   "cell_type": "code",
   "execution_count": null,
   "metadata": {},
   "outputs": [],
   "source": []
  },
  {
   "cell_type": "markdown",
   "metadata": {},
   "source": [
    "### Nano-Exercise 4.1:\n",
    "\n",
    "Given the list `words`, create another list with the position of the words where a vowel appears for the first time. \n",
    "\n",
    "If there is none, assume `-1`."
   ]
  },
  {
   "cell_type": "code",
   "execution_count": 93,
   "metadata": {},
   "outputs": [],
   "source": [
    "words = [\"solid\", \"state\", \"is\", \"my\", \"worst\", \"nightmare\", \"Then\", \"wait\", \"for\", \"liquid\", \"state\"]"
   ]
  },
  {
   "cell_type": "code",
   "execution_count": null,
   "metadata": {},
   "outputs": [],
   "source": []
  },
  {
   "cell_type": "code",
   "execution_count": null,
   "metadata": {},
   "outputs": [],
   "source": []
  },
  {
   "cell_type": "markdown",
   "metadata": {
    "colab_type": "text",
    "id": "jTRLymhIUJAG"
   },
   "source": [
    "## (1. & 2.): Break and Continue"
   ]
  },
  {
   "cell_type": "markdown",
   "metadata": {
    "colab_type": "text",
    "id": "fMnRAtzu55lE"
   },
   "source": [
    "The `break` and `continue` orders are used to give either `for` or `while` loops greater flexibility, allowing one to altere the normal flow of the loops."
   ]
  },
  {
   "cell_type": "markdown",
   "metadata": {
    "colab_type": "text",
    "id": "Pn4l-eSwU9df"
   },
   "source": [
    "### Break\n",
    "With the `break` statement we can force the loop to stop its iterations and exit the closest loop's indented block immediately (closest in terms of indentation levels). \n",
    "\n",
    "That is, even if the condition for a `while` loop may still be `True` or the last iteration of a `for`loop has not been reached, the code execution jumps immediately to the next line outside the closest loop's indentation level."
   ]
  },
  {
   "cell_type": "code",
   "execution_count": null,
   "metadata": {},
   "outputs": [],
   "source": []
  },
  {
   "cell_type": "code",
   "execution_count": null,
   "metadata": {},
   "outputs": [],
   "source": []
  },
  {
   "cell_type": "markdown",
   "metadata": {},
   "source": [
    "Can you guess why the list in the penultimate list is not printed while the last one is?"
   ]
  },
  {
   "cell_type": "code",
   "execution_count": null,
   "metadata": {},
   "outputs": [],
   "source": []
  },
  {
   "cell_type": "code",
   "execution_count": null,
   "metadata": {},
   "outputs": [],
   "source": []
  },
  {
   "cell_type": "markdown",
   "metadata": {},
   "source": [
    "You are right! Only the closest loop is broken! That is, we would need two `break` statements to stop it all."
   ]
  },
  {
   "cell_type": "code",
   "execution_count": null,
   "metadata": {},
   "outputs": [],
   "source": []
  },
  {
   "cell_type": "code",
   "execution_count": null,
   "metadata": {},
   "outputs": [],
   "source": []
  },
  {
   "cell_type": "markdown",
   "metadata": {},
   "source": [
    "### Nano-Exercise 4.2: Now Using Only For Loops\n",
    "\n",
    "Given the list `words`, create another list with the position of the words where a vowel appears for the first time. \n",
    "If there is none, assume `-1`.\n",
    "\n",
    "**Do it using exclusively `for` loops!**"
   ]
  },
  {
   "cell_type": "code",
   "execution_count": 75,
   "metadata": {},
   "outputs": [],
   "source": [
    "words = [\"solid\", \"state\", \"is\", \"my\", \"worst\", \"nightmare\", \"Then\", \"wait\", \"for\", \"liquid\", \"state\"]"
   ]
  },
  {
   "cell_type": "code",
   "execution_count": null,
   "metadata": {},
   "outputs": [],
   "source": []
  },
  {
   "cell_type": "code",
   "execution_count": null,
   "metadata": {},
   "outputs": [],
   "source": []
  },
  {
   "cell_type": "markdown",
   "metadata": {
    "colab_type": "text",
    "id": "1Tl_Ui6IXjA9"
   },
   "source": [
    "### Continue\n",
    "With the `continue` statement, the execution is forced to immediately jump to the next iteration of the closest loop (in terms of indentation levels), even if in the same block there were still more lines below the `continue`. That is, the loop is not broken, but forced to go to the next iteration.\n",
    "\n",
    "For example here, in the iteration where `i==3`, the code below (the `print`) is skipped and the loop continues in the next iteration."
   ]
  },
  {
   "cell_type": "code",
   "execution_count": null,
   "metadata": {},
   "outputs": [],
   "source": []
  },
  {
   "cell_type": "code",
   "execution_count": null,
   "metadata": {},
   "outputs": [],
   "source": []
  },
  {
   "cell_type": "markdown",
   "metadata": {},
   "source": [
    "### Nano-Exercise 5:\n",
    "\n",
    "Print all the numbers in the lists except when they are equal to 4."
   ]
  },
  {
   "cell_type": "code",
   "execution_count": null,
   "metadata": {},
   "outputs": [],
   "source": []
  },
  {
   "cell_type": "code",
   "execution_count": null,
   "metadata": {},
   "outputs": [],
   "source": []
  },
  {
   "cell_type": "code",
   "execution_count": null,
   "metadata": {},
   "outputs": [],
   "source": []
  }
 ],
 "metadata": {
  "colab": {
   "collapsed_sections": [],
   "name": "SesionTwo.ipynb",
   "provenance": []
  },
  "kernelspec": {
   "display_name": "Python 3",
   "language": "python",
   "name": "python3"
  },
  "language_info": {
   "codemirror_mode": {
    "name": "ipython",
    "version": 3
   },
   "file_extension": ".py",
   "mimetype": "text/x-python",
   "name": "python",
   "nbconvert_exporter": "python",
   "pygments_lexer": "ipython3",
   "version": "3.7.3"
  }
 },
 "nbformat": 4,
 "nbformat_minor": 1
}

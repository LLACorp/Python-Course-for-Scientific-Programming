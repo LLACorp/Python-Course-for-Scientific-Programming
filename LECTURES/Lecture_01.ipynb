{
 "cells": [
  {
   "cell_type": "markdown",
   "metadata": {
    "colab_type": "text",
    "id": "cyTjRTM0il7B"
   },
   "source": [
    "# PYTHON COURSE FOR SCIENTIFIC PROGRAMMING \n",
    "**Contributors:** \\\n",
    "Artur Llabrés Brustenga: Artur.Llabres@e-campus.uab.cat \\\n",
    "Gerard Navarro Pérez: Gerard.NavarroP@e-campus.uab.cat \\\n",
    "Arnau Parrilla Gibert: Arnau.Parrilla@e-campus.uab.cat \\\n",
    "Jan Scarabelli Calopa: Jan.Scarabelli@e-campus.uab.cat \\\n",
    "Xabier Oyanguren Asua: Xabier.Oyanguren@e-campus.uab.cat \\\n",
    "\n",
    "Course material can be found at: https://llacorp.github.io/Python-Course-for-Scientific-Programming/ \n",
    "\n"
   ]
  },
  {
   "cell_type": "markdown",
   "metadata": {
    "colab_type": "text",
    "id": "84R6_TMeSlJs"
   },
   "source": [
    "# LECTURE I : Print, Input and Variables\n",
    "\n",
    "The print fucntion is used to output messages to the screen.\n",
    "\n",
    "We start with the simplest print, a string:  \n",
    "A string is a sequence of characters, we use the \" character to begin and close the string."
   ]
  },
  {
   "cell_type": "code",
   "execution_count": 2,
   "metadata": {
    "colab": {
     "base_uri": "https://localhost:8080/",
     "height": 34
    },
    "colab_type": "code",
    "id": "6nRjra85mszN",
    "outputId": "6c19016d-0cc3-48fc-e9fa-39c9bb3ba6af"
   },
   "outputs": [
    {
     "name": "stdout",
     "output_type": "stream",
     "text": [
      "Hello World\n"
     ]
    }
   ],
   "source": [
    "print(\"Hello World\")"
   ]
  },
  {
   "cell_type": "markdown",
   "metadata": {
    "colab_type": "text",
    "id": "kRK4-2n6X1DF"
   },
   "source": [
    "It is not necessary to write the string directly inside the print, we can save the string to a variable first and then prtint the variable.\n",
    "\n",
    "A variable can be thought as a box were values can be stored.\n",
    "\n",
    "To define a variable simply choose a name for it and use the '=' operator to set its value."
   ]
  },
  {
   "cell_type": "code",
   "execution_count": 3,
   "metadata": {
    "colab": {
     "base_uri": "https://localhost:8080/",
     "height": 34
    },
    "colab_type": "code",
    "id": "AVFlRfsBX0kH",
    "outputId": "88cc4aab-528d-46bc-8588-fc8167555cde"
   },
   "outputs": [
    {
     "name": "stdout",
     "output_type": "stream",
     "text": [
      "Hello World\n"
     ]
    }
   ],
   "source": [
    "welcome_message = \"Hello World\"\n",
    "print(welcome_message)"
   ]
  },
  {
   "cell_type": "markdown",
   "metadata": {
    "colab_type": "text",
    "id": "-QRsx28SZa2t"
   },
   "source": [
    "Apart from strings there are other types of data like ints, floats and booleans. Just like we have done with strings this types can be stored in variables and printed.\n"
   ]
  },
  {
   "cell_type": "code",
   "execution_count": 4,
   "metadata": {
    "colab": {},
    "colab_type": "code",
    "id": "PCR654kGZ7z2"
   },
   "outputs": [],
   "source": [
    "x = 42\n",
    "y = 3.14\n",
    "z = True"
   ]
  },
  {
   "cell_type": "markdown",
   "metadata": {
    "colab_type": "text",
    "id": "KfEMkyg8aODJ"
   },
   "source": [
    "Int, short for integer, which means that they can be signed, but do not have decimals. \n",
    "\n",
    "Float, are signed and can have decimals. \n",
    "\n",
    "Boolean, only have two values, True and False.\n",
    "\n",
    "Unlike other programming languages python is not strongly typed, meaning that variables are not bound to a sigle type, therefore you could have a variable that stores a string and later change it to an int."
   ]
  },
  {
   "cell_type": "code",
   "execution_count": 5,
   "metadata": {
    "colab": {
     "base_uri": "https://localhost:8080/",
     "height": 52
    },
    "colab_type": "code",
    "id": "h3JRoYmwbk8i",
    "outputId": "58d016d6-a269-47f7-9fef-8fd1b470a53b"
   },
   "outputs": [
    {
     "name": "stdout",
     "output_type": "stream",
     "text": [
      "The quick brown fox jumps over the lazy dog\n",
      "208\n"
     ]
    }
   ],
   "source": [
    "i = \"The quick brown fox jumps over the lazy dog\" \n",
    "print(i)\n",
    "\n",
    "i = 208\n",
    "print(i)"
   ]
  },
  {
   "cell_type": "markdown",
   "metadata": {
    "colab_type": "text",
    "id": "Wz3m3qTOeWTF"
   },
   "source": [
    "The input function is used to get a value from a user.\n",
    "\n",
    "The output of this function is a string that can be saved to a variable."
   ]
  },
  {
   "cell_type": "code",
   "execution_count": 6,
   "metadata": {
    "colab": {
     "base_uri": "https://localhost:8080/",
     "height": 52
    },
    "colab_type": "code",
    "id": "2RjQrLkbh1xf",
    "outputId": "699228b3-57bf-41f5-ba1c-52da907fa61a"
   },
   "outputs": [
    {
     "name": "stdout",
     "output_type": "stream",
     "text": [
      "Whats your name? Artur\n",
      "Artur\n"
     ]
    }
   ],
   "source": [
    "name = input(\"Whats your name? \")\n",
    "print(name)"
   ]
  },
  {
   "cell_type": "markdown",
   "metadata": {
    "colab_type": "text",
    "id": "93u37v8MiUvh"
   },
   "source": [
    "The output of the input function is always a string, even if the user entered a int, fload, or boolean, to change its type we can use the functions `int()`, `float()` and `bool()`. Also, the function `str()`, short for string, exists."
   ]
  },
  {
   "cell_type": "code",
   "execution_count": 7,
   "metadata": {
    "colab": {
     "base_uri": "https://localhost:8080/",
     "height": 52
    },
    "colab_type": "code",
    "id": "DY6yw2Ugi3yh",
    "outputId": "4072f4aa-7473-4a19-cc6a-258752d4b659"
   },
   "outputs": [
    {
     "name": "stdout",
     "output_type": "stream",
     "text": [
      "Choose a number between 1 and 11: 10\n",
      "10\n"
     ]
    }
   ],
   "source": [
    "number = int(input(\"Choose a number between 1 and 11: \"))\n",
    "print(number)"
   ]
  },
  {
   "cell_type": "markdown",
   "metadata": {
    "colab_type": "text",
    "id": "qDp8rUe9pPVe"
   },
   "source": [
    "## Operators\n",
    "The following opearators can be used:\n",
    "* a+b: sum\n",
    "* a*b: multiplication\n",
    "* a**n: power\n",
    "* a/b: true division\n",
    "* a%b: modulus (remainder of the division)\n",
    "* a==b: checks if a and b are equal and returns a boolean (True or False)\n",
    "* a!=b: checks if a and b are diferent and returns a boolean\n",
    "* a > b: checks if a is greater than b and returns a boolean\n",
    "* a < b: checks if a is less than b and returns a boolean\n",
    "* a >= b and a <= b also exist "
   ]
  },
  {
   "cell_type": "code",
   "execution_count": 8,
   "metadata": {
    "colab": {
     "base_uri": "https://localhost:8080/",
     "height": 34
    },
    "colab_type": "code",
    "id": "VuUNeRinkXjw",
    "outputId": "4b3ce25d-a249-43e1-e6a3-fe351db6a08f"
   },
   "outputs": [
    {
     "name": "stdout",
     "output_type": "stream",
     "text": [
      "6\n"
     ]
    }
   ],
   "source": [
    "a = 2\n",
    "b = 4\n",
    "c = a+b\n",
    "print(c)"
   ]
  },
  {
   "cell_type": "code",
   "execution_count": 9,
   "metadata": {
    "colab": {
     "base_uri": "https://localhost:8080/",
     "height": 34
    },
    "colab_type": "code",
    "id": "2sdS7RSireF6",
    "outputId": "5e6b42f5-7e4e-4b6d-a870-3d84359d4d55"
   },
   "outputs": [
    {
     "name": "stdout",
     "output_type": "stream",
     "text": [
      "1.6666666666666667\n"
     ]
    }
   ],
   "source": [
    "a = 5\n",
    "b = 3\n",
    "print(a/b)"
   ]
  },
  {
   "cell_type": "code",
   "execution_count": 10,
   "metadata": {
    "colab": {
     "base_uri": "https://localhost:8080/",
     "height": 34
    },
    "colab_type": "code",
    "id": "WTCrm--gr5Bm",
    "outputId": "270fa098-ddf8-43e1-e3e8-9924de0fb9e8"
   },
   "outputs": [
    {
     "name": "stdout",
     "output_type": "stream",
     "text": [
      "2\n"
     ]
    }
   ],
   "source": [
    "a = 5\n",
    "b = 3\n",
    "print(a%b)"
   ]
  },
  {
   "cell_type": "code",
   "execution_count": 12,
   "metadata": {
    "colab": {},
    "colab_type": "code",
    "id": "9dLL-eVfwbRl"
   },
   "outputs": [
    {
     "name": "stdout",
     "output_type": "stream",
     "text": [
      "False\n"
     ]
    }
   ],
   "source": [
    "a = 3.1415\n",
    "b = 4\n",
    "print(a>=b)"
   ]
  },
  {
   "cell_type": "code",
   "execution_count": 13,
   "metadata": {
    "colab": {},
    "colab_type": "code",
    "id": "Q-EcokgQsMXa"
   },
   "outputs": [
    {
     "name": "stdout",
     "output_type": "stream",
     "text": [
      "xkcd\n"
     ]
    }
   ],
   "source": [
    "a = \"xk\"\n",
    "b = \"cd\"\n",
    "print(a+b)"
   ]
  },
  {
   "cell_type": "code",
   "execution_count": 14,
   "metadata": {
    "colab": {},
    "colab_type": "code",
    "id": "s50LxxBPsyVB"
   },
   "outputs": [
    {
     "name": "stdout",
     "output_type": "stream",
     "text": [
      "hahahahahaha\n"
     ]
    }
   ],
   "source": [
    "a = \"ha\"\n",
    "print(a*6)"
   ]
  },
  {
   "cell_type": "code",
   "execution_count": 15,
   "metadata": {
    "colab": {},
    "colab_type": "code",
    "id": "3l_mQbHTwOAx"
   },
   "outputs": [
    {
     "name": "stdout",
     "output_type": "stream",
     "text": [
      "False\n"
     ]
    }
   ],
   "source": [
    "a = \"This is a long string\"\n",
    "b = \"short string\"\n",
    "print(a>b)"
   ]
  },
  {
   "cell_type": "markdown",
   "metadata": {
    "colab_type": "text",
    "id": "k75DUnoYtpIY"
   },
   "source": [
    "# If, Elif, Else\n",
    "\n",
    "The if function takes in a boolean value and executes the code below if the boolean was true."
   ]
  },
  {
   "cell_type": "code",
   "execution_count": 16,
   "metadata": {
    "colab": {},
    "colab_type": "code",
    "id": "DmuoGxVlzdSD"
   },
   "outputs": [
    {
     "name": "stdout",
     "output_type": "stream",
     "text": [
      "a is greater than b\n",
      "Code ouside the if is executed\n"
     ]
    }
   ],
   "source": [
    "a = 5\n",
    "b = 2\n",
    "if(a > b):\n",
    "    print(\"a is greater than b\")\n",
    "print(\"Code ouside the if is executed\")"
   ]
  },
  {
   "cell_type": "code",
   "execution_count": 17,
   "metadata": {
    "colab": {},
    "colab_type": "code",
    "id": "VbGbQiA91lx3"
   },
   "outputs": [
    {
     "name": "stdout",
     "output_type": "stream",
     "text": [
      "Code ouside the if is executed\n"
     ]
    }
   ],
   "source": [
    "a = 5\n",
    "b = 2\n",
    "if(a < b):\n",
    "    print(\"a is lesser than b\")\n",
    "print(\"Code ouside the if is executed\")"
   ]
  },
  {
   "cell_type": "markdown",
   "metadata": {
    "colab_type": "text",
    "id": "VUEc2VaJ2SK0"
   },
   "source": [
    "The elif function can be used to add other conditions after an if."
   ]
  },
  {
   "cell_type": "code",
   "execution_count": 18,
   "metadata": {
    "colab": {},
    "colab_type": "code",
    "id": "isKvsPbF2bWg"
   },
   "outputs": [
    {
     "name": "stdout",
     "output_type": "stream",
     "text": [
      "a is greater than b\n",
      "Code ouside the if is executed\n"
     ]
    }
   ],
   "source": [
    "a = 5\n",
    "b = 2\n",
    "if(a < b):\n",
    "    print(\"a is lesser than b\")\n",
    "elif(a > b):\n",
    "    print(\"a is greater than b\")\n",
    "print(\"Code ouside the if is executed\")"
   ]
  },
  {
   "cell_type": "markdown",
   "metadata": {
    "colab_type": "text",
    "id": "cODlvN1v2rsU"
   },
   "source": [
    "The else function executes the code below if all the conditions from the if and elifs above are false."
   ]
  },
  {
   "cell_type": "code",
   "execution_count": 19,
   "metadata": {
    "colab": {
     "base_uri": "https://localhost:8080/",
     "height": 52
    },
    "colab_type": "code",
    "id": "GwV6Fn623oyM",
    "outputId": "07d16215-a8e8-494e-aaab-5d652850875b"
   },
   "outputs": [
    {
     "name": "stdout",
     "output_type": "stream",
     "text": [
      "if a is not greater nor lesser than b, then a must be equal to b\n",
      "Code ouside the if is executed\n"
     ]
    }
   ],
   "source": [
    "a = 5\n",
    "b = 5\n",
    "if(a < b):\n",
    "    print(\"a is lesser than b\")\n",
    "elif(a > b):\n",
    "    print(\"a is greater than b\")\n",
    "else:\n",
    "    print(\"if a is not greater nor lesser than b, then a must be equal to b\")\n",
    "print(\"Code ouside the if is executed\")"
   ]
  },
  {
   "cell_type": "markdown",
   "metadata": {
    "colab_type": "text",
    "id": "wGBNlZy8RGDa"
   },
   "source": [
    "# Lists\n",
    "Lists are sequences of values of any type, in fact they are iterable objects (will talk about that on following sessions).\n"
   ]
  },
  {
   "cell_type": "markdown",
   "metadata": {
    "colab_type": "text",
    "id": "lnbzmX_RRZRS"
   },
   "source": [
    "Creating a list: \n"
   ]
  },
  {
   "cell_type": "code",
   "execution_count": 20,
   "metadata": {
    "colab": {},
    "colab_type": "code",
    "id": "gI0Xn-WZRXz-"
   },
   "outputs": [],
   "source": [
    "list_of_ints = [1,6,1,8,0,3,4]\n",
    "list_of_chars = [\"Y\",\"M\",\"C\",\"A\"]\n",
    "list_of_floats = [0.123, 4.20, 13.4, 6.9]\n",
    "list_of_multiple_types = [1, \"one\", 1.0]"
   ]
  },
  {
   "cell_type": "markdown",
   "metadata": {
    "colab_type": "text",
    "id": "4d2qXuUbThXz"
   },
   "source": [
    "Even lists of lists can be made:"
   ]
  },
  {
   "cell_type": "code",
   "execution_count": 21,
   "metadata": {
    "colab": {},
    "colab_type": "code",
    "id": "qVSsBEB2TdcN"
   },
   "outputs": [],
   "source": [
    "list_of_lists = [[1,2,3,4], [0.2,6,3,\"A\"], \"string\", [1,2], 42]"
   ]
  },
  {
   "cell_type": "markdown",
   "metadata": {
    "colab_type": "text",
    "id": "gOI0s0f6T0Av"
   },
   "source": [
    "Some of the operators seen before can also be used with lists:"
   ]
  },
  {
   "cell_type": "code",
   "execution_count": 22,
   "metadata": {
    "colab": {
     "base_uri": "https://localhost:8080/",
     "height": 34
    },
    "colab_type": "code",
    "id": "EtfEReTETzIL",
    "outputId": "56296ea5-5716-4a52-e3c0-438f7bf59016"
   },
   "outputs": [
    {
     "name": "stdout",
     "output_type": "stream",
     "text": [
      "The + sign concatenates lists: [1, 2, 3, 3, 2, 1]\n"
     ]
    }
   ],
   "source": [
    "l1=[1,2,3]\n",
    "l2=[3,2,1]\n",
    "print(\"The + sign concatenates lists: {0}\".format(l1+l2))"
   ]
  },
  {
   "cell_type": "code",
   "execution_count": 23,
   "metadata": {
    "colab": {
     "base_uri": "https://localhost:8080/",
     "height": 34
    },
    "colab_type": "code",
    "id": "-cGr7XLqUnpd",
    "outputId": "a97b9e0c-7d33-458c-d16c-4ebdd2befd43"
   },
   "outputs": [
    {
     "name": "stdout",
     "output_type": "stream",
     "text": [
      "The * sign extents the list by making copies of itself x times: [9, 8, 7, 9, 8, 7, 9, 8, 7, 9, 8, 7, 9, 8, 7, 9, 8, 7]\n"
     ]
    }
   ],
   "source": [
    "l1=[9,8,7]\n",
    "print(\"The * sign extents the list by making copies of itself x times: {0}\".format(l1*6))"
   ]
  },
  {
   "cell_type": "markdown",
   "metadata": {
    "colab_type": "text",
    "id": "T7LsTSNjYBtu"
   },
   "source": [
    "Slicing lists:\n",
    "Using `name_of_a_list[integer]` you can get the ith value of the list. Keep in mind that lists start at 0, so `name_of_a_list[0]` will get you the first element."
   ]
  },
  {
   "cell_type": "code",
   "execution_count": 24,
   "metadata": {
    "colab": {
     "base_uri": "https://localhost:8080/",
     "height": 86
    },
    "colab_type": "code",
    "id": "YXHowsY4YBM3",
    "outputId": "73f98f55-bd3a-4b8c-b428-a78f145345c6"
   },
   "outputs": [
    {
     "name": "stdout",
     "output_type": "stream",
     "text": [
      "1\n",
      "2\n",
      "3\n",
      "4\n"
     ]
    }
   ],
   "source": [
    "l = [1,2,3,4]\n",
    "print(l[0]) #first element\n",
    "print(l[1]) #second element\n",
    "print(l[-2]) #sencond to last element\n",
    "print(l[-1]) #last element"
   ]
  },
  {
   "cell_type": "markdown",
   "metadata": {
    "colab_type": "text",
    "id": "YODcJAvqZYK8"
   },
   "source": [
    "Slicing a list of a list: if the ith element of a list is another list of which you want the jth element the following can be used `list[i][j]`"
   ]
  },
  {
   "cell_type": "code",
   "execution_count": 25,
   "metadata": {
    "colab": {
     "base_uri": "https://localhost:8080/",
     "height": 34
    },
    "colab_type": "code",
    "id": "SAEWjJe5Z_DO",
    "outputId": "7eaa63dc-f4af-48fb-ea34-fa98499dd775"
   },
   "outputs": [
    {
     "name": "stdout",
     "output_type": "stream",
     "text": [
      "6\n"
     ]
    }
   ],
   "source": [
    "l = [[1,2,3],[4,5,6]]\n",
    "print(l[1][2]) #third element of the second list"
   ]
  },
  {
   "cell_type": "markdown",
   "metadata": {
    "colab_type": "text",
    "id": "JNAb_rT-cwhq"
   },
   "source": [
    "When slicing you can get a sublist of your list using `name_of_a_list[x:y]`, for example:"
   ]
  },
  {
   "cell_type": "code",
   "execution_count": 26,
   "metadata": {
    "colab": {
     "base_uri": "https://localhost:8080/",
     "height": 69
    },
    "colab_type": "code",
    "id": "4ajRP8zidHaV",
    "outputId": "cb7b0af1-b3b6-444a-b4ee-63d52a205c4e"
   },
   "outputs": [
    {
     "name": "stdout",
     "output_type": "stream",
     "text": [
      "From the second element of the list to the last: [1, 2, 3, 4, 5, 6]\n",
      "From the first element to the third: [0, 1, 2]\n",
      "From the third element to the penultimate: [2, 3, 4, 5]\n"
     ]
    }
   ],
   "source": [
    "l = [0,1,2,3,4,5,6]\n",
    "print(\"From the second element of the list to the last: {0}\".format(l[1:]))\n",
    "print(\"From the first element to the third: {0}\".format(l[:3]))\n",
    "print(\"From the third element to the penultimate: {0}\".format(l[2:-1]))"
   ]
  },
  {
   "cell_type": "markdown",
   "metadata": {
    "colab_type": "text",
    "id": "gfi7gTrfVZur"
   },
   "source": [
    "len() returns the length of a list:"
   ]
  },
  {
   "cell_type": "code",
   "execution_count": 27,
   "metadata": {
    "colab": {
     "base_uri": "https://localhost:8080/",
     "height": 34
    },
    "colab_type": "code",
    "id": "GzYzHuoAVJ86",
    "outputId": "d654d0d2-28bb-48a4-ab74-dd0c28cb3538"
   },
   "outputs": [
    {
     "name": "stdout",
     "output_type": "stream",
     "text": [
      "The list l has length: 6\n"
     ]
    }
   ],
   "source": [
    "l = [1,2,3,4,5,6]\n",
    "print(\"The list l has length: {0}\".format(len(l)))"
   ]
  },
  {
   "cell_type": "markdown",
   "metadata": {
    "colab_type": "text",
    "id": "JhUbD620WmRT"
   },
   "source": [
    ".append is used to add an element at the end of the list:"
   ]
  },
  {
   "cell_type": "code",
   "execution_count": 28,
   "metadata": {
    "colab": {
     "base_uri": "https://localhost:8080/",
     "height": 34
    },
    "colab_type": "code",
    "id": "NycZVcsGWsHO",
    "outputId": "a4f85e34-d6c4-4868-bc13-c2bb8da2b057"
   },
   "outputs": [
    {
     "name": "stdout",
     "output_type": "stream",
     "text": [
      "[1, 1, 1, 7]\n"
     ]
    }
   ],
   "source": [
    "l = [1,1,1]\n",
    "l.append(7) #append modifies the base list \n",
    "print(l)"
   ]
  },
  {
   "cell_type": "markdown",
   "metadata": {
    "colab_type": "text",
    "id": "l9llR82VXCIq"
   },
   "source": [
    ".pop() removes the last element from a list and returns it:"
   ]
  },
  {
   "cell_type": "code",
   "execution_count": 29,
   "metadata": {
    "colab": {
     "base_uri": "https://localhost:8080/",
     "height": 52
    },
    "colab_type": "code",
    "id": "3Znx7URhXGlj",
    "outputId": "79447d97-3b0a-4ad4-89c2-3bafd68c86c1"
   },
   "outputs": [
    {
     "name": "stdout",
     "output_type": "stream",
     "text": [
      "Returns the las element of the list: 3\n",
      "The last element has been removes from the list: [1, 2]\n"
     ]
    }
   ],
   "source": [
    "l = [1,2,3]\n",
    "print(\"Returns the las element of the list: {0}\".format(l.pop()))\n",
    "print(\"The last element has been removes from the list: {0}\".format(l))"
   ]
  },
  {
   "cell_type": "markdown",
   "metadata": {
    "colab_type": "text",
    "id": "AolL1QlnXrkH"
   },
   "source": [
    "If you give an integer i to `pop(i)` it will return and remove form the list the ith element."
   ]
  },
  {
   "cell_type": "code",
   "execution_count": 30,
   "metadata": {
    "colab": {
     "base_uri": "https://localhost:8080/",
     "height": 34
    },
    "colab_type": "code",
    "id": "Zxi17rPdXKpp",
    "outputId": "d380139b-efa0-4e9d-d343-48850c946871"
   },
   "outputs": [
    {
     "data": {
      "text/plain": [
       "2"
      ]
     },
     "execution_count": 30,
     "metadata": {},
     "output_type": "execute_result"
    }
   ],
   "source": [
    "l = [1,2,3,4]\n",
    "l.pop(1)"
   ]
  }
 ],
 "metadata": {
  "colab": {
   "collapsed_sections": [],
   "name": "Session_1.ipynb",
   "provenance": []
  },
  "kernelspec": {
   "display_name": "Python 3",
   "language": "python",
   "name": "python3"
  },
  "language_info": {
   "codemirror_mode": {
    "name": "ipython",
    "version": 3
   },
   "file_extension": ".py",
   "mimetype": "text/x-python",
   "name": "python",
   "nbconvert_exporter": "python",
   "pygments_lexer": "ipython3",
   "version": "3.6.9"
  }
 },
 "nbformat": 4,
 "nbformat_minor": 1
}

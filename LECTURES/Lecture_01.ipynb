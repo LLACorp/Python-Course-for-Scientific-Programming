{
 "cells": [
  {
   "cell_type": "markdown",
   "metadata": {
    "colab_type": "text",
    "id": "cyTjRTM0il7B"
   },
   "source": [
    "# PYTHON COURSE FOR SCIENTIFIC PROGRAMMING \n",
    "**Contributors:** \\\n",
    "Artur Llabrés Brustenga: Artur.Llabres@e-campus.uab.cat \\\n",
    "Gerard Navarro Pérez: Gerard.NavarroP@e-campus.uab.cat \\\n",
    "Arnau Parrilla Gibert: Arnau.Parrilla@e-campus.uab.cat \\\n",
    "Jan Scarabelli Calopa: Jan.Scarabelli@e-campus.uab.cat \\\n",
    "Xabier Oyanguren Asua: Xabier.Oyanguren@e-campus.uab.cat \\\n",
    "\n",
    "Course material can be found at: https://llacorp.github.io/Python-Course-for-Scientific-Programming/ \n",
    "\n"
   ]
  },
  {
   "cell_type": "markdown",
   "metadata": {
    "colab_type": "text",
    "id": "84R6_TMeSlJs"
   },
   "source": [
    "# LECTURE I : Print, Input and Variables\n",
    "\n",
    "The `print()` function is used to output messages to the screen."
   ]
  },
  {
   "cell_type": "code",
   "execution_count": 26,
   "metadata": {
    "colab": {
     "base_uri": "https://localhost:8080/",
     "height": 34
    },
    "colab_type": "code",
    "id": "6nRjra85mszN",
    "outputId": "6c19016d-0cc3-48fc-e9fa-39c9bb3ba6af"
   },
   "outputs": [
    {
     "name": "stdout",
     "output_type": "stream",
     "text": [
      "Hello World!\n"
     ]
    }
   ],
   "source": [
    "print(\"Hello World!\")"
   ]
  },
  {
   "cell_type": "markdown",
   "metadata": {
    "colab_type": "text",
    "id": "kRK4-2n6X1DF"
   },
   "source": [
    "It is not necessary to write the content directly inside the print, we can save it to a ***variable*** first and then prtint the variable.\n",
    "\n",
    "A variable can be thought as a box where values can be stored.\n",
    "\n",
    "To define a variable, simply choose a name for it and use the `=` operator to set its value."
   ]
  },
  {
   "cell_type": "code",
   "execution_count": 3,
   "metadata": {
    "colab": {
     "base_uri": "https://localhost:8080/",
     "height": 34
    },
    "colab_type": "code",
    "id": "AVFlRfsBX0kH",
    "outputId": "88cc4aab-528d-46bc-8588-fc8167555cde"
   },
   "outputs": [
    {
     "name": "stdout",
     "output_type": "stream",
     "text": [
      "Hello World\n"
     ]
    }
   ],
   "source": [
    "welcome_message = \"Hello World!\" # save the string 'Hello World!' inside the variable 'welcome_message'. \n",
    "print(welcome_message)"
   ]
  },
  {
   "cell_type": "markdown",
   "metadata": {},
   "source": [
    "In the previous cell we have two instructions, the first one `name = \"\"` is called an assignment, the contents on the right- side of the equal are assigned to the variable whose name is in the left-side.\n",
    "\n",
    "The second instruction is the `print()` function that we have seen in the first example.\n",
    "\n",
    "The green letters after the `#` in the first line are called a **comment** and they are ignored by the python interpreter, this means that anything written after a `#` will not affect the code and therefore you can use it to take notes or clarify instructions right from inside the code cell instead of separating your comments from the code like this text.\n",
    "\n",
    "------"
   ]
  },
  {
   "cell_type": "markdown",
   "metadata": {},
   "source": [
    "Variables can have almost any name you want, just make sure that they do not start with a number, that they are not using special characters (like ! \" · $ \\% & \\/ ( ) ? ¿ * ^ ¨ ` ´ -), and that they are not using the same name as one of the Python reserved words (basically words that are use to tell things to the code, for example print)"
   ]
  },
  {
   "cell_type": "code",
   "execution_count": 27,
   "metadata": {},
   "outputs": [
    {
     "ename": "SyntaxError",
     "evalue": "invalid decimal literal (1643913289.py, line 1)",
     "output_type": "error",
     "traceback": [
      "\u001b[0;36m  Input \u001b[0;32mIn [27]\u001b[0;36m\u001b[0m\n\u001b[0;31m    1_name\u001b[0m\n\u001b[0m     ^\u001b[0m\n\u001b[0;31mSyntaxError\u001b[0m\u001b[0;31m:\u001b[0m invalid decimal literal\n"
     ]
    }
   ],
   "source": [
    "1name = \"text\" # this is not a valid variable name, because it is using a number"
   ]
  },
  {
   "cell_type": "code",
   "execution_count": 28,
   "metadata": {},
   "outputs": [
    {
     "ename": "SyntaxError",
     "evalue": "invalid syntax (203811646.py, line 1)",
     "output_type": "error",
     "traceback": [
      "\u001b[0;36m  Input \u001b[0;32mIn [28]\u001b[0;36m\u001b[0m\n\u001b[0;31m    money$ = \"text\" # this is not a valid variable name, because it is using a special character\u001b[0m\n\u001b[0m         ^\u001b[0m\n\u001b[0;31mSyntaxError\u001b[0m\u001b[0;31m:\u001b[0m invalid syntax\n"
     ]
    }
   ],
   "source": [
    "money$ = \"text\" # this is not a valid variable name, because it is using a special character"
   ]
  },
  {
   "cell_type": "code",
   "execution_count": 31,
   "metadata": {},
   "outputs": [
    {
     "ename": "TypeError",
     "evalue": "'str' object is not callable",
     "output_type": "error",
     "traceback": [
      "\u001b[0;31m---------------------------------------------------------------------------\u001b[0m",
      "\u001b[0;31mTypeError\u001b[0m                                 Traceback (most recent call last)",
      "Input \u001b[0;32mIn [31]\u001b[0m, in \u001b[0;36m<module>\u001b[0;34m\u001b[0m\n\u001b[1;32m      1\u001b[0m \u001b[38;5;28mprint\u001b[39m \u001b[38;5;241m=\u001b[39m \u001b[38;5;124m\"\u001b[39m\u001b[38;5;124mtext\u001b[39m\u001b[38;5;124m\"\u001b[39m  \u001b[38;5;66;03m# this will work as a variable name, but you should not use it\u001b[39;00m\n\u001b[0;32m----> 3\u001b[0m \u001b[38;5;28;43mprint\u001b[39;49m\u001b[43m(\u001b[49m\u001b[38;5;124;43m\"\u001b[39;49m\u001b[38;5;124;43mHello World!\u001b[39;49m\u001b[38;5;124;43m\"\u001b[39;49m\u001b[43m)\u001b[49m\n",
      "\u001b[0;31mTypeError\u001b[0m: 'str' object is not callable"
     ]
    }
   ],
   "source": [
    "print = \"text\"  # this will work as a variable name, but you should not use it\n",
    "\n",
    "print(\"Hello World!\") # because now print=\"text\" and not the function it is suposed to be"
   ]
  },
  {
   "cell_type": "markdown",
   "metadata": {},
   "source": [
    "Now print does not do what it is suposed to do, because we have reassigned it value when we did `print=\"text\"`. \n",
    "\n",
    "Until we restart the **Python Kernel** we will not be able to use `print()` -> to do so you can go to the menu bar (near the top of the page) -> Kernel -> Restart."
   ]
  },
  {
   "cell_type": "code",
   "execution_count": null,
   "metadata": {},
   "outputs": [],
   "source": [
    "print(\"This should work now\") # Run this after reseting the Python Kernel (Instruction above)"
   ]
  },
  {
   "cell_type": "markdown",
   "metadata": {},
   "source": [
    "The best way to know if you can use a variable name is to look at its color, if you are using one of Python reserved words it will be displayed in green if not in black."
   ]
  },
  {
   "cell_type": "code",
   "execution_count": null,
   "metadata": {},
   "outputs": [],
   "source": [
    "print, list, dict, int, bool, def, if, for, while... # all in green so do not use as variable name\n",
    "\n",
    "print1, name_list, dictionary, integer, boolean, define, for_loop, while_loop... # all in black so you can use them "
   ]
  },
  {
   "cell_type": "markdown",
   "metadata": {},
   "source": [
    "Basically if a name you want to use is reserved and displayed in green you can always add more letters or numbers to it to make it a valid variable name.\n",
    "\n",
    "-------------------------------"
   ]
  },
  {
   "cell_type": "markdown",
   "metadata": {},
   "source": [
    "Now we know how we can name a variable, but what can we put inside? (or more correcly said what **type** of values can be assigned to a variable)"
   ]
  },
  {
   "cell_type": "code",
   "execution_count": 3,
   "metadata": {
    "colab": {},
    "colab_type": "code",
    "id": "PCR654kGZ7z2"
   },
   "outputs": [],
   "source": [
    "a = \"hello\" # this is a string\n",
    "x = 42 # this is an integer\n",
    "y = 3.14 # this is a float\n",
    "z = True # this is a boolean"
   ]
  },
  {
   "cell_type": "markdown",
   "metadata": {},
   "source": [
    "So Python has different **types** you can think of a type as a familly of values that will \n",
    "behave in the same way.\n",
    "\n",
    "The first types we will see are:\n",
    "\n",
    "- **strings**\n",
    "- **integers**\n",
    "- **floats**\n",
    "- **booleans**\n",
    "\n",
    "In order to know the the type of a variable you can use `type()`"
   ]
  },
  {
   "cell_type": "markdown",
   "metadata": {},
   "source": [
    "### Strings\n",
    "\n",
    "A string (in short **str**) is a sequence of characters which can inlcude letters and numbers, we use the **\"** character to begin and close the string.\n",
    "\n",
    "We have been working with strings since the beggining: `\"Hello World!\"` is a string."
   ]
  },
  {
   "cell_type": "code",
   "execution_count": 4,
   "metadata": {},
   "outputs": [
    {
     "data": {
      "text/plain": [
       "str"
      ]
     },
     "execution_count": 4,
     "metadata": {},
     "output_type": "execute_result"
    }
   ],
   "source": [
    "string_var = \"This is a String, it has letter, but also numbers: 1231, 143.324, 0.1...\" # example of a string\n",
    "type(string_var) "
   ]
  },
  {
   "cell_type": "markdown",
   "metadata": {},
   "source": [
    "### Integers\n",
    "\n",
    "Integer (in short **int**) are possitive or negative numbers without decimals."
   ]
  },
  {
   "cell_type": "code",
   "execution_count": 5,
   "metadata": {},
   "outputs": [
    {
     "data": {
      "text/plain": [
       "int"
      ]
     },
     "execution_count": 5,
     "metadata": {},
     "output_type": "execute_result"
    }
   ],
   "source": [
    "int_var = 1\n",
    "type(int_var)"
   ]
  },
  {
   "cell_type": "code",
   "execution_count": 6,
   "metadata": {},
   "outputs": [
    {
     "data": {
      "text/plain": [
       "int"
      ]
     },
     "execution_count": 6,
     "metadata": {},
     "output_type": "execute_result"
    }
   ],
   "source": [
    "int_var1 = 4567\n",
    "type(int_var1)"
   ]
  },
  {
   "cell_type": "code",
   "execution_count": 7,
   "metadata": {},
   "outputs": [
    {
     "data": {
      "text/plain": [
       "int"
      ]
     },
     "execution_count": 7,
     "metadata": {},
     "output_type": "execute_result"
    }
   ],
   "source": [
    "int_var2 = -19\n",
    "type(int_var2)"
   ]
  },
  {
   "cell_type": "markdown",
   "metadata": {},
   "source": [
    "### Floats\n",
    "\n",
    "Floats are possitive or negative decimal numbers."
   ]
  },
  {
   "cell_type": "code",
   "execution_count": 8,
   "metadata": {},
   "outputs": [
    {
     "data": {
      "text/plain": [
       "float"
      ]
     },
     "execution_count": 8,
     "metadata": {},
     "output_type": "execute_result"
    }
   ],
   "source": [
    "float_var = 1.0\n",
    "type(float_var)"
   ]
  },
  {
   "cell_type": "code",
   "execution_count": 11,
   "metadata": {},
   "outputs": [
    {
     "data": {
      "text/plain": [
       "float"
      ]
     },
     "execution_count": 11,
     "metadata": {},
     "output_type": "execute_result"
    }
   ],
   "source": [
    "float_var1 = 3.1415\n",
    "type(float_var1)"
   ]
  },
  {
   "cell_type": "code",
   "execution_count": 10,
   "metadata": {},
   "outputs": [
    {
     "data": {
      "text/plain": [
       "float"
      ]
     },
     "execution_count": 10,
     "metadata": {},
     "output_type": "execute_result"
    }
   ],
   "source": [
    "float_var2 = -8.1\n",
    "type(float_var2)"
   ]
  },
  {
   "cell_type": "markdown",
   "metadata": {
    "colab_type": "text",
    "id": "KfEMkyg8aODJ"
   },
   "source": [
    "Unlike other programming languages python is not strongly typed, meaning that variables are not bound to a sigle type, therefore you could have a variable that stores a string and later change it to an *int*."
   ]
  },
  {
   "cell_type": "code",
   "execution_count": 15,
   "metadata": {
    "colab": {
     "base_uri": "https://localhost:8080/",
     "height": 52
    },
    "colab_type": "code",
    "id": "h3JRoYmwbk8i",
    "outputId": "58d016d6-a269-47f7-9fef-8fd1b470a53b"
   },
   "outputs": [
    {
     "name": "stdout",
     "output_type": "stream",
     "text": [
      "The quick brown fox jumps over the lazy dog\n",
      "<class 'str'>\n",
      "-------------\n",
      "208\n",
      "<class 'int'>\n"
     ]
    }
   ],
   "source": [
    "i = \"The quick brown fox jumps over the lazy dog\" # Here 'i' is a string\n",
    "print(i)\n",
    "print(type(i))\n",
    "\n",
    "print(\"-------------\") # just printing a line to separate the prints\n",
    "\n",
    "i = 208 # Now 'i' is an int\n",
    "print(i)\n",
    "print(type(i))"
   ]
  },
  {
   "cell_type": "markdown",
   "metadata": {},
   "source": [
    "Not only that, but the type of a variable can be changed without changing its contents using the functions `str()`, `int()`, `float()` and `bool()`"
   ]
  },
  {
   "cell_type": "code",
   "execution_count": 15,
   "metadata": {},
   "outputs": [
    {
     "name": "stdout",
     "output_type": "stream",
     "text": [
      "1\n",
      "<class 'str'>\n"
     ]
    }
   ],
   "source": [
    "var = \"1\"\n",
    "var_type = type(var) # Get the type of the variable 'var'\n",
    "print(var)\n",
    "print(var_type)"
   ]
  },
  {
   "cell_type": "code",
   "execution_count": 14,
   "metadata": {},
   "outputs": [
    {
     "name": "stdout",
     "output_type": "stream",
     "text": [
      "1\n",
      "<class 'int'>\n"
     ]
    }
   ],
   "source": [
    "var = \"1\"\n",
    "var = int(var) # Convert variable 'var' to type 'int'\n",
    "var_type = type(var) # Get the type of the variable 'var'\n",
    "print(var)\n",
    "print(var_type)"
   ]
  },
  {
   "cell_type": "code",
   "execution_count": 13,
   "metadata": {},
   "outputs": [
    {
     "name": "stdout",
     "output_type": "stream",
     "text": [
      "1.0\n",
      "<class 'float'>\n"
     ]
    }
   ],
   "source": [
    "var = \"1\"\n",
    "var = float(var) # Convert variable 'var' to type 'float'\n",
    "var_type = type(var) # Get the type of the variable 'var'\n",
    "print(var)\n",
    "print(var_type)"
   ]
  },
  {
   "cell_type": "code",
   "execution_count": 16,
   "metadata": {},
   "outputs": [
    {
     "name": "stdout",
     "output_type": "stream",
     "text": [
      "True\n",
      "<class 'bool'>\n"
     ]
    }
   ],
   "source": [
    "var = \"1\"\n",
    "var = bool(var) # Convert variable 'var' to type 'bool'\n",
    "var_type = type(var) # Get the type of the variable 'var'\n",
    "print(var)\n",
    "print(var_type)"
   ]
  },
  {
   "cell_type": "markdown",
   "metadata": {},
   "source": [
    "sidenote: bool(i) is True for any number besides 0 and any non-empty string. See below:"
   ]
  },
  {
   "cell_type": "code",
   "execution_count": 16,
   "metadata": {},
   "outputs": [
    {
     "name": "stdout",
     "output_type": "stream",
     "text": [
      "True\n",
      "True\n",
      "False\n",
      "False\n"
     ]
    }
   ],
   "source": [
    "print(bool(142124))\n",
    "print(bool(\"sdfghjkiuytredfghj\"))\n",
    "print(bool(0))\n",
    "print(bool(\"\"))"
   ]
  },
  {
   "cell_type": "markdown",
   "metadata": {
    "colab_type": "text",
    "id": "qDp8rUe9pPVe"
   },
   "source": [
    "---------------------\n",
    "\n",
    "## Operators"
   ]
  },
  {
   "cell_type": "markdown",
   "metadata": {},
   "source": [
    "### Sum\n",
    "\n",
    "`+`"
   ]
  },
  {
   "cell_type": "markdown",
   "metadata": {},
   "source": [
    "Between integers returns the sum of the two integers as an integer:"
   ]
  },
  {
   "cell_type": "code",
   "execution_count": 23,
   "metadata": {
    "colab": {
     "base_uri": "https://localhost:8080/",
     "height": 34
    },
    "colab_type": "code",
    "id": "VuUNeRinkXjw",
    "outputId": "4b3ce25d-a249-43e1-e6a3-fe351db6a08f"
   },
   "outputs": [
    {
     "name": "stdout",
     "output_type": "stream",
     "text": [
      "6\n",
      "<class 'int'>\n"
     ]
    }
   ],
   "source": [
    "a = 2\n",
    "b = 4\n",
    "c = a+b\n",
    "print(c)\n",
    "print(type(c))"
   ]
  },
  {
   "cell_type": "markdown",
   "metadata": {},
   "source": [
    "Between flaots returns the sum of the two floats as float:"
   ]
  },
  {
   "cell_type": "code",
   "execution_count": 24,
   "metadata": {
    "colab": {
     "base_uri": "https://localhost:8080/",
     "height": 34
    },
    "colab_type": "code",
    "id": "VuUNeRinkXjw",
    "outputId": "4b3ce25d-a249-43e1-e6a3-fe351db6a08f"
   },
   "outputs": [
    {
     "name": "stdout",
     "output_type": "stream",
     "text": [
      "1.0\n",
      "<class 'float'>\n"
     ]
    }
   ],
   "source": [
    "a = 0.8\n",
    "b = 0.2\n",
    "c = a+b\n",
    "print(c)\n",
    "print(type(c))"
   ]
  },
  {
   "cell_type": "markdown",
   "metadata": {},
   "source": [
    "Between a float and an int returns the sum of the two as a float:"
   ]
  },
  {
   "cell_type": "code",
   "execution_count": 25,
   "metadata": {
    "colab": {
     "base_uri": "https://localhost:8080/",
     "height": 34
    },
    "colab_type": "code",
    "id": "VuUNeRinkXjw",
    "outputId": "4b3ce25d-a249-43e1-e6a3-fe351db6a08f"
   },
   "outputs": [
    {
     "name": "stdout",
     "output_type": "stream",
     "text": [
      "5.8\n",
      "<class 'float'>\n"
     ]
    }
   ],
   "source": [
    "a = 0.8\n",
    "b = 5\n",
    "c = a+b\n",
    "print(c)\n",
    "print(type(c))"
   ]
  },
  {
   "cell_type": "markdown",
   "metadata": {},
   "source": [
    "Between two strings returns a string formed by concatenating the first one with the second one:"
   ]
  },
  {
   "cell_type": "code",
   "execution_count": 31,
   "metadata": {
    "colab": {},
    "colab_type": "code",
    "id": "Q-EcokgQsMXa"
   },
   "outputs": [
    {
     "name": "stdout",
     "output_type": "stream",
     "text": [
      "xkcd\n"
     ]
    }
   ],
   "source": [
    "a = \"xk\"\n",
    "b = \"cd\"\n",
    "print(a+b)"
   ]
  },
  {
   "cell_type": "markdown",
   "metadata": {},
   "source": [
    "Between two booleans, `True` is used as `1` and `False` is used as `0` and the output is an int:"
   ]
  },
  {
   "cell_type": "code",
   "execution_count": 29,
   "metadata": {},
   "outputs": [
    {
     "name": "stdout",
     "output_type": "stream",
     "text": [
      "1\n",
      "<class 'int'>\n"
     ]
    }
   ],
   "source": [
    "a = True\n",
    "b = False\n",
    "c = a+b\n",
    "print(c)\n",
    "print(type(c))"
   ]
  },
  {
   "cell_type": "markdown",
   "metadata": {},
   "source": [
    "### Multiplication\n",
    "`*`"
   ]
  },
  {
   "cell_type": "markdown",
   "metadata": {},
   "source": [
    "Between integers returns the result of the multiplication as an integer, the same between floats, but returns a float, and between an integer and a float returns a float."
   ]
  },
  {
   "cell_type": "code",
   "execution_count": 37,
   "metadata": {},
   "outputs": [
    {
     "name": "stdout",
     "output_type": "stream",
     "text": [
      "16.5\n",
      "<class 'float'>\n"
     ]
    }
   ],
   "source": [
    "a = 3\n",
    "b = 5.5\n",
    "c = a*b\n",
    "print(c)\n",
    "print(type(c))"
   ]
  },
  {
   "cell_type": "markdown",
   "metadata": {},
   "source": [
    "You can not multiply strings:"
   ]
  },
  {
   "cell_type": "code",
   "execution_count": 39,
   "metadata": {},
   "outputs": [
    {
     "ename": "TypeError",
     "evalue": "can't multiply sequence by non-int of type 'str'",
     "output_type": "error",
     "traceback": [
      "\u001b[0;31m---------------------------------------------------------------------------\u001b[0m",
      "\u001b[0;31mTypeError\u001b[0m                                 Traceback (most recent call last)",
      "Input \u001b[0;32mIn [39]\u001b[0m, in \u001b[0;36m<module>\u001b[0;34m\u001b[0m\n\u001b[1;32m      1\u001b[0m a \u001b[38;5;241m=\u001b[39m \u001b[38;5;124m\"\u001b[39m\u001b[38;5;124mhello\u001b[39m\u001b[38;5;124m\"\u001b[39m\n\u001b[1;32m      2\u001b[0m b \u001b[38;5;241m=\u001b[39m \u001b[38;5;124m\"\u001b[39m\u001b[38;5;124mgoodby\u001b[39m\u001b[38;5;124m\"\u001b[39m\n\u001b[0;32m----> 3\u001b[0m c \u001b[38;5;241m=\u001b[39m \u001b[43ma\u001b[49m\u001b[38;5;241;43m*\u001b[39;49m\u001b[43mb\u001b[49m\n\u001b[1;32m      4\u001b[0m \u001b[38;5;28mprint\u001b[39m(c)\n",
      "\u001b[0;31mTypeError\u001b[0m: can't multiply sequence by non-int of type 'str'"
     ]
    }
   ],
   "source": [
    "a = \"hello\"\n",
    "b = \"goodby\"\n",
    "c = a*b\n",
    "print(c)"
   ]
  },
  {
   "cell_type": "markdown",
   "metadata": {},
   "source": [
    "However, you can multiply a string with an integer:"
   ]
  },
  {
   "cell_type": "code",
   "execution_count": 14,
   "metadata": {
    "colab": {},
    "colab_type": "code",
    "id": "s50LxxBPsyVB"
   },
   "outputs": [
    {
     "name": "stdout",
     "output_type": "stream",
     "text": [
      "hahahahahaha\n"
     ]
    }
   ],
   "source": [
    "a = \"ha\"\n",
    "print(a*6)"
   ]
  },
  {
   "cell_type": "markdown",
   "metadata": {},
   "source": [
    "### Division\n",
    "`/`"
   ]
  },
  {
   "cell_type": "markdown",
   "metadata": {},
   "source": [
    "You can devide between integers or floats and the result is always a float, even if both operands where integer and the division is perfect"
   ]
  },
  {
   "cell_type": "code",
   "execution_count": 40,
   "metadata": {
    "colab": {
     "base_uri": "https://localhost:8080/",
     "height": 34
    },
    "colab_type": "code",
    "id": "2sdS7RSireF6",
    "outputId": "5e6b42f5-7e4e-4b6d-a870-3d84359d4d55"
   },
   "outputs": [
    {
     "name": "stdout",
     "output_type": "stream",
     "text": [
      "1.4285714285714286\n"
     ]
    }
   ],
   "source": [
    "a = 5\n",
    "b = 3.5\n",
    "print(a/b)"
   ]
  },
  {
   "cell_type": "code",
   "execution_count": 41,
   "metadata": {},
   "outputs": [
    {
     "name": "stdout",
     "output_type": "stream",
     "text": [
      "5.0\n",
      "<class 'float'>\n"
     ]
    }
   ],
   "source": [
    "a = 10\n",
    "b = 2\n",
    "c = a/b\n",
    "print(c)\n",
    "print(type(c))"
   ]
  },
  {
   "cell_type": "markdown",
   "metadata": {},
   "source": [
    "### Modulus\n",
    "\n",
    "`%`"
   ]
  },
  {
   "cell_type": "markdown",
   "metadata": {},
   "source": [
    "Returns the remainder of the division:"
   ]
  },
  {
   "cell_type": "code",
   "execution_count": 49,
   "metadata": {
    "colab": {
     "base_uri": "https://localhost:8080/",
     "height": 34
    },
    "colab_type": "code",
    "id": "WTCrm--gr5Bm",
    "outputId": "270fa098-ddf8-43e1-e3e8-9924de0fb9e8"
   },
   "outputs": [
    {
     "name": "stdout",
     "output_type": "stream",
     "text": [
      "2\n"
     ]
    }
   ],
   "source": [
    "a = 17\n",
    "b = 3\n",
    "print(a%b)"
   ]
  },
  {
   "cell_type": "markdown",
   "metadata": {},
   "source": [
    "If a number is divisible by another the remainder of the division is 0:"
   ]
  },
  {
   "cell_type": "code",
   "execution_count": 50,
   "metadata": {},
   "outputs": [
    {
     "name": "stdout",
     "output_type": "stream",
     "text": [
      "0\n"
     ]
    }
   ],
   "source": [
    "a = 18\n",
    "b = 3\n",
    "print(a%b)"
   ]
  },
  {
   "cell_type": "markdown",
   "metadata": {},
   "source": [
    "## Comparators\n",
    "\n",
    "`==`, `>`, `>=`, `<`, `<=`"
   ]
  },
  {
   "cell_type": "markdown",
   "metadata": {},
   "source": [
    "Compare two values and return a boolean (True or False):"
   ]
  },
  {
   "cell_type": "code",
   "execution_count": 12,
   "metadata": {
    "colab": {},
    "colab_type": "code",
    "id": "9dLL-eVfwbRl"
   },
   "outputs": [
    {
     "name": "stdout",
     "output_type": "stream",
     "text": [
      "False\n"
     ]
    }
   ],
   "source": [
    "a = 3.1415\n",
    "b = 4\n",
    "print(a>=b)"
   ]
  },
  {
   "cell_type": "markdown",
   "metadata": {},
   "source": [
    "When comparing integers with floats, the integer is internally converted to float, this is why `1` and `1.0` are equal."
   ]
  },
  {
   "cell_type": "code",
   "execution_count": 4,
   "metadata": {},
   "outputs": [
    {
     "name": "stdout",
     "output_type": "stream",
     "text": [
      "True\n"
     ]
    }
   ],
   "source": [
    "a = 1\n",
    "b = 1.0\n",
    "print(a==b)"
   ]
  },
  {
   "cell_type": "markdown",
   "metadata": {},
   "source": [
    "This conversion is not done when comparing integers or floats to strings and therefore `1` is not equal `\"1\"`"
   ]
  },
  {
   "cell_type": "code",
   "execution_count": 3,
   "metadata": {},
   "outputs": [
    {
     "name": "stdout",
     "output_type": "stream",
     "text": [
      "False\n"
     ]
    }
   ],
   "source": [
    "a = 1\n",
    "b = \"1\"\n",
    "print(a==b)"
   ]
  },
  {
   "cell_type": "markdown",
   "metadata": {},
   "source": [
    "Summary of the operators:\n",
    "* `a+b`: sum\n",
    "* `a*b`: multiplication\n",
    "* `a**n`: power\n",
    "* `a/b`: true division\n",
    "* `a%b`: modulus (remainder of the division)\n",
    "* `a==b`: checks if a and b are equal and returns a boolean (True or False)\n",
    "* `a!=b`: checks if a and b are diferent and returns a boolean\n",
    "* `a > b`: checks if a is greater than b and returns a boolean\n",
    "* `a < b`: checks if a is less than b and returns a boolean\n",
    "* `a >= b` and `a <= b`: greater iqual and lesser iqual, return booleans"
   ]
  },
  {
   "cell_type": "markdown",
   "metadata": {
    "colab_type": "text",
    "id": "Wz3m3qTOeWTF"
   },
   "source": [
    "------------------------------\n",
    "\n",
    "## Input\n",
    "\n",
    "The `input()` function is used to get a value from a user.\n",
    "\n",
    "The output of this function is a string that can be saved to a variable."
   ]
  },
  {
   "cell_type": "code",
   "execution_count": null,
   "metadata": {
    "colab": {
     "base_uri": "https://localhost:8080/",
     "height": 52
    },
    "colab_type": "code",
    "id": "2RjQrLkbh1xf",
    "outputId": "699228b3-57bf-41f5-ba1c-52da907fa61a"
   },
   "outputs": [],
   "source": [
    "name = input(\"Whats your name? \")\n",
    "print(name)"
   ]
  },
  {
   "cell_type": "markdown",
   "metadata": {
    "colab_type": "text",
    "id": "93u37v8MiUvh"
   },
   "source": [
    "The output of the `input()` function is always a *string*."
   ]
  },
  {
   "cell_type": "code",
   "execution_count": 23,
   "metadata": {},
   "outputs": [
    {
     "name": "stdout",
     "output_type": "stream",
     "text": [
      "Choose a number between 1 and 11: 10\n"
     ]
    },
    {
     "ename": "TypeError",
     "evalue": "can only concatenate str (not \"int\") to str",
     "output_type": "error",
     "traceback": [
      "\u001b[0;31m---------------------------------------------------------------------------\u001b[0m",
      "\u001b[0;31mTypeError\u001b[0m                                 Traceback (most recent call last)",
      "Input \u001b[0;32mIn [23]\u001b[0m, in \u001b[0;36m<module>\u001b[0;34m\u001b[0m\n\u001b[1;32m      1\u001b[0m number \u001b[38;5;241m=\u001b[39m \u001b[38;5;28minput\u001b[39m(\u001b[38;5;124m\"\u001b[39m\u001b[38;5;124mChoose a number between 1 and 11: \u001b[39m\u001b[38;5;124m\"\u001b[39m)\n\u001b[0;32m----> 2\u001b[0m \u001b[38;5;28mprint\u001b[39m(\u001b[43mnumber\u001b[49m\u001b[38;5;241;43m+\u001b[39;49m\u001b[38;5;241;43m5\u001b[39;49m)\n",
      "\u001b[0;31mTypeError\u001b[0m: can only concatenate str (not \"int\") to str"
     ]
    }
   ],
   "source": [
    "number = input(\"Choose a number between 1 and 11: \")\n",
    "print(number+5)"
   ]
  },
  {
   "cell_type": "markdown",
   "metadata": {},
   "source": [
    "As mentioned above the output of the `input()` function is always a string. This is why the `+` is giving us an error. We are trying to sum a string with an integer. If we use `int()` before saving the value to the variable then it will be saved as an integer and we will not have any problem to sum it with another number."
   ]
  },
  {
   "cell_type": "code",
   "execution_count": 24,
   "metadata": {
    "colab": {
     "base_uri": "https://localhost:8080/",
     "height": 52
    },
    "colab_type": "code",
    "id": "DY6yw2Ugi3yh",
    "outputId": "4072f4aa-7473-4a19-cc6a-258752d4b659"
   },
   "outputs": [
    {
     "name": "stdout",
     "output_type": "stream",
     "text": [
      "Choose a number between 1 and 11: 10\n",
      "15\n"
     ]
    }
   ],
   "source": [
    "number = int(input(\"Choose a number between 1 and 11: \"))\n",
    "print(number+5)"
   ]
  },
  {
   "cell_type": "markdown",
   "metadata": {
    "colab_type": "text",
    "id": "k75DUnoYtpIY"
   },
   "source": [
    "# If, Elif, Else\n",
    "\n",
    "The `if():` clause takes in a boolean value and executes the code below if the boolean was true."
   ]
  },
  {
   "cell_type": "code",
   "execution_count": 51,
   "metadata": {
    "colab": {},
    "colab_type": "code",
    "id": "DmuoGxVlzdSD"
   },
   "outputs": [
    {
     "name": "stdout",
     "output_type": "stream",
     "text": [
      "a is greater than b\n",
      "Code outside the if is always executed\n"
     ]
    }
   ],
   "source": [
    "a = 5\n",
    "b = 2\n",
    "if(a > b):\n",
    "    print(\"a is greater than b\")\n",
    "print(\"Code outside the if is always executed\")"
   ]
  },
  {
   "cell_type": "code",
   "execution_count": 52,
   "metadata": {
    "colab": {},
    "colab_type": "code",
    "id": "VbGbQiA91lx3"
   },
   "outputs": [
    {
     "name": "stdout",
     "output_type": "stream",
     "text": [
      "Code outside the if is always executed\n"
     ]
    }
   ],
   "source": [
    "a = 5\n",
    "b = 2\n",
    "if(a < b):\n",
    "    print(\"a is lesser than b\")\n",
    "print(\"Code outside the if is always executed\")"
   ]
  },
  {
   "cell_type": "markdown",
   "metadata": {
    "colab_type": "text",
    "id": "VUEc2VaJ2SK0"
   },
   "source": [
    "The `elif():` function can be used to add other conditions after an if."
   ]
  },
  {
   "cell_type": "code",
   "execution_count": 53,
   "metadata": {
    "colab": {},
    "colab_type": "code",
    "id": "isKvsPbF2bWg"
   },
   "outputs": [
    {
     "name": "stdout",
     "output_type": "stream",
     "text": [
      "a is greater than b\n",
      "Code outside the if is always executed\n"
     ]
    }
   ],
   "source": [
    "a = 5\n",
    "b = 2\n",
    "if(a < b):\n",
    "    print(\"a is lesser than b\")\n",
    "elif(a > b):\n",
    "    print(\"a is greater than b\")\n",
    "print(\"Code outside the if is always executed\")"
   ]
  },
  {
   "cell_type": "markdown",
   "metadata": {
    "colab_type": "text",
    "id": "cODlvN1v2rsU"
   },
   "source": [
    "The `else:` function executes the code below if all the conditions from the if and elifs above are false."
   ]
  },
  {
   "cell_type": "code",
   "execution_count": 54,
   "metadata": {
    "colab": {
     "base_uri": "https://localhost:8080/",
     "height": 52
    },
    "colab_type": "code",
    "id": "GwV6Fn623oyM",
    "outputId": "07d16215-a8e8-494e-aaab-5d652850875b"
   },
   "outputs": [
    {
     "name": "stdout",
     "output_type": "stream",
     "text": [
      "if a is not greater nor lesser than b, then a must be equal to b\n",
      "Code outside the if is always executed\n"
     ]
    }
   ],
   "source": [
    "a = 5\n",
    "b = 5\n",
    "if(a < b):\n",
    "    print(\"a is lesser than b\")\n",
    "elif(a > b):\n",
    "    print(\"a is greater than b\")\n",
    "else:\n",
    "    print(\"if a is not greater nor lesser than b, then a must be equal to b\")\n",
    "print(\"Code outside the if is always executed\")"
   ]
  },
  {
   "cell_type": "markdown",
   "metadata": {},
   "source": [
    "Just to say it explicitly you can add as many lines of code as you want below each part of the `if`, `elif` and `else`."
   ]
  },
  {
   "cell_type": "markdown",
   "metadata": {
    "colab_type": "text",
    "id": "wGBNlZy8RGDa"
   },
   "source": [
    "# Lists\n",
    "Lists are sequences of values of any type, in fact they are ***iterable*** objects (we will talk about that on following sessions).\n"
   ]
  },
  {
   "cell_type": "markdown",
   "metadata": {
    "colab_type": "text",
    "id": "lnbzmX_RRZRS"
   },
   "source": [
    "Creating a list: \n"
   ]
  },
  {
   "cell_type": "code",
   "execution_count": 20,
   "metadata": {
    "colab": {},
    "colab_type": "code",
    "id": "gI0Xn-WZRXz-"
   },
   "outputs": [],
   "source": [
    "list_of_ints = [1,6,1,8,0,3,4]\n",
    "list_of_chars = [\"Y\",\"M\",\"C\",\"A\"]\n",
    "list_of_floats = [0.123, 4.20, 13.4, 6.9]\n",
    "list_of_multiple_types = [1, \"one\", 1.0]"
   ]
  },
  {
   "cell_type": "markdown",
   "metadata": {
    "colab_type": "text",
    "id": "4d2qXuUbThXz"
   },
   "source": [
    "Even lists of lists can be made:"
   ]
  },
  {
   "cell_type": "code",
   "execution_count": 21,
   "metadata": {
    "colab": {},
    "colab_type": "code",
    "id": "qVSsBEB2TdcN"
   },
   "outputs": [],
   "source": [
    "list_of_lists = [[1,2,3,4], [0.2,6,3,\"A\"], \"string\", [1,2], 42]"
   ]
  },
  {
   "cell_type": "markdown",
   "metadata": {
    "colab_type": "text",
    "id": "gOI0s0f6T0Av"
   },
   "source": [
    "Some of the operators seen before can also be used with lists:"
   ]
  },
  {
   "cell_type": "markdown",
   "metadata": {},
   "source": [
    "The `+` sign concatenates lists:"
   ]
  },
  {
   "cell_type": "code",
   "execution_count": 55,
   "metadata": {
    "colab": {
     "base_uri": "https://localhost:8080/",
     "height": 34
    },
    "colab_type": "code",
    "id": "EtfEReTETzIL",
    "outputId": "56296ea5-5716-4a52-e3c0-438f7bf59016"
   },
   "outputs": [
    {
     "name": "stdout",
     "output_type": "stream",
     "text": [
      "[1, 2, 3, 3, 2, 1]\n"
     ]
    }
   ],
   "source": [
    "l1=[1,2,3]\n",
    "l2=[3,2,1]\n",
    "print(l1+l2)"
   ]
  },
  {
   "cell_type": "markdown",
   "metadata": {},
   "source": [
    "The `*` sign extents the list by making copies of itself `x` times (where `x` is an integer):"
   ]
  },
  {
   "cell_type": "code",
   "execution_count": 57,
   "metadata": {
    "colab": {
     "base_uri": "https://localhost:8080/",
     "height": 34
    },
    "colab_type": "code",
    "id": "-cGr7XLqUnpd",
    "outputId": "a97b9e0c-7d33-458c-d16c-4ebdd2befd43"
   },
   "outputs": [
    {
     "name": "stdout",
     "output_type": "stream",
     "text": [
      "[1, 2, 3, 1, 2, 3, 1, 2, 3]\n"
     ]
    }
   ],
   "source": [
    "l1=[1,2,3]\n",
    "print(l1*3)"
   ]
  },
  {
   "cell_type": "markdown",
   "metadata": {
    "colab_type": "text",
    "id": "T7LsTSNjYBtu"
   },
   "source": [
    "Using `name_of_a_list[integer]` you can get the ith value of the list. **Keep in mind that lists start at 0**, so `name_of_a_list[0]` will get you the first element."
   ]
  },
  {
   "cell_type": "code",
   "execution_count": 58,
   "metadata": {
    "colab": {
     "base_uri": "https://localhost:8080/",
     "height": 86
    },
    "colab_type": "code",
    "id": "YXHowsY4YBM3",
    "outputId": "73f98f55-bd3a-4b8c-b428-a78f145345c6"
   },
   "outputs": [
    {
     "name": "stdout",
     "output_type": "stream",
     "text": [
      "1\n",
      "2\n"
     ]
    }
   ],
   "source": [
    "l = [1,2,3,4]\n",
    "print(l[0]) #first element\n",
    "print(l[1]) #second element"
   ]
  },
  {
   "cell_type": "markdown",
   "metadata": {},
   "source": [
    "If you try to access a position outside of the list, you will get this error:"
   ]
  },
  {
   "cell_type": "code",
   "execution_count": 59,
   "metadata": {},
   "outputs": [
    {
     "ename": "IndexError",
     "evalue": "list index out of range",
     "output_type": "error",
     "traceback": [
      "\u001b[0;31m---------------------------------------------------------------------------\u001b[0m",
      "\u001b[0;31mIndexError\u001b[0m                                Traceback (most recent call last)",
      "Input \u001b[0;32mIn [59]\u001b[0m, in \u001b[0;36m<module>\u001b[0;34m\u001b[0m\n\u001b[1;32m      1\u001b[0m l \u001b[38;5;241m=\u001b[39m [\u001b[38;5;241m1\u001b[39m,\u001b[38;5;241m2\u001b[39m,\u001b[38;5;241m3\u001b[39m,\u001b[38;5;241m4\u001b[39m]\n\u001b[0;32m----> 2\u001b[0m \u001b[38;5;28mprint\u001b[39m(\u001b[43ml\u001b[49m\u001b[43m[\u001b[49m\u001b[38;5;241;43m10\u001b[39;49m\u001b[43m]\u001b[49m)\n",
      "\u001b[0;31mIndexError\u001b[0m: list index out of range"
     ]
    }
   ],
   "source": [
    "l = [1,2,3,4]\n",
    "print(l[10]) # eleventh element, which does not exist"
   ]
  },
  {
   "cell_type": "markdown",
   "metadata": {},
   "source": [
    "You can access the list backwards using negative numbers where `name_of_a_list[-1]` is the last element of the list."
   ]
  },
  {
   "cell_type": "code",
   "execution_count": 61,
   "metadata": {},
   "outputs": [
    {
     "name": "stdout",
     "output_type": "stream",
     "text": [
      "4\n",
      "3\n"
     ]
    }
   ],
   "source": [
    "l = [1,2,3,4]\n",
    "print(l[-1]) #last element\n",
    "print(l[-2]) #sencond to last element"
   ]
  },
  {
   "cell_type": "markdown",
   "metadata": {
    "colab_type": "text",
    "id": "YODcJAvqZYK8"
   },
   "source": [
    "What happens if we have a list of a list?\n",
    "\n",
    "Basically we can do `[·]` twice.\n",
    "\n",
    "If the ith element of a list is another list of which you want the jth element the following can be used `list[i][j]`"
   ]
  },
  {
   "cell_type": "code",
   "execution_count": 63,
   "metadata": {},
   "outputs": [
    {
     "name": "stdout",
     "output_type": "stream",
     "text": [
      "[4, 5, 6]\n",
      "6\n"
     ]
    }
   ],
   "source": [
    "l = [[1,2,3],[4,5,6]] # list of lists\n",
    "\n",
    "l2 = l[1] # get the second element of the list 'l' which is the second list and save it to l2\n",
    "print(l2)\n",
    "\n",
    "print(l2[2]) # print third element of l2"
   ]
  },
  {
   "cell_type": "code",
   "execution_count": 65,
   "metadata": {
    "colab": {
     "base_uri": "https://localhost:8080/",
     "height": 34
    },
    "colab_type": "code",
    "id": "SAEWjJe5Z_DO",
    "outputId": "7eaa63dc-f4af-48fb-ea34-fa98499dd775"
   },
   "outputs": [
    {
     "name": "stdout",
     "output_type": "stream",
     "text": [
      "6\n"
     ]
    }
   ],
   "source": [
    "# same as above but in one step using list[i][j]\n",
    "l = [[1,2,3],[4,5,6]]\n",
    "print(l[1][2]) # third element of the second list"
   ]
  },
  {
   "cell_type": "markdown",
   "metadata": {
    "colab_type": "text",
    "id": "JNAb_rT-cwhq"
   },
   "source": [
    "You can get a sublist of your list using `name_of_a_list[x:y]`, for example:"
   ]
  },
  {
   "cell_type": "markdown",
   "metadata": {},
   "source": [
    "From the second element of the list to the last:"
   ]
  },
  {
   "cell_type": "code",
   "execution_count": 69,
   "metadata": {
    "colab": {
     "base_uri": "https://localhost:8080/",
     "height": 69
    },
    "colab_type": "code",
    "id": "4ajRP8zidHaV",
    "outputId": "cb7b0af1-b3b6-444a-b4ee-63d52a205c4e"
   },
   "outputs": [
    {
     "name": "stdout",
     "output_type": "stream",
     "text": [
      "[1, 2, 3, 4, 5, 6]\n"
     ]
    }
   ],
   "source": [
    "l = [0,1,2,3,4,5,6]\n",
    "print(l[1:])"
   ]
  },
  {
   "cell_type": "markdown",
   "metadata": {},
   "source": [
    "From the first element to the third:"
   ]
  },
  {
   "cell_type": "code",
   "execution_count": 68,
   "metadata": {},
   "outputs": [
    {
     "name": "stdout",
     "output_type": "stream",
     "text": [
      "[0, 1, 2]\n"
     ]
    }
   ],
   "source": [
    "print(l[:3])"
   ]
  },
  {
   "cell_type": "markdown",
   "metadata": {},
   "source": [
    "From the third element to the penultimate:"
   ]
  },
  {
   "cell_type": "code",
   "execution_count": 70,
   "metadata": {},
   "outputs": [
    {
     "name": "stdout",
     "output_type": "stream",
     "text": [
      "[2, 3, 4, 5]\n"
     ]
    }
   ],
   "source": [
    "print(l[2:-1])"
   ]
  },
  {
   "cell_type": "markdown",
   "metadata": {
    "colab_type": "text",
    "id": "gfi7gTrfVZur"
   },
   "source": [
    "`len()` returns the length of a list, aka how many elements are there in the list:"
   ]
  },
  {
   "cell_type": "code",
   "execution_count": 75,
   "metadata": {
    "colab": {
     "base_uri": "https://localhost:8080/",
     "height": 34
    },
    "colab_type": "code",
    "id": "GzYzHuoAVJ86",
    "outputId": "d654d0d2-28bb-48a4-ab74-dd0c28cb3538"
   },
   "outputs": [
    {
     "name": "stdout",
     "output_type": "stream",
     "text": [
      "6\n"
     ]
    }
   ],
   "source": [
    "l = [1,2,3,4,5,6]\n",
    "print(len(l))"
   ]
  },
  {
   "cell_type": "markdown",
   "metadata": {},
   "source": [
    "---------------------\n",
    "\n",
    "Everything that we have shown util now about lists can also be done with strings:"
   ]
  },
  {
   "cell_type": "code",
   "execution_count": 74,
   "metadata": {},
   "outputs": [
    {
     "name": "stdout",
     "output_type": "stream",
     "text": [
      "T\n",
      "g\n",
      "s is a \n",
      "16\n"
     ]
    }
   ],
   "source": [
    "s = \"This is a string\"\n",
    "print(s[0]) # First character\n",
    "print(s[-1]) # Last character\n",
    "print(s[3:10]) # The characters 4 to 10 of the string\n",
    "print(len(s)) # How long is the string"
   ]
  },
  {
   "cell_type": "markdown",
   "metadata": {},
   "source": [
    "---------------------"
   ]
  },
  {
   "cell_type": "markdown",
   "metadata": {
    "colab_type": "text",
    "id": "JhUbD620WmRT"
   },
   "source": [
    "`.append()` is used to add an element at the end of the list:"
   ]
  },
  {
   "cell_type": "code",
   "execution_count": 76,
   "metadata": {
    "colab": {
     "base_uri": "https://localhost:8080/",
     "height": 34
    },
    "colab_type": "code",
    "id": "NycZVcsGWsHO",
    "outputId": "a4f85e34-d6c4-4868-bc13-c2bb8da2b057"
   },
   "outputs": [
    {
     "name": "stdout",
     "output_type": "stream",
     "text": [
      "[1, 1, 1]\n",
      "[1, 1, 1, 7]\n"
     ]
    }
   ],
   "source": [
    "l = [1,1,1]\n",
    "print(l)\n",
    "l.append(7) # append modifies the base list \n",
    "print(l)"
   ]
  },
  {
   "cell_type": "markdown",
   "metadata": {
    "colab_type": "text",
    "id": "l9llR82VXCIq"
   },
   "source": [
    "`.pop()` removes the last element from a list and returns it:"
   ]
  },
  {
   "cell_type": "code",
   "execution_count": 77,
   "metadata": {
    "colab": {
     "base_uri": "https://localhost:8080/",
     "height": 52
    },
    "colab_type": "code",
    "id": "3Znx7URhXGlj",
    "outputId": "79447d97-3b0a-4ad4-89c2-3bafd68c86c1"
   },
   "outputs": [
    {
     "name": "stdout",
     "output_type": "stream",
     "text": [
      "[1, 2, 3]\n",
      "3\n",
      "[1, 2]\n"
     ]
    }
   ],
   "source": [
    "l = [1,2,3]\n",
    "print(l)\n",
    "print(l.pop()) # Removes and retuns the last element of the list\n",
    "print(l)"
   ]
  },
  {
   "cell_type": "markdown",
   "metadata": {
    "colab_type": "text",
    "id": "AolL1QlnXrkH"
   },
   "source": [
    "If you give an integer to `.pop(i)` it will return and remove form the list the i-th element."
   ]
  },
  {
   "cell_type": "code",
   "execution_count": 79,
   "metadata": {
    "colab": {
     "base_uri": "https://localhost:8080/",
     "height": 34
    },
    "colab_type": "code",
    "id": "Zxi17rPdXKpp",
    "outputId": "d380139b-efa0-4e9d-d343-48850c946871"
   },
   "outputs": [
    {
     "name": "stdout",
     "output_type": "stream",
     "text": [
      "[1, 2, 3, 4]\n",
      "2\n",
      "[1, 3, 4]\n"
     ]
    }
   ],
   "source": [
    "l = [1,2,3,4]\n",
    "print(l)\n",
    "print(l.pop(1))\n",
    "print(l)"
   ]
  }
 ],
 "metadata": {
  "colab": {
   "collapsed_sections": [],
   "name": "Session_1.ipynb",
   "provenance": []
  },
  "kernelspec": {
   "display_name": "Python 3 (ipykernel)",
   "language": "python",
   "name": "python3"
  },
  "language_info": {
   "codemirror_mode": {
    "name": "ipython",
    "version": 3
   },
   "file_extension": ".py",
   "mimetype": "text/x-python",
   "name": "python",
   "nbconvert_exporter": "python",
   "pygments_lexer": "ipython3",
   "version": "3.9.7"
  }
 },
 "nbformat": 4,
 "nbformat_minor": 1
}

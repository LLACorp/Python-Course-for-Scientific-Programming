{
 "cells": [
  {
   "cell_type": "markdown",
   "metadata": {},
   "source": [
    "# File manipulation"
   ]
  },
  {
   "cell_type": "markdown",
   "metadata": {},
   "source": [
    "- Files are used to save all processed data in each execution. There are two types of them: text and binary.\n",
    "- We will learn some of the most common functions to manipulate files\n",
    "- Despite each OS has its own system to create and access files, Python is independent of it as it uses a \"file handle\""
   ]
  },
  {
   "cell_type": "markdown",
   "metadata": {},
   "source": [
    "## File Handing\n",
    "\n",
    "### Open\n",
    "\n",
    "\n",
    "The key function for working with files in Python is the open() function. It takes two parameters: filename, and mode.\n",
    "\n",
    "There are four different methods (modes) for opening a file:"
   ]
  },
  {
   "cell_type": "markdown",
   "metadata": {},
   "source": [
    "| Indicator | Opening mode | Opening mode + | Pointer |\n",
    "| --- | --- | --- | --- |\n",
    "| r/r+ | Read only | +writing | Beginning |\n",
    "| w/w+ | Write only. Overwrites file if already existing. Creates file otherwise | +reading | Beginning |\n",
    "| x/x+ | Write only. FileExistsError if already exists. Creates file otherwise | +reading | Beginning | \n",
    "| a/a+ | Add if file exists. Creates file otherwise. | +read & write | End\n",
    "\n",
    "\n",
    "Let's see an example:"
   ]
  },
  {
   "cell_type": "code",
   "execution_count": 2,
   "metadata": {},
   "outputs": [],
   "source": [
    "nameHandle = open(\"File.txt\",\"w\")"
   ]
  },
  {
   "cell_type": "markdown",
   "metadata": {},
   "source": [
    "where:\n",
    "- nameHandle stands for the name of the file handle\n",
    "- open() is the function to open a file\n",
    "- \"File.txt\" is the name (string) of the file we want to open\n",
    "- \"w\" indicates we want to write on this file"
   ]
  },
  {
   "cell_type": "markdown",
   "metadata": {},
   "source": [
    "Moreover, it is possible to specify if the file should be handled as binary or text mode:\n",
    "\n",
    "| Indicator | Opening mode | Example of use |\n",
    "| --- | --- | --- |\n",
    "| t | Text | Texts |\n",
    "| b | Binary | Images |\n",
    "\n",
    "The default parameter is 'rt', meaning the file would be opened in text-reading mode."
   ]
  },
  {
   "cell_type": "markdown",
   "metadata": {},
   "source": [
    "### Write and Close"
   ]
  },
  {
   "cell_type": "markdown",
   "metadata": {},
   "source": [
    "We can refer the file handle as a variable with associateed functions that allow the user to manipulate files. One of the functions is write(). Let's see an example."
   ]
  },
  {
   "cell_type": "code",
   "execution_count": 2,
   "metadata": {},
   "outputs": [],
   "source": [
    "fileHandle = open(\"File.txt\",\"w\") #Creation of the file\n",
    "fileHandle.write(\"Hi!\\nWelcome to the python course.\\n\")\n",
    "fileHandle.write(\"Enjoy!\\n\")\n",
    "fileHandle.close()"
   ]
  },
  {
   "cell_type": "markdown",
   "metadata": {},
   "source": [
    "You may have noticed '\\n'. The character '\\\\' is an escapement character, meaning that the following one must be treated in a speacial way. In this case, for example, the string '\\n' indicates the beginning of a new line."
   ]
  },
  {
   "cell_type": "markdown",
   "metadata": {},
   "source": [
    "After having edited the file, we want to save the changes to let other programmes access its contents. To do so, we use close() function.\n",
    "\n",
    "\n",
    "\n",
    "The result of this operation will be the creation of the file in this same directory. Is it possible to create files and other subdirectories in other locations? Absolutely! \n",
    "\n",
    "To create a file in another location, we can use $\\texttt{pathlib}$ library to know our current location and change it for the location we want to save the file in. On the other hand, $\\texttt{os}$ library allows us to works with files nd directories of our Operative System.\n",
    "\n",
    "Note: If needed you can install the libraries by executing $\\texttt{pip install os}$ and $\\texttt{pip install pathlib}$."
   ]
  },
  {
   "cell_type": "code",
   "execution_count": 3,
   "metadata": {},
   "outputs": [
    {
     "name": "stdout",
     "output_type": "stream",
     "text": [
      "/home/janska/Documents/UAB/PythonCourse/Theory\n",
      "The directory has been created succesfully!\n"
     ]
    }
   ],
   "source": [
    "import os\n",
    "import pathlib\n",
    "\n",
    "path = pathlib.Path().absolute()\n",
    "print(path)\n",
    "\n",
    "try:\n",
    "    os.mkdir(\"aux_directory/\")\n",
    "    print(\"The directory has been created succesfully!\")\n",
    "\n",
    "except FileExistsError as exc:\n",
    "    print(exc)"
   ]
  },
  {
   "cell_type": "code",
   "execution_count": 4,
   "metadata": {},
   "outputs": [],
   "source": [
    "new_path = str(path) + \"/aux_directory/\"\n",
    "\n",
    "fileHandle = open(new_path + \"File.txt\",\"w\")\n",
    "fileHandle.write(\"This file is located in a diferent location\\n\")\n",
    "fileHandle.close()"
   ]
  },
  {
   "cell_type": "markdown",
   "metadata": {},
   "source": [
    "It is possible to create files and directories in previous locations as well:"
   ]
  },
  {
   "cell_type": "code",
   "execution_count": 5,
   "metadata": {},
   "outputs": [
    {
     "name": "stdout",
     "output_type": "stream",
     "text": [
      "[Errno 17] File exists: '/home/janska/Documents/UAB/auxPythonCourse/'\n"
     ]
    }
   ],
   "source": [
    "new_path = \"/home/janska/Documents/UAB/auxPythonCourse/\"\n",
    "\n",
    "try:\n",
    "    os.mkdir(new_path)\n",
    "    print(\"The directory has been created succesfully!\")\n",
    "\n",
    "except FileExistsError as exc:\n",
    "    print(exc)"
   ]
  },
  {
   "cell_type": "code",
   "execution_count": 6,
   "metadata": {},
   "outputs": [],
   "source": [
    "fileHandle = open(new_path + \"File.txt\",\"w\")\n",
    "fileHandle.write(\"This file is located in another diferent location: auxPythonCourse\\n\")\n",
    "fileHandle.close()"
   ]
  },
  {
   "cell_type": "markdown",
   "metadata": {},
   "source": [
    "### Read"
   ]
  },
  {
   "cell_type": "markdown",
   "metadata": {},
   "source": [
    "The instruction $\\texttt{read}()$ allows us to read a file. Let's see the following example"
   ]
  },
  {
   "cell_type": "code",
   "execution_count": 7,
   "metadata": {},
   "outputs": [
    {
     "name": "stdout",
     "output_type": "stream",
     "text": [
      "Hi!\n",
      "Welcome to the python course.\n",
      "Enjoy!\n",
      "\n"
     ]
    }
   ],
   "source": [
    "fileHandle = open(\"File.txt\",\"r\") #read only\n",
    "print(fileHandle.read())\n",
    "fileHandle.close()"
   ]
  },
  {
   "cell_type": "markdown",
   "metadata": {},
   "source": [
    "It also accepts an integer as a parameter to indicate the number of characters to read:"
   ]
  },
  {
   "cell_type": "code",
   "execution_count": 8,
   "metadata": {},
   "outputs": [
    {
     "name": "stdout",
     "output_type": "stream",
     "text": [
      "Hi!\n",
      "W\n"
     ]
    }
   ],
   "source": [
    "fileHandle = open(\"File.txt\",\"r\") #read only\n",
    "print(fileHandle.read(5))\n",
    "fileHandle.close()"
   ]
  },
  {
   "cell_type": "markdown",
   "metadata": {},
   "source": [
    "A way to interpretate files in Python is as if they were a seqüence of lines. Consequently, we can use for() to iterate over their contents."
   ]
  },
  {
   "cell_type": "code",
   "execution_count": 9,
   "metadata": {},
   "outputs": [
    {
     "name": "stdout",
     "output_type": "stream",
     "text": [
      "Hi!\n",
      "\n",
      "Welcome to the python course.\n",
      "\n",
      "Enjoy!\n",
      "\n"
     ]
    }
   ],
   "source": [
    "fileHandle = open(\"File.txt\",\"r\")\n",
    "for line in fileHandle:\n",
    "    print(line)\n",
    "fileHandle.close()"
   ]
  },
  {
   "cell_type": "markdown",
   "metadata": {},
   "source": [
    "Notice the blank line between lines. As each line is treated as a string, it is possible to avoid the '\\n' by not taking the last character of the string."
   ]
  },
  {
   "cell_type": "code",
   "execution_count": 10,
   "metadata": {},
   "outputs": [
    {
     "name": "stdout",
     "output_type": "stream",
     "text": [
      "Hi!\n",
      "Welcome to the python course.\n",
      "Enjoy!\n"
     ]
    }
   ],
   "source": [
    "fileHandle = open(\"File.txt\",\"r\")\n",
    "for line in fileHandle:\n",
    "    print(line[:-1])\n",
    "fileHandle.close()"
   ]
  },
  {
   "cell_type": "markdown",
   "metadata": {},
   "source": [
    "#### Readline"
   ]
  },
  {
   "cell_type": "markdown",
   "metadata": {},
   "source": [
    "readline() function allows us to read just one line, which will deppend on the pointer's position."
   ]
  },
  {
   "cell_type": "code",
   "execution_count": 11,
   "metadata": {},
   "outputs": [
    {
     "name": "stdout",
     "output_type": "stream",
     "text": [
      "Hi!\n",
      "\n"
     ]
    }
   ],
   "source": [
    "fileHandle = open(\"File.txt\",\"r\")\n",
    "print(fileHandle.readline())\n",
    "fileHandle.close()"
   ]
  },
  {
   "cell_type": "markdown",
   "metadata": {},
   "source": [
    "Therefore, it is possible to read the first two lines by running:"
   ]
  },
  {
   "cell_type": "code",
   "execution_count": 12,
   "metadata": {},
   "outputs": [
    {
     "name": "stdout",
     "output_type": "stream",
     "text": [
      "Hi!\n",
      "\n",
      "Welcome to the python course.\n",
      "\n"
     ]
    }
   ],
   "source": [
    "fileHandle = open(\"File.txt\",\"r\")\n",
    "print(fileHandle.readline())\n",
    "print(fileHandle.readline())\n",
    "fileHandle.close()"
   ]
  },
  {
   "cell_type": "markdown",
   "metadata": {},
   "source": [
    "#### Readlines"
   ]
  },
  {
   "cell_type": "markdown",
   "metadata": {},
   "source": [
    "This functions returns a list containing the lines of the file in order:"
   ]
  },
  {
   "cell_type": "code",
   "execution_count": 13,
   "metadata": {},
   "outputs": [
    {
     "name": "stdout",
     "output_type": "stream",
     "text": [
      "['Hi!\\n', 'Welcome to the python course.\\n', 'Enjoy!\\n']\n"
     ]
    }
   ],
   "source": [
    "fileHandle = open(\"File.txt\",\"r\")\n",
    "print(fileHandle.readlines())\n",
    "fileHandle.close()"
   ]
  },
  {
   "cell_type": "markdown",
   "metadata": {},
   "source": [
    "If we wanted to print only a specific line in the file, let's say the second line, we could use the following instruction."
   ]
  },
  {
   "cell_type": "code",
   "execution_count": 14,
   "metadata": {
    "scrolled": true
   },
   "outputs": [
    {
     "name": "stdout",
     "output_type": "stream",
     "text": [
      "Welcome to the python course.\n",
      "\n"
     ]
    }
   ],
   "source": [
    "fileHandle = open(\"File.txt\",\"r\")\n",
    "print(fileHandle.readlines()[1])\n",
    "fileHandle.close()"
   ]
  },
  {
   "cell_type": "markdown",
   "metadata": {},
   "source": [
    "### Append"
   ]
  },
  {
   "cell_type": "markdown",
   "metadata": {},
   "source": [
    "Each time an existing file is opened with \"w\" mode, its content is completely overwritten. To avoid it, we use \"a\" mode. As an example, we are going to modify the file using \"w\", an then we are going to add another line without deleteing anything. "
   ]
  },
  {
   "cell_type": "code",
   "execution_count": 15,
   "metadata": {},
   "outputs": [
    {
     "name": "stdout",
     "output_type": "stream",
     "text": [
      "Result in writting mode:\n",
      "Everything has been erased!\n",
      "\n",
      "Result with append mode:\n",
      "Everything has been erased!\n",
      "Use 'a' parameter to avoid overwriting it!\n"
     ]
    }
   ],
   "source": [
    "print(\"Result in writting mode:\")\n",
    "#Overwrite file\n",
    "fileHandle = open(\"File.txt\",\"w\") \n",
    "fileHandle.write(\"Everything has been erased!\\n\")\n",
    "fileHandle.close()\n",
    "#Print result of \"w\"\n",
    "fileHandle = open(\"File.txt\",\"r\")\n",
    "print(fileHandle.read())\n",
    "fileHandle.close()\n",
    "\n",
    "print(\"Result with append mode:\")\n",
    "#Use of \"a\"\n",
    "fileHandle = open(\"File.txt\",\"a\")\n",
    "fileHandle.write(\"Use 'a' parameter to avoid overwriting it!\")\n",
    "fileHandle.close()\n",
    "#Print result of \"a\"\n",
    "fileHandle = open(\"File.txt\",\"r\")\n",
    "print(fileHandle.read())\n",
    "fileHandle.close()"
   ]
  },
  {
   "cell_type": "markdown",
   "metadata": {},
   "source": [
    "If we want to create a new file to write and make sure that we do not overwrite it, it is possible to use 'x':"
   ]
  },
  {
   "cell_type": "code",
   "execution_count": 16,
   "metadata": {},
   "outputs": [
    {
     "ename": "FileExistsError",
     "evalue": "[Errno 17] File exists: 'File.txt'",
     "output_type": "error",
     "traceback": [
      "\u001b[0;31m---------------------------------------------------------------------------\u001b[0m",
      "\u001b[0;31mFileExistsError\u001b[0m                           Traceback (most recent call last)",
      "\u001b[0;32m<ipython-input-16-05f7af3593eb>\u001b[0m in \u001b[0;36m<module>\u001b[0;34m\u001b[0m\n\u001b[1;32m      1\u001b[0m \u001b[0;31m#Should return error if file already exists\u001b[0m\u001b[0;34m\u001b[0m\u001b[0;34m\u001b[0m\u001b[0;34m\u001b[0m\u001b[0m\n\u001b[0;32m----> 2\u001b[0;31m \u001b[0mnameHandle\u001b[0m \u001b[0;34m=\u001b[0m \u001b[0mopen\u001b[0m\u001b[0;34m(\u001b[0m\u001b[0;34m\"File.txt\"\u001b[0m\u001b[0;34m,\u001b[0m\u001b[0;34m\"x\"\u001b[0m\u001b[0;34m)\u001b[0m\u001b[0;34m\u001b[0m\u001b[0;34m\u001b[0m\u001b[0m\n\u001b[0m\u001b[1;32m      3\u001b[0m \u001b[0mnameHandle\u001b[0m\u001b[0;34m.\u001b[0m\u001b[0mwrite\u001b[0m\u001b[0;34m(\u001b[0m\u001b[0;34m\"Let's try x mode\\n\"\u001b[0m\u001b[0;34m)\u001b[0m\u001b[0;34m\u001b[0m\u001b[0;34m\u001b[0m\u001b[0m\n\u001b[1;32m      4\u001b[0m \u001b[0mnameHandle\u001b[0m\u001b[0;34m.\u001b[0m\u001b[0mclose\u001b[0m\u001b[0;34m(\u001b[0m\u001b[0;34m)\u001b[0m\u001b[0;34m\u001b[0m\u001b[0;34m\u001b[0m\u001b[0m\n",
      "\u001b[0;31mFileExistsError\u001b[0m: [Errno 17] File exists: 'File.txt'"
     ]
    }
   ],
   "source": [
    "#Should return error if file already exists\n",
    "fileHandle = open(\"File.txt\",\"x\") \n",
    "fileHandle.write(\"Let's try x mode\\n\")\n",
    "fileHandle.close()"
   ]
  },
  {
   "cell_type": "code",
   "execution_count": 17,
   "metadata": {},
   "outputs": [],
   "source": [
    "fileHandle = open(\"File2.txt\",\"x\") \n",
    "fileHandle.write(\"Let's try x mode\\n\")\n",
    "fileHandle.close()"
   ]
  },
  {
   "cell_type": "markdown",
   "metadata": {},
   "source": [
    "### Delete a file or directory"
   ]
  },
  {
   "cell_type": "markdown",
   "metadata": {},
   "source": [
    "Sometimes we may want to delete an existing file or directory because it is no longer needed. As before, the $\\texttt{os}$ library helps us with that:"
   ]
  },
  {
   "cell_type": "code",
   "execution_count": 18,
   "metadata": {},
   "outputs": [],
   "source": [
    "import os\n",
    "\n",
    "try:\n",
    "    os.remove(\"File2.txt\")\n",
    "\n",
    "except IOError:\n",
    "    print(\"File not found.\")"
   ]
  },
  {
   "cell_type": "markdown",
   "metadata": {},
   "source": [
    "Similarly, an EMPTY directory can be deleted. Firstly create an empty one. To observe the changes along the code, there exists a function that allows us to know the subdirectories and files existing at a given path (current by default): $\\texttt{os.listdir}$"
   ]
  },
  {
   "cell_type": "code",
   "execution_count": 19,
   "metadata": {},
   "outputs": [
    {
     "name": "stdout",
     "output_type": "stream",
     "text": [
      "Before creating the empty directory:\n",
      "\n",
      "['File.txt', 'aux_directory', 'SesionFive.ipynb', '.ipynb_checkpoints']\n",
      "\n",
      "After creating the empty directory:\n",
      "\n",
      "['File.txt', 'empty_directory', 'aux_directory', 'SesionFive.ipynb', '.ipynb_checkpoints']\n"
     ]
    }
   ],
   "source": [
    "import os\n",
    "\n",
    "print(\"Before creating the empty directory:\\n\")\n",
    "print(str(os.listdir())+'\\n')\n",
    "os.mkdir(\"empty_directory\")\n",
    "\n",
    "print(\"After creating the empty directory:\\n\")\n",
    "print(os.listdir())\n"
   ]
  },
  {
   "cell_type": "markdown",
   "metadata": {},
   "source": [
    "See that the directory should have been created and ther run:"
   ]
  },
  {
   "cell_type": "code",
   "execution_count": 20,
   "metadata": {},
   "outputs": [],
   "source": [
    "os.rmdir(\"empty_directory\")\n",
    "print(str(os.listdir()))"
   ]
  },
  {
   "cell_type": "markdown",
   "metadata": {},
   "source": [
    "A possible way to delete a non-empty directory could be by using $\\texttt{shutil}$ librarry:"
   ]
  },
  {
   "cell_type": "code",
   "execution_count": 22,
   "metadata": {},
   "outputs": [],
   "source": [
    "import shutil\n",
    "\n",
    "dir_path = str(pathlib.Path().absolute()) + \"/aux_directory\"\n",
    "\n",
    "shutil.rmtree(dir_path)"
   ]
  },
  {
   "cell_type": "markdown",
   "metadata": {},
   "source": [
    "### Tell and Seek\n",
    "\n",
    "Files save data in a sequential way, meaning that every time it is automatically written at the end of it. Despite that, there exists some methods that allow us to choose the position of the pointer and start writing in another place: seek(), and another function to know the exact position of the pointer: tell()."
   ]
  },
  {
   "cell_type": "markdown",
   "metadata": {},
   "source": [
    "There are many ocasions in which we could need an instruction as seek(). For example, let's supose we want to read a specific part of a file. A possible way to do it would be:"
   ]
  },
  {
   "cell_type": "code",
   "execution_count": 48,
   "metadata": {},
   "outputs": [
    {
     "name": "stdout",
     "output_type": "stream",
     "text": [
      "Use 'a' parameter\n",
      "45\n"
     ]
    }
   ],
   "source": [
    "fileHandle = open(\"File.txt\",\"r\")\n",
    "fileHandle.seek(len(fileHandle.readlines()[0]))\n",
    "print(fileHandle.read(17))\n",
    "print(fileHandle.tell())\n",
    "fileHandle.close()"
   ]
  },
  {
   "cell_type": "markdown",
   "metadata": {},
   "source": [
    "### With"
   ]
  },
  {
   "cell_type": "code",
   "execution_count": 1,
   "metadata": {},
   "outputs": [
    {
     "name": "stdout",
     "output_type": "stream",
     "text": [
      "Everything has been erased!\n",
      "Use 'a' parameter to avoid overwriting it!\n"
     ]
    }
   ],
   "source": [
    "with open(\"File.txt\", \"r\") as fileHandle:\n",
    "    print(fileHandle.read())"
   ]
  },
  {
   "cell_type": "markdown",
   "metadata": {},
   "source": [
    "## Numpy"
   ]
  },
  {
   "cell_type": "markdown",
   "metadata": {},
   "source": [
    "With numpy it is possible to read files in order to extract their information and build arrays to work with. Basically, we can work upon text files or .npy and .npz files, which turn to be more efficient when it comes to loading data from them. \n",
    "\n",
    "### Reading data from .txt files: .write() and .loadtxt()\n",
    "\n",
    "Let's see text files first. To do so, let's create a new file in wich we will introduce example values. Important: for now, the values must be written as strings and not as integer, floats, etc. as they will be written in text files and the only datatype suported in them are $\\texttt{char}$ or $\\texttt{strings}$."
   ]
  },
  {
   "cell_type": "code",
   "execution_count": 4,
   "metadata": {},
   "outputs": [],
   "source": [
    "import numpy as np"
   ]
  },
  {
   "cell_type": "code",
   "execution_count": 9,
   "metadata": {},
   "outputs": [],
   "source": [
    "with open(\"np.txt\",\"w\") as npHandle:\n",
    "    npHandle.write(\"1 2 3\")"
   ]
  },
  {
   "cell_type": "markdown",
   "metadata": {},
   "source": [
    "Instead of $\\texttt{read}()$ function, numpy uses $\\texttt{loadtxt}()$ to read information from text files."
   ]
  },
  {
   "cell_type": "code",
   "execution_count": 10,
   "metadata": {},
   "outputs": [
    {
     "data": {
      "text/plain": [
       "array([1., 2., 3.])"
      ]
     },
     "execution_count": 10,
     "metadata": {},
     "output_type": "execute_result"
    }
   ],
   "source": [
    "np.loadtxt(\"np.txt\")"
   ]
  },
  {
   "cell_type": "markdown",
   "metadata": {},
   "source": [
    "Also possible with multidimensional arrays, where the '\\n' character will indicate by default the end of a row."
   ]
  },
  {
   "cell_type": "code",
   "execution_count": 7,
   "metadata": {},
   "outputs": [
    {
     "data": {
      "text/plain": [
       "array([[1., 0., 0.],\n",
       "       [0., 1., 0.],\n",
       "       [0., 0., 1.]])"
      ]
     },
     "execution_count": 7,
     "metadata": {},
     "output_type": "execute_result"
    }
   ],
   "source": [
    "with open(\"np.txt\",\"w\") as npHandle:\n",
    "    npHandle.write(\"1 0 0\\n0 1 0\\n0 0 1\\n\")\n",
    "\n",
    "np.loadtxt(\"np.txt\")"
   ]
  },
  {
   "cell_type": "markdown",
   "metadata": {},
   "source": [
    "Notice how the data is written in np.txt and how the loadtxt function reads it. We can change it by modifying some parameters. For example, imagine we want an array of integers and the data we recieve comes with de delimiter ',':"
   ]
  },
  {
   "cell_type": "code",
   "execution_count": 61,
   "metadata": {
    "scrolled": true
   },
   "outputs": [
    {
     "data": {
      "text/plain": [
       "array([[1, 0, 0],\n",
       "       [0, 1, 0],\n",
       "       [0, 0, 1]])"
      ]
     },
     "execution_count": 61,
     "metadata": {},
     "output_type": "execute_result"
    }
   ],
   "source": [
    "with open(\"npex.txt\",\"w\") as npHandle:\n",
    "    npHandle.write(\"1,0,0\\n0,1,0\\n0,0,1\\n\")\n",
    "\n",
    "np.loadtxt(\"npex.txt\", dtype='int', delimiter=',')"
   ]
  },
  {
   "cell_type": "markdown",
   "metadata": {},
   "source": [
    "#### savetxt()\n",
    "\n",
    "Until now we have been writing 'arrays' as strings in a text file, but with $\\texttt{savetxt}()$ we can also save numpy arrays in a .txt or .csv file and they will be automatically converted to strings:"
   ]
  },
  {
   "cell_type": "code",
   "execution_count": 15,
   "metadata": {},
   "outputs": [
    {
     "data": {
      "text/plain": [
       "array([1., 2., 3.])"
      ]
     },
     "execution_count": 15,
     "metadata": {},
     "output_type": "execute_result"
    }
   ],
   "source": [
    "a = np.array([1,2,3])\n",
    "\n",
    "np.savetxt(\"np.txt\", a, delimiter=',') #default is ','\n",
    "\n",
    "np.loadtxt(\"np.txt\")"
   ]
  },
  {
   "cell_type": "markdown",
   "metadata": {},
   "source": [
    "There are more useful parameters we can use to adapt the data to what we want. Let's see some of them."
   ]
  },
  {
   "cell_type": "markdown",
   "metadata": {},
   "source": [
    "##### skiprows and max_rows"
   ]
  },
  {
   "cell_type": "code",
   "execution_count": 16,
   "metadata": {},
   "outputs": [
    {
     "data": {
      "text/plain": [
       "array([[1., 0., 0., 0.],\n",
       "       [0., 1., 0., 0.],\n",
       "       [0., 0., 1., 0.],\n",
       "       [0., 0., 0., 1.]])"
      ]
     },
     "execution_count": 16,
     "metadata": {},
     "output_type": "execute_result"
    }
   ],
   "source": [
    "np.savetxt(\"np.txt\", np.identity(4))\n",
    "np.loadtxt(\"np.txt\")"
   ]
  },
  {
   "cell_type": "code",
   "execution_count": 17,
   "metadata": {},
   "outputs": [
    {
     "data": {
      "text/plain": [
       "array([[0., 1., 0., 0.],\n",
       "       [0., 0., 1., 0.]])"
      ]
     },
     "execution_count": 17,
     "metadata": {},
     "output_type": "execute_result"
    }
   ],
   "source": [
    "np.loadtxt(\"np.txt\", skiprows=1, max_rows=2)"
   ]
  },
  {
   "cell_type": "markdown",
   "metadata": {},
   "source": [
    "##### usecols"
   ]
  },
  {
   "cell_type": "code",
   "execution_count": 78,
   "metadata": {
    "scrolled": true
   },
   "outputs": [
    {
     "data": {
      "text/plain": [
       "array([[1., 0.],\n",
       "       [0., 0.],\n",
       "       [0., 0.],\n",
       "       [0., 1.]])"
      ]
     },
     "execution_count": 78,
     "metadata": {},
     "output_type": "execute_result"
    }
   ],
   "source": [
    "np.loadtxt(\"npex.txt\", usecols=[0,3])"
   ]
  },
  {
   "cell_type": "markdown",
   "metadata": {},
   "source": [
    "##### ndmin (0 as default)"
   ]
  },
  {
   "cell_type": "code",
   "execution_count": 87,
   "metadata": {},
   "outputs": [],
   "source": [
    "npHandle = open(\"npex.txt\",\"w\")\n",
    "npHandle.write(\"1 2 3 4\\n\")\n",
    "npHandle.close()"
   ]
  },
  {
   "cell_type": "code",
   "execution_count": 89,
   "metadata": {},
   "outputs": [
    {
     "data": {
      "text/plain": [
       "array([1., 2., 3., 4.])"
      ]
     },
     "execution_count": 89,
     "metadata": {},
     "output_type": "execute_result"
    }
   ],
   "source": [
    "np.loadtxt(\"npex.txt\")"
   ]
  },
  {
   "cell_type": "code",
   "execution_count": 93,
   "metadata": {},
   "outputs": [
    {
     "data": {
      "text/plain": [
       "(1, 4)"
      ]
     },
     "execution_count": 93,
     "metadata": {},
     "output_type": "execute_result"
    }
   ],
   "source": [
    "np.loadtxt(\"npex.txt\", ndmin=2)"
   ]
  },
  {
   "cell_type": "markdown",
   "metadata": {},
   "source": [
    "### Reading data from .npy or .npz files"
   ]
  },
  {
   "cell_type": "markdown",
   "metadata": {},
   "source": [
    "A .npy file is a binary file from which we extract the data we want to study, such as .txt files or .csv. The difference though, is that when talking about big datasets, .npy files result to be much more faster as they are binary files. An example of use is with datasets that are prepared to be used in machine learning algorithms.\n",
    "\n",
    "Let's see how they work."
   ]
  },
  {
   "cell_type": "markdown",
   "metadata": {},
   "source": [
    "#### save() and load()\n",
    "\n",
    "A numpy array can be saved into a .npy file by using $\\texttt{save}()$ function, and it can be loaded with $\\texttt{load}()$."
   ]
  },
  {
   "cell_type": "code",
   "execution_count": 42,
   "metadata": {},
   "outputs": [
    {
     "data": {
      "text/plain": [
       "array([[83,  7, 25,  0, 32, 33],\n",
       "       [68, 10, 60, 38, 43, 77],\n",
       "       [90, 91, 48, 41, 70, 67],\n",
       "       [56, 83, 53, 94, 78, 39]])"
      ]
     },
     "execution_count": 42,
     "metadata": {},
     "output_type": "execute_result"
    }
   ],
   "source": [
    "a = np.random.randint(low = 0, high = 100, size = (4,6))\n",
    "\n",
    "np.save(\"npyfile.npy\",a)\n",
    "np.load(\"npyfile.npy\")"
   ]
  },
  {
   "cell_type": "markdown",
   "metadata": {},
   "source": [
    "On the other hand, we save data into a compressed .npz file with:"
   ]
  },
  {
   "cell_type": "code",
   "execution_count": 43,
   "metadata": {},
   "outputs": [
    {
     "data": {
      "text/plain": [
       "<numpy.lib.npyio.NpzFile at 0x7f2ed4692af0>"
      ]
     },
     "execution_count": 43,
     "metadata": {},
     "output_type": "execute_result"
    }
   ],
   "source": [
    "a = np.random.randint(low = 0, high = 100, size = (4,6))\n",
    "b = np.random.randint(low = 0, high = 100, size = (4,6))\n",
    "\n",
    "np.savez_compressed(\"npzfile.npz\",a,b)\n",
    "np.load(\"npzfile.npz\")"
   ]
  },
  {
   "cell_type": "markdown",
   "metadata": {},
   "source": [
    "As you can see, it does not print the array as expected. The reason of this is that $\\texttt{load}()$ function for .npz files return a dictionary of arrays. To acces each of them, we can use $\\textit{dict_data['arr_i']}$, where 'i' stands for the ith array:"
   ]
  },
  {
   "cell_type": "code",
   "execution_count": 44,
   "metadata": {},
   "outputs": [
    {
     "name": "stdout",
     "output_type": "stream",
     "text": [
      "First array:\n",
      "\n",
      "[[92 42 81 13 29 87]\n",
      " [76 59  3 15 84 67]\n",
      " [ 9 26 84 29 27 88]\n",
      " [80 71 28 49  2 68]]\n",
      "\n",
      "Second array:\n",
      "\n",
      "[[66  2  0 27 13 33]\n",
      " [18 24 76 39 39 48]\n",
      " [37 65 94 49 81 31]\n",
      " [55 78 20 84 83 93]]\n"
     ]
    }
   ],
   "source": [
    "data_dict = np.load(\"npzfile.npz\")\n",
    "print(\"First array:\\n\")\n",
    "print(data_dict[\"arr_0\"])\n",
    "\n",
    "print(\"\\nSecond array:\\n\")\n",
    "print(data_dict[\"arr_1\"])"
   ]
  },
  {
   "cell_type": "markdown",
   "metadata": {},
   "source": [
    "If you want to, you can see the difference by executing the next cells."
   ]
  },
  {
   "cell_type": "code",
   "execution_count": 36,
   "metadata": {},
   "outputs": [],
   "source": [
    "from time import time"
   ]
  },
  {
   "cell_type": "code",
   "execution_count": 37,
   "metadata": {},
   "outputs": [],
   "source": [
    "N = 10000000  # random datapoints\n",
    "with open('data.txt', 'w') as data:\n",
    "    for _ in range(N):\n",
    "        data.write(str(10*np.random.random())+',')\n",
    "data.close()"
   ]
  },
  {
   "cell_type": "code",
   "execution_count": 38,
   "metadata": {
    "scrolled": true
   },
   "outputs": [
    {
     "name": "stdout",
     "output_type": "stream",
     "text": [
      "### 10 million points of data ###\n",
      "\n",
      "Data summary:\n",
      " [[4.09144984 3.84302398 7.16627551 ... 2.01428061 2.79600872 3.30568972]\n",
      " [2.56943462 1.89302601 0.32476652 ... 0.82489118 5.30315169 1.1540871 ]\n",
      " [7.37108472 0.90150474 6.49690544 ... 7.12834269 7.51508654 9.27592637]\n",
      " ...\n",
      " [9.36692545 2.33595017 1.21974856 ... 2.17260358 1.37939516 3.70853589]\n",
      " [8.78659462 1.00940435 0.25049989 ... 3.405163   5.45185069 6.97280555]\n",
      " [2.71625771 0.0726352  9.87130631 ... 3.27120981 3.12439974 4.9982651 ]]\n",
      "\n",
      "Data shape:\n",
      " (10000, 1000)\n",
      "\n",
      "Time to read: 0.12279 seconds.\n"
     ]
    }
   ],
   "source": [
    "start = time()\n",
    "\n",
    "with open('data.txt', 'r') as data:\n",
    "    string_data = data.read()\n",
    "    \n",
    "end = time()\n",
    " \n",
    "list_data = string_data.split(',')\n",
    "list_data.pop()\n",
    "data_array = np.array(list_data, dtype=float).reshape(10000, 1000)\n",
    "\n",
    "\n",
    "print(\"### 10 million points of data ###\")\n",
    "print(\"\\nData summary:\\n\", data_array)\n",
    "print(\"\\nData shape:\\n\", data_array.shape)\n",
    "print(f\"\\nTime to read: {round(end-start,5)} seconds.\")"
   ]
  },
  {
   "cell_type": "markdown",
   "metadata": {},
   "source": [
    "Let's see the .npy version"
   ]
  },
  {
   "cell_type": "code",
   "execution_count": 40,
   "metadata": {},
   "outputs": [],
   "source": [
    "np.save('data.npy', data_array)"
   ]
  },
  {
   "cell_type": "code",
   "execution_count": 41,
   "metadata": {},
   "outputs": [
    {
     "name": "stdout",
     "output_type": "stream",
     "text": [
      "### 10 million points of data ###\n",
      "\n",
      "Data summary:\n",
      " [[4.09144984 3.84302398 7.16627551 ... 2.01428061 2.79600872 3.30568972]\n",
      " [2.56943462 1.89302601 0.32476652 ... 0.82489118 5.30315169 1.1540871 ]\n",
      " [7.37108472 0.90150474 6.49690544 ... 7.12834269 7.51508654 9.27592637]\n",
      " ...\n",
      " [9.36692545 2.33595017 1.21974856 ... 2.17260358 1.37939516 3.70853589]\n",
      " [8.78659462 1.00940435 0.25049989 ... 3.405163   5.45185069 6.97280555]\n",
      " [2.71625771 0.0726352  9.87130631 ... 3.27120981 3.12439974 4.9982651 ]]\n",
      "\n",
      "Data shape:\n",
      " (10000, 1000)\n",
      "\n",
      "Time to read: 0.0135 seconds.\n"
     ]
    }
   ],
   "source": [
    "start=time()\n",
    "\n",
    "data_array = np.load('data.npy')\n",
    "\n",
    "end=time()\n",
    "\n",
    "print(\"### 10 million points of data ###\")\n",
    "print(\"\\nData summary:\\n\", data_array)\n",
    "print(\"\\nData shape:\\n\", data_array.shape)\n",
    "print(f\"\\nTime to read: {round(end-start,5)} seconds.\")"
   ]
  },
  {
   "cell_type": "markdown",
   "metadata": {},
   "source": [
    "For further information about numpy files, you can visit:\n",
    "\n",
    "https://towardsdatascience.com/why-you-should-start-using-npy-file-more-often-df2a13cc0161"
   ]
  },
  {
   "cell_type": "markdown",
   "metadata": {},
   "source": [
    "## Further topics"
   ]
  },
  {
   "cell_type": "markdown",
   "metadata": {},
   "source": [
    "Apart from all functions and topics we've seen in the course, Python is a programming language that has many more utilities. Some of them could be:\n",
    "- Oriented Object Programming\n",
    "- Assertions and error controls\n",
    "- Map and lambda functions\n",
    "- Machine and Deep learning\n",
    "- ..."
   ]
  },
  {
   "cell_type": "code",
   "execution_count": null,
   "metadata": {},
   "outputs": [],
   "source": []
  }
 ],
 "metadata": {
  "kernelspec": {
   "display_name": "Python 3",
   "language": "python",
   "name": "python3"
  },
  "language_info": {
   "codemirror_mode": {
    "name": "ipython",
    "version": 3
   },
   "file_extension": ".py",
   "mimetype": "text/x-python",
   "name": "python",
   "nbconvert_exporter": "python",
   "pygments_lexer": "ipython3",
   "version": "3.8.5"
  }
 },
 "nbformat": 4,
 "nbformat_minor": 4
}

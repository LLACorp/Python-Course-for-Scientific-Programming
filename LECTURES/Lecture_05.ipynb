{
 "cells": [
  {
   "cell_type": "markdown",
   "metadata": {},
   "source": [
    "# PYTHON COURSE FOR SCIENTIFIC PROGRAMMING \n",
    "**Contributors:** \\\n",
    "Artur Llabrés Brustenga: Artur.Llabres@e-campus.uab.cat \\\n",
    "Gerard Navarro Pérez: Gerard.NavarroP@e-campus.uab.cat \\\n",
    "Arnau Parrilla Gibert: Arnau.Parrilla@e-campus.uab.cat \\\n",
    "Jan Scarabelli Calopa: Jan.Scarabelli@e-campus.uab.cat \\\n",
    "Xabier Oyanguren Asua: Xabier.Oyanguren@e-campus.uab.cat\n",
    "\n",
    "Course material can be found at: https://llacorp.github.io/Python-Course-for-Scientific-Programming/ "
   ]
  },
  {
   "cell_type": "markdown",
   "metadata": {},
   "source": [
    "# LECTURE V : File manipulation"
   ]
  },
  {
   "cell_type": "markdown",
   "metadata": {},
   "source": [
    "- Files are used to save all processed data in each execution\n",
    "- We will learn some of the most common functions to manipulate files\n",
    "- Despite each OS has its own system to create and access files, Python is independent of it as it uses a \"file handle\""
   ]
  },
  {
   "cell_type": "markdown",
   "metadata": {},
   "source": [
    "### Open\n",
    "Firstly, let's see how to open or create a file."
   ]
  },
  {
   "cell_type": "code",
   "execution_count": 1,
   "metadata": {},
   "outputs": [],
   "source": [
    "nameHandle = open(\"File.txt\",\"w\") "
   ]
  },
  {
   "cell_type": "markdown",
   "metadata": {},
   "source": [
    "where:\n",
    "- `nameHandle` stands for the name of the file handle\n",
    "- `open()` is the function to open a file\n",
    "- `\"File.txt\"` is the name (string) of the file we want to open\n",
    "- `\"w\"` indicates we want to write on this file"
   ]
  },
  {
   "cell_type": "markdown",
   "metadata": {},
   "source": [
    "There are different ways to open a file. In the following table, we can see a brief explanation of them. "
   ]
  },
  {
   "cell_type": "markdown",
   "metadata": {},
   "source": [
    "| Indicator | Opening mode | Opening mode + | Pointer |\n",
    "| --- | --- | --- | --- |\n",
    "| r/r+ | Read only | +writing | Beginning |\n",
    "| w/w+ | Write only. Overwrites file if already existing. Creates file otherwise | +reading | Beginning |\n",
    "| x/x+ | Write only. FileExistsError if already exists. Creates file otherwise | +reading | Beginning | \n",
    "| a/a+ | Add if file exists. Creates file otherwise. | +read & write | End"
   ]
  },
  {
   "cell_type": "markdown",
   "metadata": {},
   "source": [
    "### Write and Close"
   ]
  },
  {
   "cell_type": "markdown",
   "metadata": {},
   "source": [
    "We can refer the file handle as a variable with associated functions that allow the user to manipulate files. One of the functions is `write()`. Let's see an example."
   ]
  },
  {
   "cell_type": "code",
   "execution_count": 2,
   "metadata": {},
   "outputs": [],
   "source": [
    "nameHandle = open(\"File.txt\",\"w\") #Creation of the file\n",
    "nameHandle.write(\"Hi!\\nWelcome to the python course.\\n\")\n",
    "nameHandle.write(\"Enjoy!\\n\")\n",
    "nameHandle.close()"
   ]
  },
  {
   "cell_type": "markdown",
   "metadata": {},
   "source": [
    "You may have noticed `'\\n'`. The character `'\\\\'` is an escapement character, meaning that the following one must be treated in a speacial way. In this case, for example, the string `'\\n'` indicates the beginning of a new line."
   ]
  },
  {
   "cell_type": "markdown",
   "metadata": {},
   "source": [
    "After having edited the file, we want to save the changes to let other programmes access its contents. To do so, we use `close()` function."
   ]
  },
  {
   "cell_type": "markdown",
   "metadata": {},
   "source": [
    "### Read"
   ]
  },
  {
   "cell_type": "markdown",
   "metadata": {},
   "source": [
    "This instruction allows us to read a file. Let's see the following example"
   ]
  },
  {
   "cell_type": "code",
   "execution_count": 3,
   "metadata": {},
   "outputs": [
    {
     "name": "stdout",
     "output_type": "stream",
     "text": [
      "Hi!\n",
      "Welcome to the python course.\n",
      "Enjoy!\n",
      "\n"
     ]
    }
   ],
   "source": [
    "nameHandle = open(\"File.txt\",\"r\") #read only\n",
    "print(nameHandle.read())\n",
    "nameHandle.close()"
   ]
  },
  {
   "cell_type": "markdown",
   "metadata": {},
   "source": [
    "Note that Python adresses files as if they were a sequence of lines. Consequently, we can use `for()` to iterate over their contents."
   ]
  },
  {
   "cell_type": "code",
   "execution_count": 4,
   "metadata": {},
   "outputs": [
    {
     "name": "stdout",
     "output_type": "stream",
     "text": [
      "Hi!\n",
      "\n",
      "Welcome to the python course.\n",
      "\n",
      "Enjoy!\n",
      "\n"
     ]
    }
   ],
   "source": [
    "nameHandle = open(\"File.txt\",\"r\")\n",
    "for line in nameHandle:\n",
    "    print(line)\n",
    "nameHandle.close()"
   ]
  },
  {
   "cell_type": "markdown",
   "metadata": {},
   "source": [
    "Notice the blank line between lines. As each line is treated as a string, it is possible to avoid the `'\\n'` by not taking the last character of the string."
   ]
  },
  {
   "cell_type": "code",
   "execution_count": 5,
   "metadata": {},
   "outputs": [
    {
     "name": "stdout",
     "output_type": "stream",
     "text": [
      "Hi!\n",
      "Welcome to the python course.\n",
      "Enjoy!\n"
     ]
    }
   ],
   "source": [
    "nameHandle = open(\"File.txt\",\"r\")\n",
    "for line in nameHandle:\n",
    "    print(line[:-1])\n",
    "nameHandle.close()"
   ]
  },
  {
   "cell_type": "markdown",
   "metadata": {},
   "source": [
    "### Readline"
   ]
  },
  {
   "cell_type": "markdown",
   "metadata": {},
   "source": [
    "`readline()` function allows us to read just one line, which will deppend on the pointer's position."
   ]
  },
  {
   "cell_type": "code",
   "execution_count": 20,
   "metadata": {},
   "outputs": [
    {
     "name": "stdout",
     "output_type": "stream",
     "text": [
      "Hi!\n",
      "\n"
     ]
    }
   ],
   "source": [
    "nameHandle = open(\"File.txt\",\"r\")\n",
    "print(nameHandle.readline())\n",
    "nameHandle.close()"
   ]
  },
  {
   "cell_type": "markdown",
   "metadata": {},
   "source": [
    "If we wanted to print only a specific line in the file, let's say the second line, we could use the following instruction."
   ]
  },
  {
   "cell_type": "code",
   "execution_count": 23,
   "metadata": {
    "scrolled": true
   },
   "outputs": [
    {
     "name": "stdout",
     "output_type": "stream",
     "text": [
      "Welcome to the python course.\n",
      "\n"
     ]
    }
   ],
   "source": [
    "nameHandle = open(\"File.txt\",\"r\")\n",
    "print(nameHandle.readlines()[1])\n",
    "nameHandle.close()"
   ]
  },
  {
   "cell_type": "markdown",
   "metadata": {},
   "source": [
    "as `readlines()` returns a list with all the lines in the file"
   ]
  },
  {
   "cell_type": "markdown",
   "metadata": {},
   "source": [
    "### Append"
   ]
  },
  {
   "cell_type": "markdown",
   "metadata": {},
   "source": [
    "Each time an existing file is opened with `\"w\"` mode, its content is completely **erased**. To avoid it, we use `\"a\"` mode. As an example, we are going to modify the file using `\"w\"`, an then we are going to add another line without deleteing anything. "
   ]
  },
  {
   "cell_type": "code",
   "execution_count": 26,
   "metadata": {},
   "outputs": [
    {
     "name": "stdout",
     "output_type": "stream",
     "text": [
      "Everything has been erased!\n",
      "\n",
      "Everything has been erased!\n",
      "Use 'a' parameter not to overwrite it!\n"
     ]
    }
   ],
   "source": [
    "#Overwrite file\n",
    "nameHandle = open(\"File.txt\",\"w\") \n",
    "nameHandle.write(\"Everything has been erased!\\n\")\n",
    "nameHandle.close()\n",
    "#Print result of \"w\"\n",
    "nameHandle = open(\"File.txt\",\"r\")\n",
    "print(nameHandle.read())\n",
    "nameHandle.close()\n",
    "\n",
    "#Use of \"a\"\n",
    "nameHandle = open(\"File.txt\",\"a\")\n",
    "nameHandle.write(\"Use 'a' parameter not to overwrite it!\")\n",
    "nameHandle.close()\n",
    "#Print result of \"a\"\n",
    "nameHandle = open(\"File.txt\",\"r\")\n",
    "print(nameHandle.read())\n",
    "nameHandle.close()"
   ]
  },
  {
   "cell_type": "markdown",
   "metadata": {},
   "source": [
    "## Numpy"
   ]
  },
  {
   "cell_type": "markdown",
   "metadata": {},
   "source": [
    "#### Reading data from .txt files: numpy.loadtxt"
   ]
  },
  {
   "cell_type": "markdown",
   "metadata": {},
   "source": [
    "With numpy, it is possible to read text files in order to extract their information and build arrays to work with. How should we do it?"
   ]
  },
  {
   "cell_type": "markdown",
   "metadata": {},
   "source": [
    "Let's create a new file in wich we will introduce example values. Important: for now, the values must be written as strings and not as integer, floats, etc."
   ]
  },
  {
   "cell_type": "code",
   "execution_count": 25,
   "metadata": {},
   "outputs": [],
   "source": [
    "import numpy as np"
   ]
  },
  {
   "cell_type": "code",
   "execution_count": 37,
   "metadata": {},
   "outputs": [],
   "source": [
    "npHandle = open(\"npex.txt\",\"w\")\n",
    "npHandle.write(\"1 2 3\")\n",
    "npHandle.close()"
   ]
  },
  {
   "cell_type": "code",
   "execution_count": 45,
   "metadata": {},
   "outputs": [
    {
     "data": {
      "text/plain": [
       "array([1., 2., 3.])"
      ]
     },
     "execution_count": 45,
     "metadata": {},
     "output_type": "execute_result"
    }
   ],
   "source": [
    "np.loadtxt(\"npex.txt\")"
   ]
  },
  {
   "cell_type": "markdown",
   "metadata": {},
   "source": [
    "Also possible with multidimensional arrays:"
   ]
  },
  {
   "cell_type": "code",
   "execution_count": 55,
   "metadata": {},
   "outputs": [],
   "source": [
    "npHandle = open(\"npex.txt\",\"w\")\n",
    "npHandle.write(\"1 0 0\\n0 1 0\\n0 0 1\\n\")\n",
    "npHandle.close()"
   ]
  },
  {
   "cell_type": "code",
   "execution_count": 66,
   "metadata": {},
   "outputs": [
    {
     "data": {
      "text/plain": [
       "array([[1., 0., 0., 0.],\n",
       "       [0., 1., 0., 0.],\n",
       "       [0., 0., 1., 0.],\n",
       "       [0., 0., 0., 1.]])"
      ]
     },
     "execution_count": 66,
     "metadata": {},
     "output_type": "execute_result"
    }
   ],
   "source": [
    "np.loadtxt(\"npex.txt\")"
   ]
  },
  {
   "cell_type": "markdown",
   "metadata": {},
   "source": [
    "Notice how the data is written in `npex.txt` and how the `np.loadtxt()` function reads it. We can change it by modifying some parameters. For example, imagine we want an array of integers and the data we recieve comes with the delimiter `','`"
   ]
  },
  {
   "cell_type": "code",
   "execution_count": 61,
   "metadata": {},
   "outputs": [
    {
     "data": {
      "text/plain": [
       "array([[1, 0, 0],\n",
       "       [0, 1, 0],\n",
       "       [0, 0, 1]])"
      ]
     },
     "execution_count": 61,
     "metadata": {},
     "output_type": "execute_result"
    }
   ],
   "source": [
    "npHandle = open(\"npex.txt\",\"w\")\n",
    "npHandle.write(\"1,0,0\\n0,1,0\\n0,0,1\\n\")\n",
    "npHandle.close()\n",
    "np.loadtxt(\"npex.txt\", dtype='int', delimiter=',')"
   ]
  },
  {
   "cell_type": "markdown",
   "metadata": {},
   "source": [
    "There are more useful parameters we can use to adapt the data to what we want. Let's see some of them."
   ]
  },
  {
   "cell_type": "markdown",
   "metadata": {},
   "source": [
    "##### skiprows and max_rows"
   ]
  },
  {
   "cell_type": "code",
   "execution_count": 62,
   "metadata": {},
   "outputs": [],
   "source": [
    "npHandle = open(\"npex.txt\",\"w\")\n",
    "npHandle.write(\"1 0 0 0\\n0 1 0 0\\n0 0 1 0\\n0 0 0 1\\n\")\n",
    "npHandle.close()"
   ]
  },
  {
   "cell_type": "code",
   "execution_count": 70,
   "metadata": {},
   "outputs": [
    {
     "data": {
      "text/plain": [
       "array([[0., 1., 0., 0.],\n",
       "       [0., 0., 1., 0.]])"
      ]
     },
     "execution_count": 70,
     "metadata": {},
     "output_type": "execute_result"
    }
   ],
   "source": [
    "np.loadtxt(\"npex.txt\", skiprows=1, max_rows=2)"
   ]
  },
  {
   "cell_type": "markdown",
   "metadata": {},
   "source": [
    "##### usecols"
   ]
  },
  {
   "cell_type": "code",
   "execution_count": 78,
   "metadata": {
    "scrolled": true
   },
   "outputs": [
    {
     "data": {
      "text/plain": [
       "array([[1., 0.],\n",
       "       [0., 0.],\n",
       "       [0., 0.],\n",
       "       [0., 1.]])"
      ]
     },
     "execution_count": 78,
     "metadata": {},
     "output_type": "execute_result"
    }
   ],
   "source": [
    "np.loadtxt(\"npex.txt\", usecols=[0,3])"
   ]
  },
  {
   "cell_type": "markdown",
   "metadata": {},
   "source": [
    "##### ndmin (0 as default)"
   ]
  },
  {
   "cell_type": "code",
   "execution_count": 87,
   "metadata": {},
   "outputs": [],
   "source": [
    "npHandle = open(\"npex.txt\",\"w\")\n",
    "npHandle.write(\"1 2 3 4\\n\")\n",
    "npHandle.close()"
   ]
  },
  {
   "cell_type": "code",
   "execution_count": 89,
   "metadata": {},
   "outputs": [
    {
     "data": {
      "text/plain": [
       "array([1., 2., 3., 4.])"
      ]
     },
     "execution_count": 89,
     "metadata": {},
     "output_type": "execute_result"
    }
   ],
   "source": [
    "np.loadtxt(\"npex.txt\")"
   ]
  },
  {
   "cell_type": "code",
   "execution_count": 93,
   "metadata": {},
   "outputs": [
    {
     "data": {
      "text/plain": [
       "(1, 4)"
      ]
     },
     "execution_count": 93,
     "metadata": {},
     "output_type": "execute_result"
    }
   ],
   "source": [
    "np.loadtxt(\"npex.txt\", ndmin=2)"
   ]
  },
  {
   "cell_type": "markdown",
   "metadata": {},
   "source": [
    "#### Reading data from .npy or .npz files: numpy.load"
   ]
  },
  {
   "cell_type": "markdown",
   "metadata": {},
   "source": [
    "A `.npy` file is a particular numpy file format from which we can extract the data we want to study, much like what `.txt` files or `.csv` can be used. The difference though, is that when talking about big datasets, `.npy` files have the possibility to be loaded with the `numpy.load()` function, which results to be much faster. \n",
    "\n",
    "If you want to, you can see the difference by executing the next cells."
   ]
  },
  {
   "cell_type": "code",
   "execution_count": 33,
   "metadata": {},
   "outputs": [],
   "source": [
    "from time import time"
   ]
  },
  {
   "cell_type": "code",
   "execution_count": 37,
   "metadata": {},
   "outputs": [],
   "source": [
    "N = 10000000  # random datapoints\n",
    "with open('data.txt', 'w') as data:\n",
    "    for _ in range(N):\n",
    "        data.write(str(10*np.random.random())+',')\n",
    "data.close()"
   ]
  },
  {
   "cell_type": "code",
   "execution_count": 39,
   "metadata": {},
   "outputs": [
    {
     "name": "stdout",
     "output_type": "stream",
     "text": [
      "### 10 million points of data ###\n",
      "\n",
      "Data summary:\n",
      " [[0.10820114 7.15596723 1.58844348 ... 1.86958122 9.88226739 6.14871312]\n",
      " [5.43550898 6.55428381 1.11211584 ... 7.88261123 2.72506794 3.46990941]\n",
      " [4.50830109 8.70623338 1.09992113 ... 8.45104537 0.90751348 4.02527644]\n",
      " ...\n",
      " [1.70389254 6.63619137 3.06363746 ... 3.69386645 6.01401345 9.02886082]\n",
      " [1.84023979 3.266891   3.30508298 ... 7.60141099 6.883527   5.20704968]\n",
      " [2.31848056 3.94781645 5.37541682 ... 9.82003134 7.73077793 7.28568301]]\n",
      "\n",
      "Data shape:\n",
      " (10000, 1000)\n",
      "\n",
      "Time to read: 3.73539 seconds.\n"
     ]
    }
   ],
   "source": [
    "start = time()\n",
    "\n",
    "with open('data.txt', 'r') as data:\n",
    "    string_data = data.read()\n",
    "    \n",
    "list_data = string_data.split(',')\n",
    "list_data.pop()\n",
    "data_array = np.array(list_data, dtype=float).reshape(10000, 1000)\n",
    "\n",
    "end = time()\n",
    "\n",
    "print(\"### 10 million points of data ###\")\n",
    "print(\"\\nData summary:\\n\", data_array)\n",
    "print(\"\\nData shape:\\n\", data_array.shape)\n",
    "print(f\"\\nTime to read: {round(end-start,5)} seconds.\")"
   ]
  },
  {
   "cell_type": "markdown",
   "metadata": {},
   "source": [
    "This was the timing with a `.txt` file"
   ]
  },
  {
   "cell_type": "markdown",
   "metadata": {},
   "source": [
    "Let's see the `.npy` version"
   ]
  },
  {
   "cell_type": "code",
   "execution_count": 41,
   "metadata": {},
   "outputs": [],
   "source": [
    "np.save('data.npy', data_array)"
   ]
  },
  {
   "cell_type": "code",
   "execution_count": 42,
   "metadata": {},
   "outputs": [
    {
     "name": "stdout",
     "output_type": "stream",
     "text": [
      "### 10 million points of data ###\n",
      "\n",
      "Data summary:\n",
      " [[0.10820114 7.15596723 1.58844348 ... 1.86958122 9.88226739 6.14871312]\n",
      " [5.43550898 6.55428381 1.11211584 ... 7.88261123 2.72506794 3.46990941]\n",
      " [4.50830109 8.70623338 1.09992113 ... 8.45104537 0.90751348 4.02527644]\n",
      " ...\n",
      " [1.70389254 6.63619137 3.06363746 ... 3.69386645 6.01401345 9.02886082]\n",
      " [1.84023979 3.266891   3.30508298 ... 7.60141099 6.883527   5.20704968]\n",
      " [2.31848056 3.94781645 5.37541682 ... 9.82003134 7.73077793 7.28568301]]\n",
      "\n",
      "Data shape:\n",
      " (10000, 1000)\n",
      "\n",
      "Time to read: 0.01522 seconds.\n"
     ]
    }
   ],
   "source": [
    "start=time()\n",
    "\n",
    "data_array = np.load('data.npy')\n",
    "\n",
    "end=time()\n",
    "\n",
    "print(\"### 10 million points of data ###\")\n",
    "print(\"\\nData summary:\\n\", data_array)\n",
    "print(\"\\nData shape:\\n\", data_array.shape)\n",
    "print(f\"\\nTime to read: {round(end-start,5)} seconds.\")"
   ]
  },
  {
   "cell_type": "markdown",
   "metadata": {},
   "source": [
    "Instead of using text files as we did before, it is possible, and in fact preferable, to use `.npy` and `.npz` files. The syntax for them does change a bit with numpy. Imagine we wanted to load a data array to work with it. Then, we would write a `.npy` file by executing the next line of code"
   ]
  },
  {
   "cell_type": "code",
   "execution_count": 57,
   "metadata": {},
   "outputs": [],
   "source": [
    "np.save('npex.npy', np.random.rand(4,5))"
   ]
  },
  {
   "cell_type": "markdown",
   "metadata": {},
   "source": [
    "and finally load the data to start working with it"
   ]
  },
  {
   "cell_type": "code",
   "execution_count": 58,
   "metadata": {},
   "outputs": [
    {
     "data": {
      "text/plain": [
       "array([[0.64902097, 0.59225889, 0.92575478, 0.21710251, 0.3885865 ],\n",
       "       [0.53283003, 0.7174583 , 0.29974907, 0.92281449, 0.66936547],\n",
       "       [0.74472896, 0.80151565, 0.665304  , 0.3741239 , 0.9687948 ],\n",
       "       [0.42185048, 0.26979424, 0.17137164, 0.33959611, 0.95260658]])"
      ]
     },
     "execution_count": 58,
     "metadata": {},
     "output_type": "execute_result"
    }
   ],
   "source": [
    "np.load('npex.npy')"
   ]
  },
  {
   "cell_type": "markdown",
   "metadata": {},
   "source": [
    "## Further topics"
   ]
  },
  {
   "cell_type": "markdown",
   "metadata": {},
   "source": [
    "Apart from all functions and topics we've seen in the course, Python is a programming language that has many more utilities. Some of them could be:\n",
    "- Object Oriented Programming\n",
    "- Assertions and error controls, raising errors etc.\n",
    "- Map and lambda functions\n",
    "- Anaconda installer for other packages: *conda install*\n",
    "- Using `pip` to install additional packages not available in the conda repository.\n",
    "- ...\n",
    "\n",
    "Further free courses to learn more about Python and other programming languages in:\n",
    "- EdX\n",
    "- Coursera\n",
    "- ..."
   ]
  }
 ],
 "metadata": {
  "kernelspec": {
   "display_name": "Python 3",
   "language": "python",
   "name": "python3"
  },
  "language_info": {
   "codemirror_mode": {
    "name": "ipython",
    "version": 3
   },
   "file_extension": ".py",
   "mimetype": "text/x-python",
   "name": "python",
   "nbconvert_exporter": "python",
   "pygments_lexer": "ipython3",
   "version": "3.8.5"
  }
 },
 "nbformat": 4,
 "nbformat_minor": 4
}

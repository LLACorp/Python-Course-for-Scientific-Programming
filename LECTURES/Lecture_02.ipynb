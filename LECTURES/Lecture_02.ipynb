{
 "cells": [
  {
   "cell_type": "markdown",
   "metadata": {
    "colab_type": "text",
    "id": "1CnJ9L-np9rn"
   },
   "source": [
    "# PYTHON COURSE FOR SCIENTIFIC PROGRAMMING \n",
    "**Contributors:** \\\n",
    "Artur Llabrés Brustenga: Artur.Llabres@e-campus.uab.cat \\\n",
    "Gerard Navarro Pérez: Gerard.NavarroP@e-campus.uab.cat \\\n",
    "Arnau Parrilla Gibert: Arnau.Parrilla@e-campus.uab.cat \\\n",
    "Jan Scarabelli Calopa: Jan.Scarabelli@e-campus.uab.cat \\\n",
    "Xabier Oyanguren Asua: Xabier.Oyanguren@e-campus.uab.cat \\\n",
    "\n",
    "Course material can be found at: https://llacorp.github.io/Python-Course-for-Scientific-Programming/ "
   ]
  },
  {
   "cell_type": "markdown",
   "metadata": {
    "colab_type": "text",
    "id": "7j-0zDCyiVzS"
   },
   "source": [
    "# LECTURE II : The Loops\n",
    "Loops are used to iterate a block of code:\n",
    "#### <ins>Types of loops:</ins>\n",
    "* A **for** loop is a loop that runs for a preset number of times.\n",
    "* A **while** loop is a loop that is repeated as long as an expression is true. An expression is a statement that has a value."
   ]
  },
  {
   "cell_type": "markdown",
   "metadata": {
    "colab_type": "text",
    "id": "rOdmBUPysJEo"
   },
   "source": [
    "## For\n",
    "Structure:\n",
    "> for *control_variable* in *iterable_object*:       \n",
    "> &ensp;&ensp;&ensp;&ensp;Code to repeat\n",
    "  \n",
    "For instance:\n",
    "\n"
   ]
  },
  {
   "cell_type": "code",
   "execution_count": 13,
   "metadata": {},
   "outputs": [
    {
     "name": "stdout",
     "output_type": "stream",
     "text": [
      "10\n"
     ]
    }
   ],
   "source": [
    "print(len(range(10)))"
   ]
  },
  {
   "cell_type": "code",
   "execution_count": 1,
   "metadata": {
    "colab": {
     "base_uri": "https://localhost:8080/",
     "height": 199
    },
    "colab_type": "code",
    "id": "KB9sMFgqPegm",
    "outputId": "c9691970-b4e4-4f83-e57e-c3e1df92fb2c"
   },
   "outputs": [
    {
     "name": "stdout",
     "output_type": "stream",
     "text": [
      "hola\n",
      "hola\n",
      "hola\n",
      "hola\n",
      "hola\n",
      "hola\n",
      "hola\n",
      "hola\n",
      "hola\n",
      "hola\n"
     ]
    }
   ],
   "source": [
    "for i in range(10):\n",
    "  print(\"hola\")"
   ]
  },
  {
   "cell_type": "markdown",
   "metadata": {
    "colab_type": "text",
    "id": "oDr13MjAPuEm"
   },
   "source": [
    "We can also use the value of the control variable in each one of the iterations"
   ]
  },
  {
   "cell_type": "code",
   "execution_count": 2,
   "metadata": {
    "colab": {
     "base_uri": "https://localhost:8080/",
     "height": 199
    },
    "colab_type": "code",
    "id": "N38_FY2OtPsB",
    "outputId": "c0adfec3-1413-49a9-ecac-17ca32f66efa"
   },
   "outputs": [
    {
     "name": "stdout",
     "output_type": "stream",
     "text": [
      "0\n",
      "1\n",
      "2\n",
      "3\n",
      "4\n",
      "5\n",
      "6\n",
      "7\n",
      "8\n",
      "9\n"
     ]
    }
   ],
   "source": [
    "for i in range(10):\n",
    "  print(i)"
   ]
  },
  {
   "cell_type": "code",
   "execution_count": 3,
   "metadata": {
    "colab": {
     "base_uri": "https://localhost:8080/",
     "height": 199
    },
    "colab_type": "code",
    "id": "8TOS-q7HQMn8",
    "outputId": "9001959f-69dc-4538-885b-2330ab82a947"
   },
   "outputs": [
    {
     "name": "stdout",
     "output_type": "stream",
     "text": [
      "Odd 11\n",
      "Even 12\n",
      "Odd 13\n",
      "Even 14\n",
      "Odd 15\n",
      "Even 16\n",
      "Odd 17\n",
      "Even 18\n",
      "Odd 19\n",
      "Even 20\n"
     ]
    }
   ],
   "source": [
    "for i in range(10):\n",
    "  i = i+11\n",
    "  if(i%2):\n",
    "    print(\"Odd\",i)\n",
    "  else:\n",
    "    print(\"Even\",i)"
   ]
  },
  {
   "cell_type": "markdown",
   "metadata": {
    "colab_type": "text",
    "id": "zhRibGz2EcHR"
   },
   "source": [
    "What can you notice?"
   ]
  },
  {
   "cell_type": "markdown",
   "metadata": {},
   "source": [
    "*Answer: note that the value of i can be modified*"
   ]
  },
  {
   "cell_type": "markdown",
   "metadata": {
    "colab_type": "text",
    "id": "kP7X8hptE--J"
   },
   "source": [
    "Examples of iterables objects:\n",
    "\n",
    "\n",
    "*   **range**(start,stop,step):"
   ]
  },
  {
   "cell_type": "code",
   "execution_count": 0,
   "metadata": {
    "colab": {
     "base_uri": "https://localhost:8080/",
     "height": 199
    },
    "colab_type": "code",
    "id": "uJN8i0IwE7fj",
    "outputId": "e975d033-7e23-4b28-88ec-14ddfde43f21"
   },
   "outputs": [
    {
     "name": "stdout",
     "output_type": "stream",
     "text": [
      "9\n",
      "8\n",
      "7\n",
      "6\n",
      "5\n",
      "4\n",
      "3\n",
      "2\n",
      "1\n",
      "0\n"
     ]
    }
   ],
   "source": [
    "for i in range(9,-1,-1):\n",
    "  print(i)"
   ]
  },
  {
   "cell_type": "markdown",
   "metadata": {
    "colab_type": "text",
    "id": "Ao8n9MebHIWP"
   },
   "source": [
    "*   **strings**"
   ]
  },
  {
   "cell_type": "code",
   "execution_count": 0,
   "metadata": {
    "colab": {
     "base_uri": "https://localhost:8080/",
     "height": 90
    },
    "colab_type": "code",
    "id": "bmQeCNHfGWGt",
    "outputId": "5889370b-7c93-42fb-a5c9-bbf7f2347ece"
   },
   "outputs": [
    {
     "name": "stdout",
     "output_type": "stream",
     "text": [
      "h\n",
      "o\n",
      "l\n",
      "a\n"
     ]
    }
   ],
   "source": [
    "x = \"hola\"\n",
    "for i in x:\n",
    "  print(i)"
   ]
  },
  {
   "cell_type": "markdown",
   "metadata": {
    "colab_type": "text",
    "id": "TRIOYDnFHghF"
   },
   "source": [
    "\n",
    "\n",
    "*   **lists**"
   ]
  },
  {
   "cell_type": "code",
   "execution_count": 11,
   "metadata": {
    "colab": {
     "base_uri": "https://localhost:8080/",
     "height": 108
    },
    "colab_type": "code",
    "id": "Al9mObiqfwYU",
    "outputId": "fa39848c-333f-4470-ec1a-126e240e4d62"
   },
   "outputs": [
    {
     "name": "stdout",
     "output_type": "stream",
     "text": [
      "78\n",
      "46\n",
      "carxofa\n",
      "[3, 9]\n",
      "5.7\n"
     ]
    }
   ],
   "source": [
    "l = [78, 46, \"carxofa\", [3, 9], 5.7]\n",
    "\n",
    "for i in l:\n",
    "  print(i)"
   ]
  },
  {
   "cell_type": "markdown",
   "metadata": {
    "colab_type": "text",
    "id": "76EucokjNHnV"
   },
   "source": [
    "\n",
    "*   **enumerate:** adds a counter to an iterable. Returns an enumerate object that associates the counter with its list element  \n",
    "Structure:\n",
    "> enumerate (*iterable*,*start*)       \n",
    "\n"
   ]
  },
  {
   "cell_type": "code",
   "execution_count": 12,
   "metadata": {
    "colab": {
     "base_uri": "https://localhost:8080/",
     "height": 35
    },
    "colab_type": "code",
    "id": "1M0fdp2aM8OB",
    "outputId": "c3afd4b4-f220-433a-bc16-1cc942644272"
   },
   "outputs": [
    {
     "name": "stdout",
     "output_type": "stream",
     "text": [
      "[(1, 'g'), (2, 'e'), (3, 'e'), (4, 'k')]\n"
     ]
    }
   ],
   "source": [
    "s1 = \"geek\"\n",
    "print (list(enumerate(s1,1)))"
   ]
  },
  {
   "cell_type": "code",
   "execution_count": 13,
   "metadata": {
    "colab": {
     "base_uri": "https://localhost:8080/",
     "height": 90
    },
    "colab_type": "code",
    "id": "Z8DpOllaNBzt",
    "outputId": "58e2f04a-2e4b-4b62-ba29-5e700fb14755"
   },
   "outputs": [
    {
     "name": "stdout",
     "output_type": "stream",
     "text": [
      "0 h\n",
      "1 o\n",
      "2 l\n",
      "3 a\n"
     ]
    }
   ],
   "source": [
    "for i,j in enumerate(\"hola\"):\n",
    "  print(i,j)"
   ]
  },
  {
   "cell_type": "markdown",
   "metadata": {
    "colab_type": "text",
    "id": "P8g26jUx555F"
   },
   "source": [
    "*   **zip:** allows us to do parallel iteration   \n",
    "Structure:\n",
    ">for *var1, var2* ... in zip(*iterable*,*iterable*, ... )  \n",
    "\n",
    "  **Note**: The loop repeats as many times as the shortest iterable"
   ]
  },
  {
   "cell_type": "code",
   "execution_count": 14,
   "metadata": {
    "colab": {
     "base_uri": "https://localhost:8080/",
     "height": 90
    },
    "colab_type": "code",
    "id": "ZtP7duuANnze",
    "outputId": "44441333-ac1a-4a5e-b3ce-40343e9c9dfb"
   },
   "outputs": [
    {
     "name": "stdout",
     "output_type": "stream",
     "text": [
      "h a\n",
      "o d\n",
      "l e\n",
      "a u\n"
     ]
    }
   ],
   "source": [
    "for i,j in zip(\"hola\",\"adeu\"):\n",
    "  print(i,j)"
   ]
  },
  {
   "cell_type": "code",
   "execution_count": 15,
   "metadata": {
    "colab": {
     "base_uri": "https://localhost:8080/",
     "height": 90
    },
    "colab_type": "code",
    "id": "Ea2kqsJe95oL",
    "outputId": "f459c05a-8384-4d8d-fd50-879d6295e525"
   },
   "outputs": [
    {
     "name": "stdout",
     "output_type": "stream",
     "text": [
      "h llenties 101 4\n",
      "o Sakon 102 3\n",
      "l [1, 2, 3] 103 2\n",
      "a 236 104 1\n"
     ]
    }
   ],
   "source": [
    "l1 = \"hola\"\n",
    "l2 = [\"llenties\",\"Sakon\",[1,2,3],236]\n",
    "l3 = [101,102,103,104]\n",
    "l4 = range(4,-1,-1)\n",
    "for i,j,k,z in zip(l1,l2,l3,l4):\n",
    "  print(i,j,k,z)"
   ]
  },
  {
   "cell_type": "markdown",
   "metadata": {},
   "source": [
    "**Note**: The loop repeats itself with the length of the shortest iterable."
   ]
  },
  {
   "cell_type": "markdown",
   "metadata": {},
   "source": [
    "In the following code we can see what the zip comand is."
   ]
  },
  {
   "cell_type": "code",
   "execution_count": 16,
   "metadata": {
    "colab": {
     "base_uri": "https://localhost:8080/",
     "height": 35
    },
    "colab_type": "code",
    "id": "Ih32Xbg0DXHa",
    "outputId": "3f594837-a9b0-4c40-e7cd-f220b8bd25c4"
   },
   "outputs": [
    {
     "name": "stdout",
     "output_type": "stream",
     "text": [
      "[(9, 'c'), (3, 'b'), (7, 'a')]\n"
     ]
    }
   ],
   "source": [
    "l1 = {7, 3, 9}\n",
    "l2 = {'b', 'a', 'c'}\n",
    "print(list(zip(l1, l2)))"
   ]
  },
  {
   "cell_type": "code",
   "execution_count": 17,
   "metadata": {
    "colab": {
     "base_uri": "https://localhost:8080/",
     "height": 72
    },
    "colab_type": "code",
    "id": "8EHA6KZj_D0O",
    "outputId": "13452eb2-e0b0-4c58-b7cd-bb86767a9084"
   },
   "outputs": [
    {
     "name": "stdout",
     "output_type": "stream",
     "text": [
      "1 j llenties\n",
      "2 a Sakon\n",
      "3 m [1, 2, 3]\n"
     ]
    }
   ],
   "source": [
    "l1 = [1,2,3,4,5,6,7,8,9]\n",
    "l2 = [\"llenties\",\"Sakon\",[1,2,3],236]\n",
    "l3 = \"jam\"\n",
    "for i,z,j in zip(l1,l3,l2):\n",
    "  print(i,z,j)"
   ]
  },
  {
   "cell_type": "markdown",
   "metadata": {
    "colab_type": "text",
    "id": "ODVGXWjlfvNn"
   },
   "source": [
    "*   **tuples**  \n",
    "*   **dictionaries**  \n",
    "..."
   ]
  },
  {
   "cell_type": "markdown",
   "metadata": {
    "colab_type": "text",
    "id": "ZYhGRyNkJWM1"
   },
   "source": [
    "**Exemple summation:**\n"
   ]
  },
  {
   "cell_type": "code",
   "execution_count": 0,
   "metadata": {
    "colab": {},
    "colab_type": "code",
    "id": "vU_72_BpGfAc"
   },
   "outputs": [],
   "source": [
    "x = 0\n",
    "for j in range(11):\n",
    "  x = x + j"
   ]
  },
  {
   "cell_type": "code",
   "execution_count": 0,
   "metadata": {
    "colab": {
     "base_uri": "https://localhost:8080/",
     "height": 34
    },
    "colab_type": "code",
    "id": "ER5ru7KUJ5cV",
    "outputId": "98100376-4f13-4aac-a3d0-fe52b5bb5fea"
   },
   "outputs": [
    {
     "name": "stdout",
     "output_type": "stream",
     "text": [
      "55\n"
     ]
    }
   ],
   "source": [
    "print(x)"
   ]
  },
  {
   "cell_type": "markdown",
   "metadata": {
    "colab_type": "text",
    "id": "9XnUA9h7rXsf"
   },
   "source": [
    "# List Comprehension"
   ]
  },
  {
   "cell_type": "markdown",
   "metadata": {
    "colab_type": "text",
    "id": "S66vJmOtrryI"
   },
   "source": [
    "*   List comprehensions provide a concise way to create lists.\n",
    "\n",
    "*   The list comprehension always returns a result list. "
   ]
  },
  {
   "cell_type": "markdown",
   "metadata": {
    "colab_type": "text",
    "id": "VuW2OdnhsNXW"
   },
   "source": [
    "[ *expression* for *item* in *list* if *conditional* ]  "
   ]
  },
  {
   "cell_type": "code",
   "execution_count": 0,
   "metadata": {
    "colab": {
     "base_uri": "https://localhost:8080/",
     "height": 34
    },
    "colab_type": "code",
    "id": "tPhTXJ49rbRP",
    "outputId": "71784829-aaca-4d20-83f5-a3dc7020d7ef"
   },
   "outputs": [
    {
     "name": "stdout",
     "output_type": "stream",
     "text": [
      "[0, 4, 16, 36, 64]\n"
     ]
    }
   ],
   "source": [
    "l = [i**2 for i in range(10) if i%2==0]\n",
    "print(l)"
   ]
  },
  {
   "cell_type": "markdown",
   "metadata": {
    "colab_type": "text",
    "id": "qHu_NRXEecik"
   },
   "source": [
    "This equals to:"
   ]
  },
  {
   "cell_type": "code",
   "execution_count": 0,
   "metadata": {
    "colab": {
     "base_uri": "https://localhost:8080/",
     "height": 34
    },
    "colab_type": "code",
    "id": "3EumfSVrwCwv",
    "outputId": "0492fd08-41d0-488d-edba-0a60b02375ed"
   },
   "outputs": [
    {
     "name": "stdout",
     "output_type": "stream",
     "text": [
      "[0, 4, 16, 36, 64]\n"
     ]
    }
   ],
   "source": [
    "l = []                #Empty list\n",
    "for i in range(10):\n",
    "    if i%2==0:\n",
    "        l.append(i**2)\n",
    "\n",
    "print(l)"
   ]
  },
  {
   "cell_type": "markdown",
   "metadata": {
    "colab_type": "text",
    "id": "_b3iMm5AkKxm"
   },
   "source": [
    "## While\n",
    "Structure:\n",
    "> while(*condition*):       \n",
    "> &ensp;&ensp;&ensp;&ensp;Code to repeat\n",
    "  \n",
    "As long as the condition is True, the block of code will be repeated."
   ]
  },
  {
   "cell_type": "markdown",
   "metadata": {
    "colab_type": "text",
    "id": "JZ9wpsLAktr3"
   },
   "source": [
    "In this example the while loop will act as a for in range(10):\n"
   ]
  },
  {
   "cell_type": "code",
   "execution_count": 0,
   "metadata": {
    "colab": {
     "base_uri": "https://localhost:8080/",
     "height": 201
    },
    "colab_type": "code",
    "id": "NYONGzlzk2ti",
    "outputId": "c0c37de8-2cc0-4dc4-dcfe-5a74d0ecba34"
   },
   "outputs": [
    {
     "name": "stdout",
     "output_type": "stream",
     "text": [
      "0\n",
      "1\n",
      "2\n",
      "3\n",
      "4\n",
      "5\n",
      "6\n",
      "7\n",
      "8\n",
      "9\n"
     ]
    }
   ],
   "source": [
    "i = 0\n",
    "while(i<10):\n",
    "  print(i)\n",
    "  i = i + 1"
   ]
  },
  {
   "cell_type": "code",
   "execution_count": 5,
   "metadata": {},
   "outputs": [
    {
     "name": "stdout",
     "output_type": "stream",
     "text": [
      "10\n"
     ]
    }
   ],
   "source": [
    "i = 0\n",
    "while(i<10):\n",
    "  i = i + 10\n",
    "  print(i)"
   ]
  },
  {
   "cell_type": "code",
   "execution_count": 14,
   "metadata": {
    "scrolled": true
   },
   "outputs": [
    {
     "name": "stdout",
     "output_type": "stream",
     "text": [
      "11\n",
      "12\n",
      "13\n",
      "14\n",
      "15\n",
      "16\n",
      "17\n",
      "18\n",
      "19\n",
      "20\n"
     ]
    }
   ],
   "source": [
    "i = 0\n",
    "for i in range(10):\n",
    "  i = i + 11\n",
    "  print(i)"
   ]
  },
  {
   "cell_type": "markdown",
   "metadata": {},
   "source": [
    "**Note:** keep in mind that the while loop depends directly on the value of **i** and does not reset every time."
   ]
  },
  {
   "cell_type": "markdown",
   "metadata": {
    "colab_type": "text",
    "id": "hCsambQvlFvD"
   },
   "source": [
    "We can also include ***and, or, not*** expressions in the condition:"
   ]
  },
  {
   "cell_type": "code",
   "execution_count": 0,
   "metadata": {
    "colab": {
     "base_uri": "https://localhost:8080/",
     "height": 199
    },
    "colab_type": "code",
    "id": "LYMpeEHjlKc1",
    "outputId": "b2069f61-53bc-4c8e-e0a2-63c41da8b895"
   },
   "outputs": [
    {
     "name": "stdout",
     "output_type": "stream",
     "text": [
      "5 9\n",
      "6 8\n",
      "7 7\n",
      "8 6\n",
      "9 5\n",
      "10 4\n",
      "11 3\n",
      "12 2\n",
      "13 1\n",
      "14 0\n"
     ]
    }
   ],
   "source": [
    "a = 5\n",
    "b = 9\n",
    "while(a<10 or b>=0):\n",
    "  print(a, b)\n",
    "  a = a + 1\n",
    "  b = b - 1"
   ]
  },
  {
   "cell_type": "markdown",
   "metadata": {
    "colab_type": "text",
    "id": "Z5Ub5uqrmTI-"
   },
   "source": [
    "In the following example the loop will stop when it finds the letter 't' in the string:"
   ]
  },
  {
   "cell_type": "code",
   "execution_count": 10,
   "metadata": {
    "colab": {
     "base_uri": "https://localhost:8080/",
     "height": 35
    },
    "colab_type": "code",
    "id": "rqQQyywImYkx",
    "outputId": "14e64293-5e76-4b9a-dc38-793ad4ca701e"
   },
   "outputs": [
    {
     "name": "stdout",
     "output_type": "stream",
     "text": [
      "c 0\n",
      "a 1\n",
      "s 2\n",
      "The letter t is in the position 3\n"
     ]
    }
   ],
   "source": [
    "i = 0\n",
    "word = \"castle\"\n",
    "while(word[i]!='t'):\n",
    "    print(word[i],i) \n",
    "    i = i + 1\n",
    "\n",
    "print(\"The letter\", word[i], \"is in the position\", i)"
   ]
  },
  {
   "cell_type": "markdown",
   "metadata": {
    "colab_type": "text",
    "id": "jTRLymhIUJAG"
   },
   "source": [
    "## Break and Continue"
   ]
  },
  {
   "cell_type": "markdown",
   "metadata": {
    "colab_type": "text",
    "id": "fMnRAtzu55lE"
   },
   "source": [
    "The statements break and continue are commonly used with conditionals to control the flow of a normal loop."
   ]
  },
  {
   "cell_type": "markdown",
   "metadata": {
    "colab_type": "text",
    "id": "Pn4l-eSwU9df"
   },
   "source": [
    "*   **Break:** With the break statement we can force the loop to stop. Even if the condition is true *(while)* or the maximum number of iterations has not been reached *(for)*."
   ]
  },
  {
   "cell_type": "code",
   "execution_count": 2,
   "metadata": {
    "colab": {
     "base_uri": "https://localhost:8080/",
     "height": 52
    },
    "colab_type": "code",
    "id": "6BWY4VpcnBEr",
    "outputId": "9992451c-61d2-43a9-bffb-a64ae59842f1"
   },
   "outputs": [
    {
     "name": "stdout",
     "output_type": "stream",
     "text": [
      "2\n",
      "4\n"
     ]
    }
   ],
   "source": [
    "hola = 1\n",
    "while(True):\n",
    "    hola = hola*2\n",
    "    if(hola>5):\n",
    "        break\n",
    "    print(hola)"
   ]
  },
  {
   "cell_type": "code",
   "execution_count": 11,
   "metadata": {
    "colab": {
     "base_uri": "https://localhost:8080/",
     "height": 34
    },
    "colab_type": "code",
    "id": "5mVqi1l59h2f",
    "outputId": "73e7871b-535a-4b74-8d8a-8bbe0e20f99d"
   },
   "outputs": [
    {
     "name": "stdout",
     "output_type": "stream",
     "text": [
      "c 0\n",
      "a 1\n",
      "s 2\n",
      "t 3\n",
      "The letter t is in the position 3\n"
     ]
    }
   ],
   "source": [
    "word = \"castle\"\n",
    "for i in range(100):\n",
    "    print(word[i],i)\n",
    "    if(word[i]==\"t\"):\n",
    "        print(\"The letter\", word[i], \"is in the position\", i)\n",
    "        break"
   ]
  },
  {
   "cell_type": "code",
   "execution_count": 0,
   "metadata": {
    "colab": {},
    "colab_type": "code",
    "id": "QYgv81exJc4b"
   },
   "outputs": [],
   "source": [
    "m = [[1,2,3],[4,5,6],[7,8,9]]\n",
    "for i in range(len(m)):\n",
    "  for j in range(len(m[0])):\n",
    "    if(m[i][j]==4):\n",
    "      break\n",
    "    print(m[i][j])\n",
    "  print(\"-\")"
   ]
  },
  {
   "cell_type": "code",
   "execution_count": 10,
   "metadata": {
    "colab": {
     "base_uri": "https://localhost:8080/",
     "height": 199
    },
    "colab_type": "code",
    "id": "0Xsrb5jrJgDw",
    "outputId": "8df2c46c-d412-4873-a0cd-ac8fda8a1823"
   },
   "outputs": [
    {
     "name": "stdout",
     "output_type": "stream",
     "text": [
      "1\n",
      "2\n",
      "3\n",
      "-\n",
      "4\n",
      "-\n",
      "7\n",
      "8\n",
      "9\n",
      "-\n"
     ]
    }
   ],
   "source": [
    "m = [[1,2,3],[4,5,6],[7,8,9]]\n",
    "for i in m:\n",
    "  for j in i:\n",
    "    if(j==5):\n",
    "      break\n",
    "    print(j)\n",
    "  print(\"-\")"
   ]
  },
  {
   "cell_type": "markdown",
   "metadata": {
    "colab_type": "text",
    "id": "1Tl_Ui6IXjA9"
   },
   "source": [
    "*   **Continue:** The continue statement is used if we do not want to execute the rest of the code inside a loop, <ins>it skips the code below the statement yet only for the current iteration</ins>. Loop does not terminate but continues on with the next iteration."
   ]
  },
  {
   "cell_type": "code",
   "execution_count": 0,
   "metadata": {
    "colab": {
     "base_uri": "https://localhost:8080/",
     "height": 86
    },
    "colab_type": "code",
    "id": "Bxf3ZX2a4b-q",
    "outputId": "d4fa9bc0-c3a8-4d8f-b740-b4505ed6646a"
   },
   "outputs": [
    {
     "name": "stdout",
     "output_type": "stream",
     "text": [
      "1\n",
      "2\n",
      "4\n",
      "5\n"
     ]
    }
   ],
   "source": [
    "i = 0\n",
    "while(i<5):\n",
    "  i += 1\n",
    "  if(i==3):\n",
    "    continue\n",
    "  print(i)"
   ]
  },
  {
   "cell_type": "markdown",
   "metadata": {
    "colab_type": "text",
    "id": "e3PkzgDm5B7o"
   },
   "source": [
    "**Note:** See that if we update the value of **i** after the conditional, the loop will never stop"
   ]
  },
  {
   "cell_type": "code",
   "execution_count": 0,
   "metadata": {
    "colab": {
     "base_uri": "https://localhost:8080/",
     "height": 191
    },
    "colab_type": "code",
    "id": "T8ouZeSH5sB2",
    "outputId": "a53f5b98-de66-47a4-ed17-f0854b2b7f63"
   },
   "outputs": [
    {
     "name": "stdout",
     "output_type": "stream",
     "text": [
      "0\n",
      "1\n",
      "2\n",
      "3\n",
      "4\n",
      "5\n",
      "6\n",
      "7\n",
      "8\n",
      "9\n"
     ]
    }
   ],
   "source": [
    "for i in range(10):\n",
    "  print(i)\n",
    "  continue\n",
    "  print(\"hello\")"
   ]
  },
  {
   "cell_type": "code",
   "execution_count": 0,
   "metadata": {
    "colab": {
     "base_uri": "https://localhost:8080/",
     "height": 69
    },
    "colab_type": "code",
    "id": "SYbx8wbj5dDc",
    "outputId": "8db4a6ae-7c6f-4616-8160-751339585b14"
   },
   "outputs": [
    {
     "name": "stdout",
     "output_type": "stream",
     "text": [
      "2\n",
      "6\n",
      "8\n"
     ]
    }
   ],
   "source": [
    "for i in range(2,10,2):\n",
    "  if(i==5):\n",
    "    continue\n",
    "  elif(i==4):\n",
    "    continue\n",
    "  print(i)"
   ]
  },
  {
   "cell_type": "markdown",
   "metadata": {
    "colab_type": "text",
    "id": "FoS4Kw2M7BqG"
   },
   "source": [
    "**Note**: the variable **i** will never get the value 5"
   ]
  }
 ],
 "metadata": {
  "colab": {
   "collapsed_sections": [],
   "name": "SesionTwo.ipynb",
   "provenance": []
  },
  "kernelspec": {
   "display_name": "Python 3",
   "language": "python",
   "name": "python3"
  },
  "language_info": {
   "codemirror_mode": {
    "name": "ipython",
    "version": 3
   },
   "file_extension": ".py",
   "mimetype": "text/x-python",
   "name": "python",
   "nbconvert_exporter": "python",
   "pygments_lexer": "ipython3",
   "version": "3.8.5"
  }
 },
 "nbformat": 4,
 "nbformat_minor": 1
}

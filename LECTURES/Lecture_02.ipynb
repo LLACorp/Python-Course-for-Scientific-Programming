{
  "nbformat": 4,
  "nbformat_minor": 0,
  "metadata": {
    "colab": {
      "name": "SesionTwo.ipynb",
      "provenance": [],
      "collapsed_sections": []
    },
    "kernelspec": {
      "name": "python3",
      "display_name": "Python 3"
    }
  },
  "cells": [
    {
      "cell_type": "markdown",
      "metadata": {
        "id": "1CnJ9L-np9rn",
        "colab_type": "text"
      },
      "source": [
        "# PYTHON COURSE FOR SCIENTIFIC PROGRAMMING \n",
        "**Contributors:** \\\n",
        "Artur Llabrés Brustenga: Artur.Llabres@e-campus.uab.cat \\\n",
        "Gerard Navarro Pérez: Gerard.NavarroP@e-campus.uab.cat \\\n",
        "Arnau Parrilla Gibert: Arnau.Parrilla@e-campus.uab.cat \\\n",
        "Jan Scarabelli Calopa:Jan.Scarabelli@e-campus.uab.cat \\\n",
        "Xabier Oyanguren Asua: Xabier.Oyanguren@e-campus.uab.cat \\\n",
        "\n",
        "Course material can be found at: https://llacorp.github.io/Python-Course-for-Scientific-Programming/ "
      ]
    },
    {
      "cell_type": "markdown",
      "metadata": {
        "id": "7j-0zDCyiVzS",
        "colab_type": "text"
      },
      "source": [
        "# The Loops\n",
        "Loops are used to iterate a block of code:\n",
        "####<ins>Types of loops:</ins>\n",
        "* A **for** loop is a loop that runs for a preset number of times.\n",
        "* A **while** loop is a loop that is repeated as long as an expression is true. An expression is a statement that has a value."
      ]
    },
    {
      "cell_type": "markdown",
      "metadata": {
        "id": "rOdmBUPysJEo",
        "colab_type": "text"
      },
      "source": [
        "## For\n",
        "Structure:\n",
        "> for *control_variable* in *iterable_object*:       \n",
        "> &ensp;&ensp;&ensp;&ensp;Code to repeat\n",
        "  \n",
        "For instance:\n",
        "\n"
      ]
    },
    {
      "cell_type": "code",
      "metadata": {
        "id": "KB9sMFgqPegm",
        "colab_type": "code",
        "outputId": "c9691970-b4e4-4f83-e57e-c3e1df92fb2c",
        "colab": {
          "base_uri": "https://localhost:8080/",
          "height": 199
        }
      },
      "source": [
        "for i in range(10):\n",
        "  print(\"hola\")"
      ],
      "execution_count": 0,
      "outputs": [
        {
          "output_type": "stream",
          "text": [
            "hola\n",
            "hola\n",
            "hola\n",
            "hola\n",
            "hola\n",
            "hola\n",
            "hola\n",
            "hola\n",
            "hola\n",
            "hola\n"
          ],
          "name": "stdout"
        }
      ]
    },
    {
      "cell_type": "markdown",
      "metadata": {
        "id": "oDr13MjAPuEm",
        "colab_type": "text"
      },
      "source": [
        "We can also use the value of the control variable in each one of the iterations"
      ]
    },
    {
      "cell_type": "code",
      "metadata": {
        "id": "N38_FY2OtPsB",
        "colab_type": "code",
        "outputId": "c0adfec3-1413-49a9-ecac-17ca32f66efa",
        "colab": {
          "base_uri": "https://localhost:8080/",
          "height": 199
        }
      },
      "source": [
        "for i in range(10):\n",
        "  print(i)"
      ],
      "execution_count": 0,
      "outputs": [
        {
          "output_type": "stream",
          "text": [
            "0\n",
            "1\n",
            "2\n",
            "3\n",
            "4\n",
            "5\n",
            "6\n",
            "7\n",
            "8\n",
            "9\n"
          ],
          "name": "stdout"
        }
      ]
    },
    {
      "cell_type": "code",
      "metadata": {
        "id": "8TOS-q7HQMn8",
        "colab_type": "code",
        "outputId": "9001959f-69dc-4538-885b-2330ab82a947",
        "colab": {
          "base_uri": "https://localhost:8080/",
          "height": 199
        }
      },
      "source": [
        "for i in range(10):\n",
        "  i = i+1\n",
        "  if(i%2):\n",
        "    print(\"Odd\",i)\n",
        "  else:\n",
        "    print(\"Even\",i)"
      ],
      "execution_count": 0,
      "outputs": [
        {
          "output_type": "stream",
          "text": [
            "Odd 1\n",
            "Even 2\n",
            "Odd 3\n",
            "Even 4\n",
            "Odd 5\n",
            "Even 6\n",
            "Odd 7\n",
            "Even 8\n",
            "Odd 9\n",
            "Even 10\n"
          ],
          "name": "stdout"
        }
      ]
    },
    {
      "cell_type": "markdown",
      "metadata": {
        "id": "zhRibGz2EcHR",
        "colab_type": "text"
      },
      "source": [
        "What can you notice?"
      ]
    },
    {
      "cell_type": "markdown",
      "metadata": {
        "id": "kP7X8hptE--J",
        "colab_type": "text"
      },
      "source": [
        "Examples of iterables objects:\n",
        "\n",
        "\n",
        "*   **range**(start,stop,step):"
      ]
    },
    {
      "cell_type": "code",
      "metadata": {
        "id": "uJN8i0IwE7fj",
        "colab_type": "code",
        "outputId": "e975d033-7e23-4b28-88ec-14ddfde43f21",
        "colab": {
          "base_uri": "https://localhost:8080/",
          "height": 199
        }
      },
      "source": [
        "for i in range(9,-1,-1):\n",
        "  print(i)"
      ],
      "execution_count": 0,
      "outputs": [
        {
          "output_type": "stream",
          "text": [
            "9\n",
            "8\n",
            "7\n",
            "6\n",
            "5\n",
            "4\n",
            "3\n",
            "2\n",
            "1\n",
            "0\n"
          ],
          "name": "stdout"
        }
      ]
    },
    {
      "cell_type": "markdown",
      "metadata": {
        "id": "Ao8n9MebHIWP",
        "colab_type": "text"
      },
      "source": [
        "*   **strings**"
      ]
    },
    {
      "cell_type": "code",
      "metadata": {
        "id": "bmQeCNHfGWGt",
        "colab_type": "code",
        "outputId": "5889370b-7c93-42fb-a5c9-bbf7f2347ece",
        "colab": {
          "base_uri": "https://localhost:8080/",
          "height": 90
        }
      },
      "source": [
        "x = \"hola\"\n",
        "for i in x:\n",
        "  print(i)"
      ],
      "execution_count": 0,
      "outputs": [
        {
          "output_type": "stream",
          "text": [
            "h\n",
            "o\n",
            "l\n",
            "a\n"
          ],
          "name": "stdout"
        }
      ]
    },
    {
      "cell_type": "markdown",
      "metadata": {
        "id": "TRIOYDnFHghF",
        "colab_type": "text"
      },
      "source": [
        "\n",
        "\n",
        "*   **lists**"
      ]
    },
    {
      "cell_type": "code",
      "metadata": {
        "id": "Al9mObiqfwYU",
        "colab_type": "code",
        "outputId": "fa39848c-333f-4470-ec1a-126e240e4d62",
        "colab": {
          "base_uri": "https://localhost:8080/",
          "height": 108
        }
      },
      "source": [
        "l = [78, 46, \"carxofa\", [3, 9], 5.7]\n",
        "\n",
        "for i in l:\n",
        "  print(i)"
      ],
      "execution_count": 11,
      "outputs": [
        {
          "output_type": "stream",
          "text": [
            "78\n",
            "46\n",
            "carxofa\n",
            "[3, 9]\n",
            "5.7\n"
          ],
          "name": "stdout"
        }
      ]
    },
    {
      "cell_type": "markdown",
      "metadata": {
        "id": "76EucokjNHnV",
        "colab_type": "text"
      },
      "source": [
        "\n",
        "*   **enumerate:** adds a counter to an iterable. Returns an enumerate object that associates the counter with its list element  \n",
        "Structure:\n",
        "> enumerate (*iterable*,*start*)       \n",
        "\n"
      ]
    },
    {
      "cell_type": "code",
      "metadata": {
        "id": "1M0fdp2aM8OB",
        "colab_type": "code",
        "outputId": "c3afd4b4-f220-433a-bc16-1cc942644272",
        "colab": {
          "base_uri": "https://localhost:8080/",
          "height": 35
        }
      },
      "source": [
        "s1 = \"geek\"\n",
        "print (list(enumerate(s1,1)))"
      ],
      "execution_count": 12,
      "outputs": [
        {
          "output_type": "stream",
          "text": [
            "[(1, 'g'), (2, 'e'), (3, 'e'), (4, 'k')]\n"
          ],
          "name": "stdout"
        }
      ]
    },
    {
      "cell_type": "code",
      "metadata": {
        "id": "Z8DpOllaNBzt",
        "colab_type": "code",
        "outputId": "58e2f04a-2e4b-4b62-ba29-5e700fb14755",
        "colab": {
          "base_uri": "https://localhost:8080/",
          "height": 90
        }
      },
      "source": [
        "for i,j in enumerate(\"hola\"):\n",
        "  print(i,j)"
      ],
      "execution_count": 13,
      "outputs": [
        {
          "output_type": "stream",
          "text": [
            "0 h\n",
            "1 o\n",
            "2 l\n",
            "3 a\n"
          ],
          "name": "stdout"
        }
      ]
    },
    {
      "cell_type": "markdown",
      "metadata": {
        "id": "P8g26jUx555F",
        "colab_type": "text"
      },
      "source": [
        "*   **zip:** allows us to do parallel iteration   \n",
        "Structure:\n",
        ">for *var1, var2* ... in zip(*iterable*,*iterable*, ... )  \n",
        "\n",
        "  **Note**: The loop repeats as many times as the shortest iterable"
      ]
    },
    {
      "cell_type": "code",
      "metadata": {
        "id": "ZtP7duuANnze",
        "colab_type": "code",
        "outputId": "44441333-ac1a-4a5e-b3ce-40343e9c9dfb",
        "colab": {
          "base_uri": "https://localhost:8080/",
          "height": 90
        }
      },
      "source": [
        "for i,j in zip(\"hola\",\"adeu\"):\n",
        "  print(i,j)"
      ],
      "execution_count": 14,
      "outputs": [
        {
          "output_type": "stream",
          "text": [
            "h a\n",
            "o d\n",
            "l e\n",
            "a u\n"
          ],
          "name": "stdout"
        }
      ]
    },
    {
      "cell_type": "code",
      "metadata": {
        "id": "Ea2kqsJe95oL",
        "colab_type": "code",
        "outputId": "f459c05a-8384-4d8d-fd50-879d6295e525",
        "colab": {
          "base_uri": "https://localhost:8080/",
          "height": 90
        }
      },
      "source": [
        "l1 = \"hola\"\n",
        "l2 = [\"llenties\",\"Sakon\",[1,2,3],236]\n",
        "l3 = [101,102,103,104]\n",
        "l4 = range(4,-1,-1)\n",
        "for i,j,k,z in zip(l1,l2,l3,l4):\n",
        "  print(i,j,k,z)"
      ],
      "execution_count": 15,
      "outputs": [
        {
          "output_type": "stream",
          "text": [
            "h llenties 101 4\n",
            "o Sakon 102 3\n",
            "l [1, 2, 3] 103 2\n",
            "a 236 104 1\n"
          ],
          "name": "stdout"
        }
      ]
    },
    {
      "cell_type": "code",
      "metadata": {
        "id": "Ih32Xbg0DXHa",
        "colab_type": "code",
        "outputId": "3f594837-a9b0-4c40-e7cd-f220b8bd25c4",
        "colab": {
          "base_uri": "https://localhost:8080/",
          "height": 35
        }
      },
      "source": [
        "l1 = {7, 3, 9}\n",
        "l2 = {'b', 'a', 'c'}\n",
        "print(list(zip(l1, l2)))"
      ],
      "execution_count": 16,
      "outputs": [
        {
          "output_type": "stream",
          "text": [
            "[(9, 'c'), (3, 'b'), (7, 'a')]\n"
          ],
          "name": "stdout"
        }
      ]
    },
    {
      "cell_type": "code",
      "metadata": {
        "id": "8EHA6KZj_D0O",
        "colab_type": "code",
        "outputId": "13452eb2-e0b0-4c58-b7cd-bb86767a9084",
        "colab": {
          "base_uri": "https://localhost:8080/",
          "height": 72
        }
      },
      "source": [
        "l1 = [1,2,3,4,5,6,7,8,9]\n",
        "l2 = [\"llenties\",\"Sakon\",[1,2,3],236]\n",
        "l3 = \"jam\"\n",
        "for i,z,j in zip(l1,l3,l2):\n",
        "  print(i,z,j)"
      ],
      "execution_count": 17,
      "outputs": [
        {
          "output_type": "stream",
          "text": [
            "1 j llenties\n",
            "2 a Sakon\n",
            "3 m [1, 2, 3]\n"
          ],
          "name": "stdout"
        }
      ]
    },
    {
      "cell_type": "markdown",
      "metadata": {
        "id": "ODVGXWjlfvNn",
        "colab_type": "text"
      },
      "source": [
        "*   **tuples**  \n",
        "*   **dictionaries**  \n",
        "..."
      ]
    },
    {
      "cell_type": "markdown",
      "metadata": {
        "id": "ZYhGRyNkJWM1",
        "colab_type": "text"
      },
      "source": [
        "**Exemple summation:**\n"
      ]
    },
    {
      "cell_type": "code",
      "metadata": {
        "id": "vU_72_BpGfAc",
        "colab_type": "code",
        "colab": {}
      },
      "source": [
        "x = 0\n",
        "for j in range(11):\n",
        "  x = x + j"
      ],
      "execution_count": 0,
      "outputs": []
    },
    {
      "cell_type": "code",
      "metadata": {
        "id": "ER5ru7KUJ5cV",
        "colab_type": "code",
        "outputId": "98100376-4f13-4aac-a3d0-fe52b5bb5fea",
        "colab": {
          "base_uri": "https://localhost:8080/",
          "height": 34
        }
      },
      "source": [
        "print(x)"
      ],
      "execution_count": 0,
      "outputs": [
        {
          "output_type": "stream",
          "text": [
            "55\n"
          ],
          "name": "stdout"
        }
      ]
    },
    {
      "cell_type": "markdown",
      "metadata": {
        "id": "9XnUA9h7rXsf",
        "colab_type": "text"
      },
      "source": [
        "# List Comprehension"
      ]
    },
    {
      "cell_type": "markdown",
      "metadata": {
        "id": "S66vJmOtrryI",
        "colab_type": "text"
      },
      "source": [
        "*   List comprehensions provide a concise way to create lists.\n",
        "\n",
        "*   The list comprehension always returns a result list. "
      ]
    },
    {
      "cell_type": "markdown",
      "metadata": {
        "id": "VuW2OdnhsNXW",
        "colab_type": "text"
      },
      "source": [
        "[ *expression* for *item* in *list* if *conditional* ]  "
      ]
    },
    {
      "cell_type": "code",
      "metadata": {
        "id": "tPhTXJ49rbRP",
        "colab_type": "code",
        "outputId": "71784829-aaca-4d20-83f5-a3dc7020d7ef",
        "colab": {
          "base_uri": "https://localhost:8080/",
          "height": 34
        }
      },
      "source": [
        "l = [i**2 for i in range(10) if i%2==0]\n",
        "print(l)"
      ],
      "execution_count": 0,
      "outputs": [
        {
          "output_type": "stream",
          "text": [
            "[0, 4, 16, 36, 64]\n"
          ],
          "name": "stdout"
        }
      ]
    },
    {
      "cell_type": "markdown",
      "metadata": {
        "id": "qHu_NRXEecik",
        "colab_type": "text"
      },
      "source": [
        "This equals to:"
      ]
    },
    {
      "cell_type": "code",
      "metadata": {
        "id": "3EumfSVrwCwv",
        "colab_type": "code",
        "outputId": "0492fd08-41d0-488d-edba-0a60b02375ed",
        "colab": {
          "base_uri": "https://localhost:8080/",
          "height": 34
        }
      },
      "source": [
        "l = []                #Empty list\n",
        "for i in range(10):\n",
        "  if i%2==0:\n",
        "\n",
        "    l.append(i**2)\n",
        "\n",
        "print(l)"
      ],
      "execution_count": 0,
      "outputs": [
        {
          "output_type": "stream",
          "text": [
            "[0, 4, 16, 36, 64]\n"
          ],
          "name": "stdout"
        }
      ]
    },
    {
      "cell_type": "markdown",
      "metadata": {
        "id": "_b3iMm5AkKxm",
        "colab_type": "text"
      },
      "source": [
        "## While\n",
        "Structure:\n",
        "> while(*condition*):       \n",
        "> &ensp;&ensp;&ensp;&ensp;Code to repeat\n",
        "  \n",
        "As long as the condition is True, the block of code will be repeated."
      ]
    },
    {
      "cell_type": "markdown",
      "metadata": {
        "id": "JZ9wpsLAktr3",
        "colab_type": "text"
      },
      "source": [
        "In this example the while loop will act as a for in range(10):\n"
      ]
    },
    {
      "cell_type": "code",
      "metadata": {
        "id": "NYONGzlzk2ti",
        "colab_type": "code",
        "outputId": "c0c37de8-2cc0-4dc4-dcfe-5a74d0ecba34",
        "colab": {
          "base_uri": "https://localhost:8080/",
          "height": 201
        }
      },
      "source": [
        "i = 0\n",
        "while(i<10):\n",
        "  print(i)\n",
        "  i = i + 1"
      ],
      "execution_count": 0,
      "outputs": [
        {
          "output_type": "stream",
          "text": [
            "0\n",
            "1\n",
            "2\n",
            "3\n",
            "4\n",
            "5\n",
            "6\n",
            "7\n",
            "8\n",
            "9\n"
          ],
          "name": "stdout"
        }
      ]
    },
    {
      "cell_type": "markdown",
      "metadata": {
        "id": "hCsambQvlFvD",
        "colab_type": "text"
      },
      "source": [
        "We can also include and, or, not expressions in the condition:"
      ]
    },
    {
      "cell_type": "code",
      "metadata": {
        "id": "LYMpeEHjlKc1",
        "colab_type": "code",
        "outputId": "b2069f61-53bc-4c8e-e0a2-63c41da8b895",
        "colab": {
          "base_uri": "https://localhost:8080/",
          "height": 199
        }
      },
      "source": [
        "a = 5\n",
        "b = 9\n",
        "while(a<10 or b>=0):\n",
        "  print(a, b)\n",
        "  a = a + 1\n",
        "  b = b - 1"
      ],
      "execution_count": 0,
      "outputs": [
        {
          "output_type": "stream",
          "text": [
            "5 9\n",
            "6 8\n",
            "7 7\n",
            "8 6\n",
            "9 5\n",
            "10 4\n",
            "11 3\n",
            "12 2\n",
            "13 1\n",
            "14 0\n"
          ],
          "name": "stdout"
        }
      ]
    },
    {
      "cell_type": "markdown",
      "metadata": {
        "id": "Z5Ub5uqrmTI-",
        "colab_type": "text"
      },
      "source": [
        "In the following example the loop will stop when it finds the letter 't' in the string:"
      ]
    },
    {
      "cell_type": "code",
      "metadata": {
        "id": "rqQQyywImYkx",
        "colab_type": "code",
        "outputId": "14e64293-5e76-4b9a-dc38-793ad4ca701e",
        "colab": {
          "base_uri": "https://localhost:8080/",
          "height": 35
        }
      },
      "source": [
        "i = 0\n",
        "word = \"castle\"\n",
        "while(word[i]!='t'):\n",
        "  i = i + 1\n",
        "\n",
        "print(\"The letter\", word[i], \"is in the position\", i)"
      ],
      "execution_count": 0,
      "outputs": [
        {
          "output_type": "stream",
          "text": [
            "The letter t is in the position 3\n"
          ],
          "name": "stdout"
        }
      ]
    },
    {
      "cell_type": "markdown",
      "metadata": {
        "id": "jTRLymhIUJAG",
        "colab_type": "text"
      },
      "source": [
        "## Break and Continue"
      ]
    },
    {
      "cell_type": "markdown",
      "metadata": {
        "id": "fMnRAtzu55lE",
        "colab_type": "text"
      },
      "source": [
        "The statements break and continue are commonly used with conditionals to control the flow of a normal loop."
      ]
    },
    {
      "cell_type": "markdown",
      "metadata": {
        "id": "Pn4l-eSwU9df",
        "colab_type": "text"
      },
      "source": [
        "*   **Break:** With the break statement we can force the loop to stop. Even if the condition is true *(while)* or the maximum number of iterations has not been reached *(for)*."
      ]
    },
    {
      "cell_type": "code",
      "metadata": {
        "id": "6BWY4VpcnBEr",
        "colab_type": "code",
        "outputId": "9992451c-61d2-43a9-bffb-a64ae59842f1",
        "colab": {
          "base_uri": "https://localhost:8080/",
          "height": 52
        }
      },
      "source": [
        "hola = 1\n",
        "while(True):\n",
        "  hola = hola*2\n",
        "  if(hola>5):\n",
        "    break\n",
        "  print(hola)"
      ],
      "execution_count": 0,
      "outputs": [
        {
          "output_type": "stream",
          "text": [
            "2\n",
            "4\n"
          ],
          "name": "stdout"
        }
      ]
    },
    {
      "cell_type": "code",
      "metadata": {
        "id": "5mVqi1l59h2f",
        "colab_type": "code",
        "outputId": "73e7871b-535a-4b74-8d8a-8bbe0e20f99d",
        "colab": {
          "base_uri": "https://localhost:8080/",
          "height": 34
        }
      },
      "source": [
        "word = \"castle\"\n",
        "for i in range(100):\n",
        "  if(word[i]==\"t\"):\n",
        "    print(\"The letter\", word[i], \"is in the position\", i)\n",
        "    break"
      ],
      "execution_count": 0,
      "outputs": [
        {
          "output_type": "stream",
          "text": [
            "The letter t is in the position 3\n"
          ],
          "name": "stdout"
        }
      ]
    },
    {
      "cell_type": "code",
      "metadata": {
        "id": "QYgv81exJc4b",
        "colab_type": "code",
        "colab": {}
      },
      "source": [
        "m = [[1,2,3],[4,5,6],[7,8,9]]\n",
        "for i in range(len(m)):\n",
        "  for j in range(len(m[0])):\n",
        "    if(m[i][j]==4):\n",
        "      break\n",
        "    print(m[i][j])\n",
        "  print(\"-\")"
      ],
      "execution_count": 0,
      "outputs": []
    },
    {
      "cell_type": "code",
      "metadata": {
        "id": "0Xsrb5jrJgDw",
        "colab_type": "code",
        "colab": {
          "base_uri": "https://localhost:8080/",
          "height": 199
        },
        "outputId": "8df2c46c-d412-4873-a0cd-ac8fda8a1823"
      },
      "source": [
        "m = [[1,2,3],[4,5,6],[7,8,9]]\n",
        "for i in m:\n",
        "  for j in i:\n",
        "    if(j==5):\n",
        "      break\n",
        "    print(j)\n",
        "  print(\"-\")"
      ],
      "execution_count": 10,
      "outputs": [
        {
          "output_type": "stream",
          "text": [
            "1\n",
            "2\n",
            "3\n",
            "-\n",
            "4\n",
            "-\n",
            "7\n",
            "8\n",
            "9\n",
            "-\n"
          ],
          "name": "stdout"
        }
      ]
    },
    {
      "cell_type": "markdown",
      "metadata": {
        "id": "1Tl_Ui6IXjA9",
        "colab_type": "text"
      },
      "source": [
        "*   **Continue:** The continue statement is used if we do not want to execute the rest of the code inside a loop, <ins>it skips the code below the statement yet only for the current iteration</ins>. Loop does not terminate but continues on with the next iteration."
      ]
    },
    {
      "cell_type": "code",
      "metadata": {
        "id": "Bxf3ZX2a4b-q",
        "colab_type": "code",
        "outputId": "d4fa9bc0-c3a8-4d8f-b740-b4505ed6646a",
        "colab": {
          "base_uri": "https://localhost:8080/",
          "height": 86
        }
      },
      "source": [
        "i = 0\n",
        "while(i<5):\n",
        "  i += 1\n",
        "  if(i==3):\n",
        "    continue\n",
        "  print(i)"
      ],
      "execution_count": 0,
      "outputs": [
        {
          "output_type": "stream",
          "text": [
            "1\n",
            "2\n",
            "4\n",
            "5\n"
          ],
          "name": "stdout"
        }
      ]
    },
    {
      "cell_type": "markdown",
      "metadata": {
        "id": "e3PkzgDm5B7o",
        "colab_type": "text"
      },
      "source": [
        "**Note:** See that if we actualize the value of **i** after the conditional, the loop will never stop"
      ]
    },
    {
      "cell_type": "code",
      "metadata": {
        "id": "T8ouZeSH5sB2",
        "colab_type": "code",
        "outputId": "a53f5b98-de66-47a4-ed17-f0854b2b7f63",
        "colab": {
          "base_uri": "https://localhost:8080/",
          "height": 191
        }
      },
      "source": [
        "for i in range(10):\n",
        "  print(i)\n",
        "  continue\n",
        "  print(\"hello\")"
      ],
      "execution_count": 0,
      "outputs": [
        {
          "output_type": "stream",
          "text": [
            "0\n",
            "1\n",
            "2\n",
            "3\n",
            "4\n",
            "5\n",
            "6\n",
            "7\n",
            "8\n",
            "9\n"
          ],
          "name": "stdout"
        }
      ]
    },
    {
      "cell_type": "code",
      "metadata": {
        "id": "SYbx8wbj5dDc",
        "colab_type": "code",
        "outputId": "8db4a6ae-7c6f-4616-8160-751339585b14",
        "colab": {
          "base_uri": "https://localhost:8080/",
          "height": 69
        }
      },
      "source": [
        "for i in range(2,10,2):\n",
        "  if(i==5):\n",
        "    continue\n",
        "  elif(i==4):\n",
        "    continue\n",
        "  print(i)"
      ],
      "execution_count": 0,
      "outputs": [
        {
          "output_type": "stream",
          "text": [
            "2\n",
            "6\n",
            "8\n"
          ],
          "name": "stdout"
        }
      ]
    },
    {
      "cell_type": "markdown",
      "metadata": {
        "id": "FoS4Kw2M7BqG",
        "colab_type": "text"
      },
      "source": [
        "**Note**: the variable **i** will never get the value 5"
      ]
    }
  ]
}
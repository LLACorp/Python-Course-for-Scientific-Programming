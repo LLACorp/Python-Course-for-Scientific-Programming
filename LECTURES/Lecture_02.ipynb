{
 "cells": [
  {
   "cell_type": "markdown",
   "metadata": {
    "colab_type": "text",
    "id": "1CnJ9L-np9rn"
   },
   "source": [
    "# PYTHON COURSE FOR SCIENTIFIC PROGRAMMING \n",
    "**Lecturer and Main Contributor to this Lecture:** \\\n",
    "Arnau Parrilla Gibert: arnauparrilla@gmail.com \\\n",
    "\n",
    "Course material can be found at: https://llacorp.github.io/Python-Course-for-Scientific-Programming/ "
   ]
  },
  {
   "cell_type": "markdown",
   "metadata": {
    "colab_type": "text",
    "id": "7j-0zDCyiVzS"
   },
   "source": [
    "# LECTURE II : The Loops\n",
    "Loops are used to iterate a block of code:\n",
    "#### <ins>Types of loops:</ins>\n",
    "* A **for** loop is a loop that runs for a preset number of times.\n",
    "* A **while** loop is a loop that is repeated as long as an expression is true. An expression is a statement that has a value."
   ]
  },
  {
   "cell_type": "markdown",
   "metadata": {
    "colab_type": "text",
    "id": "rOdmBUPysJEo"
   },
   "source": [
    "## For\n",
    "Structure:\n",
    "> for *control_variable* in *iterable_object*:       \n",
    "> &ensp;&ensp;&ensp;&ensp;Code to repeat\n",
    "  \n",
    "For instance:\n",
    "\n"
   ]
  },
  {
   "cell_type": "code",
   "execution_count": 13,
   "metadata": {},
   "outputs": [
    {
     "name": "stdout",
     "output_type": "stream",
     "text": [
      "10\n"
     ]
    }
   ],
   "source": [
    "print(len(range(10)))"
   ]
  },
  {
   "cell_type": "code",
   "execution_count": 1,
   "metadata": {
    "colab": {
     "base_uri": "https://localhost:8080/",
     "height": 199
    },
    "colab_type": "code",
    "id": "KB9sMFgqPegm",
    "outputId": "c9691970-b4e4-4f83-e57e-c3e1df92fb2c"
   },
   "outputs": [
    {
     "name": "stdout",
     "output_type": "stream",
     "text": [
      "hola\n",
      "hola\n",
      "hola\n",
      "hola\n",
      "hola\n",
      "hola\n",
      "hola\n",
      "hola\n",
      "hola\n",
      "hola\n"
     ]
    }
   ],
   "source": [
    "for i in range(10):\n",
    "    print(\"hola\")"
   ]
  },
  {
   "cell_type": "markdown",
   "metadata": {
    "colab_type": "text",
    "id": "oDr13MjAPuEm"
   },
   "source": [
    "We can also use the value of the control variable in each one of the iterations"
   ]
  },
  {
   "cell_type": "code",
   "execution_count": 2,
   "metadata": {
    "colab": {
     "base_uri": "https://localhost:8080/",
     "height": 199
    },
    "colab_type": "code",
    "id": "N38_FY2OtPsB",
    "outputId": "c0adfec3-1413-49a9-ecac-17ca32f66efa"
   },
   "outputs": [
    {
     "name": "stdout",
     "output_type": "stream",
     "text": [
      "0\n",
      "1\n",
      "2\n",
      "3\n",
      "4\n",
      "5\n",
      "6\n",
      "7\n",
      "8\n",
      "9\n"
     ]
    }
   ],
   "source": [
    "for i in range(10):\n",
    "    print(i)"
   ]
  },
  {
   "cell_type": "markdown",
   "metadata": {},
   "source": [
    "### 0.1 Print if the numbers from 0 to 10 are: \"Zero\",\"Odd\" or \"Even\""
   ]
  },
  {
   "cell_type": "code",
   "execution_count": 1,
   "metadata": {},
   "outputs": [],
   "source": [
    "#modul %"
   ]
  },
  {
   "cell_type": "code",
   "execution_count": null,
   "metadata": {},
   "outputs": [],
   "source": [
    "5-2*(5//2)"
   ]
  },
  {
   "cell_type": "code",
   "execution_count": 38,
   "metadata": {},
   "outputs": [
    {
     "name": "stdout",
     "output_type": "stream",
     "text": [
      "Zero\n",
      "Odd 1\n",
      "Even 2\n",
      "Odd 3\n",
      "Even 4\n",
      "Odd 5\n",
      "Even 6\n",
      "Odd 7\n",
      "Even 8\n",
      "Odd 9\n",
      "Even 10\n"
     ]
    }
   ],
   "source": [
    "for i in range(11):\n",
    "    if(i==0):\n",
    "        print(\"Zero\")\n",
    "    elif(i%2):\n",
    "        print(\"Odd\",i)\n",
    "    else:\n",
    "        print(\"Even\",i)"
   ]
  },
  {
   "cell_type": "markdown",
   "metadata": {},
   "source": [
    "### Note the following"
   ]
  },
  {
   "cell_type": "code",
   "execution_count": 3,
   "metadata": {
    "colab": {
     "base_uri": "https://localhost:8080/",
     "height": 199
    },
    "colab_type": "code",
    "id": "8TOS-q7HQMn8",
    "outputId": "9001959f-69dc-4538-885b-2330ab82a947"
   },
   "outputs": [
    {
     "name": "stdout",
     "output_type": "stream",
     "text": [
      "Odd 11\n",
      "Even 12\n",
      "Odd 13\n",
      "Even 14\n",
      "Odd 15\n",
      "Even 16\n",
      "Odd 17\n",
      "Even 18\n",
      "Odd 19\n",
      "Even 20\n"
     ]
    }
   ],
   "source": [
    "for i in range(10):\n",
    "    i = i+11\n",
    "    if(i%2):\n",
    "        print(\"Odd\",i)\n",
    "    else:\n",
    "        print(\"Even\",i)"
   ]
  },
  {
   "cell_type": "markdown",
   "metadata": {
    "colab_type": "text",
    "id": "zhRibGz2EcHR"
   },
   "source": [
    "What can you notice?"
   ]
  },
  {
   "cell_type": "markdown",
   "metadata": {},
   "source": [
    "*Answer: note that the value of i can be modified*"
   ]
  },
  {
   "cell_type": "markdown",
   "metadata": {},
   "source": [
    "### Examples of iterables objects:"
   ]
  },
  {
   "cell_type": "markdown",
   "metadata": {
    "colab_type": "text",
    "id": "kP7X8hptE--J"
   },
   "source": [
    "*   **range**(start,stop,step):"
   ]
  },
  {
   "cell_type": "code",
   "execution_count": 4,
   "metadata": {
    "colab": {
     "base_uri": "https://localhost:8080/",
     "height": 199
    },
    "colab_type": "code",
    "id": "uJN8i0IwE7fj",
    "outputId": "e975d033-7e23-4b28-88ec-14ddfde43f21"
   },
   "outputs": [
    {
     "name": "stdout",
     "output_type": "stream",
     "text": [
      "9\n",
      "8\n",
      "7\n",
      "6\n",
      "5\n",
      "4\n",
      "3\n",
      "2\n",
      "1\n",
      "0\n"
     ]
    }
   ],
   "source": [
    "for i in range(9,-1,-1):\n",
    "    print(i)"
   ]
  },
  {
   "cell_type": "code",
   "execution_count": 13,
   "metadata": {},
   "outputs": [
    {
     "name": "stdout",
     "output_type": "stream",
     "text": [
      "1\n",
      "3\n",
      "5\n",
      "7\n",
      "9\n"
     ]
    }
   ],
   "source": [
    "for i in range(1,11,2):\n",
    "    print(i)"
   ]
  },
  {
   "cell_type": "markdown",
   "metadata": {
    "colab_type": "text",
    "id": "Ao8n9MebHIWP"
   },
   "source": [
    "*   **strings**"
   ]
  },
  {
   "cell_type": "code",
   "execution_count": 0,
   "metadata": {
    "colab": {
     "base_uri": "https://localhost:8080/",
     "height": 90
    },
    "colab_type": "code",
    "id": "bmQeCNHfGWGt",
    "outputId": "5889370b-7c93-42fb-a5c9-bbf7f2347ece"
   },
   "outputs": [
    {
     "name": "stdout",
     "output_type": "stream",
     "text": [
      "h\n",
      "o\n",
      "l\n",
      "a\n"
     ]
    }
   ],
   "source": [
    "x = \"hola\"\n",
    "for i in x:\n",
    "    print(i)"
   ]
  },
  {
   "cell_type": "markdown",
   "metadata": {
    "colab_type": "text",
    "id": "TRIOYDnFHghF"
   },
   "source": [
    "\n",
    "\n",
    "*   **lists**"
   ]
  },
  {
   "cell_type": "markdown",
   "metadata": {},
   "source": [
    "### 0.2 Iterate and print the elements of a list"
   ]
  },
  {
   "cell_type": "code",
   "execution_count": 15,
   "metadata": {
    "colab": {
     "base_uri": "https://localhost:8080/",
     "height": 108
    },
    "colab_type": "code",
    "id": "Al9mObiqfwYU",
    "outputId": "fa39848c-333f-4470-ec1a-126e240e4d62"
   },
   "outputs": [
    {
     "name": "stdout",
     "output_type": "stream",
     "text": [
      "78\n",
      "46\n",
      "carxofa\n",
      "[3, 9]\n",
      "5.7\n"
     ]
    }
   ],
   "source": [
    "l = [78, 46, \"carxofa\", [3, 9], 5.7]\n",
    "\n",
    "for i in l:\n",
    "    print(i)"
   ]
  },
  {
   "cell_type": "code",
   "execution_count": null,
   "metadata": {},
   "outputs": [],
   "source": [
    "#ensenyar l'altre forma de iterar amb l'INDEX"
   ]
  },
  {
   "cell_type": "markdown",
   "metadata": {
    "colab_type": "text",
    "id": "76EucokjNHnV"
   },
   "source": [
    "\n",
    "*   **enumerate:** adds a counter to an iterable. Returns an enumerate object that associates the counter with its list element  \n",
    "Structure:\n",
    "> enumerate (*iterable*,*start*)       \n",
    "\n"
   ]
  },
  {
   "cell_type": "code",
   "execution_count": 12,
   "metadata": {
    "colab": {
     "base_uri": "https://localhost:8080/",
     "height": 35
    },
    "colab_type": "code",
    "id": "1M0fdp2aM8OB",
    "outputId": "c3afd4b4-f220-433a-bc16-1cc942644272"
   },
   "outputs": [
    {
     "name": "stdout",
     "output_type": "stream",
     "text": [
      "[(1, 'g'), (2, 'e'), (3, 'e'), (4, 'k')]\n"
     ]
    }
   ],
   "source": [
    "s1 = \"geek\"\n",
    "print (list(enumerate(s1,1)))"
   ]
  },
  {
   "cell_type": "code",
   "execution_count": 13,
   "metadata": {
    "colab": {
     "base_uri": "https://localhost:8080/",
     "height": 90
    },
    "colab_type": "code",
    "id": "Z8DpOllaNBzt",
    "outputId": "58e2f04a-2e4b-4b62-ba29-5e700fb14755"
   },
   "outputs": [
    {
     "name": "stdout",
     "output_type": "stream",
     "text": [
      "0 h\n",
      "1 o\n",
      "2 l\n",
      "3 a\n"
     ]
    }
   ],
   "source": [
    "for i,j in enumerate(\"hola\"): #posar 2 variables\n",
    "    print(i,j)"
   ]
  },
  {
   "cell_type": "markdown",
   "metadata": {
    "colab_type": "text",
    "id": "P8g26jUx555F"
   },
   "source": [
    "*   **zip:** allows us to do parallel iteration   \n",
    "Structure:\n",
    ">for *var1, var2* ... in zip(*iterable*,*iterable*, ... )  \n",
    "\n",
    "  **Note**: The loop repeats as many times as the shortest iterable"
   ]
  },
  {
   "cell_type": "code",
   "execution_count": 14,
   "metadata": {
    "colab": {
     "base_uri": "https://localhost:8080/",
     "height": 90
    },
    "colab_type": "code",
    "id": "ZtP7duuANnze",
    "outputId": "44441333-ac1a-4a5e-b3ce-40343e9c9dfb"
   },
   "outputs": [
    {
     "name": "stdout",
     "output_type": "stream",
     "text": [
      "h a\n",
      "o d\n",
      "l e\n",
      "a u\n"
     ]
    }
   ],
   "source": [
    "for i,j in zip(\"hola\",\"adeu\"):\n",
    "    print(i,j)"
   ]
  },
  {
   "cell_type": "code",
   "execution_count": 15,
   "metadata": {
    "colab": {
     "base_uri": "https://localhost:8080/",
     "height": 90
    },
    "colab_type": "code",
    "id": "Ea2kqsJe95oL",
    "outputId": "f459c05a-8384-4d8d-fd50-879d6295e525"
   },
   "outputs": [
    {
     "name": "stdout",
     "output_type": "stream",
     "text": [
      "h llenties 101 4\n",
      "o Sakon 102 3\n",
      "l [1, 2, 3] 103 2\n",
      "a 236 104 1\n"
     ]
    }
   ],
   "source": [
    "l1 = \"hola\"\n",
    "l2 = [\"llenties\",\"Sakon\",[1,2,3],236]\n",
    "l3 = [101,102,103,104]\n",
    "l4 = range(4,-1,-1)\n",
    "for i,j,k,z in zip(l1,l2,l3,l4):\n",
    "    print(i,j,k,z)"
   ]
  },
  {
   "cell_type": "markdown",
   "metadata": {},
   "source": [
    "**Note**: The loop repeats itself with the length of the shortest iterable."
   ]
  },
  {
   "cell_type": "code",
   "execution_count": 7,
   "metadata": {},
   "outputs": [
    {
     "name": "stdout",
     "output_type": "stream",
     "text": [
      "4\n",
      "3\n",
      "2\n",
      "1\n",
      "0\n"
     ]
    }
   ],
   "source": [
    "for i in range(4,-1,-1):\n",
    "    print(i)"
   ]
  },
  {
   "cell_type": "markdown",
   "metadata": {},
   "source": [
    "In the following code we can see what the zip comand is."
   ]
  },
  {
   "cell_type": "code",
   "execution_count": 16,
   "metadata": {
    "colab": {
     "base_uri": "https://localhost:8080/",
     "height": 35
    },
    "colab_type": "code",
    "id": "Ih32Xbg0DXHa",
    "outputId": "3f594837-a9b0-4c40-e7cd-f220b8bd25c4"
   },
   "outputs": [
    {
     "name": "stdout",
     "output_type": "stream",
     "text": [
      "[(9, 'c'), (3, 'b'), (7, 'a')]\n"
     ]
    }
   ],
   "source": [
    "l1 = {7, 3, 9}\n",
    "l2 = {'b', 'a', 'c'}\n",
    "print(list(zip(l1, l2)))"
   ]
  },
  {
   "cell_type": "markdown",
   "metadata": {},
   "source": [
    "### 0.3 Compute the final grade for every student and save it into a list"
   ]
  },
  {
   "cell_type": "code",
   "execution_count": 6,
   "metadata": {},
   "outputs": [],
   "source": [
    "w = [0.3,0.3,0.2,.1,.1] #weights for ex1,ex2 ... respectively\n",
    "ex1 = [4.9,7,8.2,9]\n",
    "ex2 = [7,7,6.8,4.9]\n",
    "pract1 = [9.1,7,8,7.9]\n",
    "pract2 = [9,10,4.6,8.2]\n",
    "pract3 = [4,8,8,7.9]\n",
    "\n",
    "final_grades = []\n",
    "for i,j,k,l,m in zip(ex1,ex2,pract1,pract2,pract3):\n",
    "    final_grades.append(i*w[0]+j*w[1]+k*w[2]+l*w[3]+m*w[4])"
   ]
  },
  {
   "cell_type": "code",
   "execution_count": 60,
   "metadata": {},
   "outputs": [
    {
     "data": {
      "text/plain": [
       "[6.690000000000001, 7.4, 7.359999999999999, 7.36]"
      ]
     },
     "execution_count": 60,
     "metadata": {},
     "output_type": "execute_result"
    }
   ],
   "source": [
    "final_grades"
   ]
  },
  {
   "cell_type": "code",
   "execution_count": 61,
   "metadata": {},
   "outputs": [],
   "source": [
    "w = [0.3,0.3,0.2,.1,.1] #weights for ex1,ex2 ... respectively\n",
    "ex1 = [4.9,7,8.2,9]\n",
    "ex2 = [7,7,6.8,4.9]\n",
    "pract1 = [9.1,7,8,7.9]\n",
    "pract2 = [9,10,4.6,8.2]\n",
    "pract3 = [4,8,8,7.9]\n",
    "\n",
    "final_grades = []\n",
    "for i,j,k,l,m in zip(ex1,ex2,pract1,pract2,pract3):\n",
    "    final_grades.append(i*0.3+j*0.3+k*0.2+l*.1+m*.1)"
   ]
  },
  {
   "cell_type": "code",
   "execution_count": 62,
   "metadata": {},
   "outputs": [
    {
     "data": {
      "text/plain": [
       "[6.690000000000001, 7.4, 7.359999999999999, 7.36]"
      ]
     },
     "execution_count": 62,
     "metadata": {},
     "output_type": "execute_result"
    }
   ],
   "source": [
    "final_grades"
   ]
  },
  {
   "cell_type": "markdown",
   "metadata": {},
   "source": [
    "This could be done in a more proper way if we had used dictionaries. (You will see dictionaries in future lectures)"
   ]
  },
  {
   "cell_type": "code",
   "execution_count": 17,
   "metadata": {
    "colab": {
     "base_uri": "https://localhost:8080/",
     "height": 72
    },
    "colab_type": "code",
    "id": "8EHA6KZj_D0O",
    "outputId": "13452eb2-e0b0-4c58-b7cd-bb86767a9084"
   },
   "outputs": [
    {
     "name": "stdout",
     "output_type": "stream",
     "text": [
      "1 j llenties\n",
      "2 a Sakon\n",
      "3 m [1, 2, 3]\n"
     ]
    }
   ],
   "source": [
    "l1 = [1,2,3,4,5,6,7,8,9]\n",
    "l2 = [\"llenties\",\"Sakon\",[1,2,3],236]\n",
    "l3 = \"jam\" #!!!!\n",
    "for i,z,j in zip(l1,l3,l2):\n",
    "    print(i,z,j)"
   ]
  },
  {
   "cell_type": "markdown",
   "metadata": {
    "colab_type": "text",
    "id": "ODVGXWjlfvNn"
   },
   "source": [
    "*   **tuples**  \n",
    "*   **dictionaries**  \n",
    "..."
   ]
  },
  {
   "cell_type": "markdown",
   "metadata": {
    "colab_type": "text",
    "id": "ZYhGRyNkJWM1"
   },
   "source": [
    "**Exemple summation:**\n"
   ]
  },
  {
   "cell_type": "code",
   "execution_count": 12,
   "metadata": {
    "colab": {},
    "colab_type": "code",
    "id": "vU_72_BpGfAc"
   },
   "outputs": [],
   "source": [
    "x = 0\n",
    "for j in range(11):\n",
    "    x = x + j"
   ]
  },
  {
   "cell_type": "code",
   "execution_count": 9,
   "metadata": {
    "colab": {
     "base_uri": "https://localhost:8080/",
     "height": 34
    },
    "colab_type": "code",
    "id": "ER5ru7KUJ5cV",
    "outputId": "98100376-4f13-4aac-a3d0-fe52b5bb5fea"
   },
   "outputs": [
    {
     "name": "stdout",
     "output_type": "stream",
     "text": [
      "55\n"
     ]
    }
   ],
   "source": [
    "print(x)"
   ]
  },
  {
   "cell_type": "markdown",
   "metadata": {
    "colab_type": "text",
    "id": "9XnUA9h7rXsf"
   },
   "source": [
    "# List Comprehension"
   ]
  },
  {
   "cell_type": "markdown",
   "metadata": {
    "colab_type": "text",
    "id": "S66vJmOtrryI"
   },
   "source": [
    "*   List comprehensions provide a concise way to create lists.\n",
    "\n",
    "*   The list comprehension always returns a result list. "
   ]
  },
  {
   "cell_type": "markdown",
   "metadata": {
    "colab_type": "text",
    "id": "VuW2OdnhsNXW"
   },
   "source": [
    "[ *expression* for *item* in *list* if *conditional* ]  "
   ]
  },
  {
   "cell_type": "code",
   "execution_count": 0,
   "metadata": {
    "colab": {
     "base_uri": "https://localhost:8080/",
     "height": 34
    },
    "colab_type": "code",
    "id": "tPhTXJ49rbRP",
    "outputId": "71784829-aaca-4d20-83f5-a3dc7020d7ef",
    "scrolled": true
   },
   "outputs": [
    {
     "name": "stdout",
     "output_type": "stream",
     "text": [
      "[0, 4, 16, 36, 64]\n"
     ]
    }
   ],
   "source": [
    "l = [i**2 for i in range(10) if i%2==0]\n",
    "print(l)"
   ]
  },
  {
   "cell_type": "markdown",
   "metadata": {
    "colab_type": "text",
    "id": "qHu_NRXEecik"
   },
   "source": [
    "This equals to:"
   ]
  },
  {
   "cell_type": "code",
   "execution_count": 0,
   "metadata": {
    "colab": {
     "base_uri": "https://localhost:8080/",
     "height": 34
    },
    "colab_type": "code",
    "id": "3EumfSVrwCwv",
    "outputId": "0492fd08-41d0-488d-edba-0a60b02375ed"
   },
   "outputs": [
    {
     "name": "stdout",
     "output_type": "stream",
     "text": [
      "[0, 4, 16, 36, 64]\n"
     ]
    }
   ],
   "source": [
    "l = []                #Empty list\n",
    "for i in range(10):\n",
    "    if i%2==0:\n",
    "        l.append(i**2)\n",
    "\n",
    "print(l)"
   ]
  },
  {
   "cell_type": "markdown",
   "metadata": {},
   "source": [
    "### 0.4 Compute the final grade for every student and save it into a list but now with list comprehension"
   ]
  },
  {
   "cell_type": "code",
   "execution_count": 63,
   "metadata": {},
   "outputs": [],
   "source": [
    "ex1 = [4.9,7,8.2,9]\n",
    "ex2 = [7,7,6.8,4.9]\n",
    "pract1 = [9.1,7,8,7.9]\n",
    "pract2 = [9,10,4.6,8.2]\n",
    "pract3 = [4,8,8,7.9]\n",
    "\n",
    "final_grades = [i*0.3+j*0.3+k*0.2+l*.1+m*.1 for i,j,k,l,m in zip(ex1,ex2,pract1,pract2,pract3)]"
   ]
  },
  {
   "cell_type": "code",
   "execution_count": 64,
   "metadata": {},
   "outputs": [
    {
     "data": {
      "text/plain": [
       "[6.690000000000001, 7.4, 7.359999999999999, 7.36]"
      ]
     },
     "execution_count": 64,
     "metadata": {},
     "output_type": "execute_result"
    }
   ],
   "source": [
    "final_grades"
   ]
  },
  {
   "cell_type": "markdown",
   "metadata": {
    "colab_type": "text",
    "id": "_b3iMm5AkKxm"
   },
   "source": [
    "## While\n",
    "Structure:\n",
    "> while(*condition*):       \n",
    "> &ensp;&ensp;&ensp;&ensp;Code to repeat\n",
    "  \n",
    "As long as the condition is True, the block of code will be repeated."
   ]
  },
  {
   "cell_type": "markdown",
   "metadata": {
    "colab_type": "text",
    "id": "JZ9wpsLAktr3"
   },
   "source": [
    "In this example the while loop will act as a for in range(10):\n"
   ]
  },
  {
   "cell_type": "code",
   "execution_count": 18,
   "metadata": {
    "colab": {
     "base_uri": "https://localhost:8080/",
     "height": 201
    },
    "colab_type": "code",
    "id": "NYONGzlzk2ti",
    "outputId": "c0c37de8-2cc0-4dc4-dcfe-5a74d0ecba34"
   },
   "outputs": [
    {
     "name": "stdout",
     "output_type": "stream",
     "text": [
      "0\n",
      "1\n",
      "2\n",
      "3\n",
      "4\n",
      "5\n",
      "6\n",
      "7\n",
      "8\n",
      "9\n"
     ]
    }
   ],
   "source": [
    "i = 0\n",
    "while(i<10):\n",
    "    print(i)\n",
    "    i = i + 1"
   ]
  },
  {
   "cell_type": "code",
   "execution_count": 19,
   "metadata": {},
   "outputs": [
    {
     "name": "stdout",
     "output_type": "stream",
     "text": [
      "10\n"
     ]
    }
   ],
   "source": [
    "i = 0\n",
    "while(i<10):\n",
    "    i = i + 10\n",
    "    print(i)"
   ]
  },
  {
   "cell_type": "code",
   "execution_count": 14,
   "metadata": {
    "scrolled": true
   },
   "outputs": [
    {
     "name": "stdout",
     "output_type": "stream",
     "text": [
      "11\n",
      "12\n",
      "13\n",
      "14\n",
      "15\n",
      "16\n",
      "17\n",
      "18\n",
      "19\n",
      "20\n"
     ]
    }
   ],
   "source": [
    "i = 0\n",
    "for i in range(10):\n",
    "    i = i + 11\n",
    "    print(i)"
   ]
  },
  {
   "cell_type": "markdown",
   "metadata": {},
   "source": [
    "**Note:** keep in mind that the while loop depends directly on the value of **i** and does not reset every time."
   ]
  },
  {
   "cell_type": "markdown",
   "metadata": {
    "colab_type": "text",
    "id": "hCsambQvlFvD"
   },
   "source": [
    "We can also include ***and, or, not*** expressions in the condition:"
   ]
  },
  {
   "cell_type": "code",
   "execution_count": 1,
   "metadata": {
    "colab": {
     "base_uri": "https://localhost:8080/",
     "height": 199
    },
    "colab_type": "code",
    "id": "LYMpeEHjlKc1",
    "outputId": "b2069f61-53bc-4c8e-e0a2-63c41da8b895"
   },
   "outputs": [
    {
     "name": "stdout",
     "output_type": "stream",
     "text": [
      "a = 5 b = 9\n",
      "a = 6 b = 8\n",
      "a = 7 b = 7\n",
      "a = 8 b = 6\n",
      "a = 9 b = 5\n",
      "a = 10 b = 4\n",
      "a = 11 b = 3\n",
      "a = 12 b = 2\n",
      "a = 13 b = 1\n",
      "a = 14 b = 0\n"
     ]
    }
   ],
   "source": [
    "a = 5\n",
    "b = 9\n",
    "while(a<10 or b>=0):\n",
    "    print(\"a =\",a,\"b =\",b)\n",
    "    a = a + 1\n",
    "    b = b - 1"
   ]
  },
  {
   "cell_type": "markdown",
   "metadata": {
    "colab_type": "text",
    "id": "Z5Ub5uqrmTI-"
   },
   "source": [
    "### 0.5 Exercice the loop has to stop when it finds the letter 't' in the string \"castle\" and print in wich iteration has been found."
   ]
  },
  {
   "cell_type": "code",
   "execution_count": 20,
   "metadata": {},
   "outputs": [
    {
     "data": {
      "text/plain": [
       "'d'"
      ]
     },
     "execution_count": 20,
     "metadata": {},
     "output_type": "execute_result"
    }
   ],
   "source": [
    "word = \"video\"\n",
    "word[2]"
   ]
  },
  {
   "cell_type": "code",
   "execution_count": 10,
   "metadata": {
    "colab": {
     "base_uri": "https://localhost:8080/",
     "height": 35
    },
    "colab_type": "code",
    "id": "rqQQyywImYkx",
    "outputId": "14e64293-5e76-4b9a-dc38-793ad4ca701e"
   },
   "outputs": [
    {
     "name": "stdout",
     "output_type": "stream",
     "text": [
      "c 0\n",
      "a 1\n",
      "s 2\n",
      "The letter t is in the position 3\n"
     ]
    }
   ],
   "source": [
    "i = 0\n",
    "word = \"castle\"\n",
    "while(word[i]!='t'):\n",
    "    print(word[i],i) \n",
    "    i = i + 1\n",
    "\n",
    "print(\"The letter\", word[i], \"is in the position\", i)"
   ]
  },
  {
   "cell_type": "markdown",
   "metadata": {
    "colab_type": "text",
    "id": "jTRLymhIUJAG"
   },
   "source": [
    "## Break and Continue"
   ]
  },
  {
   "cell_type": "markdown",
   "metadata": {
    "colab_type": "text",
    "id": "fMnRAtzu55lE"
   },
   "source": [
    "The statements break and continue are commonly used with conditionals to control the flow of a normal loop."
   ]
  },
  {
   "cell_type": "markdown",
   "metadata": {
    "colab_type": "text",
    "id": "Pn4l-eSwU9df"
   },
   "source": [
    "*   **Break:** With the break statement we can force the loop to stop. Even if the condition is true *(while)* or the maximum number of iterations has not been reached *(for)*."
   ]
  },
  {
   "cell_type": "code",
   "execution_count": 2,
   "metadata": {
    "colab": {
     "base_uri": "https://localhost:8080/",
     "height": 52
    },
    "colab_type": "code",
    "id": "6BWY4VpcnBEr",
    "outputId": "9992451c-61d2-43a9-bffb-a64ae59842f1"
   },
   "outputs": [
    {
     "name": "stdout",
     "output_type": "stream",
     "text": [
      "2\n",
      "4\n"
     ]
    }
   ],
   "source": [
    "hola = 1\n",
    "while(True):\n",
    "    hola = hola*2\n",
    "    if(hola>5):\n",
    "        break\n",
    "    print(hola)"
   ]
  },
  {
   "cell_type": "markdown",
   "metadata": {},
   "source": [
    "### Note the following"
   ]
  },
  {
   "cell_type": "code",
   "execution_count": 2,
   "metadata": {
    "colab": {
     "base_uri": "https://localhost:8080/",
     "height": 34
    },
    "colab_type": "code",
    "id": "5mVqi1l59h2f",
    "outputId": "73e7871b-535a-4b74-8d8a-8bbe0e20f99d"
   },
   "outputs": [
    {
     "name": "stdout",
     "output_type": "stream",
     "text": [
      "c 0\n",
      "a 1\n",
      "s 2\n",
      "t 3\n",
      "The letter t is in the position 3\n"
     ]
    }
   ],
   "source": [
    "#fem lo del while anterior pero amb un for\n",
    "word = \"castle\"\n",
    "for i in range(100):\n",
    "    print(word[i],i)\n",
    "    if(word[i]==\"t\"):\n",
    "        print(\"The letter\", word[i], \"is in the position\", i)\n",
    "        break"
   ]
  },
  {
   "cell_type": "markdown",
   "metadata": {},
   "source": [
    "Notice:"
   ]
  },
  {
   "cell_type": "code",
   "execution_count": 3,
   "metadata": {
    "colab": {},
    "colab_type": "code",
    "id": "QYgv81exJc4b"
   },
   "outputs": [
    {
     "name": "stdout",
     "output_type": "stream",
     "text": [
      "1\n",
      "2\n",
      "3\n",
      "-\n",
      "-\n",
      "7\n",
      "8\n",
      "9\n",
      "-\n"
     ]
    }
   ],
   "source": [
    "m = [[1,2,3],[4,5,6],[7,8,9]] #perque no s'ha imprès la llista del mitj?\n",
    "for i in range(len(m)):\n",
    "    for j in range(len(m[0])):\n",
    "        if(m[i][j]==4):\n",
    "            break\n",
    "        print(m[i][j])\n",
    "    print(\"-\")"
   ]
  },
  {
   "cell_type": "code",
   "execution_count": 4,
   "metadata": {
    "colab": {
     "base_uri": "https://localhost:8080/",
     "height": 199
    },
    "colab_type": "code",
    "id": "0Xsrb5jrJgDw",
    "outputId": "8df2c46c-d412-4873-a0cd-ac8fda8a1823"
   },
   "outputs": [
    {
     "name": "stdout",
     "output_type": "stream",
     "text": [
      "1\n",
      "2\n",
      "3\n",
      "-\n",
      "4\n",
      "-\n",
      "7\n",
      "8\n",
      "9\n",
      "-\n"
     ]
    }
   ],
   "source": [
    "#El mateix però agafant el valor de diferent forma, també és un \n",
    "#obj iterable\n",
    "m = [[1,2,3],[4,5,6],[7,8,9]]\n",
    "for i in m:\n",
    "    for j in i:\n",
    "        if(j==5):\n",
    "            break\n",
    "        print(j)\n",
    "    print(\"-\")"
   ]
  },
  {
   "cell_type": "markdown",
   "metadata": {
    "colab_type": "text",
    "id": "1Tl_Ui6IXjA9"
   },
   "source": [
    "*   **Continue:** The continue statement is used if we do not want to execute the rest of the code inside a loop, <ins>it skips the code below the statement yet only for the current iteration</ins>. Loop does not terminate but continues on with the next iteration."
   ]
  },
  {
   "cell_type": "code",
   "execution_count": 23,
   "metadata": {
    "colab": {
     "base_uri": "https://localhost:8080/",
     "height": 86
    },
    "colab_type": "code",
    "id": "Bxf3ZX2a4b-q",
    "outputId": "d4fa9bc0-c3a8-4d8f-b740-b4505ed6646a"
   },
   "outputs": [
    {
     "name": "stdout",
     "output_type": "stream",
     "text": [
      "1\n",
      "2\n",
      "4\n",
      "5\n"
     ]
    }
   ],
   "source": [
    "i = 0\n",
    "while(i<5):\n",
    "    i += 1\n",
    "    if(i==3):\n",
    "        continue\n",
    "    print(i)"
   ]
  },
  {
   "cell_type": "markdown",
   "metadata": {
    "colab_type": "text",
    "id": "e3PkzgDm5B7o"
   },
   "source": [
    "**Note:** See that if we update the value of **i** after the conditional, the loop will never stop"
   ]
  },
  {
   "cell_type": "code",
   "execution_count": 24,
   "metadata": {
    "colab": {
     "base_uri": "https://localhost:8080/",
     "height": 191
    },
    "colab_type": "code",
    "id": "T8ouZeSH5sB2",
    "outputId": "a53f5b98-de66-47a4-ed17-f0854b2b7f63"
   },
   "outputs": [
    {
     "name": "stdout",
     "output_type": "stream",
     "text": [
      "0\n",
      "1\n",
      "2\n",
      "3\n",
      "4\n",
      "5\n",
      "6\n",
      "7\n",
      "8\n",
      "9\n"
     ]
    }
   ],
   "source": [
    "for i in range(10):\n",
    "    print(i)\n",
    "    continue\n",
    "    print(\"hello\")"
   ]
  },
  {
   "cell_type": "markdown",
   "metadata": {},
   "source": [
    "### 0.6 Print all the numbers in the lists except when they are equal to 4"
   ]
  },
  {
   "cell_type": "code",
   "execution_count": 51,
   "metadata": {},
   "outputs": [
    {
     "name": "stdout",
     "output_type": "stream",
     "text": [
      "1\n",
      "2\n",
      "3\n",
      "-\n",
      "5\n",
      "6\n",
      "-\n",
      "7\n",
      "9\n",
      "-\n"
     ]
    }
   ],
   "source": [
    "m = [[1,2,3],[4,5,6],[7,4,9]]\n",
    "for i in range(len(m)):\n",
    "    for j in range(len(m[0])):\n",
    "        if(m[i][j]==4):\n",
    "            continue\n",
    "        print(m[i][j])\n",
    "    print(\"-\")"
   ]
  },
  {
   "cell_type": "markdown",
   "metadata": {},
   "source": [
    "### Silly example"
   ]
  },
  {
   "cell_type": "code",
   "execution_count": 25,
   "metadata": {
    "colab": {
     "base_uri": "https://localhost:8080/",
     "height": 69
    },
    "colab_type": "code",
    "id": "SYbx8wbj5dDc",
    "outputId": "8db4a6ae-7c6f-4616-8160-751339585b14"
   },
   "outputs": [
    {
     "name": "stdout",
     "output_type": "stream",
     "text": [
      "2\n",
      "6\n",
      "8\n"
     ]
    }
   ],
   "source": [
    "for i in range(2,10,2):\n",
    "    if(i==5):\n",
    "        continue\n",
    "    elif(i==4):\n",
    "        continue\n",
    "    print(i)"
   ]
  },
  {
   "cell_type": "markdown",
   "metadata": {
    "colab_type": "text",
    "id": "FoS4Kw2M7BqG"
   },
   "source": [
    "**Note**: the variable **i** will never get the value 5"
   ]
  },
  {
   "cell_type": "markdown",
   "metadata": {},
   "source": [
    "## EXERCICES LECTURE II:"
   ]
  },
  {
   "cell_type": "code",
   "execution_count": 29,
   "metadata": {},
   "outputs": [],
   "source": [
    "from IPython.display import Image"
   ]
  },
  {
   "cell_type": "markdown",
   "metadata": {},
   "source": [
    "## Exercise 1"
   ]
  },
  {
   "cell_type": "markdown",
   "metadata": {},
   "source": [
    "Write a program that asks you: \"Are you a member of the SCN2?\" and lets you enter an answer. If the answer is **yes**, print: *'Fantastic!!!'*. For any other answer print: *'This is not the correct answer'* and keep asking the question until you give **yes** as and anwer."
   ]
  },
  {
   "cell_type": "code",
   "execution_count": 31,
   "metadata": {},
   "outputs": [
    {
     "name": "stdout",
     "output_type": "stream",
     "text": [
      "Ets de la SCN2? YES\n",
      "This is not the correct answer\n",
      "Ets de la SCN2? yes\n",
      "Fantastic!!!\n"
     ]
    }
   ],
   "source": [
    "answer = \"\"\n",
    "while answer != \"yes\":\n",
    "    answer = input(\"Ets de la SCN2? \")\n",
    "    if answer == \"yes\":\n",
    "        print(\"Fantastic!!!\")\n",
    "    else:\n",
    "        print(\"This is not the correct answer\")"
   ]
  },
  {
   "cell_type": "code",
   "execution_count": 32,
   "metadata": {},
   "outputs": [
    {
     "name": "stdout",
     "output_type": "stream",
     "text": [
      "Ets de la SCN2? yes\n",
      "Fantastic!!!\n"
     ]
    }
   ],
   "source": [
    "answer = \"\"\n",
    "while answer.upper() != \"YES\":\n",
    "    answer = input(\"Ets de la SCN2? \")\n",
    "    if answer.upper() == \"YES\":\n",
    "        print(\"Fantastic!!!\")\n",
    "    else:\n",
    "        print(\"This is not the correct answer\")"
   ]
  },
  {
   "cell_type": "markdown",
   "metadata": {},
   "source": [
    "## Exercise 2"
   ]
  },
  {
   "cell_type": "markdown",
   "metadata": {},
   "source": [
    "Write a program that by using **print('* ')** shows the following patern for a given **n**. Being n the maximum number of * in a line."
   ]
  },
  {
   "cell_type": "code",
   "execution_count": 33,
   "metadata": {},
   "outputs": [
    {
     "data": {
      "image/png": "[encoded data removed]",
      "text/plain": [
       "<IPython.core.display.Image object>"
      ]
     },
     "execution_count": 33,
     "metadata": {},
     "output_type": "execute_result"
    }
   ],
   "source": [
    "Image(filename='PYTHON.png')"
   ]
  },
  {
   "cell_type": "markdown",
   "metadata": {},
   "source": [
    "Note 1: Use the command print('* ', end=\"\") in order to avoid jumping to the following line in every print."
   ]
  },
  {
   "cell_type": "code",
   "execution_count": 34,
   "metadata": {},
   "outputs": [
    {
     "name": "stdout",
     "output_type": "stream",
     "text": [
      "* * * \n",
      "* \n",
      "* \n",
      "* \n"
     ]
    }
   ],
   "source": [
    "print('* ', end=\"\")\n",
    "print('* ', end=\"\")\n",
    "print('* ', end=\"\")\n",
    "print('') #change of line\n",
    "print('* ')\n",
    "print('* ')\n",
    "print('* ')"
   ]
  },
  {
   "cell_type": "code",
   "execution_count": 35,
   "metadata": {},
   "outputs": [
    {
     "name": "stdout",
     "output_type": "stream",
     "text": [
      "* \n",
      "\n",
      "* \n",
      "* \n"
     ]
    }
   ],
   "source": [
    "print('* ')\n",
    "print('')\n",
    "print('* ')\n",
    "print('* ')"
   ]
  },
  {
   "cell_type": "markdown",
   "metadata": {},
   "source": [
    "Clue: Split the patern in two parts, first the top trinagle and then the other"
   ]
  },
  {
   "cell_type": "code",
   "execution_count": 36,
   "metadata": {},
   "outputs": [
    {
     "data": {
      "image/png": "[encoded data removed]",
      "text/plain": [
       "<IPython.core.display.Image object>"
      ]
     },
     "execution_count": 36,
     "metadata": {},
     "output_type": "execute_result"
    }
   ],
   "source": [
    "Image(filename='triangle.png')"
   ]
  },
  {
   "cell_type": "code",
   "execution_count": 37,
   "metadata": {},
   "outputs": [
    {
     "name": "stdout",
     "output_type": "stream",
     "text": [
      "\n",
      "* \n",
      "* * \n",
      "* * * \n",
      "* * * * \n",
      "* * * * * \n",
      "* * * * * * \n",
      "* * * * * * * \n",
      "* * * * * * * * \n",
      "* * * * * * * \n",
      "* * * * * * \n",
      "* * * * * \n",
      "* * * * \n",
      "* * * \n",
      "* * \n",
      "* \n"
     ]
    }
   ],
   "source": [
    "n = 8\n",
    "for i in range(n):\n",
    "    for j in range(i):\n",
    "        print('* ', end=\"\")\n",
    "    print('')\n",
    "    \n",
    "for i in range(n,0,-1):\n",
    "    for j in range(i):\n",
    "        print('* ', end=\"\")\n",
    "    print('')"
   ]
  }
 ],
 "metadata": {
  "colab": {
   "collapsed_sections": [],
   "name": "SesionTwo.ipynb",
   "provenance": []
  },
  "kernelspec": {
   "display_name": "Python 3",
   "language": "python",
   "name": "python3"
  },
  "language_info": {
   "codemirror_mode": {
    "name": "ipython",
    "version": 3
   },
   "file_extension": ".py",
   "mimetype": "text/x-python",
   "name": "python",
   "nbconvert_exporter": "python",
   "pygments_lexer": "ipython3",
   "version": "3.7.3"
  }
 },
 "nbformat": 4,
 "nbformat_minor": 1
}

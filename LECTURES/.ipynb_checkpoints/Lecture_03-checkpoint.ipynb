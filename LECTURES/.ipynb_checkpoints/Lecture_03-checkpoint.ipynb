{
 "cells": [
  {
   "cell_type": "markdown",
   "metadata": {
    "colab_type": "text",
    "id": "KKn8pLWhJ0X9"
   },
   "source": [
    "# PYTHON COURSE FOR SCIENTIFIC PROGRAMMING \n",
    "**Contributors:** \\\n",
    "Artur Llabrés Brustenga: Artur.Llabres@e-campus.uab.cat \\\n",
    "Gerard Navarro Pérez: Gerard.NavarroP@e-campus.uab.cat \\\n",
    "Arnau Parrilla Gibert: Arnau.Parrilla@e-campus.uab.cat \\\n",
    "Jan Scarabelli Calopa: Jan.Scarabelli@e-campus.uab.cat \\\n",
    "Xabier Oyanguren Asua: Xabier.Oyanguren@e-campus.uab.cat \\\n",
    "\n",
    "Course material can be found at: https://llacorp.github.io/Python-Course-for-Scientific-Programming/ "
   ]
  },
  {
   "cell_type": "markdown",
   "metadata": {
    "colab_type": "text",
    "id": "nZpLHjATKWyO"
   },
   "source": [
    "# LECTURE III : Functions\n",
    "Functions perform a specific task.  \n",
    "They are used to make our code more modular and organized besides avoiding code repetition.\n",
    "#### <ins>Syntax:</ins>\n",
    "* Keyword `def` marks the start of function header.\n",
    "* A function name to identify it.\n",
    "* Arguments through which we pass values to a function. They are optional.\n",
    "* The function body. Statements must have same indentation level.\n",
    "* An optional return statement to return a value from the function.<br>\n",
    "  <br>\n",
    " \n",
    "### <ins>Example of function with no returning statement:</ins>\n"
   ]
  },
  {
   "cell_type": "code",
   "execution_count": null,
   "metadata": {
    "colab": {},
    "colab_type": "code",
    "id": "OuWPjTbPMHkO"
   },
   "outputs": [],
   "source": [
    "def print_string(word):\n",
    "  print(word)"
   ]
  },
  {
   "cell_type": "code",
   "execution_count": null,
   "metadata": {
    "colab": {
     "base_uri": "https://localhost:8080/",
     "height": 52
    },
    "colab_type": "code",
    "id": "lJa-N6r9QxQm",
    "outputId": "aedb2be0-154c-4bfb-a56f-df49573a6036"
   },
   "outputs": [
    {
     "name": "stdout",
     "output_type": "stream",
     "text": [
      "Fideus a la cassola\n",
      "Carxofa\n"
     ]
    }
   ],
   "source": [
    "a = \"Carxofa\"\n",
    "print_string(\"Fideus a la cassola\")\n",
    "print_string(a)"
   ]
  },
  {
   "cell_type": "markdown",
   "metadata": {
    "colab_type": "text",
    "id": "OJHRZuGWQ8GH"
   },
   "source": [
    "### <ins>Example of function with returning statement:</ins>"
   ]
  },
  {
   "cell_type": "code",
   "execution_count": null,
   "metadata": {
    "colab": {},
    "colab_type": "code",
    "id": "o2fCh413RBqG"
   },
   "outputs": [],
   "source": [
    "def factorial(n):\n",
    "  res = 1\n",
    "  for i in range(1,n+1):\n",
    "    res = res * i\n",
    "  \n",
    "  return res"
   ]
  },
  {
   "cell_type": "code",
   "execution_count": null,
   "metadata": {
    "colab": {
     "base_uri": "https://localhost:8080/",
     "height": 34
    },
    "colab_type": "code",
    "id": "3Cfk03RCRf0x",
    "outputId": "c2dede3b-3201-4e26-a229-f0de6a54e887"
   },
   "outputs": [
    {
     "name": "stdout",
     "output_type": "stream",
     "text": [
      "The factorial of 10 is 3628800\n"
     ]
    }
   ],
   "source": [
    "solution = factorial(10)\n",
    "print(\"The factorial of 10 is\", solution)"
   ]
  },
  {
   "cell_type": "markdown",
   "metadata": {
    "colab_type": "text",
    "id": "8cwwu1IER93g"
   },
   "source": [
    "We can set default arguments in the event that we don't pass them explicitly.\n",
    "#### For example:"
   ]
  },
  {
   "cell_type": "code",
   "execution_count": null,
   "metadata": {
    "colab": {},
    "colab_type": "code",
    "id": "-6wywnseSULM"
   },
   "outputs": [],
   "source": [
    "def min_max_list(l, option=\"min\"):\n",
    "  if option == \"min\":\n",
    "    return min(l)\n",
    "  elif option == \"max\":\n",
    "    return max(l)"
   ]
  },
  {
   "cell_type": "code",
   "execution_count": null,
   "metadata": {
    "colab": {
     "base_uri": "https://localhost:8080/",
     "height": 34
    },
    "colab_type": "code",
    "id": "2p-75TeeStXl",
    "outputId": "e95e4e09-a4cf-4528-bc23-05eda15d9e38"
   },
   "outputs": [
    {
     "name": "stdout",
     "output_type": "stream",
     "text": [
      "The minimum value of the list is -56 and the max value is 187\n"
     ]
    }
   ],
   "source": [
    "l = [43, 3, 187, 84, -56]\n",
    "print(\"The minimum value of the list is\", min_max_list(l), \"and the max value is\", min_max_list(l, \"max\"))"
   ]
  },
  {
   "cell_type": "markdown",
   "metadata": {
    "colab_type": "text",
    "id": "a1Est-7fWRw6"
   },
   "source": [
    "If the function has many parameters, we can assign them by their name.\n",
    "#### For example:"
   ]
  },
  {
   "cell_type": "code",
   "execution_count": null,
   "metadata": {
    "colab": {},
    "colab_type": "code",
    "id": "VhCMYynMWlHo"
   },
   "outputs": [],
   "source": [
    "def division(a, b):\n",
    "  return a/b"
   ]
  },
  {
   "cell_type": "code",
   "execution_count": null,
   "metadata": {
    "colab": {
     "base_uri": "https://localhost:8080/",
     "height": 34
    },
    "colab_type": "code",
    "id": "nRr5x0XOWryq",
    "outputId": "59e4ab53-e3fe-45a1-c3b7-cd96f892e97a"
   },
   "outputs": [
    {
     "name": "stdout",
     "output_type": "stream",
     "text": [
      "10/2 equals to 5.0\n"
     ]
    }
   ],
   "source": [
    "print(\"10/2 equals to\", division(b=2, a=10))"
   ]
  },
  {
   "cell_type": "markdown",
   "metadata": {
    "colab_type": "text",
    "id": "W2ynzzd8U7pL"
   },
   "source": [
    "## Parameters are passed by reference\n",
    "All parameters in the Python language are passed by reference. It means that if you change what a parameter refers to within a function, the change also reflects back in the calling function.\n",
    "#### To show that:"
   ]
  },
  {
   "cell_type": "code",
   "execution_count": null,
   "metadata": {
    "colab": {},
    "colab_type": "code",
    "id": "on1t9QJ6Sy8R"
   },
   "outputs": [],
   "source": [
    "def remove_element(l, value):\n",
    "  l.remove(value)"
   ]
  },
  {
   "cell_type": "code",
   "execution_count": null,
   "metadata": {
    "colab": {
     "base_uri": "https://localhost:8080/",
     "height": 34
    },
    "colab_type": "code",
    "id": "m5Hlp0auUI6h",
    "outputId": "2a946f86-0b9b-4068-f549-53b31346e499"
   },
   "outputs": [
    {
     "name": "stdout",
     "output_type": "stream",
     "text": [
      "The new list is [43, 3, 187, -56]\n"
     ]
    }
   ],
   "source": [
    "l = [43, 3, 187, 84, -56]\n",
    "remove_element(l, 84)\n",
    "print(\"The new list is\", l)"
   ]
  },
  {
   "cell_type": "markdown",
   "metadata": {
    "colab_type": "text",
    "id": "FU0lEuwqpczw"
   },
   "source": [
    "# Recursive vs Iterative form\n",
    "\n",
    "Key differences:\n",
    "\n",
    "* A conditional statement decides the termination of recursion while a control variable’s value decide the termination of the iteration statement (except in the case of a while loop).\n",
    "* Infinite recursion can lead to system crash while infinite iteration consumes CPU cycles.\n",
    "* Recursion makes code smaller while iteration makes it longer."
   ]
  },
  {
   "cell_type": "code",
   "execution_count": null,
   "metadata": {
    "colab": {},
    "colab_type": "code",
    "id": "pa-Op_bBJCE0"
   },
   "outputs": [],
   "source": [
    "def iterative_factorial(n):\n",
    "  res = 1\n",
    "  for i in range(1,n+1):\n",
    "    res = res * i\n",
    "  return res"
   ]
  },
  {
   "cell_type": "code",
   "execution_count": null,
   "metadata": {
    "colab": {},
    "colab_type": "code",
    "id": "rqOYGVRqKuj9"
   },
   "outputs": [],
   "source": [
    "def recursive_factorial(n):\n",
    "  if n == 1:\n",
    "    return 1\n",
    "  else:\n",
    "    return n * recursive_factorial(n-1)"
   ]
  },
  {
   "cell_type": "code",
   "execution_count": null,
   "metadata": {
    "colab": {
     "base_uri": "https://localhost:8080/",
     "height": 34
    },
    "colab_type": "code",
    "id": "FbJJImrALAXZ",
    "outputId": "0ed95872-1422-41a1-c416-f90b1daf81bf"
   },
   "outputs": [
    {
     "name": "stdout",
     "output_type": "stream",
     "text": [
      "The factorial of 10 is 3628800 in iterative form and 3628800 in recursive form.\n"
     ]
    }
   ],
   "source": [
    "print(\"The factorial of 10 is\", iterative_factorial(10), \"in iterative form and\", recursive_factorial(10), \"in recursive form.\")"
   ]
  },
  {
   "cell_type": "markdown",
   "metadata": {
    "colab_type": "text",
    "id": "YNw_vC5ISS6g"
   },
   "source": [
    "# Dictionaries\n",
    "A dictionary is an unordered collection of items. While lists have only values as elements, a dictionary has a `key: value` pair.\n",
    "\n",
    "Dictionaries are optimized to retrieve values when the key is known. We index the dictionaries by their keys.\n",
    "\n",
    "You can define a dictionary by enclosing a comma-separated list of key-value pairs in curly braces ({}). A colon (:) separates each key from its associated value:  \n",
    "`d = {\n",
    "    <key>: <value>,\n",
    "    <key>: <value>,\n",
    "      .\n",
    "      .\n",
    "      .\n",
    "    <key>: <value>\n",
    "}`"
   ]
  },
  {
   "cell_type": "code",
   "execution_count": null,
   "metadata": {
    "colab": {},
    "colab_type": "code",
    "id": "J6ZokDn7TuRB"
   },
   "outputs": [],
   "source": [
    "people = {\"name\": \"Joan\", \"age\": 23, \"NIU\": 6423746}"
   ]
  },
  {
   "cell_type": "code",
   "execution_count": null,
   "metadata": {
    "colab": {
     "base_uri": "https://localhost:8080/",
     "height": 34
    },
    "colab_type": "code",
    "id": "PryKpZ5RWRFO",
    "outputId": "5d7a42ed-5771-4864-e211-0b0c1dba1f4e"
   },
   "outputs": [
    {
     "data": {
      "text/plain": [
       "'Joan'"
      ]
     },
     "execution_count": 9,
     "metadata": {
      "tags": []
     },
     "output_type": "execute_result"
    }
   ],
   "source": [
    "people[\"name\"]"
   ]
  },
  {
   "cell_type": "code",
   "execution_count": null,
   "metadata": {
    "colab": {},
    "colab_type": "code",
    "id": "V796GPgBWvYe"
   },
   "outputs": [],
   "source": [
    "people = {}"
   ]
  },
  {
   "cell_type": "code",
   "execution_count": null,
   "metadata": {
    "colab": {},
    "colab_type": "code",
    "id": "-v1gi3O4YHCL"
   },
   "outputs": [],
   "source": [
    "people[6423746]={\"name\": \"Joan\", \"age\": 23, \"city\": \"San Francisco\"}"
   ]
  },
  {
   "cell_type": "markdown",
   "metadata": {
    "colab_type": "text",
    "id": "Pn9IfsSkhpDE"
   },
   "source": [
    "## Dictionary Methods:\n",
    "*    `d.clear()`\n",
    "*    `d.get(<key>[, <default>])`\n",
    "*    `d.items()`\n",
    "*    `d.keys()`\n",
    "*    `d.values()`\n",
    "*    `d.pop(<key>[, <default>])`\n",
    "*    `d.update(<obj>)`"
   ]
  },
  {
   "cell_type": "markdown",
   "metadata": {
    "colab_type": "text",
    "id": "URd-n8hvmLmv"
   },
   "source": [
    "### d.clear()\n",
    "Empties dictionary:"
   ]
  },
  {
   "cell_type": "code",
   "execution_count": null,
   "metadata": {
    "colab": {
     "base_uri": "https://localhost:8080/",
     "height": 52
    },
    "colab_type": "code",
    "id": "ZUoW_js6mVws",
    "outputId": "ca50f5fa-1582-4854-9535-2b8a0dbd70b8"
   },
   "outputs": [
    {
     "name": "stdout",
     "output_type": "stream",
     "text": [
      "{'a': 10, 'b': 20, 'c': 30}\n",
      "{}\n"
     ]
    }
   ],
   "source": [
    "d = {'a': 10, 'b': 20, 'c': 30}\n",
    "print(d)\n",
    "\n",
    "d.clear()\n",
    "print(d)"
   ]
  },
  {
   "cell_type": "markdown",
   "metadata": {
    "colab_type": "text",
    "id": "-w6zDufZmpXv"
   },
   "source": [
    "### d.get(\\<key>\\)\n",
    "It returns the value of a given key from a dictionary:\n",
    "\n"
   ]
  },
  {
   "cell_type": "code",
   "execution_count": null,
   "metadata": {
    "colab": {
     "base_uri": "https://localhost:8080/",
     "height": 52
    },
    "colab_type": "code",
    "id": "KGQaCQTfmfmn",
    "outputId": "0a002079-1acf-4d07-d45f-66c15333f655"
   },
   "outputs": [
    {
     "name": "stdout",
     "output_type": "stream",
     "text": [
      "20\n",
      "None\n"
     ]
    }
   ],
   "source": [
    "d = {'a': 10, 'b': 20, 'c': 30}\n",
    "\n",
    "print(d.get('b'))\n",
    "\n",
    "print(d.get('z'))"
   ]
  },
  {
   "cell_type": "markdown",
   "metadata": {
    "colab_type": "text",
    "id": "yajhC5CWoqB1"
   },
   "source": [
    "### d.items()\n",
    "returns a list of tuples containing the key-value pairs. The first item in each tuple is the key, and the second item is the key’s value:"
   ]
  },
  {
   "cell_type": "code",
   "execution_count": null,
   "metadata": {
    "colab": {
     "base_uri": "https://localhost:8080/",
     "height": 86
    },
    "colab_type": "code",
    "id": "1aZEDJOuoopX",
    "outputId": "3383ba0e-6ae7-4a49-f4ca-27a35f0bc1dc"
   },
   "outputs": [
    {
     "name": "stdout",
     "output_type": "stream",
     "text": [
      "{'a': 10, 'b': 20, 'c': 30}\n",
      "[('a', 10), ('b', 20), ('c', 30)]\n",
      "b\n",
      "20\n"
     ]
    }
   ],
   "source": [
    "d = {'a': 10, 'b': 20, 'c': 30}\n",
    "\n",
    "print(d)\n",
    "\n",
    "print(list(d.items()))\n",
    "\n",
    "print(list(d.items())[1][0])\n",
    "\n",
    "print(list(d.items())[1][1])"
   ]
  },
  {
   "cell_type": "markdown",
   "metadata": {
    "colab_type": "text",
    "id": "DNO5mh_frnbq"
   },
   "source": [
    "### d.keys()\n",
    "Returns a list of keys in a dictionary:"
   ]
  },
  {
   "cell_type": "code",
   "execution_count": null,
   "metadata": {
    "colab": {
     "base_uri": "https://localhost:8080/",
     "height": 52
    },
    "colab_type": "code",
    "id": "aCdQCclPrMoc",
    "outputId": "3178f89c-3e67-414a-9627-63f30500b9ce"
   },
   "outputs": [
    {
     "name": "stdout",
     "output_type": "stream",
     "text": [
      "{'a': 10, 'b': 20, 'c': 30}\n",
      "['a', 'b', 'c']\n"
     ]
    }
   ],
   "source": [
    "d = {'a': 10, 'b': 20, 'c': 30}\n",
    "\n",
    "print(d)\n",
    "\n",
    "print(list(d.keys()))"
   ]
  },
  {
   "cell_type": "markdown",
   "metadata": {
    "colab_type": "text",
    "id": "S93yM52YsHo5"
   },
   "source": [
    "### d.values()\n",
    "Returns a list of values in a dictionary:"
   ]
  },
  {
   "cell_type": "code",
   "execution_count": null,
   "metadata": {
    "colab": {
     "base_uri": "https://localhost:8080/",
     "height": 52
    },
    "colab_type": "code",
    "id": "8UcY-PRTr8Zs",
    "outputId": "d08514b8-c3c0-4d3f-85aa-780b0ed890c2"
   },
   "outputs": [
    {
     "name": "stdout",
     "output_type": "stream",
     "text": [
      "{'a': 10, 'b': 20, 'c': 30}\n",
      "[10, 20, 30]\n"
     ]
    }
   ],
   "source": [
    "d = {'a': 10, 'b': 20, 'c': 30}\n",
    "\n",
    "print(d)\n",
    "\n",
    "print(list(d.values()))"
   ]
  },
  {
   "cell_type": "markdown",
   "metadata": {
    "colab_type": "text",
    "id": "zCnZfnrOs1_9"
   },
   "source": [
    "### d.pop(\\<key>\\)\n",
    "Removes a key from a dictionary, if it is present, and returns its value:\n"
   ]
  },
  {
   "cell_type": "code",
   "execution_count": null,
   "metadata": {
    "colab": {
     "base_uri": "https://localhost:8080/",
     "height": 52
    },
    "colab_type": "code",
    "id": "W-7d4LNssYaB",
    "outputId": "0ee2a823-6089-45dc-d139-c714050a667c"
   },
   "outputs": [
    {
     "name": "stdout",
     "output_type": "stream",
     "text": [
      "20\n",
      "{'a': 10, 'c': 30}\n"
     ]
    }
   ],
   "source": [
    "d = {'a': 10, 'b': 20, 'c': 30}\n",
    "\n",
    "print(d.pop('b'))\n",
    "\n",
    "print(d)"
   ]
  },
  {
   "cell_type": "markdown",
   "metadata": {
    "colab_type": "text",
    "id": "fvcrCBYHtKrH"
   },
   "source": [
    "### d.update(\\<obj>\\)"
   ]
  },
  {
   "cell_type": "markdown",
   "metadata": {
    "colab_type": "text",
    "id": "P7jjfmQihvJR"
   },
   "source": [
    "Merges one dictionary with another one.\n",
    "- If the key is not present, it is added.\n",
    "- If the key is present, the corresponding value is updated."
   ]
  },
  {
   "cell_type": "code",
   "execution_count": null,
   "metadata": {
    "colab": {
     "base_uri": "https://localhost:8080/",
     "height": 35
    },
    "colab_type": "code",
    "id": "iE7l0ajds_5J",
    "outputId": "1d29a54c-920c-4fca-f035-ac2b52c9d1e9"
   },
   "outputs": [
    {
     "name": "stdout",
     "output_type": "stream",
     "text": [
      "{'a': 10, 'b': 200, 'c': 30, 'd': 400}\n"
     ]
    }
   ],
   "source": [
    "d1 = {'a': 10, 'b': 20, 'c': 30}\n",
    "d2 = {'b': 200, 'd': 400}\n",
    "\n",
    "d1.update(d2)\n",
    "\n",
    "print(d1)"
   ]
  }
 ],
 "metadata": {
  "colab": {
   "collapsed_sections": [],
   "name": "SesionThree.ipynb",
   "provenance": []
  },
  "kernelspec": {
   "display_name": "Python 3",
   "language": "python",
   "name": "python3"
  },
  "language_info": {
   "codemirror_mode": {
    "name": "ipython",
    "version": 3
   },
   "file_extension": ".py",
   "mimetype": "text/x-python",
   "name": "python",
   "nbconvert_exporter": "python",
   "pygments_lexer": "ipython3",
   "version": "3.7.2"
  }
 },
 "nbformat": 4,
 "nbformat_minor": 1
}

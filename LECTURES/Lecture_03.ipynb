{
  "nbformat": 4,
  "nbformat_minor": 0,
  "metadata": {
    "colab": {
      "name": "SesionThree.ipynb",
      "provenance": [],
      "collapsed_sections": []
    },
    "kernelspec": {
      "name": "python3",
      "display_name": "Python 3"
    }
  },
  "cells": [
    {
      "cell_type": "markdown",
      "metadata": {
        "id": "KKn8pLWhJ0X9"
      },
      "source": [
        "# PYTHON COURSE FOR SCIENTIFIC PROGRAMMING \n",
        "**Contributors:** \\\n",
        "Artur Llabrés Brustenga: Artur.Llabres@e-campus.uab.cat \\\n",
        "Gerard Navarro Pérez: Gerard.NavarroP@e-campus.uab.cat \\\n",
        "Arnau Parrilla Gibert: Arnau.Parrilla@e-campus.uab.cat \\\n",
        "Jan Scarabelli Calopa:Jan.Scarabelli@e-campus.uab.cat \\\n",
        "Xabier Oyanguren Asua: Xabier.Oyanguren@e-campus.uab.cat \\\n",
        "\n",
        "Course material can be found at: https://llacorp.github.io/Python-Course-for-Scientific-Programming/ "
      ]
    },
    {
      "cell_type": "markdown",
      "metadata": {
        "id": "nZpLHjATKWyO"
      },
      "source": [
        "# Functions\n",
        "Functions perform a specific task.  \n",
        "They are used to make our code more modular and organized besides avoiding code repetition.  \n",
        "We put together the code in *blocks*.\n",
        "####<ins>Syntax:</ins>\n",
        "* Keyword `def` marks the start of function header.\n",
        "* A function name to identify it.\n",
        "* Arguments through which we pass values to a function. They are optional.\n",
        "* The function body. Statements must have same indentation level.\n",
        "* An optional return statement to return a value from the function.<br>\n",
        "  <br>\n",
        " \n",
        "### <ins>Example of function with no returning statement:</ins>\n"
      ]
    },
    {
      "cell_type": "code",
      "metadata": {
        "id": "OuWPjTbPMHkO"
      },
      "source": [
        "def print_string(word):\n",
        "  print(word)"
      ],
      "execution_count": null,
      "outputs": []
    },
    {
      "cell_type": "code",
      "metadata": {
        "id": "lJa-N6r9QxQm",
        "colab": {
          "base_uri": "https://localhost:8080/"
        },
        "outputId": "4106886d-315d-4b32-bc33-386fea181d08"
      },
      "source": [
        "a = \"Car\"\n",
        "print_string(\"Plane\")\n",
        "print_string(a)"
      ],
      "execution_count": null,
      "outputs": [
        {
          "output_type": "stream",
          "text": [
            "Plane\n",
            "Car\n"
          ],
          "name": "stdout"
        }
      ]
    },
    {
      "cell_type": "markdown",
      "metadata": {
        "id": "OJHRZuGWQ8GH"
      },
      "source": [
        "### <ins>Example of function with returning statement:</ins>"
      ]
    },
    {
      "cell_type": "code",
      "metadata": {
        "id": "o2fCh413RBqG"
      },
      "source": [
        "def factorial(n):\n",
        "  res = 1\n",
        "  for i in range(1,n+1):\n",
        "    res = res * i\n",
        "  \n",
        "  return res"
      ],
      "execution_count": null,
      "outputs": []
    },
    {
      "cell_type": "code",
      "metadata": {
        "id": "3Cfk03RCRf0x",
        "colab": {
          "base_uri": "https://localhost:8080/",
          "height": 34
        },
        "outputId": "c2dede3b-3201-4e26-a229-f0de6a54e887"
      },
      "source": [
        "solution = factorial(10)\n",
        "print(\"The factorial of 10 is\", solution)"
      ],
      "execution_count": null,
      "outputs": [
        {
          "output_type": "stream",
          "text": [
            "The factorial of 10 is 3628800\n"
          ],
          "name": "stdout"
        }
      ]
    },
    {
      "cell_type": "markdown",
      "metadata": {
        "id": "aEhkp9K1SpDL"
      },
      "source": [
        "### <ins>Example of function returning several variables:</ins>"
      ]
    },
    {
      "cell_type": "code",
      "metadata": {
        "id": "9PHrv4zzStYR"
      },
      "source": [
        "def division(a, b):\r\n",
        "  return int(a/b), a%b"
      ],
      "execution_count": null,
      "outputs": []
    },
    {
      "cell_type": "code",
      "metadata": {
        "colab": {
          "base_uri": "https://localhost:8080/"
        },
        "id": "J1TIlwCfUEw9",
        "outputId": "96ebc13f-b4cc-4691-dc88-96ede6479f19"
      },
      "source": [
        "res, modulus = division(10, 3)\r\n",
        "print(\"The division 10/3 equals\", res, \"with modulus\", modulus)"
      ],
      "execution_count": null,
      "outputs": [
        {
          "output_type": "stream",
          "text": [
            "The division 10/3 equals 3 with modulus 1\n"
          ],
          "name": "stdout"
        }
      ]
    },
    {
      "cell_type": "markdown",
      "metadata": {
        "id": "cvnqCZZFTXXW"
      },
      "source": [
        "The `return` statement ends the function, so we cannot call `return` several times."
      ]
    },
    {
      "cell_type": "markdown",
      "metadata": {
        "id": "8cwwu1IER93g"
      },
      "source": [
        "We can set default arguments in the event that we don't pass them explicitly.\n",
        "#### For example:"
      ]
    },
    {
      "cell_type": "code",
      "metadata": {
        "id": "-6wywnseSULM"
      },
      "source": [
        "def min_max_list(l, option=\"min\"):\n",
        "  if option == \"min\":\n",
        "    return min(l)\n",
        "  elif option == \"max\":\n",
        "    return max(l)"
      ],
      "execution_count": null,
      "outputs": []
    },
    {
      "cell_type": "code",
      "metadata": {
        "id": "2p-75TeeStXl",
        "colab": {
          "base_uri": "https://localhost:8080/",
          "height": 34
        },
        "outputId": "e95e4e09-a4cf-4528-bc23-05eda15d9e38"
      },
      "source": [
        "l = [43, 3, 187, 84, -56]\n",
        "print(\"The minimum value of the list is\", min_max_list(l), \"and the max value is\", min_max_list(l, \"max\"))"
      ],
      "execution_count": null,
      "outputs": [
        {
          "output_type": "stream",
          "text": [
            "The minimum value of the list is -56 and the max value is 187\n"
          ],
          "name": "stdout"
        }
      ]
    },
    {
      "cell_type": "markdown",
      "metadata": {
        "id": "a1Est-7fWRw6"
      },
      "source": [
        "If the function has many parameters, we can assign them by their name.\n",
        "#### For example:"
      ]
    },
    {
      "cell_type": "code",
      "metadata": {
        "id": "VhCMYynMWlHo"
      },
      "source": [
        "def division(a, b):\n",
        "  return a/b"
      ],
      "execution_count": null,
      "outputs": []
    },
    {
      "cell_type": "code",
      "metadata": {
        "id": "nRr5x0XOWryq",
        "colab": {
          "base_uri": "https://localhost:8080/",
          "height": 34
        },
        "outputId": "59e4ab53-e3fe-45a1-c3b7-cd96f892e97a"
      },
      "source": [
        "print(\"10/2 equals to\", division(b=2, a=10))"
      ],
      "execution_count": null,
      "outputs": [
        {
          "output_type": "stream",
          "text": [
            "10/2 equals to 5.0\n"
          ],
          "name": "stdout"
        }
      ]
    },
    {
      "cell_type": "markdown",
      "metadata": {
        "id": "W2ynzzd8U7pL"
      },
      "source": [
        "## Parameters are passed by object's reference\n",
        "All parameters in the Python language are passed by object's reference. It means that inside the function you have the object and you are free to mutate it if possible.\n",
        "* If the parameter is **mutable** the change also reflects back outside the function.\n",
        "* If the parameter is **immutable** the change is only reflected in the local namespace (inside the function).\n",
        "\n",
        "#### To show that:"
      ]
    },
    {
      "cell_type": "markdown",
      "metadata": {
        "id": "5GHoxj5wtQHu"
      },
      "source": [
        "| Class | Description | Immutable? |\r\n",
        "| --- | --- | --- |\r\n",
        "| bool | boolean value | YES |\r\n",
        "| int | integer | YES |\r\n",
        "| float | floating-point value | YES |\r\n",
        "| list | mutable sequence of objects | NO |\r\n",
        "| tuple | immutable sequence of objects | YES |\r\n",
        "| str | character string | YES |\r\n",
        "| set | unordered set of distinct objects | NO |\r\n",
        "| frozenset | immutable form of set class | YES |\r\n",
        "| dict | associative mapping (aka dictionary) | NO |"
      ]
    },
    {
      "cell_type": "markdown",
      "metadata": {
        "id": "cdzsk7KCJJmI"
      },
      "source": [
        "Lists are mutable objects so the changes will have effect outside the function:"
      ]
    },
    {
      "cell_type": "code",
      "metadata": {
        "id": "on1t9QJ6Sy8R"
      },
      "source": [
        "def remove_element(l, value):\n",
        "  l.remove(value)"
      ],
      "execution_count": null,
      "outputs": []
    },
    {
      "cell_type": "code",
      "metadata": {
        "id": "m5Hlp0auUI6h",
        "colab": {
          "base_uri": "https://localhost:8080/"
        },
        "outputId": "03d8dab6-c9a3-4dfb-8ca0-f4c1ef521692"
      },
      "source": [
        "l = [43, 3, 187, 84, -56]\n",
        "remove_element(l, 84)\n",
        "print(\"The new list is\", l)"
      ],
      "execution_count": null,
      "outputs": [
        {
          "output_type": "stream",
          "text": [
            "The new list is [43, 3, 187, -56]\n"
          ],
          "name": "stdout"
        }
      ]
    },
    {
      "cell_type": "markdown",
      "metadata": {
        "id": "UykwM0XgJURI"
      },
      "source": [
        "For an integer value it will not:"
      ]
    },
    {
      "cell_type": "code",
      "metadata": {
        "id": "VgeP7AAArGnR"
      },
      "source": [
        "def change_value(a):\r\n",
        "  a = 3\r\n",
        "  print(\"Thw value of a inside the function is\", a)"
      ],
      "execution_count": null,
      "outputs": []
    },
    {
      "cell_type": "code",
      "metadata": {
        "colab": {
          "base_uri": "https://localhost:8080/"
        },
        "id": "v7jcTDuNrKzl",
        "outputId": "845e651d-9bf9-4d63-8b66-e501df7a3c0a"
      },
      "source": [
        "a = 4\r\n",
        "change_value(a)\r\n",
        "print(\"Thw value of a outside the function is\", a)"
      ],
      "execution_count": null,
      "outputs": [
        {
          "output_type": "stream",
          "text": [
            "Thw value of a inside the function is 3\n",
            "Thw value of a outside the function is 4\n"
          ],
          "name": "stdout"
        }
      ]
    },
    {
      "cell_type": "markdown",
      "metadata": {
        "id": "HjSyMwvlumgH"
      },
      "source": [
        "**What should we do?**"
      ]
    },
    {
      "cell_type": "code",
      "metadata": {
        "id": "uoWe1hRTupkO"
      },
      "source": [
        "def new_change_value(a):\r\n",
        "  a = 3\r\n",
        "  print(\"Thw value of a inside the function is\", a)\r\n",
        "  return a"
      ],
      "execution_count": null,
      "outputs": []
    },
    {
      "cell_type": "code",
      "metadata": {
        "colab": {
          "base_uri": "https://localhost:8080/"
        },
        "id": "4Oxy8rtuuuJU",
        "outputId": "c6925f6b-e84c-473b-b018-4479283ecc94"
      },
      "source": [
        "a = 4\r\n",
        "a = new_change_value(a)\r\n",
        "print(\"Thw value of a outside the function is\", a)"
      ],
      "execution_count": null,
      "outputs": [
        {
          "output_type": "stream",
          "text": [
            "Thw value of a inside the function is 3\n",
            "Thw value of a outside the function is 3\n"
          ],
          "name": "stdout"
        }
      ]
    },
    {
      "cell_type": "markdown",
      "metadata": {
        "id": "WbzLArZwMjwY"
      },
      "source": [
        "## `yield` keyword\r\n",
        "`yield` keyword is very similar to the `return` statement with the difference that the function returns a generator.\r\n",
        "\r\n",
        "We will briefly explain what is an *iterable* and a *generator*.\r\n",
        "\r\n",
        "### <ins>Iterable</ins>:  \r\n",
        "When you create a list, you can read its items one by one. Reading its items one by one is called iteration. A list is an iterable.\r\n",
        "\r\n",
        "```python\r\n",
        ">>> mylist = [x*x for x in range(3)]\r\n",
        ">>> for i in mylist:\r\n",
        "...    print(i)\r\n",
        "0\r\n",
        "1\r\n",
        "4\r\n",
        "```\r\n",
        "\r\n",
        "Everything you can use \"`for... in...`\" on is an iterable: `lists`, `strings`, files...\r\n",
        "\r\n",
        "These iterables are handy because you can read them as much as you wish, but you store all the values in memory and this is not always what you want when you have a lot of values.\r\n",
        "\r\n",
        "### <ins>Generator</ins>:\r\n",
        "Generators are iterators, a kind of iterable **you can only iterate over once**. Generators do not store all the values in memory, **they generate the values on the fly**:\r\n",
        "```python\r\n",
        ">>> mygenerator = (x*x for x in range(3))\r\n",
        ">>> for i in mygenerator:\r\n",
        "...    print(i)\r\n",
        "0\r\n",
        "1\r\n",
        "4\r\n",
        "```\r\n",
        "It is just the same except you used `()` instead of `[]`. BUT, you **cannot** perform `for i in mygenerator` a second time since generators can only be used once: they calculate 0, then forget about it and calculate 1, and finally calculating 4, one by one. **THEY ARE NOT STORED IN MEMORY**.\r\n",
        "\r\n",
        "\r\n",
        "### So, what does `yield` do?\r\n",
        "\r\n",
        "In this example, the function `createGenerator()` returns a generator:\r\n",
        "\r\n",
        "```python\r\n",
        ">>> def createGenerator():\r\n",
        "...    for i in range(3):\r\n",
        "...        yield i*i\r\n",
        "...\r\n",
        ">>> mygenerator = createGenerator() # create a generator\r\n",
        ">>> for i in mygenerator:\r\n",
        "...     print(i)\r\n",
        "0\r\n",
        "1\r\n",
        "4\r\n",
        "```\r\n",
        "Here it's a useless example, but it's handy when you know your function will return a huge set of values that you will only need to read once."
      ]
    },
    {
      "cell_type": "markdown",
      "metadata": {
        "id": "FU0lEuwqpczw"
      },
      "source": [
        "# Recursive vs Iterative form\n",
        "\n",
        "Key differences:\n",
        "\n",
        "* A conditional statement decides the termination of recursion while a control variable’s value decide the termination of the iteration statement (except in the case of a while loop).\n",
        "* Infinite recursion can lead to system crash while infinite iteration consumes CPU cycles.\n",
        "* Recursion makes code smaller while iteration makes it longer."
      ]
    },
    {
      "cell_type": "code",
      "metadata": {
        "id": "pa-Op_bBJCE0"
      },
      "source": [
        "def iterative_factorial(n):\n",
        "  res = 1\n",
        "  for i in range(1,n+1):\n",
        "    res = res * i\n",
        "  return res"
      ],
      "execution_count": null,
      "outputs": []
    },
    {
      "cell_type": "code",
      "metadata": {
        "id": "rqOYGVRqKuj9"
      },
      "source": [
        "def recursive_factorial(n):\n",
        "  if n == 1:\n",
        "    return 1\n",
        "  else:\n",
        "    return n * recursive_factorial(n-1)"
      ],
      "execution_count": null,
      "outputs": []
    },
    {
      "cell_type": "code",
      "metadata": {
        "id": "FbJJImrALAXZ",
        "colab": {
          "base_uri": "https://localhost:8080/",
          "height": 34
        },
        "outputId": "0ed95872-1422-41a1-c416-f90b1daf81bf"
      },
      "source": [
        "print(\"The factorial of 10 is\", iterative_factorial(10), \"in iterative form and\", recursive_factorial(10), \"in recursive form.\")"
      ],
      "execution_count": null,
      "outputs": [
        {
          "output_type": "stream",
          "text": [
            "The factorial of 10 is 3628800 in iterative form and 3628800 in recursive form.\n"
          ],
          "name": "stdout"
        }
      ]
    },
    {
      "cell_type": "markdown",
      "metadata": {
        "id": "YNw_vC5ISS6g"
      },
      "source": [
        "# Dictionaries\n",
        "A dictionary is an unordered collection of items. While lists have only values as elements, a dictionary has a `key: value` pair.\n",
        "\n",
        "Dictionaries are optimized to retrieve values when the key is known. We index the dictionaries by their keys.\n",
        "\n",
        "You can define a dictionary by enclosing a comma-separated list of key-value pairs in curly braces ({}). A colon (:) separates each key from its associated value:  \n",
        "`d = {\n",
        "    <key>: <value>,\n",
        "    <key>: <value>,\n",
        "      .\n",
        "      .\n",
        "      .\n",
        "    <key>: <value>\n",
        "}`"
      ]
    },
    {
      "cell_type": "code",
      "metadata": {
        "id": "J6ZokDn7TuRB"
      },
      "source": [
        "occurrences = {\"a\": 32, \"b\": 3, \"c\": 21}"
      ],
      "execution_count": null,
      "outputs": []
    },
    {
      "cell_type": "code",
      "metadata": {
        "id": "PryKpZ5RWRFO",
        "colab": {
          "base_uri": "https://localhost:8080/"
        },
        "outputId": "4c6d38aa-905b-4d5c-c998-2b67d3decd83"
      },
      "source": [
        "occurrences[\"a\"]"
      ],
      "execution_count": null,
      "outputs": [
        {
          "output_type": "execute_result",
          "data": {
            "text/plain": [
              "32"
            ]
          },
          "metadata": {
            "tags": []
          },
          "execution_count": 30
        }
      ]
    },
    {
      "cell_type": "markdown",
      "metadata": {
        "id": "lZPN7NgcwEBi"
      },
      "source": [
        "**Create empty dictionary:**"
      ]
    },
    {
      "cell_type": "code",
      "metadata": {
        "id": "V796GPgBWvYe"
      },
      "source": [
        "people = {}"
      ],
      "execution_count": null,
      "outputs": []
    },
    {
      "cell_type": "markdown",
      "metadata": {
        "id": "vA2FOH52wxwJ"
      },
      "source": [
        "**Fill the dictionary:**"
      ]
    },
    {
      "cell_type": "code",
      "metadata": {
        "id": "-v1gi3O4YHCL"
      },
      "source": [
        "people[6423746] = {\"name\": \"Joan\", \"age\": 23, \"city\": \"San Francisco\"}"
      ],
      "execution_count": null,
      "outputs": []
    },
    {
      "cell_type": "code",
      "metadata": {
        "colab": {
          "base_uri": "https://localhost:8080/"
        },
        "id": "wIIL5XH9wS88",
        "outputId": "164eb70b-50c4-4032-fc70-1a8d71999997"
      },
      "source": [
        "print(people)"
      ],
      "execution_count": null,
      "outputs": [
        {
          "output_type": "stream",
          "text": [
            "{6423746: {'name': 'Joan', 'age': 23, 'city': 'San Francisco'}}\n"
          ],
          "name": "stdout"
        }
      ]
    },
    {
      "cell_type": "code",
      "metadata": {
        "colab": {
          "base_uri": "https://localhost:8080/"
        },
        "id": "ApOJN-OoxWq8",
        "outputId": "0c7948e9-c0db-49ad-9f1d-75eaa5d9e9dd"
      },
      "source": [
        "people[6423746]"
      ],
      "execution_count": null,
      "outputs": [
        {
          "output_type": "execute_result",
          "data": {
            "text/plain": [
              "{'age': 23, 'city': 'San Francisco', 'name': 'Joan'}"
            ]
          },
          "metadata": {
            "tags": []
          },
          "execution_count": 42
        }
      ]
    },
    {
      "cell_type": "code",
      "metadata": {
        "colab": {
          "base_uri": "https://localhost:8080/",
          "height": 35
        },
        "id": "SokxUmUUxZx-",
        "outputId": "57582bed-1984-4643-a345-147e3c13e3c3"
      },
      "source": [
        "people[6423746][\"city\"]"
      ],
      "execution_count": null,
      "outputs": [
        {
          "output_type": "execute_result",
          "data": {
            "application/vnd.google.colaboratory.intrinsic+json": {
              "type": "string"
            },
            "text/plain": [
              "'San Francisco'"
            ]
          },
          "metadata": {
            "tags": []
          },
          "execution_count": 43
        }
      ]
    },
    {
      "cell_type": "markdown",
      "metadata": {
        "id": "Pn9IfsSkhpDE"
      },
      "source": [
        "## Dictionary Methods:\n",
        "*    `d.clear()`\n",
        "*    `d.get(<key>[, <default>])`\n",
        "*    `d.items()`\n",
        "*    `d.keys()`\n",
        "*    `d.values()`\n",
        "*    `d.pop(<key>[, <default>])`\n",
        "*    `d.update(<obj>)`"
      ]
    },
    {
      "cell_type": "markdown",
      "metadata": {
        "id": "URd-n8hvmLmv"
      },
      "source": [
        "### d.clear()\n",
        "Empties dictionary:"
      ]
    },
    {
      "cell_type": "code",
      "metadata": {
        "id": "ZUoW_js6mVws",
        "colab": {
          "base_uri": "https://localhost:8080/",
          "height": 52
        },
        "outputId": "ca50f5fa-1582-4854-9535-2b8a0dbd70b8"
      },
      "source": [
        "d = {'a': 10, 'b': 20, 'c': 30}\n",
        "print(d)\n",
        "\n",
        "d.clear()\n",
        "print(d)"
      ],
      "execution_count": null,
      "outputs": [
        {
          "output_type": "stream",
          "text": [
            "{'a': 10, 'b': 20, 'c': 30}\n",
            "{}\n"
          ],
          "name": "stdout"
        }
      ]
    },
    {
      "cell_type": "markdown",
      "metadata": {
        "id": "-w6zDufZmpXv"
      },
      "source": [
        "### d.get(\\<key>\\)\n",
        "It returns the value of a given key from a dictionary (never returns error):\n",
        "\n"
      ]
    },
    {
      "cell_type": "code",
      "metadata": {
        "id": "KGQaCQTfmfmn",
        "colab": {
          "base_uri": "https://localhost:8080/",
          "height": 52
        },
        "outputId": "0a002079-1acf-4d07-d45f-66c15333f655"
      },
      "source": [
        "d = {'a': 10, 'b': 20, 'c': 30}\n",
        "\n",
        "print(d.get('b'))\n",
        "\n",
        "print(d.get('z'))"
      ],
      "execution_count": null,
      "outputs": [
        {
          "output_type": "stream",
          "text": [
            "20\n",
            "None\n"
          ],
          "name": "stdout"
        }
      ]
    },
    {
      "cell_type": "markdown",
      "metadata": {
        "id": "yajhC5CWoqB1"
      },
      "source": [
        "### d.items()\n",
        "It returns a list of tuples containing the key-value pairs. The first item in each tuple is the key, and the second item is the key’s value:"
      ]
    },
    {
      "cell_type": "code",
      "metadata": {
        "id": "1aZEDJOuoopX",
        "colab": {
          "base_uri": "https://localhost:8080/",
          "height": 86
        },
        "outputId": "3383ba0e-6ae7-4a49-f4ca-27a35f0bc1dc"
      },
      "source": [
        "d = {'a': 10, 'b': 20, 'c': 30}\n",
        "\n",
        "print(d)\n",
        "\n",
        "print(list(d.items()))\n",
        "\n",
        "print(list(d.items())[1][0])\n",
        "\n",
        "print(list(d.items())[1][1])"
      ],
      "execution_count": null,
      "outputs": [
        {
          "output_type": "stream",
          "text": [
            "{'a': 10, 'b': 20, 'c': 30}\n",
            "[('a', 10), ('b', 20), ('c', 30)]\n",
            "b\n",
            "20\n"
          ],
          "name": "stdout"
        }
      ]
    },
    {
      "cell_type": "markdown",
      "metadata": {
        "id": "DNO5mh_frnbq"
      },
      "source": [
        "### d.keys()\n",
        "Returns a list of keys in a dictionary:"
      ]
    },
    {
      "cell_type": "code",
      "metadata": {
        "id": "aCdQCclPrMoc",
        "colab": {
          "base_uri": "https://localhost:8080/",
          "height": 52
        },
        "outputId": "3178f89c-3e67-414a-9627-63f30500b9ce"
      },
      "source": [
        "d = {'a': 10, 'b': 20, 'c': 30}\n",
        "\n",
        "print(d)\n",
        "\n",
        "print(list(d.keys()))"
      ],
      "execution_count": null,
      "outputs": [
        {
          "output_type": "stream",
          "text": [
            "{'a': 10, 'b': 20, 'c': 30}\n",
            "['a', 'b', 'c']\n"
          ],
          "name": "stdout"
        }
      ]
    },
    {
      "cell_type": "markdown",
      "metadata": {
        "id": "S93yM52YsHo5"
      },
      "source": [
        "### d.values()\n",
        "Returns a list of values in a dictionary:"
      ]
    },
    {
      "cell_type": "code",
      "metadata": {
        "id": "8UcY-PRTr8Zs",
        "colab": {
          "base_uri": "https://localhost:8080/",
          "height": 52
        },
        "outputId": "d08514b8-c3c0-4d3f-85aa-780b0ed890c2"
      },
      "source": [
        "d = {'a': 10, 'b': 20, 'c': 30}\n",
        "\n",
        "print(d)\n",
        "\n",
        "print(list(d.values()))"
      ],
      "execution_count": null,
      "outputs": [
        {
          "output_type": "stream",
          "text": [
            "{'a': 10, 'b': 20, 'c': 30}\n",
            "[10, 20, 30]\n"
          ],
          "name": "stdout"
        }
      ]
    },
    {
      "cell_type": "markdown",
      "metadata": {
        "id": "zCnZfnrOs1_9"
      },
      "source": [
        "### d.pop(\\<key>\\)\n",
        "Removes a key from a dictionary, if it is present, and returns its value:\n"
      ]
    },
    {
      "cell_type": "code",
      "metadata": {
        "id": "W-7d4LNssYaB",
        "colab": {
          "base_uri": "https://localhost:8080/",
          "height": 52
        },
        "outputId": "0ee2a823-6089-45dc-d139-c714050a667c"
      },
      "source": [
        "d = {'a': 10, 'b': 20, 'c': 30}\n",
        "\n",
        "print(d.pop('b'))\n",
        "\n",
        "print(d)"
      ],
      "execution_count": null,
      "outputs": [
        {
          "output_type": "stream",
          "text": [
            "20\n",
            "{'a': 10, 'c': 30}\n"
          ],
          "name": "stdout"
        }
      ]
    },
    {
      "cell_type": "markdown",
      "metadata": {
        "id": "fvcrCBYHtKrH"
      },
      "source": [
        "### d.update(\\<obj>\\)"
      ]
    },
    {
      "cell_type": "markdown",
      "metadata": {
        "id": "P7jjfmQihvJR"
      },
      "source": [
        "Merges one dictionary with another one.\n",
        "- If the key is not present, it is added.\n",
        "- If the key is present, the corresponding value is updated."
      ]
    },
    {
      "cell_type": "code",
      "metadata": {
        "id": "iE7l0ajds_5J",
        "colab": {
          "base_uri": "https://localhost:8080/",
          "height": 35
        },
        "outputId": "1d29a54c-920c-4fca-f035-ac2b52c9d1e9"
      },
      "source": [
        "d1 = {'a': 10, 'b': 20, 'c': 30}\n",
        "d2 = {'b': 200, 'd': 400}\n",
        "\n",
        "d1.update(d2)\n",
        "\n",
        "print(d1)"
      ],
      "execution_count": null,
      "outputs": [
        {
          "output_type": "stream",
          "text": [
            "{'a': 10, 'b': 200, 'c': 30, 'd': 400}\n"
          ],
          "name": "stdout"
        }
      ]
    }
  ]
}
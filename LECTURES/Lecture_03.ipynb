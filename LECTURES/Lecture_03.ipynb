{
 "cells": [
  {
   "cell_type": "markdown",
   "metadata": {
    "id": "KKn8pLWhJ0X9"
   },
   "source": [
    "# PYTHON COURSE FOR SCIENTIFIC PROGRAMMING \n",
    "**Main Editors of this Lecture:** \n",
    "\n",
    "Gerard Navarro Pérez: gerard.navarro22@gmail.com \n",
    "\n",
    "Xabier Oianguren Asua: oiangu9@gmail.com"
   ]
  },
  {
   "cell_type": "markdown",
   "metadata": {},
   "source": [
    "# LECTURE III : Dictionaries, Functions and Exception Handling\n",
    "### $(1.)$ - [*DICTIONARIES*](#1)\n",
    "### $(2.)$ - [*FUNCTIONS*](#2)\n",
    "### $(3.)$ - [*EXCEPTION HANDLING*](#3)\n",
    "\n",
    "-----------"
   ]
  },
  {
   "cell_type": "markdown",
   "metadata": {
    "colab_type": "text",
    "id": "ODVGXWjlfvNn"
   },
   "source": [
    "### Another Interesting Iterable: \n",
    "<a id='1'></a>\n",
    "# $(1.)$ Dictionaries\n",
    "A dictionary is an ordered collection of different kinds of values (lists, floats, strings, other dictionaries etc.) each with its own name, but all gathered in a same variable.\n",
    "\n",
    "Each entry in a dictionary is made of a pair `key: value`. The `key` is the \"name\" of the variable you save in `value`. It is a way to have many variables of different sorts, but all under a same object.\n",
    "\n",
    "You can define a dictionary by enclosing a comma-separated list of key-value pairs in curly braces `{}`. A colon `:` separates each key from its associated value:  \n",
    "`d = {     <key1>: <value1>,     <key2>: <value2>,    ...,    <key3>: <value3>   }`\n",
    "\n",
    "Then, in order to access one of the values in `d`, instead of indexing by their position, as we used to with the lists, we index them by their keys. Say, `d[<key1>]` would give us `<value1>`.\n",
    "\n",
    "The keys can be any sort of what is called **immutable** objects (we will know about them later on), but in general we use rather **strings** or **int**s."
   ]
  },
  {
   "cell_type": "code",
   "execution_count": 115,
   "metadata": {
    "id": "J6ZokDn7TuRB"
   },
   "outputs": [
    {
     "name": "stdout",
     "output_type": "stream",
     "text": [
      "3\n",
      "haloo\n"
     ]
    }
   ],
   "source": [
    "my_dictionary = {\"a\": 32, \"bob\": 3, \"c\": 21, 0:\"haloo\", 2:190.9}\n",
    "\n",
    "print(my_dictionary[\"bob\"])\n",
    "print(my_dictionary[0])"
   ]
  },
  {
   "cell_type": "markdown",
   "metadata": {},
   "source": [
    "Of course, we can modify the value under a key. They just behave as if each of them was a variable!"
   ]
  },
  {
   "cell_type": "code",
   "execution_count": 116,
   "metadata": {},
   "outputs": [
    {
     "name": "stdout",
     "output_type": "stream",
     "text": [
      "{'a': 32, 'bob': 6, 'c': 21, 0: 'haloo', 2: 190.9}\n"
     ]
    }
   ],
   "source": [
    "my_dictionary[\"bob\"]= my_dictionary[\"bob\"]+3\n",
    "\n",
    "print(my_dictionary)"
   ]
  },
  {
   "cell_type": "markdown",
   "metadata": {},
   "source": [
    "In order to add more `key-value` pairs, we just do it as if we were to create a new variable."
   ]
  },
  {
   "cell_type": "code",
   "execution_count": 118,
   "metadata": {},
   "outputs": [
    {
     "name": "stdout",
     "output_type": "stream",
     "text": [
      "{'a': 32, 'bob': 6, 'c': 21, 0: 'haloo', 2: 190.9, 'caterpie': 'umbreon'}\n"
     ]
    }
   ],
   "source": [
    "my_dictionary[\"caterpie\"] = \"umbreon\"\n",
    "\n",
    "print(my_dictionary)"
   ]
  },
  {
   "cell_type": "markdown",
   "metadata": {
    "id": "lZPN7NgcwEBi"
   },
   "source": [
    "We can even create an empty dictionary and then fill it. Just as we used to do with lists."
   ]
  },
  {
   "cell_type": "code",
   "execution_count": 119,
   "metadata": {
    "id": "V796GPgBWvYe"
   },
   "outputs": [],
   "source": [
    "people = {}\n",
    "#or\n",
    "people = dict()\n",
    "\n",
    "# just as\n",
    "emptylist = []\n",
    "# or\n",
    "emptylist=list()"
   ]
  },
  {
   "cell_type": "markdown",
   "metadata": {
    "id": "vA2FOH52wxwJ"
   },
   "source": [
    "Then fill the dictionary:"
   ]
  },
  {
   "cell_type": "code",
   "execution_count": 120,
   "metadata": {
    "id": "U4x3e93g6OIi"
   },
   "outputs": [],
   "source": [
    "people[\"entry 1\"]=908"
   ]
  },
  {
   "cell_type": "markdown",
   "metadata": {},
   "source": [
    "Even another dictionary can be an entry of a dictionary!"
   ]
  },
  {
   "cell_type": "code",
   "execution_count": 125,
   "metadata": {
    "id": "-v1gi3O4YHCL"
   },
   "outputs": [],
   "source": [
    "people[6423746] = {\"name\": \"Joan\", \"age\": 23, \"city\": \"San Francisco\", \"Lucky Numbers\":[10, 9, 7]} "
   ]
  },
  {
   "cell_type": "code",
   "execution_count": 122,
   "metadata": {
    "colab": {
     "base_uri": "https://localhost:8080/"
    },
    "id": "wIIL5XH9wS88",
    "outputId": "164eb70b-50c4-4032-fc70-1a8d71999997"
   },
   "outputs": [
    {
     "name": "stdout",
     "output_type": "stream",
     "text": [
      "{'entry 1': 908, 6423746: {'name': 'Joan', 'age': 23, 'city': 'San Francisco'}}\n"
     ]
    }
   ],
   "source": [
    "print(people)"
   ]
  },
  {
   "cell_type": "code",
   "execution_count": 123,
   "metadata": {
    "colab": {
     "base_uri": "https://localhost:8080/"
    },
    "id": "ApOJN-OoxWq8",
    "outputId": "0c7948e9-c0db-49ad-9f1d-75eaa5d9e9dd"
   },
   "outputs": [
    {
     "data": {
      "text/plain": [
       "{'name': 'Joan', 'age': 23, 'city': 'San Francisco'}"
      ]
     },
     "execution_count": 123,
     "metadata": {},
     "output_type": "execute_result"
    }
   ],
   "source": [
    "people[6423746]"
   ]
  },
  {
   "cell_type": "code",
   "execution_count": 126,
   "metadata": {
    "colab": {
     "base_uri": "https://localhost:8080/",
     "height": 35
    },
    "id": "SokxUmUUxZx-",
    "outputId": "57582bed-1984-4643-a345-147e3c13e3c3"
   },
   "outputs": [
    {
     "data": {
      "text/plain": [
       "[10, 9, 7]"
      ]
     },
     "execution_count": 126,
     "metadata": {},
     "output_type": "execute_result"
    }
   ],
   "source": [
    "people[6423746][\"Lucky Numbers\"]"
   ]
  },
  {
   "cell_type": "code",
   "execution_count": 127,
   "metadata": {},
   "outputs": [
    {
     "data": {
      "text/plain": [
       "9"
      ]
     },
     "execution_count": 127,
     "metadata": {},
     "output_type": "execute_result"
    }
   ],
   "source": [
    "people[6423746][\"Lucky Numbers\"][1]"
   ]
  },
  {
   "cell_type": "markdown",
   "metadata": {
    "id": "Pn9IfsSkhpDE"
   },
   "source": [
    "## Dictionary Methods:\n",
    "*    `d.clear()`\n",
    "*    `d.get(<key>[, <default>])`\n",
    "*    `d.items()`\n",
    "*    `d.keys()`\n",
    "*    `d.values()`\n",
    "*    `d.pop(<key>[, <default>])`\n",
    "*    `d.update(<obj>)`\n",
    "\n",
    "A dictionary is a mutable object like lists, so if we apply a method to a dictionary we will modify it without needing to reassign it (remember, just doing `my_list.append(<something>)` changed `my_list`, without needing to do `my_list = my_list.append(<something>)`, which will be required for other forthcoming objects!)."
   ]
  },
  {
   "cell_type": "markdown",
   "metadata": {
    "id": "URd-n8hvmLmv"
   },
   "source": [
    "### `d.clear()`\n",
    "It empties the dictionary:"
   ]
  },
  {
   "cell_type": "code",
   "execution_count": null,
   "metadata": {
    "colab": {
     "base_uri": "https://localhost:8080/",
     "height": 52
    },
    "id": "ZUoW_js6mVws",
    "outputId": "ca50f5fa-1582-4854-9535-2b8a0dbd70b8"
   },
   "outputs": [
    {
     "name": "stdout",
     "output_type": "stream",
     "text": [
      "{'a': 10, 'b': 20, 'c': 30}\n",
      "{}\n"
     ]
    }
   ],
   "source": [
    "d = {'a': 10, 'b': 20, 'c': 30}\n",
    "print(d)\n",
    "\n",
    "d.clear()\n",
    "print(d)"
   ]
  },
  {
   "cell_type": "markdown",
   "metadata": {
    "id": "-w6zDufZmpXv"
   },
   "source": [
    "### `d.get(key, value)` <- Not very used\n",
    "It returns the value of a given key from a dictionary. But what is the difference with doing `d[<key>]`? Well, using `get` does not return an index error if the `<key>` does not exists yet, as does `d[<key>]`. Instead, it will return a `None`, which is a special variable of `type` `Nonetype`, used for the analogous of the empty set in mathematics."
   ]
  },
  {
   "cell_type": "code",
   "execution_count": 130,
   "metadata": {
    "colab": {
     "base_uri": "https://localhost:8080/",
     "height": 52
    },
    "id": "KGQaCQTfmfmn",
    "outputId": "0a002079-1acf-4d07-d45f-66c15333f655"
   },
   "outputs": [
    {
     "name": "stdout",
     "output_type": "stream",
     "text": [
      "20\n",
      "None\n"
     ]
    }
   ],
   "source": [
    "d = {'a': 10, 'b': 20, 'c': 30}\n",
    "\n",
    "print(d.get('b'))\n",
    "\n",
    "print(d.get('z')) # is not in d"
   ]
  },
  {
   "cell_type": "markdown",
   "metadata": {
    "id": "yHZ4TMaW6OIj"
   },
   "source": [
    "If we add a value to the arguments, the `d.get()` statement will return the value in case it does not exist (without adding it to `d`), otherwise, the dictionary's value:"
   ]
  },
  {
   "cell_type": "code",
   "execution_count": 131,
   "metadata": {
    "id": "mB8nm8Be6OIj",
    "outputId": "27f336bb-8d8a-4854-90b4-9fa429422c2c"
   },
   "outputs": [
    {
     "name": "stdout",
     "output_type": "stream",
     "text": [
      "100\n",
      "20\n",
      "{'a': 10, 'b': 20, 'c': 30}\n"
     ]
    }
   ],
   "source": [
    "print(d.get('z', 100))\n",
    "print(d.get('b', 100))\n",
    "print(d)"
   ]
  },
  {
   "cell_type": "markdown",
   "metadata": {
    "id": "yajhC5CWoqB1"
   },
   "source": [
    "### `d.items()`\n",
    "It returns an iterble of the key-value pairs. The first item in each pair is the key, and the second item is the key’s value:"
   ]
  },
  {
   "cell_type": "code",
   "execution_count": 134,
   "metadata": {
    "colab": {
     "base_uri": "https://localhost:8080/",
     "height": 86
    },
    "id": "1aZEDJOuoopX",
    "outputId": "3383ba0e-6ae7-4a49-f4ca-27a35f0bc1dc"
   },
   "outputs": [
    {
     "name": "stdout",
     "output_type": "stream",
     "text": [
      "a 10\n",
      "b 20\n",
      "c 30\n"
     ]
    }
   ],
   "source": [
    "d = {'a': 10, 'b': 20, 'c': 30}\n",
    "\n",
    "for tup in d.items():\n",
    "    print(tup[0], tup[1])"
   ]
  },
  {
   "cell_type": "code",
   "execution_count": 135,
   "metadata": {},
   "outputs": [
    {
     "name": "stdout",
     "output_type": "stream",
     "text": [
      "a 10\n",
      "b 20\n",
      "c 30\n"
     ]
    }
   ],
   "source": [
    "for key, value in d.items():\n",
    "    print(key, value)"
   ]
  },
  {
   "cell_type": "markdown",
   "metadata": {},
   "source": [
    "We could access directly one of them by cheating and converting them first to a list of pairs."
   ]
  },
  {
   "cell_type": "code",
   "execution_count": 136,
   "metadata": {},
   "outputs": [
    {
     "name": "stdout",
     "output_type": "stream",
     "text": [
      "b\n",
      "20\n"
     ]
    }
   ],
   "source": [
    "print(list(d.items())[1][0])\n",
    "\n",
    "print(list(d.items())[1][1])"
   ]
  },
  {
   "cell_type": "markdown",
   "metadata": {
    "id": "DNO5mh_frnbq"
   },
   "source": [
    "### `d.keys()`\n",
    "Returns an iterator that yields the keys in the dictionary:"
   ]
  },
  {
   "cell_type": "code",
   "execution_count": 137,
   "metadata": {
    "colab": {
     "base_uri": "https://localhost:8080/",
     "height": 52
    },
    "id": "aCdQCclPrMoc",
    "outputId": "3178f89c-3e67-414a-9627-63f30500b9ce"
   },
   "outputs": [
    {
     "name": "stdout",
     "output_type": "stream",
     "text": [
      "a\n",
      "10\n",
      "b\n",
      "20\n",
      "c\n",
      "30\n"
     ]
    }
   ],
   "source": [
    "d = {'a': 10, 'b': 20, 'c': 30}\n",
    "\n",
    "for k in d.keys():\n",
    "    print(k)\n",
    "    print(d[k])"
   ]
  },
  {
   "cell_type": "markdown",
   "metadata": {
    "id": "S93yM52YsHo5"
   },
   "source": [
    "### `d.values()`\n",
    "Returns an iterator that yields the values in the dictionary:"
   ]
  },
  {
   "cell_type": "code",
   "execution_count": 138,
   "metadata": {
    "colab": {
     "base_uri": "https://localhost:8080/",
     "height": 52
    },
    "id": "8UcY-PRTr8Zs",
    "outputId": "d08514b8-c3c0-4d3f-85aa-780b0ed890c2"
   },
   "outputs": [
    {
     "name": "stdout",
     "output_type": "stream",
     "text": [
      "10\n",
      "20\n",
      "30\n"
     ]
    }
   ],
   "source": [
    "d = {'a': 10, 'b': 20, 'c': 30}\n",
    "\n",
    "for v in d.values():\n",
    "    print(v)"
   ]
  },
  {
   "cell_type": "markdown",
   "metadata": {
    "id": "zCnZfnrOs1_9"
   },
   "source": [
    "### `d.pop(key)`\n",
    "Removes a key (and its value) from the dictionary, if it is present, and also returns its value:\n"
   ]
  },
  {
   "cell_type": "code",
   "execution_count": null,
   "metadata": {
    "colab": {
     "base_uri": "https://localhost:8080/",
     "height": 52
    },
    "id": "W-7d4LNssYaB",
    "outputId": "0ee2a823-6089-45dc-d139-c714050a667c"
   },
   "outputs": [
    {
     "name": "stdout",
     "output_type": "stream",
     "text": [
      "20\n",
      "{'a': 10, 'c': 30}\n"
     ]
    }
   ],
   "source": [
    "d = {'a': 10, 'b': 20, 'c': 30}\n",
    "\n",
    "print(d.pop('b'))\n",
    "\n",
    "print(d)"
   ]
  },
  {
   "cell_type": "markdown",
   "metadata": {
    "id": "fvcrCBYHtKrH"
   },
   "source": [
    "### `dictionary1.update(dictionary2)`\n",
    "Takes the key-value pairs of `dictionary2` and merges them in `dicitonary1`, applying the following rules:\n",
    "- If the key of `dictionary2` was not present in `dictionary1`, it is added with the corresponfing value.\n",
    "- If the key of `dictionary2` was already present in `dictionary1`, the corresponding value of `dictionary1` is updated."
   ]
  },
  {
   "cell_type": "code",
   "execution_count": 139,
   "metadata": {
    "colab": {
     "base_uri": "https://localhost:8080/",
     "height": 35
    },
    "id": "iE7l0ajds_5J",
    "outputId": "1d29a54c-920c-4fca-f035-ac2b52c9d1e9"
   },
   "outputs": [
    {
     "name": "stdout",
     "output_type": "stream",
     "text": [
      "{'a': 10, 'b': 200, 'c': 30, 'd': 400}\n"
     ]
    }
   ],
   "source": [
    "d1 = {'a': 10, 'b': 20, 'c': 30}\n",
    "d2 = {'b': 200, 'd': 400}\n",
    "\n",
    "d1.update(d2)\n",
    "\n",
    "print(d1)"
   ]
  },
  {
   "cell_type": "markdown",
   "metadata": {},
   "source": [
    "# Bonus Track! From Excel to Dictionary and Viceversa\n",
    "\n",
    "This will use the concept of library of functions, that we will explain in a coming lecture, but we can blindly use it for now. \n",
    "\n",
    "First we will need to write `import pandas as pd`, which will give us more functionalities related with data manipulation (but do not worry, we will explain it later). Then, we will have the following two structures to import an excel-like (`.xlsx`) file to a Python dictionary and export Python dictionaries to excel-like files.\n",
    "\n",
    "**(a) `pd.DataFrame(data = <name_of_my_dict>).to_excel(<path_to_file>, index=False)`**\n",
    "\n",
    "You place in `<name_of_my_dict>` the name of your dictionary variable and in `<path_to_file>` the name of the file to be created **with the extension** (for example `.xlsx`). The file will be generated in the \"place\" where the notebook is."
   ]
  },
  {
   "cell_type": "code",
   "execution_count": 17,
   "metadata": {},
   "outputs": [],
   "source": [
    "d = {'People':[\"Arnau\", \"Gerard\", \"Artemis\", \"Jan\", \"Xabier\"], \n",
    "     'Surnames':['Parrilla', 'Navarro', 'Llabrés', \"Scarabelli\", \"Oianguren\" ],\n",
    "     'Favourite Number':[1, 2, 3, 4, 5],\n",
    "    }"
   ]
  },
  {
   "cell_type": "code",
   "execution_count": 19,
   "metadata": {},
   "outputs": [],
   "source": [
    "import pandas as pd\n",
    "pd.DataFrame( data = d ).to_excel(\"MyExcel.xlsx\", index=False)"
   ]
  },
  {
   "cell_type": "markdown",
   "metadata": {},
   "source": [
    "In a coming lecture we will understand why this is this way, how to write to multiple different sheets of the same file, how to create it in another place etc. But I am explaining it now, so you can do a complete real-life exercise."
   ]
  },
  {
   "cell_type": "markdown",
   "metadata": {},
   "source": [
    "**(b) `pd.read_excel(<path_to_file>).to_dict(orient='list')`**\n",
    "\n",
    "Just place in `<path_to_file>` the name of the file **with the extension** if the excel file is in the same \"place\" as the notebook (otherwise we will learn how to use relative and absolute paths in comming lectures!)."
   ]
  },
  {
   "cell_type": "code",
   "execution_count": 22,
   "metadata": {},
   "outputs": [
    {
     "name": "stdout",
     "output_type": "stream",
     "text": [
      "{'People': ['Arnau', 'Gerard', 'Artemis', 'Jan', 'Xabier'], 'Surnames': ['Parrilla', 'Navarro', 'Llabrés', 'Scarabelli', 'Oianguren'], 'Favourite Number': [1, 2, 3, 4, 5]}\n"
     ]
    }
   ],
   "source": [
    "mydict = pd.read_excel(\"MyExcel.xlsx\").to_dict(orient='list')\n",
    "\n",
    "print(mydict)"
   ]
  },
  {
   "cell_type": "markdown",
   "metadata": {
    "id": "nZpLHjATKWyO"
   },
   "source": [
    "-----\n",
    "<a id='2'></a>\n",
    "# $(2.)$ Functions\n",
    "\n",
    "You will have already found that there are computing tasks that you may want to solve several times with the same piece of code but using different variables, perhaps even needing to repeat such a task routinely in different parts of the code. That is, you would like to have an extra Python function that lets you do something you need to do many times, instead of having to copy and paste the same code over and over. Well, there is where functions go. They are custom routines you can define such that they can later be called with varying arguments.\n",
    "\n",
    "What is more, having the different functionalities of your code encapsulated in functions allows you to reuse the code by just taking those functions you need from one script to another, or giving another programmer functionalities that they are too lazy or have no time to program. We will for instance use in the coming lectures such functions by others.\n",
    "\n",
    "The workflow is the followking one. You first **define** a function, and then you can **call it** with the arguments you feel like.\n",
    "\n",
    "### Function Definition\n",
    "A function has three essential components (just as in mathematics):\n",
    "* The **arguments** or **input**: which are the data structures or variables it takes to be digested.\n",
    "* The **body** or the **implementation**: where the algorithm followed by the function using the inputted data is defined.\n",
    "* The **returned** or **output**: which are the data structures that the function generates to be offered to the user.\n",
    "\n",
    "In Python the overal syntax has the following structure:\n",
    "\n",
    "    def name_of_function(argumnet1, argument2,...):\n",
    "        body\n",
    "        ....\n",
    "        return output1, output2, ...\n",
    "    \n",
    "* Note that we can give a function the name we wish.\n",
    "* Note that the number of arguments and outputs may be zero (we can avoid the return statement).\n",
    " \n",
    " \n",
    "### Function Call\n",
    "Then, whenever we want to call the function we just type its name and give it the required arguments as\n",
    "\n",
    "`name_of_function(input1, input2,...)`\n",
    "\n",
    "If we direct the output to a variable, then we will save it there.\n",
    " \n",
    "#### Example of function with no returning statement:\n"
   ]
  },
  {
   "cell_type": "code",
   "execution_count": 1,
   "metadata": {
    "id": "OuWPjTbPMHkO"
   },
   "outputs": [],
   "source": [
    "def print_string_with_stars(word):\n",
    "    word = \"****\"+ word + \"****\"\n",
    "    print(word)"
   ]
  },
  {
   "cell_type": "code",
   "execution_count": 2,
   "metadata": {
    "colab": {
     "base_uri": "https://localhost:8080/"
    },
    "id": "lJa-N6r9QxQm",
    "outputId": "4106886d-315d-4b32-bc33-386fea181d08"
   },
   "outputs": [
    {
     "name": "stdout",
     "output_type": "stream",
     "text": [
      "****Plane****\n",
      "****Car****\n"
     ]
    }
   ],
   "source": [
    "a = \"Car\"\n",
    "print_string_with_stars(\"Plane\")\n",
    "print_string_with_stars(a)"
   ]
  },
  {
   "cell_type": "markdown",
   "metadata": {
    "id": "OJHRZuGWQ8GH"
   },
   "source": [
    "#### Example of function with returning statement:"
   ]
  },
  {
   "cell_type": "code",
   "execution_count": 3,
   "metadata": {
    "id": "o2fCh413RBqG"
   },
   "outputs": [],
   "source": [
    "def compute_factorial(n):\n",
    "    res = 1\n",
    "    for i in range(1,n+1):\n",
    "        res = res * i\n",
    "    return res"
   ]
  },
  {
   "cell_type": "code",
   "execution_count": 4,
   "metadata": {
    "colab": {
     "base_uri": "https://localhost:8080/",
     "height": 34
    },
    "id": "3Cfk03RCRf0x",
    "outputId": "c2dede3b-3201-4e26-a229-f0de6a54e887"
   },
   "outputs": [
    {
     "name": "stdout",
     "output_type": "stream",
     "text": [
      "The factorial of 10 is 3628800\n"
     ]
    }
   ],
   "source": [
    "solution = compute_factorial(10)\n",
    "print(f\"The factorial of 10 is {solution}\")"
   ]
  },
  {
   "cell_type": "markdown",
   "metadata": {
    "id": "aEhkp9K1SpDL"
   },
   "source": [
    "#### Example of function returning several variables"
   ]
  },
  {
   "cell_type": "code",
   "execution_count": 5,
   "metadata": {
    "id": "9PHrv4zzStYR"
   },
   "outputs": [],
   "source": [
    "def whole_division_and_residue(a, b):\n",
    "    return a//b, a%b"
   ]
  },
  {
   "cell_type": "code",
   "execution_count": 7,
   "metadata": {
    "colab": {
     "base_uri": "https://localhost:8080/"
    },
    "id": "J1TIlwCfUEw9",
    "outputId": "96ebc13f-b4cc-4691-dc88-96ede6479f19"
   },
   "outputs": [
    {
     "name": "stdout",
     "output_type": "stream",
     "text": [
      "The division 10/3 equals 3 with residue 1\n"
     ]
    }
   ],
   "source": [
    "whole_div, modulus = whole_division_and_residue(10, 3)\n",
    "\n",
    "print(\"The division 10/3 equals\", whole_div, \"with residue\", modulus)"
   ]
  },
  {
   "cell_type": "markdown",
   "metadata": {
    "id": "cvnqCZZFTXXW"
   },
   "source": [
    "### **Important Note 1: Return kills the body**\n",
    "\n",
    "When the `return` statement is hit by the interpreter, it will get out of the function and whatever else was inside the function will not be executed! We can only `return` stuff from a function using `return` once!"
   ]
  },
  {
   "cell_type": "code",
   "execution_count": 9,
   "metadata": {},
   "outputs": [],
   "source": [
    "def compute_factorial(n):\n",
    "    res = 1\n",
    "    for i in range(1,n+1):\n",
    "        res = res * i\n",
    "    return res\n",
    "    res = 1000*res\n",
    "    print(res)\n",
    "    \n",
    "a=compute_factorial(4)"
   ]
  },
  {
   "cell_type": "markdown",
   "metadata": {},
   "source": [
    "Which does not mean that we cannot use several `return` statements. We can, but when one of them is achieved the execution of the rest of function body will stop!"
   ]
  },
  {
   "cell_type": "code",
   "execution_count": 10,
   "metadata": {},
   "outputs": [
    {
     "name": "stdout",
     "output_type": "stream",
     "text": [
      "That was easy!\n"
     ]
    }
   ],
   "source": [
    "def compute_factorial(n):\n",
    "    if n in [0, 1]:\n",
    "        print(\"That was easy!\")\n",
    "        return 1\n",
    "    else:\n",
    "        res = 1\n",
    "        for i in range(1,n+1):\n",
    "            res = res * i\n",
    "        return res\n",
    "    \n",
    "a=compute_factorial(4)\n",
    "b=compute_factorial(0)"
   ]
  },
  {
   "cell_type": "markdown",
   "metadata": {},
   "source": [
    "### **Important Note 2: The body of a function is a Parallel World**\n",
    "\n",
    "Whatever happens inside a function, it happens in a **parallel world** and when it is returned or finishes, everything done inside it (definition of variables etc.) will be erased!\n",
    "\n",
    "That is, if there was a variable with the same name outside the function as a variable we create inside the function, when getting out the variable of the outside will continue being what was before the call to the function. What is more, inside the function, Python's interpreter only knows about variables that have been passed through the arguments! The rest of the RAM will be in a separate \"partition\", it is in that sense that it is a **parallel world**, and it is parallel wach time you call it, both with respect to the \"RAM state\" of the main code and with respect to several executions of the function!\n",
    "\n",
    "The only way to communicate the main code with the parallel world inside a function are the input and the output of the function! The arguments and the returned!\n",
    "\n",
    "Thus, the following will fail:"
   ]
  },
  {
   "cell_type": "code",
   "execution_count": 11,
   "metadata": {},
   "outputs": [
    {
     "ename": "UnboundLocalError",
     "evalue": "local variable 'res' referenced before assignment",
     "output_type": "error",
     "traceback": [
      "\u001b[0;31m---------------------------------------------------------------------------\u001b[0m",
      "\u001b[0;31mUnboundLocalError\u001b[0m                         Traceback (most recent call last)",
      "\u001b[0;32m<ipython-input-11-072939f67e7f>\u001b[0m in \u001b[0;36m<module>\u001b[0;34m\u001b[0m\n\u001b[1;32m      7\u001b[0m     \u001b[0mprint\u001b[0m\u001b[0;34m(\u001b[0m\u001b[0mres\u001b[0m\u001b[0;34m)\u001b[0m\u001b[0;34m\u001b[0m\u001b[0;34m\u001b[0m\u001b[0m\n\u001b[1;32m      8\u001b[0m \u001b[0;34m\u001b[0m\u001b[0m\n\u001b[0;32m----> 9\u001b[0;31m \u001b[0ma\u001b[0m\u001b[0;34m=\u001b[0m\u001b[0mcompute_factorial\u001b[0m\u001b[0;34m(\u001b[0m\u001b[0;36m4\u001b[0m\u001b[0;34m)\u001b[0m\u001b[0;34m\u001b[0m\u001b[0;34m\u001b[0m\u001b[0m\n\u001b[0m",
      "\u001b[0;32m<ipython-input-11-072939f67e7f>\u001b[0m in \u001b[0;36mcompute_factorial\u001b[0;34m(n)\u001b[0m\n\u001b[1;32m      2\u001b[0m \u001b[0;32mdef\u001b[0m \u001b[0mcompute_factorial\u001b[0m\u001b[0;34m(\u001b[0m\u001b[0mn\u001b[0m\u001b[0;34m)\u001b[0m\u001b[0;34m:\u001b[0m\u001b[0;34m\u001b[0m\u001b[0;34m\u001b[0m\u001b[0m\n\u001b[1;32m      3\u001b[0m     \u001b[0;32mfor\u001b[0m \u001b[0mi\u001b[0m \u001b[0;32min\u001b[0m \u001b[0mrange\u001b[0m\u001b[0;34m(\u001b[0m\u001b[0;36m1\u001b[0m\u001b[0;34m,\u001b[0m\u001b[0mn\u001b[0m\u001b[0;34m+\u001b[0m\u001b[0;36m1\u001b[0m\u001b[0;34m)\u001b[0m\u001b[0;34m:\u001b[0m\u001b[0;34m\u001b[0m\u001b[0;34m\u001b[0m\u001b[0m\n\u001b[0;32m----> 4\u001b[0;31m         \u001b[0mres\u001b[0m \u001b[0;34m=\u001b[0m \u001b[0mres\u001b[0m \u001b[0;34m*\u001b[0m \u001b[0mi\u001b[0m\u001b[0;34m\u001b[0m\u001b[0;34m\u001b[0m\u001b[0m\n\u001b[0m\u001b[1;32m      5\u001b[0m     \u001b[0;32mreturn\u001b[0m \u001b[0mres\u001b[0m\u001b[0;34m\u001b[0m\u001b[0;34m\u001b[0m\u001b[0m\n\u001b[1;32m      6\u001b[0m     \u001b[0mres\u001b[0m \u001b[0;34m=\u001b[0m \u001b[0;36m1000\u001b[0m\u001b[0;34m*\u001b[0m\u001b[0mres\u001b[0m\u001b[0;34m\u001b[0m\u001b[0;34m\u001b[0m\u001b[0m\n",
      "\u001b[0;31mUnboundLocalError\u001b[0m: local variable 'res' referenced before assignment"
     ]
    }
   ],
   "source": [
    "res = 1\n",
    "def compute_factorial(n):\n",
    "    for i in range(1,n+1):\n",
    "        res = res * i\n",
    "    return res\n",
    "    \n",
    "a=compute_factorial(4)"
   ]
  },
  {
   "cell_type": "markdown",
   "metadata": {},
   "source": [
    "And in the following the value of `res` will be what was before the function call"
   ]
  },
  {
   "cell_type": "code",
   "execution_count": 12,
   "metadata": {},
   "outputs": [
    {
     "name": "stdout",
     "output_type": "stream",
     "text": [
      "Hola\n",
      "Hola\n"
     ]
    }
   ],
   "source": [
    "res = 'Hola'\n",
    "def compute_factorial(n):\n",
    "    res = 1\n",
    "    for i in range(1,n+1):\n",
    "        res = res * i\n",
    "    return res\n",
    "\n",
    "print(res)\n",
    "a=compute_factorial(4)\n",
    "print(res)"
   ]
  },
  {
   "cell_type": "markdown",
   "metadata": {},
   "source": [
    "### **Important Note 3: No code repetition**\n",
    "\n",
    "Once you have declared a function somewhere in the code above, you do not need to declare it again! That was its reason to be in the first place!"
   ]
  },
  {
   "cell_type": "code",
   "execution_count": 13,
   "metadata": {},
   "outputs": [
    {
     "name": "stdout",
     "output_type": "stream",
     "text": [
      "479001600\n"
     ]
    }
   ],
   "source": [
    "print(compute_factorial(12))"
   ]
  },
  {
   "cell_type": "markdown",
   "metadata": {},
   "source": [
    "### Important Note 4: Arguments in custom order\n",
    "\n",
    "In principle you have to introduce the arguments of a function in the order they are defined in the declaration of the function. However, you can introduce them in a custom order if you make reference to their names. See this example:\n"
   ]
  },
  {
   "cell_type": "code",
   "execution_count": 16,
   "metadata": {},
   "outputs": [
    {
     "name": "stdout",
     "output_type": "stream",
     "text": [
      "9 9 9\n"
     ]
    }
   ],
   "source": [
    "def find_position_of_letter(string, letter):\n",
    "    for k,l in enumerate(string):\n",
    "        if l==letter:\n",
    "            return k        # remember note 1! The loop will terminate when return is entered!\n",
    "    print(f\"There was no {letter} in {string}\")\n",
    "    return None\n",
    "\n",
    "i0=find_position_of_letter(\"vaya que si\", \"s\")\n",
    "i1=find_position_of_letter( string=\"vaya que si\", letter=\"s\" )\n",
    "i2=find_position_of_letter( letter=\"s\", string=\"vaya que si\")\n",
    "\n",
    "print(i0, i1, i2)\n",
    "    "
   ]
  },
  {
   "cell_type": "markdown",
   "metadata": {},
   "source": [
    "You can even pass some arguments without their name (in the strict order) and then some in custom order. Yet, from the first one that you give a name on, the rest must have a name."
   ]
  },
  {
   "cell_type": "markdown",
   "metadata": {
    "id": "8cwwu1IER93g"
   },
   "source": [
    "### Default Arguments\n",
    "If we want to give some of the variables inside the function a same value in most cases, but then leave the user of the function give it a custom value some other times, we can use what is called a **default** vlaue to an argument. This is done by \"assigning\" some value to the argument in the declaration. Then, if we do not give it explicitly, it will be used as so.\n",
    "\n",
    "For example"
   ]
  },
  {
   "cell_type": "code",
   "execution_count": 18,
   "metadata": {
    "id": "-6wywnseSULM"
   },
   "outputs": [],
   "source": [
    "def find_position_of_letter(string, letter=\"a\"):\n",
    "    for k,l in enumerate(string):\n",
    "        if l==letter:\n",
    "            return k        # remember note 1! The loop will terminate when return is entered!\n",
    "    print(f\"There was no {letter} in {string}\")\n",
    "    return None"
   ]
  },
  {
   "cell_type": "code",
   "execution_count": 20,
   "metadata": {},
   "outputs": [
    {
     "name": "stdout",
     "output_type": "stream",
     "text": [
      "1\n",
      "9\n"
     ]
    }
   ],
   "source": [
    "print( find_position_of_letter(\"vaya que si\") )\n",
    "print( find_position_of_letter(\"vaya que si\", \"s\") )"
   ]
  },
  {
   "cell_type": "markdown",
   "metadata": {
    "id": "bQ4LBIFoCxAA"
   },
   "source": [
    "#### Nano-Exercise 1: Code Repetition is Bad\n",
    "Write a function that takes a list with the relative weights of the evaluation of some subject and the marks obtained by some student and computes the final mark."
   ]
  },
  {
   "cell_type": "code",
   "execution_count": 24,
   "metadata": {},
   "outputs": [],
   "source": [
    "def average_mark(weights, marks):\n",
    "    final_mark = 0\n",
    "    for i in range(len(marks)):\n",
    "        final_mark += marks[i]*weights[i]\n",
    "    return final_mark"
   ]
  },
  {
   "cell_type": "code",
   "execution_count": 27,
   "metadata": {
    "colab": {
     "base_uri": "https://localhost:8080/"
    },
    "executionInfo": {
     "elapsed": 203,
     "status": "ok",
     "timestamp": 1646500626385,
     "user": {
      "displayName": "Gerard Navarro",
      "photoUrl": "https://lh3.googleusercontent.com/a-/AOh14Ggg_9kIX2XSliaVH7-4jxBIsdXVQmAWfYC47yTPxQ=s64",
      "userId": "00116653754069141483"
     },
     "user_tz": -60
    },
    "id": "IoShuxd9C6Cd",
    "outputId": "fd9bfe63-77d8-447d-c05d-f211d643a517"
   },
   "outputs": [
    {
     "name": "stdout",
     "output_type": "stream",
     "text": [
      "Maths average mark: 8.0\n",
      "Biology average mark: 8.14\n"
     ]
    }
   ],
   "source": [
    "#Maths\n",
    "m_pesos = [0.25, 0.25, 0.25, 0.25]\n",
    "m_notes = [9, 7.8, 6, 9.2]\n",
    "m_final = average_mark(m_pesos, m_notes)\n",
    "print(f\"Maths average mark: {m_final:.3}\")\n",
    "#Biology\n",
    "b_pesos = [0.1, 0.1, 0.3, 0.2, 0.2, 0.1]\n",
    "b_notes = [6, 8.1, 9.3, 7.2, 10, 5]\n",
    "b_final = average_mark(b_pesos, b_notes)\n",
    "print(f\"Biology average mark: {b_final:.3}\")"
   ]
  },
  {
   "cell_type": "markdown",
   "metadata": {},
   "source": [
    "## Docstrings: Write a Description of the Function!\n",
    "It is important to give a function a name that tells the user what it does. Yet, most times the inner workings are too extensive to be summarized in few words. \n",
    "\n",
    "It is a good practice (which is mandatory if you get to write functions professionally) to write a documentation string in the form of a comment below the header of the function, saying a brief description of what the function does, then explaining it further if necessary or giving the reference to a paper if necessary, then you must tell the user which are the expected argument types and what it returns (even the possible exceptions are typically documented in serious functions). \n",
    "\n",
    "It might seem to be silly if a function is small, but believe me that yourself in a couple of weeks and specially the rest of programmers that will make use of your code will thank you wholeheartedly! So write at least a line or two!"
   ]
  },
  {
   "cell_type": "code",
   "execution_count": 28,
   "metadata": {},
   "outputs": [],
   "source": [
    "def find_position_of_letter(string, letter=\"a\"):\n",
    "    '''\n",
    "    Iterates over the given string to find the index at which the \n",
    "    given letter happens.\n",
    "    \n",
    "    Parameters\n",
    "    ----------\n",
    "    string : str\n",
    "        The string that will be iterated over\n",
    "    letter : str (length 1), optional\n",
    "        The letter to be looked for. Default value \"a\"\n",
    "    \n",
    "    Returns\n",
    "    -------\n",
    "    :int - The index where the letter was found\n",
    "    '''\n",
    "    for k,l in enumerate(string):\n",
    "        if l==letter:\n",
    "            return k        # remember note 1! The loop will terminate when return is entered!\n",
    "    print(f\"There was no {letter} in {string}\")\n",
    "    return None"
   ]
  },
  {
   "cell_type": "markdown",
   "metadata": {},
   "source": [
    "Then, you can check the documentation of a function using `.__doc__`."
   ]
  },
  {
   "cell_type": "code",
   "execution_count": 32,
   "metadata": {},
   "outputs": [
    {
     "name": "stdout",
     "output_type": "stream",
     "text": [
      "\n",
      "    Iterates over the given string to find the index at which the \n",
      "    given letter happens.\n",
      "    \n",
      "    Parameters\n",
      "    ----------\n",
      "    string : str\n",
      "        The string that will be iterated over\n",
      "    letter : str (length 1), optional\n",
      "        The letter to be looked for. Default value \"a\"\n",
      "    \n",
      "    Returns\n",
      "    -------\n",
      "    int - The index where the letter was found\n",
      "    \n"
     ]
    }
   ],
   "source": [
    "print( find_position_of_letter.__doc__ )"
   ]
  },
  {
   "cell_type": "markdown",
   "metadata": {},
   "source": [
    "### Control the Input\n",
    "Sometimes, even if the user inputs the correct type, the code might only make sense for some cases of that type. For example, if it is in a certain range. In the case of the factorial, the number for instance, should be positive. Then, it is a common thing to check it before doing anything and **throwing an error** else. For this, we have for example, the `assert` command, which stops the code execution and rises the error written aside if it gets to be false.\n",
    "\n",
    "`assert <boolean_expression>, <string_with_an_error_message>`\n",
    "\n",
    "For example"
   ]
  },
  {
   "cell_type": "code",
   "execution_count": 35,
   "metadata": {},
   "outputs": [],
   "source": [
    "def compute_factorial(n):\n",
    "    '''Given n computes n!=n*(n-1)*...*1'''\n",
    "    assert n >= 0, f\"number greater than 0 expected, got: {n}\"\n",
    "    res = 1\n",
    "    for i in range(1,n+1):\n",
    "        res = res * i\n",
    "    return res"
   ]
  },
  {
   "cell_type": "code",
   "execution_count": 36,
   "metadata": {},
   "outputs": [
    {
     "ename": "AssertionError",
     "evalue": "number greater than 0 expected, got: -2",
     "output_type": "error",
     "traceback": [
      "\u001b[0;31m---------------------------------------------------------------------------\u001b[0m",
      "\u001b[0;31mAssertionError\u001b[0m                            Traceback (most recent call last)",
      "\u001b[0;32m<ipython-input-36-60fb6d85fb0a>\u001b[0m in \u001b[0;36m<module>\u001b[0;34m\u001b[0m\n\u001b[0;32m----> 1\u001b[0;31m \u001b[0mcompute_factorial\u001b[0m\u001b[0;34m(\u001b[0m\u001b[0;34m-\u001b[0m\u001b[0;36m2\u001b[0m\u001b[0;34m)\u001b[0m\u001b[0;34m\u001b[0m\u001b[0;34m\u001b[0m\u001b[0m\n\u001b[0m",
      "\u001b[0;32m<ipython-input-35-3e28ebaa6cd6>\u001b[0m in \u001b[0;36mcompute_factorial\u001b[0;34m(n)\u001b[0m\n\u001b[1;32m      1\u001b[0m \u001b[0;32mdef\u001b[0m \u001b[0mcompute_factorial\u001b[0m\u001b[0;34m(\u001b[0m\u001b[0mn\u001b[0m\u001b[0;34m)\u001b[0m\u001b[0;34m:\u001b[0m\u001b[0;34m\u001b[0m\u001b[0;34m\u001b[0m\u001b[0m\n\u001b[1;32m      2\u001b[0m     \u001b[0;34m'''Given n computes n!=n*(n-1)*...*1'''\u001b[0m\u001b[0;34m\u001b[0m\u001b[0;34m\u001b[0m\u001b[0m\n\u001b[0;32m----> 3\u001b[0;31m     \u001b[0;32massert\u001b[0m \u001b[0mn\u001b[0m \u001b[0;34m>=\u001b[0m \u001b[0;36m0\u001b[0m\u001b[0;34m,\u001b[0m \u001b[0;34mf\"number greater than 0 expected, got: {n}\"\u001b[0m\u001b[0;34m\u001b[0m\u001b[0;34m\u001b[0m\u001b[0m\n\u001b[0m\u001b[1;32m      4\u001b[0m     \u001b[0mres\u001b[0m \u001b[0;34m=\u001b[0m \u001b[0;36m1\u001b[0m\u001b[0;34m\u001b[0m\u001b[0;34m\u001b[0m\u001b[0m\n\u001b[1;32m      5\u001b[0m     \u001b[0;32mfor\u001b[0m \u001b[0mi\u001b[0m \u001b[0;32min\u001b[0m \u001b[0mrange\u001b[0m\u001b[0;34m(\u001b[0m\u001b[0;36m1\u001b[0m\u001b[0;34m,\u001b[0m\u001b[0mn\u001b[0m\u001b[0;34m+\u001b[0m\u001b[0;36m1\u001b[0m\u001b[0;34m)\u001b[0m\u001b[0;34m:\u001b[0m\u001b[0;34m\u001b[0m\u001b[0;34m\u001b[0m\u001b[0m\n",
      "\u001b[0;31mAssertionError\u001b[0m: number greater than 0 expected, got: -2"
     ]
    }
   ],
   "source": [
    "compute_factorial(-2)"
   ]
  },
  {
   "cell_type": "markdown",
   "metadata": {},
   "source": [
    "#### Nano-Exercise 2:\n",
    "Write a function that takes as input two lists, verifies they have the same length and else raises an error, and returns a list with the element-wise sum or product, as a function of what the user wants. If the elements are not `float` or `int` rise and assertion error.\n",
    "\n",
    "Give it a docstring."
   ]
  },
  {
   "cell_type": "code",
   "execution_count": 38,
   "metadata": {},
   "outputs": [],
   "source": [
    "def element_wise(l1, l2, op=\"sum\"):\n",
    "    '''\n",
    "    Creates a list with the element wise operation given by <op>\n",
    "    between the lists l1 and l2.\n",
    "    \n",
    "    Parameters\n",
    "    ----------\n",
    "    l1 : list[int, float] (len N)\n",
    "    l2 : list[int, float] (len N)\n",
    "    op : str {\"sum\", \"prod\"}, optional\n",
    "        \"sum\" computes the element-wise sum (Default)\n",
    "        \"prod\" computes the element-wise product\n",
    "    \n",
    "    Returns\n",
    "    -------\n",
    "    :list[int, float] (len N)\n",
    "    '''\n",
    "    assert len(l1)==len(l2), \"The lists have different lengths!\"\n",
    "    out=[]\n",
    "    for k1, k2 in zip(l1,l2):\n",
    "        assert type(k1) in [float, int], \"List has other than float or int\"\n",
    "        assert type(k2) in [float, int], \"List has other than float or int\"\n",
    "        if op==\"sum\":\n",
    "            out.append(k1+k2)\n",
    "        else:\n",
    "            out.append(k1*k2)\n",
    "    return out"
   ]
  },
  {
   "cell_type": "code",
   "execution_count": 44,
   "metadata": {},
   "outputs": [
    {
     "data": {
      "text/plain": [
       "[3, 8.6, 6, 12.5]"
      ]
     },
     "execution_count": 44,
     "metadata": {},
     "output_type": "execute_result"
    }
   ],
   "source": [
    "element_wise([1,2,3,5.5], [2,6.6, 3,7], \"sum\")"
   ]
  },
  {
   "cell_type": "markdown",
   "metadata": {},
   "source": [
    "### Functions inside other functions\n",
    "It is possible to declare a function inside another one, but the typical approach is to define them all independently. Then, it turns out that one can call the functions defined previously inside the rest of the functions! (So they are not that parallel after all!)\n",
    "\n",
    "#### Nano-Exercise 3:\n",
    "Use this concept to create a function that computes the final grades given a weight list and a dictionary of students, where each has a list of marks associated. Employ the function for element-wise operations of the last exercise. The function should output a dictionary with the student name and final grades.\n",
    "\n",
    "**Lifehack**: The Python native function `sum()` takes a list of numbers and outputs the sum."
   ]
  },
  {
   "cell_type": "code",
   "execution_count": 78,
   "metadata": {},
   "outputs": [],
   "source": [
    "def final_grades(weights, student_marks):\n",
    "    '''\n",
    "    Computes the final grades of each student with a \n",
    "    weighted average given by the user\n",
    "    \n",
    "    Parameters\n",
    "    --------\n",
    "    weights : list[float] (len N)\n",
    "    student_marks : dict\n",
    "        Entries should be student_name:list_of_marks\n",
    "        * student_name : str\n",
    "        * list_of_marks : list[float] (len N)\n",
    "    Returns\n",
    "    -------\n",
    "    :dict - entries as student_name:final_mark\n",
    "        * student_name : str\n",
    "        * final_mark : float (rounded at 2 decimals)\n",
    "    '''\n",
    "    final_marks = {}\n",
    "    for name, marks in student_marks.items():\n",
    "        final_marks[name] = round( sum(element_wise( marks, weights, \"prod\" )), 2)\n",
    "    return final_marks"
   ]
  },
  {
   "cell_type": "code",
   "execution_count": 79,
   "metadata": {},
   "outputs": [
    {
     "data": {
      "text/plain": [
       "{'Iker': 8.1, 'Unai': 9.45, 'Xabier': 4.18, 'Gorka': 8.15, 'Aitzol': 7.5}"
      ]
     },
     "execution_count": 79,
     "metadata": {},
     "output_type": "execute_result"
    }
   ],
   "source": [
    "weigths = [0.2, 0.1, 0.25, 0.3, 0.15]\n",
    "student_marks1 = {'Iker':[9, 7, 8, 7, 10], 'Unai':[10, 10, 9, 9, 10], 'Xabier':[4, 3.5, 2.5, 5, 6], \n",
    "                    'Gorka':[7, 8, 8.5, 9, 7.5], 'Aitzol':[6.5, 7, 8.8, 9, 4]}\n",
    "final_grades(weigths, student_marks1)"
   ]
  },
  {
   "cell_type": "markdown",
   "metadata": {},
   "source": [
    "Note how important for an external user, the documentation of this function is."
   ]
  },
  {
   "cell_type": "markdown",
   "metadata": {
    "id": "W2ynzzd8U7pL"
   },
   "source": [
    "## Are the inputted variables changed?\n",
    "We said that the only way to get inside a function was through the argument input. But then, if I input a variable and the function body changes it, will it change in the world outside the function as well?\n",
    "\n",
    "The answer is, typically no. Typically, the function will create a copy of your variable before manipulating it, so it will be left just as it was. This is because most data is said to be **immutable** by a function. There are however two important exceptions of **mutable** data structures: `lists` and `dictionaries`. If we get a list or dictionary as an input and we modify them inside the function, they will be modified outside as well."
   ]
  },
  {
   "cell_type": "markdown",
   "metadata": {
    "id": "5GHoxj5wtQHu"
   },
   "source": [
    "| Class | Description | Immutable? |\n",
    "| --- | --- | --- |\n",
    "| bool | boolean value | YES |\n",
    "| int | integer | YES |\n",
    "| float | floating-point value | YES |\n",
    "| list | mutable sequence of objects | NO |\n",
    "| tuple | immutable sequence of objects | YES |\n",
    "| str | character string | YES |\n",
    "| set | unordered set of distinct objects | NO |\n",
    "| frozenset | immutable form of set class | YES |\n",
    "| dict | associative mapping (aka dictionary) | NO |\n",
    "\n",
    "As you see, there is a special type of list, called a `tuple` that is immutable. The main difference in their working is that `tuple`-s just use `()` instead of `[]`."
   ]
  },
  {
   "cell_type": "markdown",
   "metadata": {
    "id": "cdzsk7KCJJmI"
   },
   "source": [
    "To see how, lists and dictionaries are mutable, take the function of the last exercise and instead of returning a new dictionary, save the final marks as last elements of the mark list of each student. Also, input the function an empty list and fill it with the final grades."
   ]
  },
  {
   "cell_type": "code",
   "execution_count": 80,
   "metadata": {},
   "outputs": [],
   "source": [
    "def final_grades(weights, student_marks, final_mark_list):\n",
    "    for name, marks in student_marks.items():\n",
    "        final_mark_list.append( round( sum(element_wise( marks, weights, \"prod\" )), 2) )\n",
    "        student_marks[name].append( final_mark_list[-1] )"
   ]
  },
  {
   "cell_type": "code",
   "execution_count": 81,
   "metadata": {},
   "outputs": [
    {
     "name": "stdout",
     "output_type": "stream",
     "text": [
      "{'Iker': [9, 7, 8, 7, 10], 'Unai': [10, 10, 9, 9, 10], 'Xabier': [4, 3.5, 2.5, 5, 6], 'Gorka': [7, 8, 8.5, 9, 7.5], 'Aitzol': [6.5, 7, 8.8, 9, 4]}\n",
      "\n",
      "[8.1, 9.45, 4.18, 8.15, 7.5]\n",
      "{'Iker': [9, 7, 8, 7, 10, 8.1], 'Unai': [10, 10, 9, 9, 10, 9.45], 'Xabier': [4, 3.5, 2.5, 5, 6, 4.18], 'Gorka': [7, 8, 8.5, 9, 7.5, 8.15], 'Aitzol': [6.5, 7, 8.8, 9, 4, 7.5]}\n"
     ]
    }
   ],
   "source": [
    "print(student_marks1)\n",
    "mylist=[]\n",
    "final_grades(weigths, student_marks1, mylist)\n",
    "print(\"\")\n",
    "print(mylist)\n",
    "print(student_marks1)"
   ]
  },
  {
   "cell_type": "markdown",
   "metadata": {
    "id": "UykwM0XgJURI"
   },
   "source": [
    "But for any other data it will not change"
   ]
  },
  {
   "cell_type": "code",
   "execution_count": 82,
   "metadata": {
    "id": "VgeP7AAArGnR"
   },
   "outputs": [],
   "source": [
    "def change_value(a):\n",
    "    a = 3\n",
    "    print(\"The value of a inside the function is\", a)"
   ]
  },
  {
   "cell_type": "code",
   "execution_count": 89,
   "metadata": {
    "colab": {
     "base_uri": "https://localhost:8080/"
    },
    "id": "v7jcTDuNrKzl",
    "outputId": "845e651d-9bf9-4d63-8b66-e501df7a3c0a"
   },
   "outputs": [
    {
     "name": "stdout",
     "output_type": "stream",
     "text": [
      "The value of a inside the function is 3\n",
      "The value of a outside the function is 40\n"
     ]
    }
   ],
   "source": [
    "a = 40\n",
    "change_value(a)\n",
    "print(\"The value of a outside the function is\", a)"
   ]
  },
  {
   "cell_type": "markdown",
   "metadata": {
    "id": "HjSyMwvlumgH"
   },
   "source": [
    "**What should we do then to change the value outside?**\n",
    "\n",
    "Well, just return the copied and manipulated variable back into the version of itself outside the function!"
   ]
  },
  {
   "cell_type": "code",
   "execution_count": 86,
   "metadata": {
    "id": "uoWe1hRTupkO"
   },
   "outputs": [],
   "source": [
    "def new_change_value(a):\n",
    "    a = 3\n",
    "    print(\"The value of a inside the function is\", a)\n",
    "    return a"
   ]
  },
  {
   "cell_type": "code",
   "execution_count": 88,
   "metadata": {
    "colab": {
     "base_uri": "https://localhost:8080/"
    },
    "id": "4Oxy8rtuuuJU",
    "outputId": "c6925f6b-e84c-473b-b018-4479283ecc94"
   },
   "outputs": [
    {
     "name": "stdout",
     "output_type": "stream",
     "text": [
      "The value of a inside the function is 3\n",
      "The value of a outside the function is 3\n"
     ]
    }
   ],
   "source": [
    "a = 40\n",
    "a = new_change_value(a)\n",
    "print(\"The value of a outside the function is\", a)"
   ]
  },
  {
   "cell_type": "markdown",
   "metadata": {
    "id": "WbzLArZwMjwY"
   },
   "source": [
    "## How to return multiple times? The `yield` keyword\n",
    "There is a special `return`-like expression that returns a thing but then continues until the end of the function, called `yield`. **Note this is not used very much, so you can skip it**.\n",
    "\n",
    "The `yield` statement returns what is called a **generator**. It is like an **iterable** but one which is not saved in memory for each element. An example of a **generator** is the `range(N)` function. Instead of saving a list of integers from `0` till `N-1` in memory (which if `N` is very big could even fill your RAM), it outputs and then removes an integer one at a time.\n",
    "\n",
    "For example"
   ]
  },
  {
   "cell_type": "code",
   "execution_count": 90,
   "metadata": {},
   "outputs": [],
   "source": [
    "def myStrangeRange(N):\n",
    "    n=1\n",
    "    for j in range(N):\n",
    "        n=N*n\n",
    "        yield N*n"
   ]
  },
  {
   "cell_type": "code",
   "execution_count": 92,
   "metadata": {},
   "outputs": [
    {
     "name": "stdout",
     "output_type": "stream",
     "text": [
      "100\n",
      "1000\n",
      "10000\n",
      "100000\n",
      "1000000\n",
      "10000000\n",
      "100000000\n",
      "1000000000\n",
      "10000000000\n",
      "100000000000\n"
     ]
    }
   ],
   "source": [
    "for j in myStrangeRange(10):\n",
    "    print(j)"
   ]
  },
  {
   "cell_type": "markdown",
   "metadata": {},
   "source": [
    "Then you can save each yielded value as part of the code block for each iteration."
   ]
  },
  {
   "cell_type": "markdown",
   "metadata": {
    "id": "FU0lEuwqpczw"
   },
   "source": [
    "# Recursive vs Iterative Approach\n",
    "\n",
    "**It is possible to call a function from within itself!** And each time it is called from within, the execution of the previous layer stops until it returns something, and the function called within happens in a parallel world.\n",
    "\n",
    "**This is called recursively calling a function**\n",
    "\n",
    "At first you might feel that is uncomfortable, but it is a very useful thing that can make the code shorter and very easy to understand. For example, imagine that you want to compute the factorial function. It turns out that you can define it with itself:\n",
    "$$\n",
    "n!=n\\cdot (n-1)!\n",
    "$$\n",
    "It seems to be true. But, if you just left the thing there, this would imply an infinite chain as:\n",
    "$$\n",
    "5!=5\\cdot4\\cdot3\\cdot2\\cdot1\\cdot0\\cdot-1\\cdot-2\\cdots\n",
    "$$\n",
    "So, it is true but only until $n=1$, where $1!=1$. Thus, the correct algorithm would be\n",
    "$$\n",
    "n!=n\\cdot (n-1)! \\quad \\text{  if  } n>1\n",
    "$$\n",
    "$$\n",
    "n!=1\\quad \\quad \\text{  if  } n=1\n",
    "$$\n",
    "\n",
    "With this, we can then define the factorial function as:\n",
    "\n"
   ]
  },
  {
   "cell_type": "code",
   "execution_count": 94,
   "metadata": {},
   "outputs": [],
   "source": [
    "def find_fact(n):\n",
    "    if n in [0,1]:\n",
    "        return 1\n",
    "    else:\n",
    "        return n*find_fact(n-1)"
   ]
  },
  {
   "cell_type": "code",
   "execution_count": 96,
   "metadata": {},
   "outputs": [
    {
     "data": {
      "text/plain": [
       "120"
      ]
     },
     "execution_count": 96,
     "metadata": {},
     "output_type": "execute_result"
    }
   ],
   "source": [
    "find_fact(5)"
   ]
  },
  {
   "cell_type": "markdown",
   "metadata": {},
   "source": [
    "![title](https://www.edureka.co/blog/wp-content/uploads/2019/08/2019-08-06-12_31_29-Window.png)\n",
    "![title](https://thumbs.gfycat.com/RegularLeafyGreendarnerdragonfly-size_restricted.gif)\n",
    "Again, as the figure above shows, there will happen a cascaded generation of each time deeper \"parallel\" or \"nested worlds\" where each of which has its own value for `n` and each of which will wait until the new function call they performed returns something, then in a cascaded way, the worlds will collapse back from the deepest recursive layer until the one in the surface.\n",
    "\n",
    "\n",
    "This was the **recursive** version of the algorithm. However, practically always, there is an alternative way to procced, called the **iterative** way, which is the one you are familiar with. It implies iterating over all the cases within the same function call. For the case of the factorial, it would just be:"
   ]
  },
  {
   "cell_type": "code",
   "execution_count": 97,
   "metadata": {
    "id": "pa-Op_bBJCE0"
   },
   "outputs": [],
   "source": [
    "def iterative_factorial(n):\n",
    "    res = 1\n",
    "    for i in range(1,n+1):\n",
    "        res = res * i\n",
    "    return res"
   ]
  },
  {
   "cell_type": "code",
   "execution_count": 98,
   "metadata": {
    "id": "rqOYGVRqKuj9"
   },
   "outputs": [],
   "source": [
    "def recursive_factorial(n):\n",
    "    if n == 1:\n",
    "        return 1\n",
    "    else:\n",
    "        return n * recursive_factorial(n-1)"
   ]
  },
  {
   "cell_type": "code",
   "execution_count": 100,
   "metadata": {
    "colab": {
     "base_uri": "https://localhost:8080/",
     "height": 34
    },
    "id": "FbJJImrALAXZ",
    "outputId": "0ed95872-1422-41a1-c416-f90b1daf81bf"
   },
   "outputs": [
    {
     "name": "stdout",
     "output_type": "stream",
     "text": [
      "The factorial of 10 is 3628800 in iterative form and 3628800 in recursive form.\n"
     ]
    }
   ],
   "source": [
    "print(\"The factorial of 10 is\", iterative_factorial(10), \"in iterative form and\", recursive_factorial(10), \"in recursive form.\")"
   ]
  },
  {
   "cell_type": "markdown",
   "metadata": {
    "id": "SHbv7KqDerxC"
   },
   "source": [
    "We can visualize the recursive generation of function \"worlds\" using https://pythontutor.com/visualize.html#mode=edit\n",
    "\n",
    "### Should I use Recursion?\n",
    "\n",
    "Even if it might be cool to employ a recursive algorithm, it is typically avoided and the recursive version is used instead. Among others, this is because each time we generate a new \"parallel world\" in each function call, there are a number of variables and stuff that need to be initialized and saved for each world. This causes a bigger memory overhead than the iterable generated to support the iterative version, for a naive recursive algorithm. Also, this might make it slower if not correctly implemented.\n",
    "\n",
    "However, if you do it recursive in a well-thought manner, you can actually make the code faster (reduce the **complexity** of an algorithm)! If the first time a computation is made in a tree of computations that each depends on the previous, you save in memory the result, you can avoid redundant calculations that otherwise would be performed."
   ]
  },
  {
   "cell_type": "markdown",
   "metadata": {},
   "source": [
    "#### Namespace\n",
    "Note that the professional word to call those \"parallel worlds\" is **namespace**. Each function call generates its own local **namespace**, and then there is a **global** namespace common to all. "
   ]
  },
  {
   "cell_type": "markdown",
   "metadata": {
    "id": "ovGicSs16OIk"
   },
   "source": [
    "---\n",
    "<a id='3'></a>\n",
    "\n",
    "# $(3.)$ Exception Handling\n",
    "When an error, or more properly called, an **exception**, happens, the Python interpreter will stop its execution and will output an error message to the user. You have for sure experienced it for the time being."
   ]
  },
  {
   "cell_type": "code",
   "execution_count": 102,
   "metadata": {
    "colab": {
     "base_uri": "https://localhost:8080/",
     "height": 130
    },
    "executionInfo": {
     "elapsed": 3,
     "status": "error",
     "timestamp": 1646499185850,
     "user": {
      "displayName": "Gerard Navarro",
      "photoUrl": "https://lh3.googleusercontent.com/a-/AOh14Ggg_9kIX2XSliaVH7-4jxBIsdXVQmAWfYC47yTPxQ=s64",
      "userId": "00116653754069141483"
     },
     "user_tz": -60
    },
    "id": "OmYNu3Ki6OIk",
    "outputId": "632d14b8-429d-4ca3-9621-025b8f3ee2e9"
   },
   "outputs": [
    {
     "name": "stdout",
     "output_type": "stream",
     "text": [
      "-2.00\n"
     ]
    },
    {
     "ename": "ZeroDivisionError",
     "evalue": "division by zero",
     "output_type": "error",
     "traceback": [
      "\u001b[0;31m---------------------------------------------------------------------------\u001b[0m",
      "\u001b[0;31mZeroDivisionError\u001b[0m                         Traceback (most recent call last)",
      "\u001b[0;32m<ipython-input-102-b2af8859e173>\u001b[0m in \u001b[0;36m<module>\u001b[0;34m\u001b[0m\n\u001b[1;32m      1\u001b[0m \u001b[0;32mfor\u001b[0m \u001b[0mi\u001b[0m \u001b[0;32min\u001b[0m \u001b[0mrange\u001b[0m\u001b[0;34m(\u001b[0m\u001b[0;34m-\u001b[0m\u001b[0;36m1\u001b[0m\u001b[0;34m,\u001b[0m \u001b[0;36m6\u001b[0m\u001b[0;34m)\u001b[0m\u001b[0;34m:\u001b[0m\u001b[0;34m\u001b[0m\u001b[0;34m\u001b[0m\u001b[0m\n\u001b[0;32m----> 2\u001b[0;31m     \u001b[0mdiv\u001b[0m\u001b[0;34m=\u001b[0m\u001b[0;36m2\u001b[0m\u001b[0;34m/\u001b[0m\u001b[0mi\u001b[0m\u001b[0;34m\u001b[0m\u001b[0;34m\u001b[0m\u001b[0m\n\u001b[0m\u001b[1;32m      3\u001b[0m     \u001b[0mprint\u001b[0m\u001b[0;34m(\u001b[0m\u001b[0;34mf\"{div:.2f}\"\u001b[0m\u001b[0;34m)\u001b[0m\u001b[0;34m\u001b[0m\u001b[0;34m\u001b[0m\u001b[0m\n",
      "\u001b[0;31mZeroDivisionError\u001b[0m: division by zero"
     ]
    }
   ],
   "source": [
    "for i in range(-1, 6):\n",
    "    div=2/i\n",
    "    print(f\"{div:.2f}\")"
   ]
  },
  {
   "cell_type": "markdown",
   "metadata": {},
   "source": [
    "There are several types of exceptions already implemented in Python, and you have designed some with the `assert` statement before!\n",
    "\n",
    "![title](https://i.imgur.com/N23VRex.png)"
   ]
  },
  {
   "cell_type": "markdown",
   "metadata": {
    "id": "XxmS4o9A6OIl"
   },
   "source": [
    "But what if we do not want the execution to stop if an error happens, but to do execute some other code? Well, you can do this. It is not a recommended practice if you are going to write code for a company, since we want the errors to be detected, but else we use it quite often. For this we have the `try/except/else/finally` statements.\n",
    "\n",
    "```python\n",
    "try:\n",
    "  # try to run this code\n",
    "except:\n",
    "  # execute this code if an exception happens\n",
    "else:\n",
    "  # execute this code if no exception happened\n",
    "finally:\n",
    "  # always run this code whether there is an exception or not\n",
    "```"
   ]
  },
  {
   "cell_type": "code",
   "execution_count": 103,
   "metadata": {
    "colab": {
     "base_uri": "https://localhost:8080/"
    },
    "executionInfo": {
     "elapsed": 214,
     "status": "ok",
     "timestamp": 1646501801022,
     "user": {
      "displayName": "Gerard Navarro",
      "photoUrl": "https://lh3.googleusercontent.com/a-/AOh14Ggg_9kIX2XSliaVH7-4jxBIsdXVQmAWfYC47yTPxQ=s64",
      "userId": "00116653754069141483"
     },
     "user_tz": -60
    },
    "id": "WScQTZ6y6OIl",
    "outputId": "1ecb5e0d-73f8-4efa-83de-6fac4b4a9bf4"
   },
   "outputs": [
    {
     "name": "stdout",
     "output_type": "stream",
     "text": [
      "-0.67\n",
      "-1.00\n",
      "-2.00\n",
      "Cannot divide!\n",
      "2.00\n",
      "1.00\n",
      "0.67\n"
     ]
    }
   ],
   "source": [
    "for i in range(-3, 4):\n",
    "    try:\n",
    "        div=2/i\n",
    "        print(f\"{div:.2f}\")\n",
    "    except:\n",
    "        print(\"Cannot divide!\")\n",
    "        #pass or continue will just ignore the error"
   ]
  },
  {
   "cell_type": "markdown",
   "metadata": {},
   "source": [
    "Note an important thing! If a `try` block fails, the Python interpreter will not execute whatever was after the error, but will retain the calculations made until the error was rised. For example:"
   ]
  },
  {
   "cell_type": "code",
   "execution_count": 110,
   "metadata": {},
   "outputs": [
    {
     "name": "stdout",
     "output_type": "stream",
     "text": [
      "13\n",
      "0\n",
      "14\n",
      "1\n"
     ]
    }
   ],
   "source": [
    "k=5\n",
    "try:\n",
    "    j = 13\n",
    "    k = 0\n",
    "    j= 8/k # there is an error at this point!\n",
    "    k=-1000\n",
    "except:\n",
    "    print(j)\n",
    "    print(k)\n",
    "    j+=1\n",
    "    k+=1\n",
    "print(j)\n",
    "print(k)"
   ]
  },
  {
   "cell_type": "markdown",
   "metadata": {
    "id": "AEvo4qMr8wAI"
   },
   "source": [
    "Finally, it is possible to choose what to do as a function of the type of error as:"
   ]
  },
  {
   "cell_type": "code",
   "execution_count": 111,
   "metadata": {
    "colab": {
     "base_uri": "https://localhost:8080/"
    },
    "executionInfo": {
     "elapsed": 1,
     "status": "ok",
     "timestamp": 1646499235490,
     "user": {
      "displayName": "Gerard Navarro",
      "photoUrl": "https://lh3.googleusercontent.com/a-/AOh14Ggg_9kIX2XSliaVH7-4jxBIsdXVQmAWfYC47yTPxQ=s64",
      "userId": "00116653754069141483"
     },
     "user_tz": -60
    },
    "id": "zqofEYvo8eJt",
    "outputId": "a2dea4a3-ef06-4762-b0d5-869396120d01"
   },
   "outputs": [
    {
     "name": "stdout",
     "output_type": "stream",
     "text": [
      "-0.67\n",
      "-1.00\n",
      "-2.00\n",
      "Division by zero!\n",
      "2.00\n",
      "1.00\n",
      "You need to divide numbers!\n",
      "0.67\n"
     ]
    }
   ],
   "source": [
    "for i in [-3,-2,-1,0,1,2,\"hi\",3]:\n",
    "    try:\n",
    "        div=2/i\n",
    "        print(f\"{div:.2f}\")\n",
    "    except ZeroDivisionError:\n",
    "        print(\"Division by zero!\")\n",
    "        #the statement pass or continue will just ignore the error\n",
    "    except TypeError:\n",
    "        print(\"You need to divide numbers!\")"
   ]
  }
 ],
 "metadata": {
  "colab": {
   "collapsed_sections": [],
   "name": "Lecture_03.ipynb",
   "provenance": []
  },
  "kernelspec": {
   "display_name": "Python 3 (ipykernel)",
   "language": "python",
   "name": "python3"
  },
  "language_info": {
   "codemirror_mode": {
    "name": "ipython",
    "version": 3
   },
   "file_extension": ".py",
   "mimetype": "text/x-python",
   "name": "python",
   "nbconvert_exporter": "python",
   "pygments_lexer": "ipython3",
   "version": "3.10.9"
  }
 },
 "nbformat": 4,
 "nbformat_minor": 1
}

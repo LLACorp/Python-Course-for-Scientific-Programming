{
 "cells": [
  {
   "cell_type": "markdown",
   "metadata": {
    "id": "P4hDyWJnlkkV"
   },
   "source": [
    "# Lecture III: EXERCISES\n",
    "\n",
    "----"
   ]
  },
  {
   "cell_type": "markdown",
   "metadata": {
    "id": "-rYMKOqDez5v"
   },
   "source": [
    "## Exercise 1:"
   ]
  },
  {
   "cell_type": "markdown",
   "metadata": {
    "id": "0-NaBG9XhgU8"
   },
   "source": [
    "Write a Python function to check whether a number is \"perfect\" or not. It should return `True` or `False`.\n",
    "\n",
    "A \"perfect\" number is a positive integer equal to the sum of its divisors (excluding itself).\n",
    "\n",
    "Equivalently, a perfect number is a number that is half the sum of all of its divisors (including itself). \n",
    "\n",
    "<ins>For example</ins>: \n",
    "\n",
    "The first perfect number is 6, because 1, 2, and 3 are its divisors excluding itself, and 1 + 2 + 3 = 6.\n",
    "\n",
    "Equivalently, the number 6 is equal to half the sum of all its divisors: ( 1 + 2 + 3 + 6 ) / 2 = 6.\n",
    "\n",
    "\n",
    "The next perfect number is 28 = 1 + 2 + 4 + 7 + 14. This is followed by the perfect numbers 496 and 8128."
   ]
  },
  {
   "cell_type": "markdown",
   "metadata": {
    "id": "tR4v1HGeiApl"
   },
   "source": [
    "**Possible Solution**:"
   ]
  },
  {
   "cell_type": "code",
   "execution_count": 2,
   "metadata": {
    "colab": {
     "base_uri": "https://localhost:8080/"
    },
    "id": "4Iciqs4Sh-ar",
    "outputId": "f423d936-ccad-401d-ef14-e115c40708cb"
   },
   "outputs": [],
   "source": [
    "def perfect_number(n):\n",
    "    '''It checks if the input number is a Perfect Number\n",
    "    (the sum of its divisors, excluding itself)'''\n",
    "    assert n>0, \"Perfect numbers are defined on positive integers alone!\"\n",
    "    sum = 0\n",
    "    for x in range(1, n):\n",
    "        if n % x == 0:\n",
    "            sum += x\n",
    "    return sum == n"
   ]
  },
  {
   "cell_type": "code",
   "execution_count": 3,
   "metadata": {},
   "outputs": [
    {
     "name": "stdout",
     "output_type": "stream",
     "text": [
      "True\n"
     ]
    }
   ],
   "source": [
    "print(perfect_number(6))"
   ]
  },
  {
   "cell_type": "markdown",
   "metadata": {
    "id": "0IZIsOxNjbhw"
   },
   "source": [
    "## Exercise 2:"
   ]
  },
  {
   "cell_type": "markdown",
   "metadata": {
    "id": "PVlUe6mHjpeU"
   },
   "source": [
    "Write two Python functions to find the $F_n$ Fibonacci number, one using an iterative method and the other one using recursion. The only argument is `n` and the $n$-th number in the Fibonacci sequence should be retuned.\n",
    "\n",
    "The Fibonacci sequence is defined as \n",
    "\n",
    "$$F_{0}=0,\\quad F_{1}=1,$$\n",
    "and\n",
    "$$F_{n}=F_{n-1}+F_{n-2}$$\n",
    "for $n > 1$.  \n",
    "\n",
    "That is, the next number is the sum of the previous two.\n",
    "\n",
    "The beginning of the sequence is thus:\n",
    "$$0, 1, 1, 2, 3, 5, 8, 13, 21, 34, 55,...$$\n",
    "\n",
    "<ins>For example</ins>: The Fibonacci number $F_7$ equals $13$, so the functions should return this value."
   ]
  },
  {
   "cell_type": "markdown",
   "metadata": {
    "id": "XKhg1tVkjkto"
   },
   "source": [
    "**Possible Solution**:"
   ]
  },
  {
   "cell_type": "code",
   "execution_count": 7,
   "metadata": {
    "id": "pKC9NZDYjnkg"
   },
   "outputs": [],
   "source": [
    "def F_iterative(n):\n",
    "    '''Computes the n-th number in the Fibonacci sequence iteratively'''\n",
    "    if (n == 0):\n",
    "        return 0\n",
    "    elif (n == 1):\n",
    "        return 1\n",
    "    elif (n > 1):\n",
    "        fn = 0\n",
    "        fn1 = 1\n",
    "        fn2 = 2\n",
    "        for i in range(3, n):\n",
    "            fn = fn1 + fn2\n",
    "            fn1 = fn2\n",
    "            fn2 = fn\n",
    "        return fn\n",
    "\n",
    "def F_recursive(n):\n",
    "    '''Computes the n-th number in the Fibonacci sequence recursively'''\n",
    "    if (n == 0):\n",
    "        return 0\n",
    "    elif (n == 1):\n",
    "        return 1\n",
    "    elif (n > 1):\n",
    "        return (F_recursive(n-1) + F_recursive(n-2))"
   ]
  },
  {
   "cell_type": "code",
   "execution_count": 8,
   "metadata": {
    "colab": {
     "base_uri": "https://localhost:8080/"
    },
    "id": "vmuuU6Qb4tHO",
    "outputId": "bc611b30-0594-4b6c-9efb-f6ff2c8507f0"
   },
   "outputs": [
    {
     "name": "stdout",
     "output_type": "stream",
     "text": [
      "13\n",
      "13\n"
     ]
    }
   ],
   "source": [
    "print(F_iterative(7))\n",
    "print(F_recursive(7))"
   ]
  },
  {
   "cell_type": "markdown",
   "metadata": {},
   "source": [
    "Note that this time, the recursion generates a tree of calls, following the next figure, where the same number is computed several times! This is the danger of recursion, if we do not use memorization of the operations performed for the first time.\n",
    "\n",
    "![title](https://upload.wikimedia.org/wikipedia/commons/1/1a/Fibonacci_call_tree_5.gif)"
   ]
  },
  {
   "cell_type": "markdown",
   "metadata": {
    "id": "bcsyVRrLjeNA"
   },
   "source": [
    "## Exercise 3:"
   ]
  },
  {
   "cell_type": "markdown",
   "metadata": {
    "id": "mq5VNFVZjqdm"
   },
   "source": [
    "Write a Python program to create a dictionary from a string. The dictionary should contain as keys the characters of the string and as values the number of times the character is repeated.\n",
    "\n",
    "\n",
    "<ins>For example</ins>: The string 'scn2python' should output: `{'s': 1, 'c': 1, 'n': 2, '2': 1, 'p': 1, 'y': 1, 't': 1, 'h': 1, 'o': 1}`"
   ]
  },
  {
   "cell_type": "markdown",
   "metadata": {
    "id": "w0UpFVuBjlXc"
   },
   "source": [
    "**SOLUTION**:"
   ]
  },
  {
   "cell_type": "code",
   "execution_count": 9,
   "metadata": {
    "colab": {
     "base_uri": "https://localhost:8080/"
    },
    "id": "enTtP8kljoZa",
    "outputId": "3dfbcf73-0805-4853-a8c6-1c5949ea70a3"
   },
   "outputs": [
    {
     "name": "stdout",
     "output_type": "stream",
     "text": [
      "{'s': 1, 'c': 1, 'n': 2, '2': 1, 'p': 1, 'y': 1, 't': 1, 'h': 1, 'o': 1}\n"
     ]
    }
   ],
   "source": [
    "str1 = 'scn2python' \n",
    "my_dict = {}\n",
    "for letter in str1:\n",
    "    if (my_dict.get(letter) == None): #or letter not in my_dict.keys()\n",
    "        my_dict[letter] = 1\n",
    "    else:\n",
    "        my_dict[letter] += 1\n",
    "print(my_dict)"
   ]
  },
  {
   "cell_type": "markdown",
   "metadata": {},
   "source": [
    "## Exercise 4: A Real Life Example\n",
    "When we asked the students for their names and personal data, an excel file similar to the one you can find under the name `Data.xlsx` was generated by the form application. There, the organizers made the form such that the name and the surnames of the students appeared under the same field. However, when we needed to register you in the *moodle*, we needed to upload an excel (or even a `.csv` separating the fields by commas would be enough), with the fields **username**, **name**, **surnames**, **email**, where the username for a person called `Alberto Einstein Melero`, should be `alber.einstein` (note the lower-case!). \n",
    "\n",
    "Of course for a list of almost 50 students, we would not do this by hand, you should not either! Do it!\n",
    "\n",
    "Given the excel `Data.xlsx`, where data is as:\n",
    "\n",
    "    \"Nombre y Apellidos\"           \"correo\"                   \"Eres de la SCN2?\"\n",
    "    ------------------------------------------------------------------------------------\n",
    "    Alberto Einstein Melero     realtividad@gmail.com               Sí!\n",
    "            ...                         ...                         ...\n",
    "            \n",
    "Create a new excel called `NormalizedData.xlsx`, where data is as:\n",
    "\n",
    "        \"username\"         \"name\"       \"surnames\"              \"email\"\n",
    "    ------------------------------------------------------------------------------------\n",
    "    alberto.einstein       Alberto      Einstein Melero       realtividad@gmail.com \n",
    "            ...              ...             ...                      ...\n",
    "            \n",
    "Beware! There are people with only one surname!\n",
    "\n",
    "**Lifehack to process Strings**:\n",
    "\n",
    "Given the string in a variable `s`, the method `s.split(<string>)` splits the string in pieces according to the patter `<string>`. Each piece will be an entry of a list in the output. For example:\n"
   ]
  },
  {
   "cell_type": "code",
   "execution_count": 19,
   "metadata": {},
   "outputs": [
    {
     "name": "stdout",
     "output_type": "stream",
     "text": [
      "['Para', 'proteger', 'al', 'mundo', 'de', 'la', 'devastación,', 'para', 'unir', 'a', 'todos', 'los', 'pueblos', 'en', 'una', 'sola', 'nación,', 'para', 'denunciar', 'a', 'los', 'enemigos', 'de', 'la', 'verdad', 'y', 'el', 'amor', 'para', 'extender', 'nuestro', 'poder', 'más', 'allá', 'del', 'espacio', 'exterior!']\n"
     ]
    }
   ],
   "source": [
    "s = \"Para proteger al mundo de la devastación, para unir a todos los pueblos en una sola nación, para denunciar a los enemigos de la verdad y el amor para extender nuestro poder más allá del espacio exterior!\"\n",
    "\n",
    "l1 = s.split(\" \") # separate by spaces\n",
    "l2 = s.split(\",\") # separate by commas\n",
    "l3 = s.split(\"para\") #separate by words\n",
    "\n",
    "print(l1)"
   ]
  },
  {
   "cell_type": "code",
   "execution_count": 20,
   "metadata": {
    "scrolled": true
   },
   "outputs": [
    {
     "name": "stdout",
     "output_type": "stream",
     "text": [
      "['Para proteger al mundo de la devastación', ' para unir a todos los pueblos en una sola nación', ' para denunciar a los enemigos de la verdad y el amor para extender nuestro poder más allá del espacio exterior!']\n"
     ]
    }
   ],
   "source": [
    "print(l2)"
   ]
  },
  {
   "cell_type": "code",
   "execution_count": 21,
   "metadata": {
    "scrolled": true
   },
   "outputs": [
    {
     "name": "stdout",
     "output_type": "stream",
     "text": [
      "['Para proteger al mundo de la devastación, ', ' unir a todos los pueblos en una sola nación, ', ' denunciar a los enemigos de la verdad y el amor ', ' extender nuestro poder más allá del espacio exterior!']\n"
     ]
    }
   ],
   "source": [
    "print(l3)"
   ]
  },
  {
   "cell_type": "markdown",
   "metadata": {},
   "source": [
    "Also, you can directly lowercase or uppercase a string with `s.lower()` or `s.upper`."
   ]
  },
  {
   "cell_type": "code",
   "execution_count": 23,
   "metadata": {
    "scrolled": true
   },
   "outputs": [
    {
     "data": {
      "text/plain": [
       "'PARA PROTEGER AL MUNDO DE LA DEVASTACIÓN, PARA UNIR A TODOS LOS PUEBLOS EN UNA SOLA NACIÓN, PARA DENUNCIAR A LOS ENEMIGOS DE LA VERDAD Y EL AMOR PARA EXTENDER NUESTRO PODER MÁS ALLÁ DEL ESPACIO EXTERIOR!'"
      ]
     },
     "execution_count": 23,
     "metadata": {},
     "output_type": "execute_result"
    }
   ],
   "source": [
    "s.upper()"
   ]
  },
  {
   "cell_type": "markdown",
   "metadata": {},
   "source": [
    "### Possible Solution"
   ]
  },
  {
   "cell_type": "code",
   "execution_count": 7,
   "metadata": {},
   "outputs": [],
   "source": [
    "import pandas as pd\n",
    "\n",
    "d_in = pd.read_excel(\"Data.xlsx\").to_dict(orient='list')\n",
    "d_out = {'username':[], 'name':[], 'surnames':[], 'email':[]}\n",
    "\n",
    "for name_surnames, mail in zip(d_in['Nombres y Apellidos'], d_in['Correo']):\n",
    "    l = name_surnames.split(' ')\n",
    "    username = f\"{l[0].lower()}.{l[1].lower()}\"\n",
    "    d_out['username'].append( username )\n",
    "    d_out['name'].append( l[0] )\n",
    "    surnames=\"\"\n",
    "    for surname in l[1:]:\n",
    "        surnames += surname\n",
    "        surnames += \" \"\n",
    "    d_out['surnames'].append( surnames )\n",
    "    d_out['email'].append(mail)\n",
    "\n",
    "pd.DataFrame( data = d_out ).to_excel(\"NormalizedData.xlsx\", index=False)"
   ]
  },
  {
   "cell_type": "markdown",
   "metadata": {
    "id": "ngPDJ-pSjgGb"
   },
   "source": [
    "## Exercise 5.1: Decoding from Alien number systems\n",
    "\n",
    "Saying that we want to represent a number in base $n$, say base $2$, means that we wish to represent numbers using only $n$ symbols. For example, if $n=2$, we wish to represent any number but only using two different symbols, like $\\{0,1\\}$, if $n=10$, we wish to represent any number using the symbols in $\\{0,1,2,3,4,5,6,7,8,9\\}$. If say $n=16$, we wish to represent any number using 16 different symbols like $\\{0,1,2,3,4,5,6,7,8,9,a,b,c,d,e,f\\}$.\n",
    "\n",
    "The number system we humans use is in base 10, which is convenient for arbitrary reasons like the fact we generally have 10 fingers. However, for a computer to save numbers it is more convenient to use only two symbols rather than 10. Why? Because saving two symbols physically can be done by having current (1) or not having it (0) in a transistor, or having (1) or not having (0) voltage, which is a very easy thing yo verify even with a tolerance for error. If we instead wanted to encode 10 different symbols with the state of a transistor, we would require the reader of the transistor to be able to distinguish with precision 10 different current flow ranges in the transistor. Which, as you may know, in a transistor of 10 nm is not an easy task. Therefore, the computer internally works with numbers in binary, aka, $n=2$.\n",
    "\n",
    "Let us denote by $(\\cdot)_n$ the number $\\cdot$ in $n$ base representation. If we do not specify the base with these parenthesis, we will assume it is in decimal base. This means that for example:\n",
    "$$\n",
    "(509.389)_{10}=5\\cdot 10^2+0\\cdot 10^1 + 9\\cdot 10^0+3\\cdot 10^-1+8\\cdot 10^{-2}+9\\cdot 10^{-3}=589.389\n",
    "$$\n",
    "\n",
    "or\n",
    "\n",
    "$$\n",
    "(110.01)_{2}=1\\cdot 2^2+1\\cdot 2^1 + 0\\cdot 2^0+0\\cdot 10^-1+1\\cdot 10^{-2}=26.05859375\n",
    "$$\n",
    "\n",
    "or\n",
    "\n",
    "$$\n",
    "(1a.0f)_{16}=1\\cdot 16^1+10\\cdot 16^0+ 0\\cdot 16^{-1}+15\\cdot 16^{-2}=26.05859375\n",
    "$$\n",
    "\n",
    "As you can notice with this last example, if we use a base with more symbols than 10, it is important to know the order in which they are settled to make the correspondance to base 10. That is, we need to know $(a)_{16}=10$ or $(f)_{16}=15$. So when we design a number system, we must fix the order of the symbols we will use, such as fixing that $\\{0,1,2,3,4,5,6,7,8,9,a,b,c,d,e,f\\}$ is the **ordered** set of symbols in base 16, where the index of the element gives us the integer \"in decimal base\".\n",
    "\n",
    "\n",
    "Create a function, to which we can input the ordered set of symbols, the representation base and outputs the corresponding float number (in decimal representation) using the explained algorithm."
   ]
  },
  {
   "cell_type": "code",
   "execution_count": 113,
   "metadata": {},
   "outputs": [],
   "source": [
    "def to_decimal(strange_number_as_string, base_symbols):\n",
    "    base=len(base_symbols)\n",
    "    # print(f\"Number was in base {base}\")\n",
    "    # first look for the point differntiating the whole and fractional part\n",
    "    for i, el in enumerate(strange_number_as_string):\n",
    "        if el=='.':\n",
    "            dot_index=i\n",
    "            break\n",
    "    # build a dictionary as a look-up table of which symbol is which decimal integer\n",
    "    lut = {}\n",
    "    for i, base_symbol in enumerate(base_symbols):\n",
    "        lut[base_symbol] = i\n",
    "    # the distance to the dot index will give us the exponent\n",
    "    decimal_number=0.0\n",
    "    for i, el in enumerate(strange_number_as_string):\n",
    "        if i<dot_index:\n",
    "            decimal_number += lut[el]*base**(dot_index-i-1)\n",
    "        elif i>dot_index:\n",
    "            decimal_number += lut[el]*base**(dot_index-i)\n",
    "    return decimal_number\n"
   ]
  },
  {
   "cell_type": "code",
   "execution_count": 114,
   "metadata": {},
   "outputs": [
    {
     "name": "stdout",
     "output_type": "stream",
     "text": [
      "1a.0f in hexadecimal is 26.05859375 in decimal \n",
      "\n",
      "0.00011001100110011001100 in binary is 0.09999990463256836 in decimal\n"
     ]
    }
   ],
   "source": [
    "print(f\"1a.0f in hexadecimal is {to_decimal('1a.0f', ['0','1','2','3','4','5','6','7','8','9','a','b','c','d','e','f'])} in decimal \\n\")\n",
    "print(f\"0.00011001100110011001100 in binary is {to_decimal('0.00011001100110011001100', ['0','1'])} in decimal\")"
   ]
  },
  {
   "cell_type": "markdown",
   "metadata": {},
   "source": [
    "## Exercise 5.2: Encoding to Alien number systems\n",
    "\n",
    "Doing the opposite is not that trivial, but here is the **algorithm** explained with an example:\n",
    "\n",
    "**(a)** For the **integer part** of the input decimal float: Say we wish to compute 3024 in base 23.\n",
    "- We have that the whole division gives 3024 // 23 = 131 with residual 3024 % 23 = 11\n",
    "- Get the residual of the division and save it to a list.\n",
    "- Now take the whole division part and repeat the step: 131 // 23 = 5 with residual 131 % 23 = 16.\n",
    "- Repeat these until you arrive to a whole division equal to 0. In our case we would need a step more: we would have saved 16 in the list of residuals and then 5 // 23 = 0 and 5 % 23 = 5. We append to the list also this last residual 5.\n",
    "- Take the list of residuals [11,16,5]. From the first to the last, they will be the digit that should be multiplied by the base to the power of the index. Aka, $3024=11\\cdot 23^0+16\\cdot 23^1 + 5\\cdot 23^2$. This means that we have it, since the residuals will always be smaller than the base. We just need to get the symbol corresponding to each number. In this case, if in base 23 we used the symbols '0123456789abcdefghijklm', we would have 11 is b, 16 is g and 5 is 5. Leaving $(3024)_{10}=(5gb)_{23}$.\n",
    "\n",
    "**(b)** For the **decimal part** of the input decimal float: Say we wish to compute 2.7182 in base 23.\n",
    "- The whole part is obtained with (a), in this case we have 2 in base 23 is 2.\n",
    "- Drop the whole part, that is, take 0.7182 and compute its product with the base: $0.7182\\cdot 23= 16.5186$\n",
    "- Take the whole part 16 to a list and repeat again for the fractional part: $0.5186\\cdot 23=11.9278$\n",
    "- Take the whole part 11 to a list and repeat again for the fractional part: $0.9278\\cdot 23 = 21.33939$\n",
    "- And repeat and repeat until rather you get 0.0 in the decimal part or you arrive to the maximum decimal places you wish to represent. Note that a number that has a finite number of fractional digits in a base may have an infinite number in another base. This is possibly the case for 2.7182.\n",
    "- The numbers you gathered in the list [16,11,21,..] are the decimal places for the new base representation, since: $0.7182=16\\cdot 23^{-1}+11\\cdot 23^{-2}+21\\cdot 23^{-3}+...$. \n",
    "- Just get the symbol corresponding to each number using it as an index in the symbol list, for example. We would have that 2 is 2, 16 is g, 11 is b and 21 is l so $(2.7182)_{10}=(2.gbl\\cdots)_{26}$.\n",
    "\n",
    "\n",
    "Implement the algorithm for a given float, a given symbol list and a given maximum fractional digit in the new base.\n"
   ]
  },
  {
   "cell_type": "code",
   "execution_count": 131,
   "metadata": {},
   "outputs": [],
   "source": [
    "def to_alien(float_number, alien_base_symbols, maximum_frac_digs):\n",
    "    base = len(alien_base_symbols)\n",
    "    \n",
    "    # (a)\n",
    "    integer_part = int(float_number)\n",
    "    whole_parts_alien=[]\n",
    "    while integer_part!=0:\n",
    "        whole_parts_alien.append( integer_part % base )\n",
    "        integer_part = integer_part//base\n",
    "    \n",
    "    alien_number = \"\"\n",
    "    for whole_part in whole_parts_alien:\n",
    "        alien_number = alien_base_symbols[whole_part]+alien_number\n",
    "    alien_number = alien_number+\".\" if len(alien_number)!=0 else \"0.\"\n",
    "        \n",
    "    # (b)\n",
    "    fractional_part = float_number-int(float_number)\n",
    "    fractional_parts_alien=[]\n",
    "    while len(fractional_parts_alien)<maximum_frac_digs and fractional_part!=0:\n",
    "        fractional_part = fractional_part*base\n",
    "        fractional_parts_alien.append(int(fractional_part))\n",
    "        fractional_part = fractional_part-int(fractional_part)\n",
    "    \n",
    "    for frac_part in fractional_parts_alien:\n",
    "        alien_number = alien_number+alien_base_symbols[frac_part]\n",
    "    \n",
    "    return alien_number    "
   ]
  },
  {
   "cell_type": "code",
   "execution_count": 147,
   "metadata": {},
   "outputs": [
    {
     "name": "stdout",
     "output_type": "stream",
     "text": [
      "3024 in decimal is 5gb. in base 23 \n",
      "\n",
      "2.7182 in decimal is 2.gbl7icb0ig... in base 23 \n",
      "\n",
      "26.05859375 in decimal is 1a.0f in hexadecimal \n",
      "\n",
      "0.1 in decimal is 0.00011001100110011001... in binary\n"
     ]
    }
   ],
   "source": [
    "print(f\"3024 in decimal is {to_alien(3024, ['0','1','2','3','4','5','6','7','8','9','a','b','c','d','e','f', 'g', 'h', 'i', 'j', 'k', 'l', 'm'], maximum_frac_digs=10)} in base 23 \\n\")\n",
    "print(f\"2.7182 in decimal is {to_alien(2.7182, ['0','1','2','3','4','5','6','7','8','9','a','b','c','d','e','f', 'g', 'h', 'i', 'j', 'k', 'l', 'm'], maximum_frac_digs=10)}... in base 23 \\n\")\n",
    "\n",
    "print(f\"26.05859375 in decimal is {to_alien(26.05859375, ['0','1','2','3','4','5','6','7','8','9','a','b','c','d','e','f'], maximum_frac_digs=10)} in hexadecimal \\n\")\n",
    "print(f\"0.1 in decimal is {to_alien(0.1, ['0','1'], maximum_frac_digs=20)}... in binary\")"
   ]
  },
  {
   "cell_type": "markdown",
   "metadata": {},
   "source": [
    "Effectively, 0.1 has an infinite number of fractional digits in binary representation!"
   ]
  },
  {
   "cell_type": "markdown",
   "metadata": {
    "id": "ngPDJ-pSjgGb"
   },
   "source": [
    "## Exercise 6: the Numerical Integral"
   ]
  },
  {
   "cell_type": "markdown",
   "metadata": {
    "id": "oMSJ_bvjjrNC"
   },
   "source": [
    "Due to the definition of the integral as an inifite Riemann sum of infinitesimally thin rectangles under the curve, we can approximate the integral $\\int_{a}^{b} f(x)dx$ as the sum of various small rectangles under the curve. If we divide the interval $[a,b]\\subset \\mathbb{R}$ in $n$ consecutive increments, we will have $n$ little step (which will be the widths of the rectangles we consider) as $\\Delta x=\\frac{b-a}{n}$ (the whole interval's length divided by $n$). Now we can compute the area of each thin rectangle as the product of these bases of the rectangles with their heights, which will be the height of the function in say, their left edge. Summing all these areas, we will get an estimate of the integral (which will only be exact if we use infinite rectangles $n$):\n",
    "\n",
    "$$\\int_{a}^{b} f(x)dx = \\lim_{n\\rightarrow \\infty} \\sum_{i=0}^{n}f(a+i\\Delta x) \\cdot \\Delta x$$\n",
    "\n",
    "$$\\int_{a}^{b} f(x)dx \\simeq \\sum_{i=0}^{n} f(a+i\\Delta x) \\cdot \\Delta x\\quad \\forall n\\in\\mathbb{N}$$\n",
    "\n",
    "\n",
    "Note we can define in general the left edges of the rectangles as $x_i:=a+i\\Delta x$ with $i\\in \\{0,1,...,n-1\\}$. We can then include also the \"left edge\" $b$, if we also consider $i=N$ (we will have a total of $N+1$ rectangles), but this would actually add an additional rectangle that gets outside the range $(a,b)$, since these are left corners, so we better do not.\n",
    "\n",
    "As you can see in the following visual intuition, for higher values of $n$ (aka, more increments with smaller rectangle width $\\Delta x$), the approximation of the true area under the curve will get more and more precise.\n",
    "\n",
    "<img src=\"https://i.stack.imgur.com/BJPUl.png\" alt=\"Drawing\" style=\"width: 350px;\"/>\n",
    "\n",
    "Write a Python program to perform **numerical integration using rectangles**.\n",
    "\n",
    "To do this, define two functions, one that returns the values of $f(x)$ and the other one taking as one of its arguments the function $f$, must return the integral solution given the additional arguments $a$, $b$ and $n$.\n",
    "\n",
    "To test the program use the function\n",
    "\n",
    "$$f(x)=\\frac{x^4(1-x^4)}{1+x^2}dx$$\n",
    "\n",
    "for which you would not be able to find the anti-derivative manually. Compute its integral between $a=1$ and $b=2$. The result should be about $0.522...$ for $n=10000$.\n",
    "\n",
    "You can also test the program using the function:\n",
    "\n",
    "$$g(x)=x$$\n",
    "\n",
    "for which you know that $\\int_{-1}^1 g(x) dx=\\frac{x^2}{2}\\Big\\rvert_{-1}^{1}=0$. Note how you may never exactly achieve the value 0, no matter how many rectangles you use. This is again because the finite precision of the `float`-s.\n",
    "\n",
    "\n",
    "***Note***: You can call a function declared \"outside\", inside another function."
   ]
  },
  {
   "cell_type": "markdown",
   "metadata": {
    "id": "JtjyQi2ujlzw"
   },
   "source": [
    "**POSSIBLE SOLUTION**:"
   ]
  },
  {
   "cell_type": "code",
   "execution_count": 51,
   "metadata": {
    "id": "ByVIxIpPjo32",
    "outputId": "e2199d33-3fdd-4b3f-ea8b-b8dbe43f82d8",
    "scrolled": true
   },
   "outputs": [
    {
     "name": "stdout",
     "output_type": "stream",
     "text": [
      "Approximate integral of f in [1,2] is 0.5223616058039061\n",
      "Approximate integral of g(x)=x in [-1,1] is -0.00020000000000004823\n"
     ]
    }
   ],
   "source": [
    "#the function to be integrated:\n",
    "def f(x):\n",
    "    return x ** 4 * (1 - x) ** 4 / (1 + x ** 2)\n",
    "\n",
    "def g(x):\n",
    "    return x\n",
    " \n",
    "#define a function to do integration of f(x) btw. a and b:\n",
    "def trapezium(f, a, b, n):\n",
    "    dx = (b-a) / n\n",
    "    intgr = 0\n",
    "    for i in range(0, n):\n",
    "        intgr = intgr + dx * f(a + i * dx)\n",
    "    return intgr\n",
    " \n",
    "print(f\"Approximate integral of f in [{1},{2}] is {trapezium(f, 1, 2, 10000)}\")\n",
    "print(f\"Approximate integral of g(x)=x in [{-1},{1}] is {trapezium(g, -1, 1, 10000)}\")"
   ]
  },
  {
   "cell_type": "markdown",
   "metadata": {
    "id": "ngPDJ-pSjgGb"
   },
   "source": [
    "## Exercise 7: the Decimals for $\\pi$\n",
    "What is $\\pi$? Which is its definition? Well, $\\pi$ is just the length of a perfect half circle of radious 1. That is, if you draw a perfect circle of 1 meter of radious, to draw the circle you will need to displace your hand $\\pi$ meters twice (one for each half).\n",
    "\n",
    "Using this definition and the fact that now we can estimate the integral of a function, in theory with an arbitrary precision if we keep using more and more rectangles, we can compute the number $\\pi$ with an arbitrary precision.\n",
    "\n",
    "**BLUE PILL EXPLANATION**: We have all memorized that the integral of the function $h(t)=\\frac{1}{\\sqrt{1-t^2}}$ in $t\\in(-1,1)$ can be computed using minus the inverse cosine or $-arccos()$. Such that:\n",
    "$$\n",
    "\\int_{-0.5}^{0.5} \\frac{1}{\\sqrt{1-t^2}} dt = -arcos(0.5)+acos(-0.5)=\\frac{2\\pi}{3}-\\frac{\\pi}{3}=\\frac{\\pi}{3}\n",
    "$$\n",
    "Then we can use the integral to compute $\\pi$ as:\n",
    "$$\n",
    "\\pi=3\\int_{-0.5}^{0.5} \\frac{1}{\\sqrt{1-t^2}} dt\\simeq 3 \\sum_{i=0}^n \\frac{1}{\\sqrt{1-t_i^2}}\\Delta t\n",
    "$$\n",
    "with $a=-0.5$, $b=0.5$, $\\Delta t=1/n$.\n",
    "\n",
    "Compute the first 10 decimals of $\\pi$ using the program you created in the previous exercise.\n",
    "\n",
    "To compute the square root you can do:\n",
    "`from numpy import sqrt`\n",
    "and then use the `sqrt()` function (we will see where it comes from in the next lecture). \n",
    "\n",
    "If you are uncomfortable with it, you could compute the square root using the Taylor series for the function, which only uses products and sums:\n",
    "\n",
    "$$\n",
    "\\frac{1}{\\sqrt{1-x^2}}=\\sum_{k=0}^\\infty \\frac{\\prod_{j=1}^k (2j-1)}{2^k k!}x^{2k}\n",
    "$$\n",
    "\n",
    "Note that in reality the predefined function we import with the previous line of code will likely use a Taylor series to compute the square-root anyway.\n",
    "\n",
    "-------\n",
    "-------\n",
    "\n",
    "**RED PILL EXPLANATION** (from zero): To do this, first, let us remember how to compute the length of a curve. Imagine a curved line in the 2D real plane. We could continously track the points of the curve using an $\\mathbb{R}^2$ vector $(x,y)$ for each point in the curve. That is, we could use the vectors $(x(t),y(t))$, indexed by a real parameter $t$. You can think it as the position in 2D for a particle (say, an electron) at each time $t$. Let us denote this curve or trajectory for the particle, or 2D position vector moving in time, as $\\vec{r}(t)=(x(t),y(t))$. Now, we all know that the time derivative of the position vector, the **velocity vector** for the trajectory of a particle, $\\frac{d\\vec{r}(t)}{dt}$, denoted typically as $\\vec{v}(t)$, is always parallel and tangent to the trajectory of the particle (it points in the direction where the particle will move next). This is because by the definition of the integral, for very close times $t_0,t_0+\\Delta t$:\n",
    "\n",
    "$$\\vec{r}(t_0+\\Delta t)=\\vec{r}(t_0)+\\int_{t_{0}}^{t_0+\\Delta t} \\frac{d\\vec{r}(t)}{dt} d\\tau \\simeq \\vec{r}(t_0)+\\frac{d\\vec{r}(t_0)}{dt}\\cdot \\Delta t$$\n",
    "\n",
    "\n",
    "$$\n",
    "\\vec{r}(t_0+\\Delta t)\\simeq\\vec{r}(t_0)+\\vec{v}(t_0) \\Delta t\n",
    "$$\n",
    "\n",
    "which tells us that the particle will move from where it was in a time $t_0$, $\\vec{r}(t_0)$ to its \"next\" position $\\vec{r}(t_0+\\Delta t)$ at time $t_0+\\Delta t$ the ammount given by the velocity vector in $\\vec{r}(t_0)$, that is, $\\frac{d\\vec{r}(t_0)}{dt}\\equiv \\vec{v}(t_0)$, times the small time passed.\n",
    "<img src=\"https://www.brown.edu/Departments/Engineering/Courses/En4/notes_old/Vectordef/Image1794.gif\" alt=\"Drawing\" style=\"width: 350px;\"/>\n",
    "\n",
    "\n",
    "Now, if instead of keeping track of the position of the particle, we wanted to know the absolute distance traced by the particle, we could sum the magnitude of the little steps taken by the particle. If for a $\\Delta t$ small time increment, the particle has been displaced in space a vector $\\vec{v}(t_0)\\cdot \\Delta t$, as we were saying, since this displacement vector has units of space, we can know how many, say meters, has the particle moved knowing the magnitude of this displacement vector (you can look at the image and acknowledge that the displacement vector's length is the space distance traced by the particle):\n",
    "\n",
    "$$\n",
    "\\Delta displacement_0=\\Big|\\Big|\\vec{v}(t_0)\\Big|\\Big|\\Delta t=\\Big|\\Big|\\frac{d\\vec{r}(t_0)}{dt}\\Big|\\Big|\\Delta t=\\sqrt{\\frac{dx(t_0)}{dt}^2+\\frac{dy(t_0)}{dt}^2 } \\Delta t\n",
    "$$\n",
    "\n",
    "So we can now reverse engineer the integral, using its definition as the infinite sum of small increments, to get the whole length displaced by the particle along its trajectory from time $t=a$ to $t=b$ as the sum of $n$ increments like that with $\\Delta t=\\frac{b-a}{n}$:\n",
    "\n",
    "$$\n",
    "[total\\ displacement\\ in\\ t\\in(a,b)]\\simeq \\sum_{i=0}^n \\Delta displacement_i = \\sum_{i=0}^{n} \\sqrt{\\frac{dx(t_i)}{dt}^2+\\frac{dy(t_i)}{dt}^2 } \\Delta t\n",
    "$$\n",
    "\n",
    "with $t_i:=a+i\\Delta t$ for $i\\in\\{0,1,...,n-1\\}$. We will make the relation exact by considering infinitely small times teps $\\Delta t$, or equivalently infinitely many time steps $n$:\n",
    "\n",
    "$$\n",
    "[total\\ displacement\\ in\\ t\\in(a,b)]=\\lim_{n\\rightarrow \\infty} \\sum_{i=0}^{n} \\sqrt{\\frac{dx(t_i)}{dt}^2+\\frac{dy(t_i)}{dt}^2 } \\Delta t = \\int_{a}^{b} \\sqrt{\\frac{dx(t_i)}{dt}^2+\\frac{dy(t_i)}{dt}^2 } dt\n",
    "$$\n",
    "\n",
    "Then, now that we know how to obtain the length of any curve $(x(t), y(t))$, no matter how curvy it is, using an integral, we can proceed to compute $\\pi$. \n",
    "\n",
    "Your hand drawing of the circle will in our case be the particle moving along the half-circle, the lenght of which we said is the definition of $\\pi$. Now, we all know that the points with norm 1, those with $x^2+y^2=1$ are the ones composing the circumference of radious 1. If we isolate there $y$, we get $y=\\sqrt{1-x^2}$ as the function for the top half circumference and $y=-\\sqrt{1-x^2}$ for the bottom half circumference. We have enough with the top half. The graph of this function $y(x)=\\sqrt{1-x^2}$ is just parametrized (if you wanted to give it in terms of 2D vectors moving as $x$ progresses) as:\n",
    "\n",
    "$$\\vec{r}(t)=\\begin{cases}x(t)=t\\\\ y(t)=y(x(t))\\end{cases}=(t, y(t))$$ with $x\\in[-1,1]$.\n",
    "\n",
    "<img src=\"https://qph.fs.quoracdn.net/main-qimg-05fa877a37d62d51147ab56e990e092e-lq\" alt=\"Drawing\" style=\"width: 200px;\"/>\n",
    "\n",
    "Therefore,using that $\\frac{dx(t)}{dt}=1$ and $\\frac{dy(t)}{t}=\\frac{-t}{\\sqrt{1-t^2}}$ the length of this half circumference, will be the length of the curve which we defined to be a number we named $\\pi$. Using the equation for the length of a curve we derived:\n",
    "\n",
    "$$\n",
    "\\pi:=\\int_{-1}^{1} \\sqrt{1+\\Big(\\frac{-t}{\\sqrt{1-t^2}}\\Big)^2 } dt=\\int_{-1}^{1} \\frac{1}{\\sqrt{1-t^2}} dt\n",
    "$$\n",
    "\n",
    "Thus:\n",
    "\n",
    "$$\n",
    "\\pi:=\\int_{-1}^{1} \\frac{1}{\\sqrt{1-t^2}} dt\\simeq \\sum_{i=0}^n \\frac{1}{\\sqrt{1-t_i^2}}\\Delta t\n",
    "$$\n",
    "with $t_i=-1+i\\Delta t$ and $\\Delta t=2/n$.\n",
    "\n",
    "Compute the first 10 decimals of $\\pi$ using the program you created in the previous exercise.\n",
    "\n",
    "To compute the square root you can do:\n",
    "`from numpy import sqrt`\n",
    "and then use the `sqrt()` function (we will see where it comes from in the next lecture). \n",
    "\n",
    "If you are uncomfortable with it, you could compute the square root using the Tayolr series for the function:\n",
    "\n",
    "$$\n",
    "\\frac{1}{\\sqrt{1-x^2}}=\\sum_{k=0}^\\infty \\frac{\\prod_{j=1}^k (2j-1)}{2^k k!}x^{2k}\n",
    "$$\n",
    "\n",
    "Note that in reality the predefined function we import with the previous line of code will likely use a Taylor series to compute the square-root anyway.\n",
    "\n",
    "**Last Red Pill revelation**: It turns out that the function $\\frac{1}{\\sqrt{1-x^2}}$ is very problematic as we approach the edges in $x=-1$ and 1, since it gets towards infinity. We can avoid this problem by noting the following. Take an equilateral triangle with the three sides equal 1. If you fit three equilateral triangles of side 1, into a trapezoid as in the image (as a partial \"triforce\"), you will see that their shared edges that have length one, can be thought of as the radious of a half circumference. Since the three triangles are the same, this proves **their shared edges divide the half circumference in three equal arcs** (each will have length $\\pi/3$. Finally, since the height of the equilateral triangle cuts the opposite edge in two segments of same length $1/2$, we see that the $x$ coordinate at which the half circumference is cut in three is $x=1/2$. This proves that the **length of the circumference from $x=-1/2$ to $x=1/2$ is exactly** one third of the circumference, that is, **$\\pi/3$**.\n",
    "\n",
    "<img src=\"https://raw.githubusercontent.com/LLACorp/Python-Course-for-Scientific-Programming/master/EXERCISES/proof.png\" alt=\"Drawing\" style=\"width: 800px;\"/>\n",
    "\n",
    "Therefore, we can also compute $\\pi$ avoiding the problems of the function geting arbitrarily large, using the integral only in $x\\in(-0.5, 0.5)$:\n",
    "$$\n",
    "\\pi:=3\\int_{-1/2}^{1/2} \\frac{1}{\\sqrt{1-t^2}} dt\\simeq3 \\sum_{i=0}^n \\frac{1}{\\sqrt{1-t_i^2}}\\Delta t\n",
    "$$\n",
    "with $a=-0.5$, $b=0.5$.\n",
    "\n",
    "---\n",
    "--------"
   ]
  },
  {
   "cell_type": "markdown",
   "metadata": {
    "id": "JtjyQi2ujlzw"
   },
   "source": [
    "**POSSIBLE SOLUTION**:\n",
    "\n",
    "Using the pre-programed sqrt function:"
   ]
  },
  {
   "cell_type": "code",
   "execution_count": 77,
   "metadata": {
    "scrolled": true
   },
   "outputs": [
    {
     "name": "stdout",
     "output_type": "stream",
     "text": [
      "pi found to desired tolerance in 1 iterations\n",
      "pi=3.1415926536\n"
     ]
    }
   ],
   "source": [
    "from numpy import sqrt\n",
    "\n",
    "# we define the function to be integrated\n",
    "def h(x):\n",
    "    return 1/sqrt(1-x**2)\n",
    "\n",
    "def compute_pi_with_given_precision(number_of_decimals, start_n, increment_n, h, a, b):\n",
    "\n",
    "    n=start_n\n",
    "    difference_consecutive=1\n",
    "    \n",
    "    pi = trapezium(h, a, b, n)\n",
    "    \n",
    "    while difference_consecutive > 10**-(number_of_decimals+1):\n",
    "        n += increment_n\n",
    "        new_pi = trapezium(h, a, b, n)\n",
    "        difference_consecutive = pi-new_pi\n",
    "        pi=new_pi\n",
    "    print(f\"pi found to desired tolerance in {(n-start_n)//increment_n} iterations\")\n",
    "    return 3*pi\n",
    "\n",
    "print(f\"pi={compute_pi_with_given_precision(number_of_decimals=10, start_n=90000, increment_n=10000,h=h,a=-0.5, b=0.5):.11}\")"
   ]
  },
  {
   "cell_type": "markdown",
   "metadata": {},
   "source": [
    "**Note that you can pass a function as an argument to another function!**\n",
    "\n",
    "\n",
    "Using the Taylor series:"
   ]
  },
  {
   "cell_type": "code",
   "execution_count": 84,
   "metadata": {},
   "outputs": [
    {
     "name": "stdout",
     "output_type": "stream",
     "text": [
      "pi found to desired tolerance in 1 iterations\n",
      "pi=3.1415926536\n"
     ]
    }
   ],
   "source": [
    "def h_taylor(x, trucate_series_at=30):\n",
    "    result=1\n",
    "    fact=1\n",
    "    for k in range(1, trucate_series_at):\n",
    "        fact*=k \n",
    "        prod=1\n",
    "        for j in range(1, k+1):\n",
    "            prod*=(2*j-1)\n",
    "        result+=prod*x**(2*k)/2**k/fact \n",
    "    return result\n",
    "\n",
    "print(f\"pi={compute_pi_with_given_precision(number_of_decimals=10, start_n=90000, increment_n=10000,h=h_taylor,a=-0.5, b=0.5):.11}\")"
   ]
  },
  {
   "cell_type": "markdown",
   "metadata": {},
   "source": [
    "**Note**: Again, if you wish to compute way more decimals, you will need to use the `decimal` package as in the previous lecture's exercises! Try implementing it there!"
   ]
  }
 ],
 "metadata": {
  "colab": {
   "collapsed_sections": [],
   "name": "Exercises_Lecture_03.ipynb",
   "provenance": [],
   "toc_visible": true
  },
  "kernelspec": {
   "display_name": "Python 3",
   "language": "python",
   "name": "python3"
  },
  "language_info": {
   "codemirror_mode": {
    "name": "ipython",
    "version": 3
   },
   "file_extension": ".py",
   "mimetype": "text/x-python",
   "name": "python",
   "nbconvert_exporter": "python",
   "pygments_lexer": "ipython3",
   "version": "3.7.3"
  }
 },
 "nbformat": 4,
 "nbformat_minor": 1
}

{
  "nbformat": 4,
  "nbformat_minor": 0,
  "metadata": {
    "colab": {
      "name": "SesionThree_Exercises.ipynb",
      "provenance": [],
      "collapsed_sections": [],
      "toc_visible": true
    },
    "kernelspec": {
      "name": "python3",
      "display_name": "Python 3"
    }
  },
  "cells": [
    {
      "cell_type": "markdown",
      "metadata": {
        "id": "KKn8pLWhJ0X9"
      },
      "source": [
        "# PYTHON COURSE FOR SCIENTIFIC PROGRAMMING \n",
        "**Contributors:** \\\n",
        "Artur Llabrés Brustenga: Artur.Llabres@e-campus.uab.cat \\\n",
        "Gerard Navarro Pérez: Gerard.NavarroP@e-campus.uab.cat \\\n",
        "Arnau Parrilla Gibert: Arnau.Parrilla@e-campus.uab.cat \\\n",
        "Jan Scarabelli Calopa:Jan.Scarabelli@e-campus.uab.cat \\\n",
        "Xabier Oyanguren Asua: Xabier.Oyanguren@e-campus.uab.cat \\\n",
        "\n",
        "Course material can be found at: https://llacorp.github.io/Python-Course-for-Scientific-Programming/ "
      ]
    },
    {
      "cell_type": "markdown",
      "metadata": {
        "id": "eYqb_LTserLh"
      },
      "source": [
        "# LESSON 3 EXERCISES"
      ]
    },
    {
      "cell_type": "markdown",
      "metadata": {
        "id": "-rYMKOqDez5v"
      },
      "source": [
        "## <ins>Exercise 1</ins>:"
      ]
    },
    {
      "cell_type": "markdown",
      "metadata": {
        "id": "0-NaBG9XhgU8"
      },
      "source": [
        "Write a Python function to check whether a number is perfect or not. It should return `True` or `False`.\r\n",
        "\r\n",
        "***Wikipedia source***: In number theory, a perfect number is a positive integer that is equal to the sum of its proper positive divisors, that is, the sum of its positive divisors excluding the number itself (also known as its aliquot sum). Equivalently, a perfect number is a number that is half the sum of all of its positive divisors (including itself).  \r\n",
        "<ins>For example</ins>: The first perfect number is 6, because 1, 2, and 3 are its proper positive divisors, and 1 + 2 + 3 = 6. Equivalently, the number 6 is equal to half the sum of all its positive divisors: ( 1 + 2 + 3 + 6 ) / 2 = 6. The next perfect number is 28 = 1 + 2 + 4 + 7 + 14. This is followed by the perfect numbers 496 and 8128."
      ]
    },
    {
      "cell_type": "markdown",
      "metadata": {
        "id": "tR4v1HGeiApl"
      },
      "source": [
        "**SOLUTION**:"
      ]
    },
    {
      "cell_type": "code",
      "metadata": {
        "colab": {
          "base_uri": "https://localhost:8080/"
        },
        "id": "4Iciqs4Sh-ar",
        "outputId": "f423d936-ccad-401d-ef14-e115c40708cb"
      },
      "source": [
        "def perfect_number(n):\r\n",
        "    sum = 0\r\n",
        "    for x in range(1, n):\r\n",
        "        if n % x == 0:\r\n",
        "            sum += x\r\n",
        "    return sum == n\r\n",
        "    \r\n",
        "print(perfect_number(6))"
      ],
      "execution_count": null,
      "outputs": [
        {
          "output_type": "stream",
          "text": [
            "True\n"
          ],
          "name": "stdout"
        }
      ]
    },
    {
      "cell_type": "markdown",
      "metadata": {
        "id": "0IZIsOxNjbhw"
      },
      "source": [
        "## <ins>Exercise 2</ins>:"
      ]
    },
    {
      "cell_type": "markdown",
      "metadata": {
        "id": "PVlUe6mHjpeU"
      },
      "source": [
        "Write two Python functions to find the $F_n$ Fibonacci number using an iterative method and recursion. The only argument is `n`.\r\n",
        "\r\n",
        "***Wikipedia source***: In mathematics, the Fibonacci numbers, commonly denoted $F_n$, form a sequence, called the Fibonacci sequence, such that each number is the sum of the two preceding ones, starting from 0 and 1. That is,\r\n",
        "\r\n",
        "$$F_{0}=0,\\quad F_{1}=1,$$\r\n",
        "and\r\n",
        "$$F_{n}=F_{n-1}+F_{n-2}$$\r\n",
        "for $n > 1$.  \r\n",
        "The beginning of the sequence is thus:\r\n",
        "$$0, 1, 1, 2, 3, 5, 8, 13, 21, 34, 55,...$$\r\n",
        "\r\n",
        "<ins>For example</ins>: The Fibonacci number $F_7$ equals $13$, so the functions should return this value."
      ]
    },
    {
      "cell_type": "markdown",
      "metadata": {
        "id": "XKhg1tVkjkto"
      },
      "source": [
        "**SOLUTION**:"
      ]
    },
    {
      "cell_type": "code",
      "metadata": {
        "id": "pKC9NZDYjnkg"
      },
      "source": [
        "def F_iter(n):\r\n",
        "  if (n == 0):\r\n",
        "    return 0\r\n",
        "  elif (n == 1):\r\n",
        "    return 1\r\n",
        "  elif (n > 1):\r\n",
        "    fn = 0\r\n",
        "    fn1 = 1\r\n",
        "    fn2 = 2\r\n",
        "    for i in range(3, n):\r\n",
        "      fn = fn1 + fn2\r\n",
        "      fn1 = fn2\r\n",
        "      fn2 = fn\r\n",
        "    return fn\r\n",
        "\r\n",
        "def F(n):\r\n",
        "  if (n == 0):\r\n",
        "    return 0\r\n",
        "  elif (n == 1):\r\n",
        "    return 1\r\n",
        "  elif (n > 1):\r\n",
        "    return (F(n-1) + F(n-2))"
      ],
      "execution_count": null,
      "outputs": []
    },
    {
      "cell_type": "code",
      "metadata": {
        "colab": {
          "base_uri": "https://localhost:8080/"
        },
        "id": "vmuuU6Qb4tHO",
        "outputId": "bc611b30-0594-4b6c-9efb-f6ff2c8507f0"
      },
      "source": [
        "print(F_iter(7))\r\n",
        "print(F(7))"
      ],
      "execution_count": null,
      "outputs": [
        {
          "output_type": "stream",
          "text": [
            "13\n",
            "13\n"
          ],
          "name": "stdout"
        }
      ]
    },
    {
      "cell_type": "markdown",
      "metadata": {
        "id": "bcsyVRrLjeNA"
      },
      "source": [
        "## <ins>Exercise 3</ins>:"
      ]
    },
    {
      "cell_type": "markdown",
      "metadata": {
        "id": "mq5VNFVZjqdm"
      },
      "source": [
        "Write a Python program to create a dictionary from a string.\r\n",
        "\r\n",
        "***Note***: Track the count of the letters from the string.  \r\n",
        "<ins>For example</ins>: The string 'scn2python' should output: `{'s': 1, 'c': 1, 'n': 2, '2': 1, 'p': 1, 'y': 1, 't': 1, 'h': 1, 'o': 1}`"
      ]
    },
    {
      "cell_type": "markdown",
      "metadata": {
        "id": "w0UpFVuBjlXc"
      },
      "source": [
        "**SOLUTION**:"
      ]
    },
    {
      "cell_type": "code",
      "metadata": {
        "id": "enTtP8kljoZa",
        "colab": {
          "base_uri": "https://localhost:8080/"
        },
        "outputId": "3dfbcf73-0805-4853-a8c6-1c5949ea70a3"
      },
      "source": [
        "str1 = 'scn2python' \r\n",
        "my_dict = {}\r\n",
        "for letter in str1:\r\n",
        "  if (my_dict.get(letter) == None):\r\n",
        "    my_dict[letter] = 1\r\n",
        "  else:\r\n",
        "    my_dict[letter] += 1\r\n",
        "print(my_dict)"
      ],
      "execution_count": null,
      "outputs": [
        {
          "output_type": "stream",
          "text": [
            "{'s': 1, 'c': 1, 'n': 2, '2': 1, 'p': 1, 'y': 1, 't': 1, 'h': 1, 'o': 1}\n"
          ],
          "name": "stdout"
        }
      ]
    },
    {
      "cell_type": "markdown",
      "metadata": {
        "id": "ngPDJ-pSjgGb"
      },
      "source": [
        "## <ins>Exercise 4</ins>:"
      ]
    },
    {
      "cell_type": "markdown",
      "metadata": {
        "id": "oMSJ_bvjjrNC"
      },
      "source": [
        ""
      ]
    },
    {
      "cell_type": "markdown",
      "metadata": {
        "id": "JtjyQi2ujlzw"
      },
      "source": [
        "**SOLUTION**:"
      ]
    },
    {
      "cell_type": "code",
      "metadata": {
        "id": "ByVIxIpPjo32"
      },
      "source": [
        ""
      ],
      "execution_count": null,
      "outputs": []
    }
  ]
}
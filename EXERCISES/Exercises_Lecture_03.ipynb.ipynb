{
  "nbformat": 4,
  "nbformat_minor": 0,
  "metadata": {
    "colab": {
      "name": "SesionThree_Exercises.ipynb",
      "provenance": [],
      "collapsed_sections": []
    },
    "kernelspec": {
      "name": "python3",
      "display_name": "Python 3"
    }
  },
  "cells": [
    {
      "cell_type": "markdown",
      "metadata": {
        "id": "KKn8pLWhJ0X9"
      },
      "source": [
        "# PYTHON COURSE FOR SCIENTIFIC PROGRAMMING \n",
        "**Contributors:** \\\n",
        "Artur Llabrés Brustenga: Artur.Llabres@e-campus.uab.cat \\\n",
        "Gerard Navarro Pérez: Gerard.NavarroP@e-campus.uab.cat \\\n",
        "Arnau Parrilla Gibert: Arnau.Parrilla@e-campus.uab.cat \\\n",
        "Jan Scarabelli Calopa:Jan.Scarabelli@e-campus.uab.cat \\\n",
        "Xabier Oyanguren Asua: Xabier.Oyanguren@e-campus.uab.cat \\\n",
        "\n",
        "Course material can be found at: https://llacorp.github.io/Python-Course-for-Scientific-Programming/ "
      ]
    },
    {
      "cell_type": "markdown",
      "metadata": {
        "id": "eYqb_LTserLh"
      },
      "source": [
        "# LESSON 3 EXERCISES"
      ]
    },
    {
      "cell_type": "markdown",
      "metadata": {
        "id": "-rYMKOqDez5v"
      },
      "source": [
        "## <ins>Exercise 1</ins>:"
      ]
    },
    {
      "cell_type": "markdown",
      "metadata": {
        "id": "0-NaBG9XhgU8"
      },
      "source": [
        "Write a Python function to check whether a number is perfect or not. It should return `True` or `False`.\r\n",
        "\r\n",
        "***Wikipedia source***: In number theory, a perfect number is a positive integer that is equal to the sum of its proper positive divisors, that is, the sum of its positive divisors excluding the number itself (also known as its aliquot sum). Equivalently, a perfect number is a number that is half the sum of all of its positive divisors (including itself).  \r\n",
        "<ins>For example</ins>: The first perfect number is 6, because 1, 2, and 3 are its proper positive divisors, and 1 + 2 + 3 = 6. Equivalently, the number 6 is equal to half the sum of all its positive divisors: ( 1 + 2 + 3 + 6 ) / 2 = 6. The next perfect number is 28 = 1 + 2 + 4 + 7 + 14. This is followed by the perfect numbers 496 and 8128."
      ]
    },
    {
      "cell_type": "markdown",
      "metadata": {
        "id": "tR4v1HGeiApl"
      },
      "source": [
        "**SOLUTION**:"
      ]
    },
    {
      "cell_type": "code",
      "metadata": {
        "colab": {
          "base_uri": "https://localhost:8080/"
        },
        "id": "4Iciqs4Sh-ar",
        "outputId": "f423d936-ccad-401d-ef14-e115c40708cb"
      },
      "source": [
        "def perfect_number(n):\r\n",
        "    sum = 0\r\n",
        "    for x in range(1, n):\r\n",
        "        if n % x == 0:\r\n",
        "            sum += x\r\n",
        "    return sum == n\r\n",
        "    \r\n",
        "print(perfect_number(6))"
      ],
      "execution_count": null,
      "outputs": [
        {
          "output_type": "stream",
          "text": [
            "True\n"
          ],
          "name": "stdout"
        }
      ]
    },
    {
      "cell_type": "markdown",
      "metadata": {
        "id": "0IZIsOxNjbhw"
      },
      "source": [
        "## <ins>Exercise 2</ins>:"
      ]
    },
    {
      "cell_type": "markdown",
      "metadata": {
        "id": "PVlUe6mHjpeU"
      },
      "source": [
        ""
      ]
    },
    {
      "cell_type": "markdown",
      "metadata": {
        "id": "XKhg1tVkjkto"
      },
      "source": [
        "**SOLUTION**:"
      ]
    },
    {
      "cell_type": "code",
      "metadata": {
        "id": "pKC9NZDYjnkg"
      },
      "source": [
        ""
      ],
      "execution_count": null,
      "outputs": []
    },
    {
      "cell_type": "markdown",
      "metadata": {
        "id": "bcsyVRrLjeNA"
      },
      "source": [
        "## <ins>Exercise 3</ins>:"
      ]
    },
    {
      "cell_type": "markdown",
      "metadata": {
        "id": "mq5VNFVZjqdm"
      },
      "source": [
        ""
      ]
    },
    {
      "cell_type": "markdown",
      "metadata": {
        "id": "w0UpFVuBjlXc"
      },
      "source": [
        "**SOLUTION**:"
      ]
    },
    {
      "cell_type": "code",
      "metadata": {
        "id": "enTtP8kljoZa"
      },
      "source": [
        ""
      ],
      "execution_count": null,
      "outputs": []
    },
    {
      "cell_type": "markdown",
      "metadata": {
        "id": "ngPDJ-pSjgGb"
      },
      "source": [
        "## <ins>Exercise 4</ins>:"
      ]
    },
    {
      "cell_type": "markdown",
      "metadata": {
        "id": "oMSJ_bvjjrNC"
      },
      "source": [
        ""
      ]
    },
    {
      "cell_type": "markdown",
      "metadata": {
        "id": "JtjyQi2ujlzw"
      },
      "source": [
        "**SOLUTION**:"
      ]
    },
    {
      "cell_type": "code",
      "metadata": {
        "id": "ByVIxIpPjo32"
      },
      "source": [
        ""
      ],
      "execution_count": null,
      "outputs": []
    }
  ]
}
{
 "cells": [
  {
   "cell_type": "markdown",
   "metadata": {},
   "source": [
    "### EXERCICES LECTURE II:"
   ]
  },
  {
   "cell_type": "markdown",
   "metadata": {},
   "source": [
    "#### Exercice 1"
   ]
  },
  {
   "cell_type": "markdown",
   "metadata": {},
   "source": [
    "Escriu un programa que et pregunti si: \"Ets de la SCN2?\", entrant-li una resposta. En el cas the que la resposta sigui **si**, imprimeixi per pantalla: \"Fantàstic!!!\", qualsevol altre resposta imprimeixi: \"Aquesta no és la resposta correcta.\" i segueixi fent-te la pregunta fins que la resposta no sigui **si**."
   ]
  },
  {
   "cell_type": "code",
   "execution_count": 46,
   "metadata": {},
   "outputs": [
    {
     "name": "stdout",
     "output_type": "stream",
     "text": [
      "Ets de la SCN2? no\n",
      "Aquesta no és la resposta correcta.\n",
      "Ets de la SCN2? si\n",
      "Fantàstic!!!\n"
     ]
    }
   ],
   "source": [
    "resposta = \"\"\n",
    "while resposta != \"si\":\n",
    "    resposta = input(\"Ets de la SCN2? \")\n",
    "    if resposta == \"si\":\n",
    "        print(\"Fantàstic!!!\")\n",
    "    else:\n",
    "        print(\"Aquesta no és la resposta correcta.\")"
   ]
  },
  {
   "cell_type": "markdown",
   "metadata": {},
   "source": [
    "#### Exercice 2"
   ]
  },
  {
   "cell_type": "markdown",
   "metadata": {},
   "source": [
    "Fes un programa que mitjançant **print('* ')** representi el següent patró per un **n** qualsevol sent n el número màxim de ***** en una línea."
   ]
  },
  {
   "cell_type": "markdown",
   "metadata": {},
   "source": [
    "<img src=\"ex2python.jpg\" width=150 height=100|/>"
   ]
  },
  {
   "cell_type": "markdown",
   "metadata": {},
   "source": [
    "Pista 1: Al imprimir per pantalla fer ús de print('* ', end=\"\") per tal de no saltar a la següent línea cada vegada."
   ]
  },
  {
   "cell_type": "code",
   "execution_count": 52,
   "metadata": {},
   "outputs": [
    {
     "name": "stdout",
     "output_type": "stream",
     "text": [
      "* * * \n",
      "* \n",
      "* \n",
      "* \n"
     ]
    }
   ],
   "source": [
    "print('* ', end=\"\")\n",
    "print('* ', end=\"\")\n",
    "print('* ', end=\"\")\n",
    "print('') #canvi de línea\n",
    "print('* ')\n",
    "print('* ')\n",
    "print('* ')"
   ]
  },
  {
   "cell_type": "markdown",
   "metadata": {},
   "source": [
    "Pista 2: Separar el dibuix en 2 parts, primer fer el triangle superior i posteriorment l'inferior. És a dir:"
   ]
  },
  {
   "cell_type": "code",
   "execution_count": 55,
   "metadata": {},
   "outputs": [],
   "source": [
    "#fotos dels 2 tringles"
   ]
  },
  {
   "cell_type": "code",
   "execution_count": 53,
   "metadata": {},
   "outputs": [
    {
     "name": "stdout",
     "output_type": "stream",
     "text": [
      "\n",
      "* \n",
      "* * \n",
      "* * * \n",
      "* * * * \n",
      "* * * * * \n",
      "* * * * * * \n",
      "* * * * * * * \n",
      "* * * * * * * * \n",
      "* * * * * * * \n",
      "* * * * * * \n",
      "* * * * * \n",
      "* * * * \n",
      "* * * \n",
      "* * \n",
      "* \n"
     ]
    }
   ],
   "source": [
    "n = 8\n",
    "for i in range(n):\n",
    "    for j in range(i):\n",
    "        print('* ', end=\"\")\n",
    "    print('')\n",
    "    \n",
    "for i in range(n,0,-1):\n",
    "    for j in range(i):\n",
    "        print('* ', end=\"\")\n",
    "    print('')"
   ]
  },
  {
   "cell_type": "markdown",
   "metadata": {},
   "source": [
    "#### Exercice 3"
   ]
  },
  {
   "cell_type": "markdown",
   "metadata": {},
   "source": [
    "Fer el següent exercici primer fent ús exclusivament de bucles **while** i posteriorment només fent ús de **for**."
   ]
  },
  {
   "cell_type": "markdown",
   "metadata": {},
   "source": [
    "Donada una llista **l = [[1,2],[23,5,8],(1,1),[5,3,1,12,3]]** fes un programa que per a cada element de la llista anterior, l'iteri i obtingui un valor únic final i l'afegeixi en una nova llista. Per obtenir aquest nou valor anirem multiplicant i sumant els elements de la llista alternativament (començant per la multiplicació)."
   ]
  },
  {
   "cell_type": "markdown",
   "metadata": {},
   "source": [
    "*Exemple:*\n",
    "\n",
    "per a [1,2] tenim $1*2=2$\n",
    "\n",
    "per a [23,5,8,3] tenim $((23*5)+8)*3$\n"
   ]
  },
  {
   "cell_type": "code",
   "execution_count": 31,
   "metadata": {},
   "outputs": [
    {
     "name": "stdout",
     "output_type": "stream",
     "text": [
      "[2, 123, 1, 195]\n"
     ]
    }
   ],
   "source": [
    "l = [[1,2],[23,5,8],(1,1),[5,3,1,12,3]]\n",
    "i = 0\n",
    "new_list = []\n",
    "while i<len(l):\n",
    "    j = 0\n",
    "    multi = True\n",
    "    new_value = l[i][j]\n",
    "    while j<len(l[i])-1:\n",
    "        if multi:\n",
    "            new_value *= l[i][j+1]\n",
    "            multi = False\n",
    "        else:\n",
    "            new_value += l[i][j+1]\n",
    "            multi = True\n",
    "        j+=1\n",
    "    new_list.append(new_value)\n",
    "    i+=1\n",
    "print(new_list)"
   ]
  },
  {
   "cell_type": "code",
   "execution_count": 34,
   "metadata": {},
   "outputs": [
    {
     "name": "stdout",
     "output_type": "stream",
     "text": [
      "[2, 123, 1, 195]\n"
     ]
    }
   ],
   "source": [
    "l = [[1,2],[23,5,8],(1,1),[5,3,1,12,3]]\n",
    "new_list = []\n",
    "for i in l:\n",
    "    new_value = 0\n",
    "    multi = False\n",
    "    for j in i:\n",
    "        if multi:\n",
    "            new_value *= j\n",
    "            multi = False\n",
    "        else:\n",
    "            new_value += j\n",
    "            multi = True\n",
    "    new_list.append(new_value)\n",
    "print(new_list)"
   ]
  },
  {
   "cell_type": "code",
   "execution_count": null,
   "metadata": {},
   "outputs": [],
   "source": []
  }
 ],
 "metadata": {
  "kernelspec": {
   "display_name": "Python 3",
   "language": "python",
   "name": "python3"
  },
  "language_info": {
   "codemirror_mode": {
    "name": "ipython",
    "version": 3
   },
   "file_extension": ".py",
   "mimetype": "text/x-python",
   "name": "python",
   "nbconvert_exporter": "python",
   "pygments_lexer": "ipython3",
   "version": "3.8.5"
  }
 },
 "nbformat": 4,
 "nbformat_minor": 2
}

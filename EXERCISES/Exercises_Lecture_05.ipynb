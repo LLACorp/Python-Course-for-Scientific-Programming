{
 "cells": [
  {
   "cell_type": "markdown",
   "metadata": {},
   "source": [
    "# File manipulation"
   ]
  },
  {
   "cell_type": "markdown",
   "metadata": {},
   "source": [
    "## Exercise 1\n",
    "\n",
    "Programm a script that creates a file containing the following message:\n",
    "```\n",
    "Hi!  \n",
    "This is the last session of the python introductory course.  \n",
    "We hope you have enjoyed it!\n",
    "```\n",
    "Afterwards, the programm must print the lines one by one, adding the line number at the beggining of them and the number of words of each one at the end."
   ]
  },
  {
   "cell_type": "markdown",
   "metadata": {},
   "source": [
    "#### Possible solution"
   ]
  },
  {
   "cell_type": "code",
   "execution_count": 1,
   "metadata": {},
   "outputs": [
    {
     "name": "stdout",
     "output_type": "stream",
     "text": [
      "0 Hi! 1\n",
      "1 This is the last session of the python introductory course. 10\n",
      "2 We hope you have enjoyed it! 6\n"
     ]
    }
   ],
   "source": [
    "fileHandle = open(\"file_1.txt\", \"w\")\n",
    "fileHandle.write(\"Hi!\\n\")\n",
    "fileHandle.write(\"This is the last session of the python introductory course.\\n\")\n",
    "fileHandle.close()\n",
    "\n",
    "#Just to see how append mode works, not necessary:\n",
    "fileHandle = open(\"file_1.txt\", \"a\") \n",
    "fileHandle.write(\"We hope you have enjoyed it!\\n\")\n",
    "fileHandle.close()\n",
    "\n",
    "#Now we print the text.\n",
    "fileHandle = open(\"file_1.txt\", \"r\")\n",
    "for i,line in enumerate(fileHandle):\n",
    "    print(str(i) + \" \" + line[:-1] + \" \" + str(line.count(' ')+1) )\n",
    "\n",
    "fileHandle.close()"
   ]
  },
  {
   "cell_type": "markdown",
   "metadata": {},
   "source": [
    "Note that we have to use $\\textit{line[:-1]}$ to avoid printing the jump-line character of each line, as the loop automatically prints line by line the text."
   ]
  },
  {
   "cell_type": "markdown",
   "metadata": {},
   "source": [
    "## Exercise 2\n",
    "\n",
    "Create a script containing a function `file_coder()` that receives three parameters passed as input by the user: the name of both the file we we want to codify and the one we want to save the result in, in string format, and an integer number. \n",
    "\n",
    "The goal of this function is to codify the information in the input file and save the result in the output file, name of which will be passed as argument by the user. The method that you should use is the simple classical  $\\textit{Caesar cipher}$, which consists of changing all characters by another one some fixed number of positions down the alphabet we are working with, in this case ASCII code. \n",
    "\n",
    "The script will have to make sure that the arguments are valid, so that they are in the corerct forma and making sure that exists such input file. If not, the programm will have to ask again for the arguments.\n",
    "\n",
    "*Note*: Remember that in the end everything in your computer is saved as binarized numbers, 1-s or 0-s. As such, text or characters, must also be saved as numbers. The typical coding used to code each character of text into a number is the so called ASCII. For instance 'A' is saved as number 65, 'B' as 66 etc. You can find the dictionary bellow. In Python, in order to know the ASCII number for a character, say 'A' you can use the function `ord('A')`. On the other hand, if you need to convert an integer into its corresponding character, like 65 into 'A', you can use `ord(65)`.\n",
    "<img src=\"https://upload.wikimedia.org/wikipedia/commons/thumb/1/1b/ASCII-Table-wide.svg/875px-ASCII-Table-wide.svg.png\" alt=\"Drawing\" style=\"width: 600px;\"/>\n",
    "\n"
   ]
  },
  {
   "cell_type": "markdown",
   "metadata": {},
   "source": [
    "#### Possible solution"
   ]
  },
  {
   "cell_type": "markdown",
   "metadata": {},
   "source": [
    "Definition of function:"
   ]
  },
  {
   "cell_type": "code",
   "execution_count": 2,
   "metadata": {},
   "outputs": [],
   "source": [
    "def file_coder(infile, n, outfile):\n",
    "    infileHandle = open(infile, \"r\")\n",
    "    outfileHandle = open(outfile, \"w\")\n",
    "    \n",
    "    for line in infileHandle:\n",
    "        for char in line[:-1]:\n",
    "            outfileHandle.write(chr(ord(char)+n))\n",
    "        \n",
    "        outfileHandle.write('\\n')\n",
    "    \n",
    "    infileHandle.close()\n",
    "    outfileHandle.close()"
   ]
  },
  {
   "cell_type": "markdown",
   "metadata": {},
   "source": [
    "Function call:"
   ]
  },
  {
   "cell_type": "code",
   "execution_count": 3,
   "metadata": {
    "scrolled": true
   },
   "outputs": [
    {
     "name": "stdout",
     "output_type": "stream",
     "text": [
      "Enter input file name:file_1.txt\n",
      "Enter number of positions:3\n",
      "Enter output file name:out.txt\n",
      "\n",
      "Coded file:\n",
      "\n",
      "Kl$\n",
      "Wklv#lv#wkh#odvw#vhvvlrq#ri#wkh#s|wkrq#lqwurgxfwru|#frxuvh1\n",
      "Zh#krsh#|rx#kdyh#hqmr|hg#lw$\n",
      "\n"
     ]
    }
   ],
   "source": [
    "name_of_infile = input(\"Enter input file name:\")\n",
    "num_pos = int(input(\"Enter number of positions:\"))\n",
    "name_of_outfile = input(\"Enter output file name:\")\n",
    "\n",
    "try:\n",
    "    file_coder(infile = name_of_infile, n = num_pos, outfile = name_of_outfile)\n",
    "\n",
    "except IOError:\n",
    "    print(\"Input file not found.\")\n",
    "\n",
    "print(\"\\nCoded file:\\n\")\n",
    "with open(name_of_outfile, 'r') as reader:    \n",
    "    print(reader.read())"
   ]
  },
  {
   "cell_type": "markdown",
   "metadata": {},
   "source": [
    "## Exercise 3\n",
    "\n",
    "Let's now use .npy files for plotting data points. To do so, choose a certain number of points to plot $N$, a float $\\lambda$, say $\\lambda=0.5$ and plot the function $f(x;\\lambda)=sin(x/\\lambda)$ for a certain range $x\\in[x_{min},x_{max}]$. Supose that you are receiving the x points from a `.npy` file. Therefore, the script should firstly create a grid of pints (hint: you can use the code of tha last session) and write the full list in a  `.npy ` file. Secondly, read the x points where the function has to be evaluated and then plot the result."
   ]
  },
  {
   "cell_type": "markdown",
   "metadata": {},
   "source": [
    "#### Possible solution"
   ]
  },
  {
   "cell_type": "code",
   "execution_count": 5,
   "metadata": {},
   "outputs": [
    {
     "data": {
      "image/png": "[encoded data removed]",
      "text/plain": [
       "<Figure size 432x288 with 1 Axes>"
      ]
     },
     "metadata": {
      "needs_background": "light"
     },
     "output_type": "display_data"
    }
   ],
   "source": [
    "import numpy as np\n",
    "import matplotlib.pyplot as plt\n",
    "\n",
    "#define the function\n",
    "def f(x, L):\n",
    "    return np.sin(x/L) \n",
    "\n",
    "# Choose the parameters\n",
    "L=0.5\n",
    "xmin=-5\n",
    "xmax=5\n",
    "N=500 # number of points to plot\n",
    "\n",
    "# Generate the points, save them and load them.\n",
    "x = np.linspace(xmin, xmax, num=N)\n",
    "np.save('xdata.npy', x)\n",
    "y = f(np.load('xdata.npy'), L = L)\n",
    "\n",
    "#Plot of the results\n",
    "plt.plot(x, y, 'o', linewidth=1.0, markersize=2)\n",
    "plt.title(f'Function sin(x/{L})')\n",
    "plt.show()"
   ]
  },
  {
   "cell_type": "markdown",
   "metadata": {},
   "source": [
    "## Exercise 4\n",
    "\n",
    "Create a function that extracts, from a text file containing many arrays, only one of them. This function will receive as parameters the name of the file containing the arrays and the i-th position of the desired one. \n",
    "\n",
    "Finally, the script should ask the user for a file name and a the line of the matrix to be extracted, calls the function and prints the result.\n",
    "\n",
    "Repeat the problem, but working with a .npz file. The result should be the same.\n",
    "\n",
    "Advise: Use a small N to avoid probblems with the .txt file, for example N = 5."
   ]
  },
  {
   "cell_type": "markdown",
   "metadata": {},
   "source": [
    "#### Possible solution"
   ]
  },
  {
   "cell_type": "markdown",
   "metadata": {},
   "source": [
    "Creation of the file containing the data:"
   ]
  },
  {
   "cell_type": "code",
   "execution_count": 78,
   "metadata": {
    "scrolled": true
   },
   "outputs": [],
   "source": [
    "import numpy as np\n",
    "np.set_printoptions(threshold=np.inf)\n",
    "\n",
    "n = 5 #n rows and n cols\n",
    "matrix = np.random.randint(low = 10, high = 99, size = (n,n)) #creation of a random n x n integer matrix\n",
    "\n",
    "#For txt file\n",
    "with open(\"data.txt\",\"w\") as fileHandle:\n",
    "    fileHandle.write(str(matrix))\n",
    "\n",
    "#For npz file\n",
    "np.savez_compressed(\"data.npz\",matrix)"
   ]
  },
  {
   "cell_type": "markdown",
   "metadata": {},
   "source": [
    "Definition of the functions:"
   ]
  },
  {
   "cell_type": "code",
   "execution_count": 100,
   "metadata": {},
   "outputs": [],
   "source": [
    "import numpy as np\n",
    "def LoadRowTXT(file, line):\n",
    "    try:\n",
    "        with open(file,\"r\") as fileHandle: \n",
    "            row = np.array(fileHandle.readlines()[line][1:])\n",
    "            return row\n",
    "\n",
    "    except IOError:\n",
    "        print(\"File not found or incorrect format. Try again.\")\n",
    "        \n",
    "\n",
    "def LoadRowNPZ(file, line):\n",
    "    try:\n",
    "        row = np.load(file)['arr_0'][line]\n",
    "        return row\n",
    "\n",
    "    except IOError:\n",
    "        print(\"File not found or incorrect format. Try again.\")\n",
    "        "
   ]
  },
  {
   "cell_type": "markdown",
   "metadata": {},
   "source": [
    "Function calls:"
   ]
  },
  {
   "cell_type": "code",
   "execution_count": 103,
   "metadata": {},
   "outputs": [
    {
     "name": "stdout",
     "output_type": "stream",
     "text": [
      "Line to be extracted:1\n",
      "Name of .txt file:data.txt\n",
      "Name of .npz file:data.npz\n",
      "\n",
      "Results:\n",
      "\n",
      "[72 68 89 82 75]\n",
      "\n",
      "[72 68 89 82 75]\n"
     ]
    }
   ],
   "source": [
    "line = int(input(\"Line to be extracted:\"))\n",
    "file_txt = input(\"Name of .txt file:\")\n",
    "file_npz = input(\"Name of .npz file:\")\n",
    "\n",
    "print(\"\\nResults:\\n\")\n",
    "row = LoadRowTXT(file_txt, line)\n",
    "print(row)\n",
    "\n",
    "row = LoadRowNPZ(file_npz, line)\n",
    "print(row)"
   ]
  },
  {
   "cell_type": "code",
   "execution_count": null,
   "metadata": {},
   "outputs": [],
   "source": []
  }
 ],
 "metadata": {
  "kernelspec": {
   "display_name": "Python 3",
   "language": "python",
   "name": "python3"
  },
  "language_info": {
   "codemirror_mode": {
    "name": "ipython",
    "version": 3
   },
   "file_extension": ".py",
   "mimetype": "text/x-python",
   "name": "python",
   "nbconvert_exporter": "python",
   "pygments_lexer": "ipython3",
   "version": "3.7.3"
  }
 },
 "nbformat": 4,
 "nbformat_minor": 4
}

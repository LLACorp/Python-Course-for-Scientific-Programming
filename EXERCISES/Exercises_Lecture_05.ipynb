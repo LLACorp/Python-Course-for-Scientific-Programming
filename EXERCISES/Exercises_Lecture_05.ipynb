{
 "cells": [
  {
   "cell_type": "markdown",
   "metadata": {},
   "source": [
    "\n",
    "# Lecture V: EXERCISES\n",
    "\n",
    "----"
   ]
  },
  {
   "cell_type": "markdown",
   "metadata": {},
   "source": [
    "## Exercise 1\n",
    "\n",
    "Programm a script that creates a file containing the following message:\n",
    "```\n",
    "Hi!  \n",
    "This is the last session of the python introductory course.  \n",
    "We hope you have enjoyed it!\n",
    "```\n",
    "Afterwards, the programm must print the lines one by one, adding the line number at the beggining of them and the number of words of each one at the end."
   ]
  },
  {
   "cell_type": "markdown",
   "metadata": {},
   "source": [
    "#### Possible solution"
   ]
  },
  {
   "cell_type": "code",
   "execution_count": 1,
   "metadata": {},
   "outputs": [
    {
     "name": "stdout",
     "output_type": "stream",
     "text": [
      "0 Hi! 1\n",
      "1 This is the last session of the python introductory course. 10\n",
      "2 We hope you have enjoyed it! 6\n"
     ]
    }
   ],
   "source": [
    "fileHandle = open(\"file_1.txt\", \"w\")\n",
    "fileHandle.write(\"Hi!\\n\")\n",
    "fileHandle.write(\"This is the last session of the python introductory course.\\n\")\n",
    "fileHandle.close()\n",
    "\n",
    "#Just to see how append mode works, not necessary:\n",
    "fileHandle = open(\"file_1.txt\", \"a\") \n",
    "fileHandle.write(\"We hope you have enjoyed it!\\n\")\n",
    "fileHandle.close()\n",
    "\n",
    "#Now we print the text.\n",
    "fileHandle = open(\"file_1.txt\", \"r\")\n",
    "for i,line in enumerate(fileHandle):\n",
    "    print(str(i) + \" \" + line[:-1] + \" \" + str(line.count(' ')+1) )\n",
    "\n",
    "fileHandle.close()"
   ]
  },
  {
   "cell_type": "markdown",
   "metadata": {},
   "source": [
    "Note that we have to use $\\textit{line[:-1]}$ to avoid printing the jump-line character of each line, as the loop automatically prints line by line the text."
   ]
  },
  {
   "cell_type": "markdown",
   "metadata": {},
   "source": [
    "## Exercise 2\n",
    "\n",
    "Create a script containing a function `file_coder()` that receives three parameters passed as input by the user: the name of both the file we we want to codify and the one we want to save the result in, in string format, and an integer number. \n",
    "\n",
    "The goal of this function is to codify the information in the input file and save the result in the output file, name of which will be passed as argument by the user. The method that you should use is the simple classical  $\\textit{Caesar cipher}$, which consists of changing all characters by another one some fixed number of positions down the alphabet we are working with, in this case ASCII code. \n",
    "\n",
    "The script will have to make sure that the arguments are valid, so that they are in the corerct forma and making sure that exists such input file. If not, the programm will have to ask again for the arguments.\n",
    "\n",
    "*Note*: Remember that in the end everything in your computer is saved as binarized numbers, 1-s or 0-s. As such, text or characters, must also be saved as numbers. The typical coding used to code each character of text into a number is the so called ASCII. For instance 'A' is saved as number 65, 'B' as 66 etc. You can find the dictionary bellow. In Python, in order to know the ASCII number for a character, say 'A' you can use the function `ord('A')`. On the other hand, if you need to convert an integer into its corresponding character, like 65 into 'A', you can use `ord(65)`.\n",
    "<img src=\"https://upload.wikimedia.org/wikipedia/commons/thumb/1/1b/ASCII-Table-wide.svg/875px-ASCII-Table-wide.svg.png\" alt=\"Drawing\" style=\"width: 600px;\"/>\n",
    "\n"
   ]
  },
  {
   "cell_type": "markdown",
   "metadata": {},
   "source": [
    "#### Possible solution"
   ]
  },
  {
   "cell_type": "markdown",
   "metadata": {},
   "source": [
    "Definition of function:"
   ]
  },
  {
   "cell_type": "code",
   "execution_count": 2,
   "metadata": {},
   "outputs": [],
   "source": [
    "def file_coder(infile, n, outfile):\n",
    "    infileHandle = open(infile, \"r\")\n",
    "    outfileHandle = open(outfile, \"w\")\n",
    "    \n",
    "    for line in infileHandle:\n",
    "        for char in line[:-1]:\n",
    "            outfileHandle.write(chr(ord(char)+n))\n",
    "        \n",
    "        outfileHandle.write('\\n')\n",
    "    \n",
    "    infileHandle.close()\n",
    "    outfileHandle.close()"
   ]
  },
  {
   "cell_type": "markdown",
   "metadata": {},
   "source": [
    "Function call:"
   ]
  },
  {
   "cell_type": "code",
   "execution_count": 3,
   "metadata": {
    "scrolled": true
   },
   "outputs": [
    {
     "name": "stdout",
     "output_type": "stream",
     "text": [
      "Enter input file name:file_1.txt\n",
      "Enter number of positions:3\n",
      "Enter output file name:out.txt\n",
      "\n",
      "Coded file:\n",
      "\n",
      "Kl$\n",
      "Wklv#lv#wkh#odvw#vhvvlrq#ri#wkh#s|wkrq#lqwurgxfwru|#frxuvh1\n",
      "Zh#krsh#|rx#kdyh#hqmr|hg#lw$\n",
      "\n"
     ]
    }
   ],
   "source": [
    "name_of_infile = input(\"Enter input file name:\")\n",
    "num_pos = int(input(\"Enter number of positions:\"))\n",
    "name_of_outfile = input(\"Enter output file name:\")\n",
    "\n",
    "try:\n",
    "    file_coder(infile = name_of_infile, n = num_pos, outfile = name_of_outfile)\n",
    "\n",
    "except IOError:\n",
    "    print(\"Input file not found.\")\n",
    "\n",
    "print(\"\\nCoded file:\\n\")\n",
    "with open(name_of_outfile, 'r') as reader:    \n",
    "    print(reader.read())"
   ]
  },
  {
   "cell_type": "markdown",
   "metadata": {},
   "source": [
    "## Exercise 3\n",
    "\n",
    "Let's now use .npy files for plotting data points. To do so, choose a certain number of points to plot $N$, a float $\\lambda$, say $\\lambda=0.5$ and plot the function $f(x;\\lambda)=sin(x/\\lambda)$ for a certain range $x\\in[x_{min},x_{max}]$. Supose that you are receiving the x points from a `.npy` file. Therefore, the script should firstly create a grid of pints (hint: you can use the code of tha last session) and write the full list in a  `.npy ` file. Secondly, read the x points where the function has to be evaluated and then plot the result."
   ]
  },
  {
   "cell_type": "markdown",
   "metadata": {},
   "source": [
    "#### Possible solution"
   ]
  },
  {
   "cell_type": "code",
   "execution_count": 5,
   "metadata": {},
   "outputs": [
    {
     "data": {
      "image/png": "[encoded data removed]",
      "text/plain": [
       "<Figure size 432x288 with 1 Axes>"
      ]
     },
     "metadata": {
      "needs_background": "light"
     },
     "output_type": "display_data"
    }
   ],
   "source": [
    "import numpy as np\n",
    "import matplotlib.pyplot as plt\n",
    "\n",
    "#define the function\n",
    "def f(x, L):\n",
    "    return np.sin(x/L) \n",
    "\n",
    "# Choose the parameters\n",
    "L=0.5\n",
    "xmin=-5\n",
    "xmax=5\n",
    "N=500 # number of points to plot\n",
    "\n",
    "# Generate the points, save them and load them.\n",
    "x = np.linspace(xmin, xmax, num=N)\n",
    "np.save('xdata.npy', x)\n",
    "y = f(np.load('xdata.npy'), L = L)\n",
    "\n",
    "#Plot of the results\n",
    "plt.plot(x, y, 'o', linewidth=1.0, markersize=2)\n",
    "plt.title(f'Function sin(x/{L})')\n",
    "plt.show()"
   ]
  },
  {
   "cell_type": "markdown",
   "metadata": {},
   "source": [
    "## Exercise 4\n",
    "\n",
    "Create a function that extracts, from a text file containing many arrays, only one of them. This function will receive as parameters the name of the file containing the arrays and the i-th position of the desired one. \n",
    "\n",
    "Finally, the script should ask the user for a file name and a the line of the matrix to be extracted, calls the function and prints the result.\n",
    "\n",
    "Repeat the problem, but working with a .npz file. The result should be the same.\n",
    "\n",
    "Advice: Use a small N to avoid probblems with the .txt file, for example N = 5."
   ]
  },
  {
   "cell_type": "markdown",
   "metadata": {},
   "source": [
    "#### Possible solution"
   ]
  },
  {
   "cell_type": "markdown",
   "metadata": {},
   "source": [
    "Creation of the file containing the data:"
   ]
  },
  {
   "cell_type": "code",
   "execution_count": 78,
   "metadata": {
    "scrolled": true
   },
   "outputs": [],
   "source": [
    "import numpy as np\n",
    "np.set_printoptions(threshold=np.inf)\n",
    "\n",
    "n = 5 #n rows and n cols\n",
    "matrix = np.random.randint(low = 10, high = 99, size = (n,n)) #creation of a random n x n integer matrix\n",
    "\n",
    "#For txt file\n",
    "with open(\"data.txt\",\"w\") as fileHandle:\n",
    "    fileHandle.write(str(matrix))\n",
    "\n",
    "#For npz file\n",
    "np.savez_compressed(\"data.npz\",matrix)"
   ]
  },
  {
   "cell_type": "markdown",
   "metadata": {},
   "source": [
    "Definition of the functions:"
   ]
  },
  {
   "cell_type": "code",
   "execution_count": 100,
   "metadata": {},
   "outputs": [],
   "source": [
    "import numpy as np\n",
    "def LoadRowTXT(file, line):\n",
    "    try:\n",
    "        with open(file,\"r\") as fileHandle: \n",
    "            row = np.array(fileHandle.readlines()[line][1:])\n",
    "            return row\n",
    "\n",
    "    except IOError:\n",
    "        print(\"File not found or incorrect format. Try again.\")\n",
    "        \n",
    "\n",
    "def LoadRowNPZ(file, line):\n",
    "    try:\n",
    "        row = np.load(file)['arr_0'][line]\n",
    "        return row\n",
    "\n",
    "    except IOError:\n",
    "        print(\"File not found or incorrect format. Try again.\")\n",
    "        "
   ]
  },
  {
   "cell_type": "markdown",
   "metadata": {},
   "source": [
    "Function calls:"
   ]
  },
  {
   "cell_type": "code",
   "execution_count": 103,
   "metadata": {},
   "outputs": [
    {
     "name": "stdout",
     "output_type": "stream",
     "text": [
      "Line to be extracted:1\n",
      "Name of .txt file:data.txt\n",
      "Name of .npz file:data.npz\n",
      "\n",
      "Results:\n",
      "\n",
      "[72 68 89 82 75]\n",
      "\n",
      "[72 68 89 82 75]\n"
     ]
    }
   ],
   "source": [
    "line = int(input(\"Line to be extracted:\"))\n",
    "file_txt = input(\"Name of .txt file:\")\n",
    "file_npz = input(\"Name of .npz file:\")\n",
    "\n",
    "print(\"\\nResults:\\n\")\n",
    "row = LoadRowTXT(file_txt, line)\n",
    "print(row)\n",
    "\n",
    "row = LoadRowNPZ(file_npz, line)\n",
    "print(row)"
   ]
  },
  {
   "cell_type": "markdown",
   "metadata": {},
   "source": [
    "# Exercise 5: Creating a GIF animation using different Images\n",
    "\n",
    "We acknowledged in the previous lecture's exercises that when simulations got heavy, trying to watch them live was problematic. Instead what we could do is to save all the frames generated by the simulation in a temporary directory, and only after the simulation has ended, generate an animation (say a `gif` \"moving image\") with a desired frame-rate.\n",
    "\n",
    "Matplotlib itself has a way to generate animations efficiently. However, it is quite cumbersome for beginners. Instead there are some other libraries like `imageio` that provide us the most comfortable and direct solutions. For that, `imageio` has a function called `mimsave()`, which lets us input it a path for the output gif, a list of paths to the composing images for the animation (ordered as we want them to be ordered in the animation), and rather the number of frames per second to output or the duration of each frame in seconds (in case we want some frame to be shown for longer than the rest for instance).\n",
    "\n",
    "For this you will first need to import the `imageio` library with `import imageio`. If your Anaconda distribution did not carry it already, you can install it with the following line in Jupyter:\n",
    "\n",
    "`!pip install imageio`\n",
    "\n",
    "or just `pip install imageio` in a terminal. (It turns out that if you write a `!` sign in front of a code line in Jupyter Notebook -not in a python script in general-, the next line will be executed in the underlying terminal that is interpreting the notebook!).\n",
    "\n",
    "Then, as an example, if you have the following paths of images in a list `['image1.png', 'image2.png', './subfolder/image3.png']`, you can generate a gif called `my_animation.gif` as:\n",
    "\n",
    "`imageio.mimsave('my_animation.gif', ['image1.png', 'image2.png', './subfolder/image3.png'], fps=1)`\n",
    "\n",
    "which would generate a gif that has a length of 3 seconds, where we see only one frame per second. If instead we want each frame to have a certain length we can do:\n",
    "\n",
    "`imageio.mimsave('my_animation.gif', ['image1.png', 'image2.png', './subfolder/image3.png'], duration=[2, 0.5, 1])`\n",
    "\n",
    "The first frame will be shown for 2 seconds, then the second for half a second and third for a whole second (a total of 3.5 seconds).\n",
    "\n",
    "**Exercise:** Take the Schrödinger Equation simulator from the previous lecture's exercises and generate the animation instead of showing the frames on screen (or do both). For this, create a directory where the execution is running, call it `temp`, and save the figures there (remember the `plt.savefig(path)` function to save plots to memory as images). When the simulator is done, run the gif generation, when it is done, remove all the images in the `temp` directory and remove the `temp` folder itself, all authomatically.\n",
    "\n",
    "#### Possible Solution"
   ]
  },
  {
   "cell_type": "code",
   "execution_count": 23,
   "metadata": {},
   "outputs": [],
   "source": [
    "import numpy as np\n",
    "import matplotlib.pyplot as plt\n",
    "import os\n",
    "import imageio\n",
    "\n",
    "# User parameter declaration:\n",
    "\n",
    "dt=0.000001\n",
    "N=300\n",
    "last_time=2\n",
    "L=10.0\n",
    "plotEvery=8000\n",
    "\n",
    "def f(x, mu0=2.2, sigma=0.6, k0=0.0): # initially the particle will be a still gaussian distribution\n",
    "    return (1/(np.pi*sigma**2))**(1/4)*np.exp(1j*k0*x-(x-mu0)**2/(2*sigma**2))\n",
    "\n",
    "def V(x): # we will try a harmonic potential\n",
    "    return 10*(x-(L/2))**2"
   ]
  },
  {
   "cell_type": "code",
   "execution_count": 28,
   "metadata": {},
   "outputs": [],
   "source": [
    "def one_Quantum_Particle_in_1d_Simulator(dt, N, last_time, L, f, V, plotEvery, fps=10, dpi=150):\n",
    "    # Create the temp folder to save the images\n",
    "    os.makedirs(\"./temp/\", exist_ok=True)\n",
    "    image_paths = []\n",
    "    \n",
    "    # Define the Planck Constant and the mass of the particle\n",
    "    hbar=1\n",
    "    m=1\n",
    "    \n",
    "    # Compute the spatial grid width\n",
    "    dx = L/N\n",
    "    \n",
    "    # Compute the x points\n",
    "    x = np.array([ j*dx for j in range(0,N+1)])\n",
    "    \n",
    "    # Compute the potential energy in those points\n",
    "    pot = np.array([ V(xk) for xk in x])\n",
    "    \n",
    "    # Initialize the psi array for the first iteration\n",
    "    psi_0 = np.array([ f(xk) for xk in x])\n",
    "    \n",
    "    # Initialize the array psi for the next iterations as a zeros array\n",
    "    psi_1 = np.zeros(psi_0.shape, dtype=np.complex) # note that the first and last positions are always 0\n",
    "    \n",
    "    # Initialize time counter\n",
    "    t=0\n",
    "    iteration=0\n",
    "    print(\"Generating simulation plots...\")\n",
    "    \n",
    "    while t<last_time:\n",
    "        # update time\n",
    "        iteration+=1\n",
    "        t=iteration*dt\n",
    "        \n",
    "        # Compute the temperatures for this new time at each position of the grid\n",
    "        # Note that we dont need to change the value of the boundaries\n",
    "        psi_1[1:N] = (1-1j*dt/hbar*pot[1:N]-1j*dt*hbar/(m*dx**2))*psi_0[1:N] + 1j*hbar*dt/(2*m*dx**2)*( psi_0[2:] + psi_0[:(N-1)] )\n",
    "        \n",
    "        # You could also have done it using for loops instead of treating them as vectors,\n",
    "        # but that will be slower to compute. Try it though, it's a good practice.\n",
    "        \n",
    "        # Now, let us plot this time iteration\n",
    "        \n",
    "        if(iteration%plotEvery==0):           \n",
    "            new_image_path = f'./temp/schrodingerEvolution_time_{t}.png'\n",
    "            plot_wavefunction_and_potential_and_save_it(psi_1, pot, x, t, N, dt, \\\n",
    "                            saving_path=new_image_path, dpi=dpi)\n",
    "            image_paths.append(new_image_path)\n",
    "            # print(f\"Time {t:3.2}/{last_time} computed!\")\n",
    "            \n",
    "        # Swap what we previously called previous iteration\n",
    "        psi_0 = psi_1\n",
    "    \n",
    "    print(\"Generating GIF...\")\n",
    "    images_for_animation = [ imageio.imread(image_path) for image_path in image_paths]\n",
    "    imageio.mimsave('Schrodinger_Eqt_Simul.gif', images_for_animation, fps=fps)\n",
    "    \n",
    "    print(\"Erasing mess...\")\n",
    "    for image_path in image_paths:\n",
    "        os.remove(image_path)\n",
    "    os.rmdir('./temp/')\n",
    "    print(\"\\nDone!!\")\n",
    "    \n",
    "        \n",
    "def plot_wavefunction_and_potential_and_save_it(psi, pot, x, t, N, dt, saving_path, dpi):\n",
    "    # Compute the probability density\n",
    "    probability = np.abs(psi)**2\n",
    "\n",
    "    # Clear previous plots\n",
    "    plt.clf()\n",
    "    \n",
    "    # Plot\n",
    "    plt.plot(x, probability, '-', label=f'Probability(x,time={round(t,4)})', markersize=1.5) # plot the probability\n",
    "    plt.plot(x, np.real(psi), '-', label=f'Real part', markersize=1.5) # plot the real part\n",
    "    plt.plot(x, np.imag(psi), '-', label=f'Imaginary Part', markersize=1.5) # plot the imaginary part\n",
    "\n",
    "    plt.ylim(-1.6,1.6)\n",
    "    plt.xlabel('Position x')\n",
    "    plt.ylabel('Probability Density |psi|**2')\n",
    "    plt.legend()\n",
    "\n",
    "    # In order to have the potential energy in a differnet y axis we use twinx\n",
    "    plt.twinx()\n",
    "    plt.plot(x, pot, '-', label=f'Potential Energy', markersize=1, color='grey') # plot the potential\n",
    "    plt.ylabel('Potential Energy')\n",
    "\n",
    "    plt.legend() # to show the labels of the plots\n",
    "    plt.title(f'Time Evolution for Quantum Particle using\\n N={N} points in space and time step dt={dt}')\n",
    "\n",
    "    plt.savefig(saving_path, dpi=dpi) # choose the resolution of the images with dpi\n"
   ]
  },
  {
   "cell_type": "code",
   "execution_count": 29,
   "metadata": {
    "scrolled": false
   },
   "outputs": [
    {
     "name": "stdout",
     "output_type": "stream",
     "text": [
      "Generating simulation plots...\n",
      "Generating GIF...\n",
      "Erasing mess...\n",
      "\n",
      "Done!!\n"
     ]
    },
    {
     "data": {
      "image/png": "[encoded data removed]",
      "text/plain": [
       "<Figure size 432x288 with 2 Axes>"
      ]
     },
     "metadata": {
      "needs_background": "light"
     },
     "output_type": "display_data"
    }
   ],
   "source": [
    "one_Quantum_Particle_in_1d_Simulator(dt, N, last_time, L, f, V, plotEvery)"
   ]
  },
  {
   "cell_type": "markdown",
   "metadata": {},
   "source": [
    "# Exercise 6: Cool 3 Body Simulation Initial Conditions\n",
    "\n",
    "As you could verify testing different initial conditions in the last lecture's exercises it is hard to find harmonious configurations. However, this is still today an active field of research (looking for solutions of the three body problem of classical Newtonian gravity and their stability). In the following page, its author gives us some datasets with specially interesting initial conditions with their names and authors, even links to the original papers:\n",
    "\n",
    "https://observablehq.com/@rreusser/periodic-three-body-initial-conditions\n",
    "\n",
    "We have downloaded one of them in a so called `json` format. This is a very standard format for datasets to be used in multiple programming languages. In python thjey can be read as dictionaries using the `json` library. In order to load a `json` file's content to a Python dictionary, after importing the `json` library, we can use the function `load`. For this, we must first open the file in read mode, get its file-handle and give it to the function, like this:\n",
    "\n",
    "    input_file = open(\"myfile.json\", \"r\")\n",
    "\n",
    "    data_dictionary = json.dump(input_file)\n",
    "\n",
    "    input_file.close()\n",
    "\n",
    "And then the data will be in `data_dictionary`. In fact if you open the `.json` file with a text reader directly, you will notice that it has exactly the shape of a python dictionary! This is not just a coincidence obviously.\n",
    "\n",
    "If we wanted to dump a dictionary to a json file we could do instead:\n",
    "\n",
    "    out_file = open(\"myfile.json\", \"w\")\n",
    "\n",
    "    json.dump(my_dictionary, out_file)\n",
    "\n",
    "    out_file.close()\n",
    "    \n",
    "For more details you can surf the net.\n",
    "\n",
    "Now, download the `threeBodyInitialConditions.json` file we have uploaded for this lecture and open it in dictionary form by first doing `import json`. Look at its structure, it is a dictionary of dictionaries. Roughly it is classified by researchers, then the name of the initial condition type, then the mode, and then there is the information of the initial conditions: a link to a credit page, the discovery year etc., but most importantly for us, the initial x and v coordinates.\n",
    "\n",
    "**Exercise**: First similar to Exercise 5, make a GIF generating version of the N body simulator of the previous lecture's exercises. Then, import the `json` and make a menu (using prints and inputs) showing the user the possible authors, condition types and modes in the dictionary and allowing her/him to choose the the desired mode. Then the code should run the simulator with those conditions and output the gif.\n",
    "\n",
    "Note that these $N=3$ body initial conditions are given for 2D simulations, and ours are 3D. That is, they are given as `'x' : [[1.5, 0], [0.4, 0.5], [0.1, 0.3]]`, which means we need to add an extra collumn (with zeros for example) for our simulations.\n",
    "\n",
    "Also, note that these initial conditions are so refined that many are quite unstable, which means that numerical error will build up fast. Therefore, with our so simple method to solve the differential equaiton you will need to put the time step $\\Delta t$ veery small to see harmonious results!"
   ]
  },
  {
   "cell_type": "markdown",
   "metadata": {},
   "source": [
    "### Possible Solution for the Generation of GIFs with the N Body simulator"
   ]
  },
  {
   "cell_type": "code",
   "execution_count": 1,
   "metadata": {},
   "outputs": [],
   "source": [
    "import numpy as np\n",
    "import matplotlib.pyplot as plt\n",
    "import matplotlib\n",
    "import imageio\n",
    "import os\n",
    "\n",
    "def run_N_Body_simulator(N, positions_now, velocities_now, masses, additional_parameters,\n",
    "                    force_list, t0, tf, timeIts, plotEvery, limits, J_trace, exp_name=\"\", dpi=150, fps=10):\n",
    "    os.makedirs(\"./temp\", exist_ok=True)\n",
    "    image_paths= []\n",
    "    \n",
    "    # Compute the times in which the simulator will compute a step:\n",
    "    times = np.linspace(start=t0, stop=tf, num=timeIts)\n",
    "    # Get time increment delta t\n",
    "    dt = times[1]-times[0]\n",
    "    \n",
    "    positions = np.zeros((J_trace, positions_now.shape[0], positions_now.shape[1]))\n",
    "    positions[:] = positions_now # copy the same position in all J\n",
    "    \n",
    "    print(\"Generating images...\")\n",
    "    for it, t in enumerate(times):\n",
    "        # a Nx3 array (matrix) where we will save the forces in each time\n",
    "        forces = np.zeros(positions_now.shape)\n",
    "    \n",
    "        # Step 1, compute the total force on each particle\n",
    "        for k, xk in enumerate(positions[0]):\n",
    "            for j, xj in enumerate(positions[0]): # each of the other particles\n",
    "                if j!=k: # does not self-interact!\n",
    "                    for force in force_list:\n",
    "                        forces[k,:] += force(xk, xj, masses[k], masses[j], additional_parameters[k], additional_parameters[j])\n",
    "        \n",
    "        # Step 2, compute the velcity in the next time\n",
    "        velocities_next = velocities_now + forces*dt\n",
    "        \n",
    "        # Step 3, compute the position of the particles in the next time\n",
    "        # first move all the positions one step onward\n",
    "        positions[1:, :, :] = positions[:-1,:,:] # copy in the slots from 1 to J the ones that were in 0 to J-1\n",
    "        \n",
    "        positions[0,:,:] = positions[1,:,:] + velocities_now*dt\n",
    "        \n",
    "        # Plot the particles\n",
    "        if it%plotEvery==0:\n",
    "            output_image_path = f\"./temp/NBody_it_{it}.png\"\n",
    "            plot_N_particles_and_save_it(output_image_path, positions, velocities_next, t,\n",
    "                             limits['xmin'], limits['xmax'], limits['ymin'],\n",
    "                             limits['ymax'], limits['zmin'], limits['zmax'], dpi=dpi, fps=fps)\n",
    "            image_paths.append(output_image_path)\n",
    "        \n",
    "        # prepare for the next time iteration\n",
    "        velocities_now = velocities_next\n",
    "        # for the position it is already prepared\n",
    "    \n",
    "    print(\"Generating GIF...\")\n",
    "    images_for_animation = [ imageio.imread(image_path) for image_path in image_paths]\n",
    "    imageio.mimsave(f'NBody_Simulation_{exp_name}.gif', images_for_animation, fps=fps)\n",
    "    \n",
    "    print(\"Erasing mess...\")\n",
    "    for image_path in image_paths:\n",
    "        os.remove(image_path)\n",
    "    os.rmdir('./temp/')\n",
    "    print(\"\\nDone!!\")\n",
    "    \n",
    "\n",
    "def plot_N_particles_and_save_it(output_image_path, positions, velocities, t,\n",
    "                                 xmin=-1, xmax=1, ymin=-1, ymax=1, zmin=-1, zmax=1, dpi=150, fps=10):\n",
    "    \n",
    "    fig = plt.figure(figsize=(10,10))\n",
    "    ax = fig.add_subplot(111, projection='3d')\n",
    "    cmap = matplotlib.cm.get_cmap('hsv') # to have the same colors of th trace and the body\n",
    "    \n",
    "    # Plot particles\n",
    "    ax.scatter3D(positions[0,:,0], positions[0,:,1], positions[0,:,2], \n",
    "                 c=cmap(np.arange(positions.shape[1])/positions.shape[1]), s=50)\n",
    "    \n",
    "    # plot velocity vectors\n",
    "    ax.quiver(positions[0,:,0], positions[0,:,1], positions[0,:,2], \n",
    "              velocities[:,0], velocities[:,1], velocities[:,2], length=0.2, normalize=True)\n",
    "    \n",
    "    \n",
    "    # plot the traces\n",
    "    for j in range(positions.shape[1]): # for each particle its trace separately\n",
    "        ax.plot3D(positions[:,j,0], positions[:,j,1], positions[:,j,2], '-', c=cmap(j/positions.shape[1]) )\n",
    "    \n",
    "    \n",
    "    ax.set_xlabel(\"x\")\n",
    "    ax.set_ylabel(\"y\")\n",
    "    ax.set_zlabel(\"z\")\n",
    "    ax.set_xlim((xmin, xmax))\n",
    "    ax.set_ylim((ymin, ymax))\n",
    "    ax.set_zlim((zmin, zmax))\n",
    "    ax.set_title(f\"{positions.shape[1]} Body simulation time t={t:4.3}\")\n",
    "\n",
    "    plt.savefig(output_image_path, dpi=dpi) # choose the resolution of the images with dpi\n",
    "    # Clear figure\n",
    "    plt.close(fig)"
   ]
  },
  {
   "cell_type": "markdown",
   "metadata": {},
   "source": [
    "### Possible Menu solution for the user to choose the desired initial conditions for the 3 body problem"
   ]
  },
  {
   "cell_type": "code",
   "execution_count": 2,
   "metadata": {},
   "outputs": [],
   "source": [
    "import json\n",
    "\n",
    "with open(\"threeBodyInitialConditions.json\", 'r') as file:\n",
    "    initial_conds = json.load(file)\n",
    "    \n",
    "\n",
    "def ask_user_return_x_v_initial_conditions(initial_conds):\n",
    "    print(\"Authors:\\n\")\n",
    "    for i, author in enumerate(initial_conds.keys()):\n",
    "        print(f\"({i}) {author}\")\n",
    "    author = list(initial_conds.keys())[int(input(\"Choose the Author number:\"))]\n",
    "\n",
    "    print(\"\\nConditions:\\n\")\n",
    "    for i, cond in enumerate( initial_conds[author].keys()):\n",
    "        print(f\"({i}) {cond}\")\n",
    "    condition = list(initial_conds[author].keys())[int(input(\"Choose the Condition type:\"))]\n",
    "\n",
    "    print(\"\\nMode:\\n\")\n",
    "    for i, mode in enumerate( initial_conds[author][condition].keys()):\n",
    "        print(f\"({i}) {mode}\")\n",
    "    mode = list(initial_conds[author][condition].keys())[int(input(\"Choose the Mode:\"))]\n",
    "    \n",
    "    selected_condition_dict = initial_conds[author][condition][mode]\n",
    "    \n",
    "    x = np.concatenate( (np.array( selected_condition_dict['x'] ), np.array([[0],[0],[0]])), axis=1 )\n",
    "    v = np.concatenate( (np.array( selected_condition_dict['v'] ), np.array([[0],[0],[0]])), axis=1 )\n",
    "    return x,v, f\"{condition}_{mode}_{author}\""
   ]
  },
  {
   "cell_type": "code",
   "execution_count": 8,
   "metadata": {
    "scrolled": false
   },
   "outputs": [
    {
     "name": "stdout",
     "output_type": "stream",
     "text": [
      "Authors:\n",
      "\n",
      "(0) Šuvakov\n",
      "(1) Li & Liao Equal Mass\n",
      "(2) Li & Liao Unequal Mass\n",
      "(3) Li & Liao Free-fall\n",
      "(4) Hristov et al.\n",
      "Choose the Author number:0\n",
      "\n",
      "Conditions:\n",
      "\n",
      "(0) I - Butterfly I\n",
      "(1) II - Dragonfly\n",
      "(2) III - Yin Yang\n",
      "(3) IVa - Moth I\n",
      "(4) IVb - Butterfly III\n",
      "(5) IVc - Moth III\n",
      "(6) V - Figure 8\n",
      "(7) VI - Yarn\n",
      "(8) VIIa - Moth\n",
      "(9) VIIb - Moth\n",
      "(10) VIII - Other\n",
      "(11) Broucke\n",
      "(12) Sheen\n",
      "Choose the Condition type:3\n",
      "\n",
      "Mode:\n",
      "\n",
      "(0) IVa.2.A\n",
      "(1) IVa.4.A\n",
      "(2) IVa.8.G\n",
      "(3) IVa.8.H\n",
      "(4) IVa.8.I\n",
      "(5) IVa.8.J\n",
      "(6) IVa.8.K\n",
      "(7) IVa.9.A\n",
      "(8) IVa.9.B\n",
      "(9) IVa.10.A\n",
      "(10) IVa.10.B\n",
      "(11) IVa.11.A.α\n",
      "(12) IVa.4.B\n",
      "(13) IVa.11.A.β\n",
      "(14) IVa.11.B\n",
      "(15) IVa.12.A\n",
      "(16) IVa.12.B\n",
      "(17) IVa.12.C\n",
      "(18) IVa.12.D\n",
      "(19) IVa.12.E\n",
      "(20) IVa.13.A\n",
      "(21) IVa.13.B\n",
      "(22) IVa.13.C\n",
      "(23) IVa.6.A\n",
      "(24) IVa.14.A\n",
      "(25) IVa.14.B\n",
      "(26) IVa.14.C\n",
      "(27) IVa.14.D\n",
      "(28) IVa.15.A\n",
      "(29) IVa.15.B\n",
      "(30) IVa.16.A\n",
      "(31) IVa.8.A\n",
      "(32) IVa.8.B\n",
      "(33) IVa.8.C\n",
      "(34) IVa.8.D\n",
      "(35) IVa.8.E\n",
      "(36) IVa.8.F\n",
      "Choose the Mode:0\n",
      "Generating images...\n",
      "Generating GIF...\n",
      "Erasing mess...\n",
      "\n",
      "Done!!\n"
     ]
    }
   ],
   "source": [
    "def gravity_force_on_particle_1_by_2(x1, x2, m1, m2, q1, q2, G=1.0):\n",
    "    '''\n",
    "    x1 and x2 are expected to be arrays of 3 elements (1 dimension) or 3x1 or 1x3 \n",
    "    It returns a 3 element array back (the force vector)\n",
    "    '''\n",
    "    unit_vector = (x2-x1)/np.linalg.norm(x2-x1) # pointing from particle 1 to 2\n",
    "    return (G*m1*m2/( np.linalg.norm(x2-x1)**2 ))*unit_vector\n",
    "\n",
    "x, v, exp_name = ask_user_return_x_v_initial_conditions(initial_conds)\n",
    "run_N_Body_simulator(N=3, positions_now=x, velocities_now=v,\n",
    "                    masses=[1, 1, 1], \n",
    "                    additional_parameters=[0, 0, 0], \n",
    "                    force_list=[gravity_force_on_particle_1_by_2],\n",
    "                    t0=0, tf=12, timeIts=40000, plotEvery=1000,\n",
    "                     limits={'xmin':-1.5, 'xmax':1.5, 'ymin':-1.5, 'ymax':1.5, 'zmin':-1.5, 'zmax':1.5},\n",
    "                     J_trace=50000, exp_name=exp_name, fps=7, dpi=70)\n",
    "\n",
    "# Try for example (0) Šuvakov -> (3) IVa - Moth I -> (0)"
   ]
  }
 ],
 "metadata": {
  "kernelspec": {
   "display_name": "Python 3",
   "language": "python",
   "name": "python3"
  },
  "language_info": {
   "codemirror_mode": {
    "name": "ipython",
    "version": 3
   },
   "file_extension": ".py",
   "mimetype": "text/x-python",
   "name": "python",
   "nbconvert_exporter": "python",
   "pygments_lexer": "ipython3",
   "version": "3.7.3"
  }
 },
 "nbformat": 4,
 "nbformat_minor": 4
}

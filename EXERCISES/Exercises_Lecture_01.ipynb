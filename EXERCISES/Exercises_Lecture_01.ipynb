{
 "cells": [
  {
   "cell_type": "markdown",
   "metadata": {},
   "source": [
    "# Lecture I: EXERCISES"
   ]
  },
  {
   "cell_type": "markdown",
   "metadata": {},
   "source": [
    "## Exercise 1:"
   ]
  },
  {
   "cell_type": "markdown",
   "metadata": {},
   "source": [
    "Write a program that asks the user for an integer and then print (in one line) if the integer is divisible by 2, divisible by 5, both or neither.\n",
    "\n",
    "Examples:\n",
    "- Input: 32 Output: \"32 is divisible by 2\"   \n",
    "- Input: 25 Output: \"25 is divisible by 5\"\n",
    "- Input: 40 Output: \"40 is divisible by 2 and 5\"\n",
    "- Input: 77 Output: \"77 is not divisible by 2 or 5\""
   ]
  },
  {
   "cell_type": "markdown",
   "metadata": {},
   "source": [
    "### Possible Solution:"
   ]
  },
  {
   "cell_type": "code",
   "execution_count": 7,
   "metadata": {},
   "outputs": [
    {
     "name": "stdout",
     "output_type": "stream",
     "text": [
      "Choose an integer: 77\n",
      "77 is not divisible by 2 or 5\n"
     ]
    }
   ],
   "source": [
    "x = int(input(\"Choose an integer: \"))\n",
    "if x%2 == 0:\n",
    "    if x%5 == 0:\n",
    "        print(f\"{x} is divisible by 2 and 5\")\n",
    "    else:\n",
    "        print(f\"{x} is divisible by 2\")\n",
    "elif x%5 == 0:\n",
    "    print(f\"{x} is divisible by 5\")\n",
    "else:\n",
    "    print(f\"{x} is not divisible by 2 or 5\")"
   ]
  },
  {
   "cell_type": "markdown",
   "metadata": {},
   "source": [
    "This solution uses always two comparisons, regardless of the input (remember that `elif` is only executed when the `if` before is `false` and that an `if` inside an `if` is only executed when the first `if` is `true`)."
   ]
  },
  {
   "cell_type": "markdown",
   "metadata": {},
   "source": [
    "## Exercise 2:"
   ]
  },
  {
   "cell_type": "markdown",
   "metadata": {},
   "source": [
    "Write a program that asks the user for their name, age, favorite number and the number they hate the most. \n",
    "\n",
    "Save the data to a list (this could be done without saving the data to a list, but I want you to practice with lists) and print the following: the last letter of their name, if their age is equal or over 18 print \"you are an adult\" if not \"you are a minor\", if their favorite number is bigger than their most hated number print \"your favorite number is bigger than your hated number\" if it is smaller print \"your favorite number is smaller than your hated number\" and if they are equal print \"you hate your favorite number\".\n",
    "\n",
    "Example: \n",
    "- Input: John, 43, 7, 2 Output: \"The last letter of your name is n. You are an adult. Your favorite number is bigger than your hated number\""
   ]
  },
  {
   "cell_type": "markdown",
   "metadata": {},
   "source": [
    "### Possible Solution:"
   ]
  },
  {
   "cell_type": "code",
   "execution_count": 11,
   "metadata": {},
   "outputs": [
    {
     "name": "stdout",
     "output_type": "stream",
     "text": [
      "What is your name: John\n",
      "What is your age: 43\n",
      "What is your favorite number: 7\n",
      "What number you hate the most: 2\n",
      "The last letter of your name is n. You are an adult. Your favorite number is bigger than your hated number.\n"
     ]
    }
   ],
   "source": [
    "data_list = [] #Create an empty list\n",
    "\n",
    "data_list.append(input(\"What is your name: \"))\n",
    "data_list.append(int(input(\"What is your age: \")))\n",
    "data_list.append(int(input(\"What is your favorite number: \")))\n",
    "data_list.append(int(input(\"What number you hate the most: \")))\n",
    "\n",
    "age = \"an adult\" if data_list[1]>=18 else \"a minor\" #You can do ifs in one line like this\n",
    "\n",
    "if data_list[2]>data_list[3]:\n",
    "    n = \"Your favorite number is bigger than your hated number\"\n",
    "                              \n",
    "elif data_list[2]<data_list[3]:\n",
    "    n = \"Your favorite number is smaller than your hated number\"\n",
    "else:\n",
    "    n = \"You hate your favorite number\"\n",
    "                              \n",
    "print(f\"The last letter of your name is {data_list[0][-1]}. You are {age}. {n}.\")"
   ]
  }
 ],
 "metadata": {
  "kernelspec": {
   "display_name": "Python 3",
   "language": "python",
   "name": "python3"
  },
  "language_info": {
   "codemirror_mode": {
    "name": "ipython",
    "version": 3
   },
   "file_extension": ".py",
   "mimetype": "text/x-python",
   "name": "python",
   "nbconvert_exporter": "python",
   "pygments_lexer": "ipython3",
   "version": "3.8.5"
  }
 },
 "nbformat": 4,
 "nbformat_minor": 2
}

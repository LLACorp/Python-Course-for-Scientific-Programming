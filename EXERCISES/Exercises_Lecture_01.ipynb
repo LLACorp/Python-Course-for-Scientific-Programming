{
 "cells": [
  {
   "cell_type": "markdown",
   "metadata": {},
   "source": [
    "# Lecture I: EXERCISES\n",
    "----"
   ]
  },
  {
   "cell_type": "markdown",
   "metadata": {},
   "source": [
    "## Exercise 1:"
   ]
  },
  {
   "cell_type": "markdown",
   "metadata": {},
   "source": [
    "Write a program that asks the user for an integer and then print (in one line) if the integer is divisible by 2, divisible by 5, both or neither.\n",
    "\n",
    "Examples:\n",
    "- Input: 32 Output: \"32 is divisible by 2\"   \n",
    "- Input: 25 Output: \"25 is divisible by 5\"\n",
    "- Input: 40 Output: \"40 is divisible by 2 and 5\"\n",
    "- Input: 77 Output: \"77 is not divisible by 2 nor 5\""
   ]
  },
  {
   "cell_type": "markdown",
   "metadata": {},
   "source": [
    "### Possible Solutions:"
   ]
  },
  {
   "cell_type": "code",
   "execution_count": 1,
   "metadata": {},
   "outputs": [
    {
     "name": "stdout",
     "output_type": "stream",
     "text": [
      "Choose an integer: 14\n",
      "14 is divisible by 2\n"
     ]
    }
   ],
   "source": [
    "x = int(input(\"Choose an integer: \"))\n",
    "if x%2==0 and x%5==0:\n",
    "    print(f\"{x} is divisible by 2 and 5\")\n",
    "elif x%2==0:\n",
    "    print(f\"{x} is divisible by 2\")\n",
    "elif x%5==0:\n",
    "    print(f\"{x} is divisible by 5\")\n",
    "else:\n",
    "    print(f\"{x} is not divisible by 2 nor 5\")  "
   ]
  },
  {
   "cell_type": "code",
   "execution_count": 3,
   "metadata": {},
   "outputs": [
    {
     "name": "stdout",
     "output_type": "stream",
     "text": [
      "Choose an integer: 77\n",
      "77 is not divisible by 2 or 5\n"
     ]
    }
   ],
   "source": [
    "x = int(input(\"Choose an integer: \"))\n",
    "if x%2==0:\n",
    "    if x%5==0:\n",
    "        print(f\"{x} is divisible by 2 and 5\")\n",
    "    else:\n",
    "        print(f\"{x} is divisible by 2\")\n",
    "elif x%5==0:\n",
    "    print(f\"{x} is divisible by 5\")\n",
    "else:\n",
    "    print(f\"{x} is not divisible by 2 nor 5\")  "
   ]
  },
  {
   "cell_type": "markdown",
   "metadata": {},
   "source": [
    "This solution uses always two comparisons, regardless of the input (remember that `elif` is only executed when the `if` before is `false` and that an `if` inside an `if` is only executed when the first `if` is `true`)."
   ]
  },
  {
   "cell_type": "markdown",
   "metadata": {},
   "source": [
    "## Exercise 2:"
   ]
  },
  {
   "cell_type": "markdown",
   "metadata": {},
   "source": [
    "Write a program that asks the user for their name, age, favorite number and the number they hate the most. \n",
    "\n",
    "Save the data to a list (this could be done without saving the data to a list, but I want you to practice with lists) and print the following: the last letter of their name, if their age is equal or over 18 print \"you are an adult\" if not \"you are a minor\", if their favorite number is bigger than their most hated number print \"your favorite number is bigger than your hated number\" if it is smaller print \"your favorite number is smaller than your hated number\" and if they are equal print \"you hate your favorite number\".\n",
    "\n",
    "Example: \n",
    "- Input: John, 43, 7, 2 Output: \"The last letter of your name is n. You are an adult. Your favorite number is bigger than your hated number\""
   ]
  },
  {
   "cell_type": "markdown",
   "metadata": {},
   "source": [
    "### Possible Solution:"
   ]
  },
  {
   "cell_type": "code",
   "execution_count": 9,
   "metadata": {},
   "outputs": [
    {
     "name": "stdout",
     "output_type": "stream",
     "text": [
      "What is your name: Navau\n",
      "What is your age: 30\n",
      "What is your favourite number: 2\n",
      "What is the number you hate the most: 7\n",
      "The last letter of your name is u. You are an adult. Your favorite number is smaller than your hated number.\n"
     ]
    }
   ],
   "source": [
    "data_list = [] #Create an empty list\n",
    "\n",
    "data_list.append(input(\"What is your name: \"))\n",
    "data_list.append(int(input(\"What is your age: \")))\n",
    "data_list.append(int(input(\"What is your favourite number: \")))\n",
    "data_list.append(int(input(\"What is the number you hate the most: \")))\n",
    "\n",
    "if data_list[1]>=18:\n",
    "    age_category = \"an adult\"\n",
    "else:\n",
    "    age_category = \"a minor\"\n",
    "\n",
    "if data_list[2]>data_list[3]:\n",
    "    n = \"Your favorite number is bigger than your hated number\"\n",
    "                              \n",
    "elif data_list[2]<data_list[3]:\n",
    "    n = \"Your favorite number is smaller than your hated number\"\n",
    "else:\n",
    "    n = \"You hate your favorite number\"\n",
    "                              \n",
    "print(f\"The last letter of your name is {data_list[0][-1]}. You are {age_category}. {n}.\")"
   ]
  },
  {
   "cell_type": "markdown",
   "metadata": {},
   "source": [
    "#### Lifehack\n",
    "Note there is a way to write single line if-elif-elses. The following are equivalent, but one of them is really compact!"
   ]
  },
  {
   "cell_type": "code",
   "execution_count": 7,
   "metadata": {},
   "outputs": [
    {
     "name": "stdout",
     "output_type": "stream",
     "text": [
      "What is your age?  5\n",
      "minor\n"
     ]
    }
   ],
   "source": [
    "age = int(input(\"What is your age?  \"))\n",
    "\n",
    "age_category = \"adult\" if age>=18 else \"baby\" if age<=3 else \"minor\"\n",
    "\n",
    "print(age_category)"
   ]
  },
  {
   "cell_type": "code",
   "execution_count": 8,
   "metadata": {},
   "outputs": [
    {
     "name": "stdout",
     "output_type": "stream",
     "text": [
      "What is your age?  5\n",
      "minor\n"
     ]
    }
   ],
   "source": [
    "age = int(input(\"What is your age?  \"))\n",
    "\n",
    "if age>=18:\n",
    "    age_category = \"adult\"\n",
    "elif age<=3:\n",
    "    age_category = \"baby\"\n",
    "else:\n",
    "    age_category = \"minor\"\n",
    "age_category = \"adult\" if age>=18 else \"baby\" if age<=3 else \"minor\"\n",
    "\n",
    "print(age_category)"
   ]
  },
  {
   "cell_type": "markdown",
   "metadata": {},
   "source": [
    "## Exercise 3: The Magic Tricks\n",
    "### Trick A\n",
    "Print to the user four rectangles (made out of keyboard characters, e.g. using characters like `|`, `-` or `_`) that show the next numbers:\n",
    "\n",
    "    **Box 1**:\n",
    "    8 9 10 11\n",
    "    12 13 14 15\n",
    "\n",
    "    **Box 2**:\n",
    "    4 5 6 7\n",
    "    12 13 14 15\n",
    "\n",
    "    **Box 3**:\n",
    "    2 3 6 7\n",
    "    10 11 14 15\n",
    "\n",
    "    **Box 4**:\n",
    "    1 3 5 7\n",
    "    9 11 13 15\n",
    "\n",
    "Ask them to think of those numbers and to give you the boxes in which it appears.\n",
    "\n",
    "You can guess it by adding the first number of the first row of each of those boxes!!!"
   ]
  },
  {
   "cell_type": "markdown",
   "metadata": {},
   "source": [
    "### Possible Solution"
   ]
  },
  {
   "cell_type": "code",
   "execution_count": 30,
   "metadata": {},
   "outputs": [
    {
     "name": "stdout",
     "output_type": "stream",
     "text": [
      "Hello, my dear! Let me guess the number you are thinking!\n",
      "\n",
      "Think of a number between 1 and 15...\n",
      "Now, let me draw some cards!\n",
      "\n",
      "     Card 1\n",
      "---------------\n",
      "|  8  9 10 11 |\n",
      "| 12 13 14 15 |\n",
      "---------------\n",
      "\n",
      "     Card 2\n",
      "---------------\n",
      "|  4  5  6  7 |\n",
      "| 12 13 14 15 |\n",
      "---------------\n",
      "\n",
      "     Card 3\n",
      "---------------\n",
      "|  2  3  6  7 |\n",
      "| 10 11 14 15 |\n",
      "---------------\n",
      "\n",
      "     Card 4\n",
      "---------------\n",
      "|  1  3  5  7 |\n",
      "|  9 11 13 15 |\n",
      "---------------\n",
      "\n",
      "Okay! Is it in box 1? (Answer Yes or No) yes\n",
      "\n",
      "Okay! Is it in box 2? (Answer Yes or No) no\n",
      "\n",
      "Okay! Is it in box 3? (Answer Yes or No) yes\n",
      "\n",
      "Okay! Is it in box 4? (Answer Yes or No) yes\n",
      "\n",
      "\n",
      "....Fish fish fish....\n",
      "Your number is 11\n"
     ]
    }
   ],
   "source": [
    "print(\"Hello, my dear! Let me guess the number you are thinking!\\n\")\n",
    "print(\"Think of a number between 1 and 15...\\nNow, let me draw some cards!\\n\")\n",
    "print(\"     Card 1\")\n",
    "print(\"-\"*15)\n",
    "print(f\"| {8:2} {9:2} {10:2} {11:2} |\")\n",
    "print(f\"| {12:2} {13:2} {14:2} {15:2} |\")\n",
    "print(\"-\"*15)\n",
    "print(\"\\n     Card 2\")\n",
    "print(\"-\"*15)\n",
    "print(f\"| {4:2} {5:2} {6:2} {7:2} |\")\n",
    "print(f\"| {12:2} {13:2} {14:2} {15:2} |\")\n",
    "print(\"-\"*15)\n",
    "print(\"\\n     Card 3\")\n",
    "print(\"-\"*15)\n",
    "print(f\"| {2:2} {3:2} {6:2} {7:2} |\")\n",
    "print(f\"| {10:2} {11:2} {14:2} {15:2} |\")\n",
    "print(\"-\"*15)\n",
    "print(\"\\n     Card 4\")\n",
    "print(\"-\"*15)\n",
    "print(f\"| {1:2} {3:2} {5:2} {7:2} |\")\n",
    "print(f\"| {9:2} {11:2} {13:2} {15:2} |\")\n",
    "print(\"-\"*15)\n",
    "\n",
    "box1=input(\"\\nOkay! Is it in box 1? (Answer Yes or No) \")\n",
    "if box1==\"Yes\" or box1==\"yes\":\n",
    "    box1=1\n",
    "else:\n",
    "    box1=0\n",
    "box2=input(\"\\nOkay! Is it in box 2? (Answer Yes or No) \")\n",
    "box2 = 2 if box2==\"Yes\" or box2==\"yes\" else 0\n",
    "box3=input(\"\\nOkay! Is it in box 3? (Answer Yes or No) \")\n",
    "box3 = 3 if box3==\"Yes\" or box3==\"yes\" else 0\n",
    "box4=input(\"\\nOkay! Is it in box 4? (Answer Yes or No) \")\n",
    "box4 = 4 if box4==\"Yes\" or box4==\"yes\" else 0\n",
    "\n",
    "card_first_elements = [0, 8, 4, 2, 1]\n",
    "the_number_is = card_first_elements[box1]+card_first_elements[box2]+card_first_elements[box3]+card_first_elements[box4]\n",
    "print(f\"\\n\\n....Fish fish fish....\\nYour number is {the_number_is}\")"
   ]
  },
  {
   "attachments": {},
   "cell_type": "markdown",
   "metadata": {},
   "source": [
    "### Trick B\n",
    "Using more or less the same code, you can now do the trick with more numbers! (Double impressive!)\n",
    "\n",
    "        ** Box 1 **\n",
    "         1\t 3\t 5\t 7\t 9\t11\t13\t15\n",
    "        17\t19\t21\t23\t25\t27\t29\t31\n",
    "        33\t35\t37\t39\t41\t43\t45\t47\n",
    "        49\t51\t53\t55\t57\t59\t61\t63\n",
    "\n",
    "        ** Box 2 **\n",
    "         2\t 3\t 6\t 7\t10\t11\t14\t15\n",
    "        18\t19\t22\t23\t26\t27\t30\t31\n",
    "        34\t35\t38\t39\t42\t43\t46\t47\n",
    "        50\t51\t54\t55\t58\t59\t62\t63\n",
    "\n",
    "        ** Box 3 **\n",
    "         8\t 9\t10\t11\t12\t13\t14\t15\t\t\t\t\t\t\n",
    "        24\t25\t26\t27\t28\t29\t30\t31\n",
    "        40\t41\t42\t43\t44\t45\t46\t47\n",
    "        56\t57\t58\t59\t60\t61\t62\t63\n",
    "\n",
    "        ** Box 4 **\n",
    "        16\t17\t18\t19\t20\t21\t22\t23\n",
    "        24\t25\t26\t27\t28\t29\t30\t31\n",
    "        48\t49\t50\t51\t52\t53\t54\t55\n",
    "        56\t57\t58\t59\t60\t61\t62\t63\n",
    "\n",
    "        ** Box 5 **\n",
    "         4\t 5\t 6\t 7\t12\t13\t14\t15\n",
    "        20\t21\t22\t23\t28\t29\t30\t31\n",
    "        36\t37\t38\t39\t44\t45\t46\t47\n",
    "        52\t53\t54\t55\t60\t61\t62\t63\n"
   ]
  }
 ],
 "metadata": {
  "kernelspec": {
   "display_name": "Python 3",
   "language": "python",
   "name": "python3"
  },
  "language_info": {
   "codemirror_mode": {
    "name": "ipython",
    "version": 3
   },
   "file_extension": ".py",
   "mimetype": "text/x-python",
   "name": "python",
   "nbconvert_exporter": "python",
   "pygments_lexer": "ipython3",
   "version": "3.7.3"
  }
 },
 "nbformat": 4,
 "nbformat_minor": 2
}
